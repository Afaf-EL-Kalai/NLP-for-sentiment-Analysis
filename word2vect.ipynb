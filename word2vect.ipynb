{
 "cells": [
  {
   "cell_type": "code",
   "execution_count": 1,
   "id": "adjacent-disabled",
   "metadata": {
    "execution": {
     "iopub.execute_input": "2021-06-25T22:25:15.897170Z",
     "iopub.status.busy": "2021-06-25T22:25:15.896061Z",
     "iopub.status.idle": "2021-06-25T22:25:17.260698Z",
     "shell.execute_reply": "2021-06-25T22:25:17.261689Z",
     "shell.execute_reply.started": "2021-06-25T21:37:01.055079Z"
    },
    "papermill": {
     "duration": 1.412854,
     "end_time": "2021-06-25T22:25:17.262068",
     "exception": false,
     "start_time": "2021-06-25T22:25:15.849214",
     "status": "completed"
    },
    "tags": []
   },
   "outputs": [],
   "source": [
    "import nltk"
   ]
  },
  {
   "cell_type": "code",
   "execution_count": 2,
   "id": "arctic-blair",
   "metadata": {
    "execution": {
     "iopub.execute_input": "2021-06-25T22:25:17.352805Z",
     "iopub.status.busy": "2021-06-25T22:25:17.352194Z",
     "iopub.status.idle": "2021-06-25T22:25:17.379453Z",
     "shell.execute_reply": "2021-06-25T22:25:17.379028Z",
     "shell.execute_reply.started": "2021-06-25T21:37:01.062500Z"
    },
    "papermill": {
     "duration": 0.073851,
     "end_time": "2021-06-25T22:25:17.379559",
     "exception": false,
     "start_time": "2021-06-25T22:25:17.305708",
     "status": "completed"
    },
    "tags": []
   },
   "outputs": [],
   "source": [
    "from nltk.corpus import stopwords\n",
    "stopwords_en = stopwords.words('english')"
   ]
  },
  {
   "cell_type": "code",
   "execution_count": 3,
   "id": "according-vehicle",
   "metadata": {
    "execution": {
     "iopub.execute_input": "2021-06-25T22:25:17.437668Z",
     "iopub.status.busy": "2021-06-25T22:25:17.437230Z",
     "iopub.status.idle": "2021-06-25T22:25:17.447672Z",
     "shell.execute_reply": "2021-06-25T22:25:17.448069Z",
     "shell.execute_reply.started": "2021-06-25T21:37:01.085225Z"
    },
    "papermill": {
     "duration": 0.040539,
     "end_time": "2021-06-25T22:25:17.448168",
     "exception": false,
     "start_time": "2021-06-25T22:25:17.407629",
     "status": "completed"
    },
    "tags": []
   },
   "outputs": [
    {
     "data": {
      "text/plain": [
       "['i',\n",
       " 'me',\n",
       " 'my',\n",
       " 'myself',\n",
       " 'we',\n",
       " 'our',\n",
       " 'ours',\n",
       " 'ourselves',\n",
       " 'you',\n",
       " \"you're\",\n",
       " \"you've\",\n",
       " \"you'll\",\n",
       " \"you'd\",\n",
       " 'your',\n",
       " 'yours',\n",
       " 'yourself',\n",
       " 'yourselves',\n",
       " 'he',\n",
       " 'him',\n",
       " 'his',\n",
       " 'himself',\n",
       " 'she',\n",
       " \"she's\",\n",
       " 'her',\n",
       " 'hers',\n",
       " 'herself',\n",
       " 'it',\n",
       " \"it's\",\n",
       " 'its',\n",
       " 'itself',\n",
       " 'they',\n",
       " 'them',\n",
       " 'their',\n",
       " 'theirs',\n",
       " 'themselves',\n",
       " 'what',\n",
       " 'which',\n",
       " 'who',\n",
       " 'whom',\n",
       " 'this',\n",
       " 'that',\n",
       " \"that'll\",\n",
       " 'these',\n",
       " 'those',\n",
       " 'am',\n",
       " 'is',\n",
       " 'are',\n",
       " 'was',\n",
       " 'were',\n",
       " 'be',\n",
       " 'been',\n",
       " 'being',\n",
       " 'have',\n",
       " 'has',\n",
       " 'had',\n",
       " 'having',\n",
       " 'do',\n",
       " 'does',\n",
       " 'did',\n",
       " 'doing',\n",
       " 'a',\n",
       " 'an',\n",
       " 'the',\n",
       " 'and',\n",
       " 'but',\n",
       " 'if',\n",
       " 'or',\n",
       " 'because',\n",
       " 'as',\n",
       " 'until',\n",
       " 'while',\n",
       " 'of',\n",
       " 'at',\n",
       " 'by',\n",
       " 'for',\n",
       " 'with',\n",
       " 'about',\n",
       " 'against',\n",
       " 'between',\n",
       " 'into',\n",
       " 'through',\n",
       " 'during',\n",
       " 'before',\n",
       " 'after',\n",
       " 'above',\n",
       " 'below',\n",
       " 'to',\n",
       " 'from',\n",
       " 'up',\n",
       " 'down',\n",
       " 'in',\n",
       " 'out',\n",
       " 'on',\n",
       " 'off',\n",
       " 'over',\n",
       " 'under',\n",
       " 'again',\n",
       " 'further',\n",
       " 'then',\n",
       " 'once',\n",
       " 'here',\n",
       " 'there',\n",
       " 'when',\n",
       " 'where',\n",
       " 'why',\n",
       " 'how',\n",
       " 'all',\n",
       " 'any',\n",
       " 'both',\n",
       " 'each',\n",
       " 'few',\n",
       " 'more',\n",
       " 'most',\n",
       " 'other',\n",
       " 'some',\n",
       " 'such',\n",
       " 'no',\n",
       " 'nor',\n",
       " 'not',\n",
       " 'only',\n",
       " 'own',\n",
       " 'same',\n",
       " 'so',\n",
       " 'than',\n",
       " 'too',\n",
       " 'very',\n",
       " 's',\n",
       " 't',\n",
       " 'can',\n",
       " 'will',\n",
       " 'just',\n",
       " 'don',\n",
       " \"don't\",\n",
       " 'should',\n",
       " \"should've\",\n",
       " 'now',\n",
       " 'd',\n",
       " 'll',\n",
       " 'm',\n",
       " 'o',\n",
       " 're',\n",
       " 've',\n",
       " 'y',\n",
       " 'ain',\n",
       " 'aren',\n",
       " \"aren't\",\n",
       " 'couldn',\n",
       " \"couldn't\",\n",
       " 'didn',\n",
       " \"didn't\",\n",
       " 'doesn',\n",
       " \"doesn't\",\n",
       " 'hadn',\n",
       " \"hadn't\",\n",
       " 'hasn',\n",
       " \"hasn't\",\n",
       " 'haven',\n",
       " \"haven't\",\n",
       " 'isn',\n",
       " \"isn't\",\n",
       " 'ma',\n",
       " 'mightn',\n",
       " \"mightn't\",\n",
       " 'mustn',\n",
       " \"mustn't\",\n",
       " 'needn',\n",
       " \"needn't\",\n",
       " 'shan',\n",
       " \"shan't\",\n",
       " 'shouldn',\n",
       " \"shouldn't\",\n",
       " 'wasn',\n",
       " \"wasn't\",\n",
       " 'weren',\n",
       " \"weren't\",\n",
       " 'won',\n",
       " \"won't\",\n",
       " 'wouldn',\n",
       " \"wouldn't\"]"
      ]
     },
     "execution_count": 3,
     "metadata": {},
     "output_type": "execute_result"
    }
   ],
   "source": [
    "stopwords_en"
   ]
  },
  {
   "cell_type": "code",
   "execution_count": 4,
   "id": "incorrect-walker",
   "metadata": {
    "execution": {
     "iopub.execute_input": "2021-06-25T22:25:17.509040Z",
     "iopub.status.busy": "2021-06-25T22:25:17.507779Z",
     "iopub.status.idle": "2021-06-25T22:25:17.540140Z",
     "shell.execute_reply": "2021-06-25T22:25:17.539671Z",
     "shell.execute_reply.started": "2021-06-25T21:37:01.102335Z"
    },
    "papermill": {
     "duration": 0.063112,
     "end_time": "2021-06-25T22:25:17.540264",
     "exception": false,
     "start_time": "2021-06-25T22:25:17.477152",
     "status": "completed"
    },
    "tags": []
   },
   "outputs": [
    {
     "name": "stdout",
     "output_type": "stream",
     "text": [
      "From string.punctuation: !\"#$%&'()*+,-./:;<=>?@[\\]^_`{|}~\n"
     ]
    }
   ],
   "source": [
    "from string import punctuation\n",
    "print('From string.punctuation:', punctuation)\n",
    "# stopwords_json existe dans https://github.com/6/stopwords-json/blob/master/stopwords-all.json\n",
    "stopwords_json = {\"en\":[\"a\",\"a's\",\"able\",\"about\",\"above\",\"according\",\"accordingly\",\"across\",\"actually\",\"after\",\"afterwards\",\"again\",\"against\",\"ain't\",\"all\",\"allow\",\"allows\",\"almost\",\"alone\",\"along\",\"already\",\"also\",\"although\",\"always\",\"am\",\"among\",\"amongst\",\"an\",\"and\",\"another\",\"any\",\"anybody\",\"anyhow\",\"anyone\",\"anything\",\"anyway\",\"anyways\",\"anywhere\",\"apart\",\"appear\",\"appreciate\",\"appropriate\",\"are\",\"aren't\",\"around\",\"as\",\"aside\",\"ask\",\"asking\",\"associated\",\"at\",\"available\",\"away\",\"awfully\",\"b\",\"be\",\"became\",\"because\",\"become\",\"becomes\",\"becoming\",\"been\",\"before\",\"beforehand\",\"behind\",\"being\",\"believe\",\"below\",\"beside\",\"besides\",\"best\",\"better\",\"between\",\"beyond\",\"both\",\"brief\",\"but\",\"by\",\"c\",\"c'mon\",\"c's\",\"came\",\"can\",\"can't\",\"cannot\",\"cant\",\"cause\",\"causes\",\"certain\",\"certainly\",\"changes\",\"clearly\",\"co\",\"com\",\"come\",\"comes\",\"concerning\",\"consequently\",\"consider\",\"considering\",\"contain\",\"containing\",\"contains\",\"corresponding\",\"could\",\"couldn't\",\"course\",\"currently\",\"d\",\"definitely\",\"described\",\"despite\",\"did\",\"didn't\",\"different\",\"do\",\"does\",\"doesn't\",\"doing\",\"don't\",\"done\",\"down\",\"downwards\",\"during\",\"e\",\"each\",\"edu\",\"eg\",\"eight\",\"either\",\"else\",\"elsewhere\",\"enough\",\"entirely\",\"especially\",\"et\",\"etc\",\"even\",\"ever\",\"every\",\"everybody\",\"everyone\",\"everything\",\"everywhere\",\"ex\",\"exactly\",\"example\",\"except\",\"f\",\"far\",\"few\",\"fifth\",\"first\",\"five\",\"followed\",\"following\",\"follows\",\"for\",\"former\",\"formerly\",\"forth\",\"four\",\"from\",\"further\",\"furthermore\",\"g\",\"get\",\"gets\",\"getting\",\"given\",\"gives\",\"go\",\"goes\",\"going\",\"gone\",\"got\",\"gotten\",\"greetings\",\"h\",\"had\",\"hadn't\",\"happens\",\"hardly\",\"has\",\"hasn't\",\"have\",\"haven't\",\"having\",\"he\",\"he's\",\"hello\",\"help\",\"hence\",\"her\",\"here\",\"here's\",\"hereafter\",\"hereby\",\"herein\",\"hereupon\",\"hers\",\"herself\",\"hi\",\"him\",\"himself\",\"his\",\"hither\",\"hopefully\",\"how\",\"howbeit\",\"however\",\"i\",\"i'd\",\"i'll\",\"i'm\",\"i've\",\"ie\",\"if\",\"ignored\",\"immediate\",\"in\",\"inasmuch\",\"inc\",\"indeed\",\"indicate\",\"indicated\",\"indicates\",\"inner\",\"insofar\",\"instead\",\"into\",\"inward\",\"is\",\"isn't\",\"it\",\"it'd\",\"it'll\",\"it's\",\"its\",\"itself\",\"j\",\"just\",\"k\",\"keep\",\"keeps\",\"kept\",\"know\",\"known\",\"knows\",\"l\",\"last\",\"lately\",\"later\",\"latter\",\"latterly\",\"least\",\"less\",\"lest\",\"let\",\"let's\",\"like\",\"liked\",\"likely\",\"little\",\"look\",\"looking\",\"looks\",\"ltd\",\"m\",\"mainly\",\"many\",\"may\",\"maybe\",\"me\",\"mean\",\"meanwhile\",\"merely\",\"might\",\"more\",\"moreover\",\"most\",\"mostly\",\"much\",\"must\",\"my\",\"myself\",\"n\",\"name\",\"namely\",\"nd\",\"near\",\"nearly\",\"necessary\",\"need\",\"needs\",\"neither\",\"never\",\"nevertheless\",\"new\",\"next\",\"nine\",\"no\",\"nobody\",\"non\",\"none\",\"noone\",\"nor\",\"normally\",\"not\",\"nothing\",\"novel\",\"now\",\"nowhere\",\"o\",\"obviously\",\"of\",\"off\",\"often\",\"oh\",\"ok\",\"okay\",\"old\",\"on\",\"once\",\"one\",\"ones\",\"only\",\"onto\",\"or\",\"other\",\"others\",\"otherwise\",\"ought\",\"our\",\"ours\",\"ourselves\",\"out\",\"outside\",\"over\",\"overall\",\"own\",\"p\",\"particular\",\"particularly\",\"per\",\"perhaps\",\"placed\",\"please\",\"plus\",\"possible\",\"presumably\",\"probably\",\"provides\",\"q\",\"que\",\"quite\",\"qv\",\"r\",\"rather\",\"rd\",\"re\",\"really\",\"reasonably\",\"regarding\",\"regardless\",\"regards\",\"relatively\",\"respectively\",\"right\",\"s\",\"said\",\"same\",\"saw\",\"say\",\"saying\",\"says\",\"second\",\"secondly\",\"see\",\"seeing\",\"seem\",\"seemed\",\"seeming\",\"seems\",\"seen\",\"self\",\"selves\",\"sensible\",\"sent\",\"serious\",\"seriously\",\"seven\",\"several\",\"shall\",\"she\",\"should\",\"shouldn't\",\"since\",\"six\",\"so\",\"some\",\"somebody\",\"somehow\",\"someone\",\"something\",\"sometime\",\"sometimes\",\"somewhat\",\"somewhere\",\"soon\",\"sorry\",\"specified\",\"specify\",\"specifying\",\"still\",\"sub\",\"such\",\"sup\",\"sure\",\"t\",\"t's\",\"take\",\"taken\",\"tell\",\"tends\",\"th\",\"than\",\"thank\",\"thanks\",\"thanx\",\"that\",\"that's\",\"thats\",\"the\",\"their\",\"theirs\",\"them\",\"themselves\",\"then\",\"thence\",\"there\",\"there's\",\"thereafter\",\"thereby\",\"therefore\",\"therein\",\"theres\",\"thereupon\",\"these\",\"they\",\"they'd\",\"they'll\",\"they're\",\"they've\",\"think\",\"third\",\"this\",\"thorough\",\"thoroughly\",\"those\",\"though\",\"three\",\"through\",\"throughout\",\"thru\",\"thus\",\"to\",\"together\",\"too\",\"took\",\"toward\",\"towards\",\"tried\",\"tries\",\"truly\",\"try\",\"trying\",\"twice\",\"two\",\"u\",\"un\",\"under\",\"unfortunately\",\"unless\",\"unlikely\",\"until\",\"unto\",\"up\",\"upon\",\"us\",\"use\",\"used\",\"useful\",\"uses\",\"using\",\"usually\",\"uucp\",\"v\",\"value\",\"various\",\"very\",\"via\",\"viz\",\"vs\",\"w\",\"want\",\"wants\",\"was\",\"wasn't\",\"way\",\"we\",\"we'd\",\"we'll\",\"we're\",\"we've\",\"welcome\",\"well\",\"went\",\"were\",\"weren't\",\"what\",\"what's\",\"whatever\",\"when\",\"whence\",\"whenever\",\"where\",\"where's\",\"whereafter\",\"whereas\",\"whereby\",\"wherein\",\"whereupon\",\"wherever\",\"whether\",\"which\",\"while\",\"whither\",\"who\",\"who's\",\"whoever\",\"whole\",\"whom\",\"whose\",\"why\",\"will\",\"willing\",\"wish\",\"with\",\"within\",\"without\",\"won't\",\"wonder\",\"would\",\"wouldn't\",\"x\",\"y\",\"yes\",\"yet\",\"you\",\"you'd\",\"you'll\",\"you're\",\"you've\",\"your\",\"yours\",\"yourself\",\"yourselves\",\"z\",\"zero\"]}\n",
    "stopwords_json_en = set(stopwords_json['en'])\n",
    "stopwords_nltk_en = set(stopwords_en)\n",
    "\n",
    "stopwords_punct = set(punctuation)\n",
    "stoplist=set.union(stopwords_nltk_en,stopwords_punct,stopwords_json_en)"
   ]
  },
  {
   "cell_type": "code",
   "execution_count": 5,
   "id": "aerial-roller",
   "metadata": {
    "execution": {
     "iopub.execute_input": "2021-06-25T22:25:17.614155Z",
     "iopub.status.busy": "2021-06-25T22:25:17.613593Z",
     "iopub.status.idle": "2021-06-25T22:25:17.616361Z",
     "shell.execute_reply": "2021-06-25T22:25:17.615896Z",
     "shell.execute_reply.started": "2021-06-25T21:37:01.143262Z"
    },
    "papermill": {
     "duration": 0.044496,
     "end_time": "2021-06-25T22:25:17.616516",
     "exception": false,
     "start_time": "2021-06-25T22:25:17.572020",
     "status": "completed"
    },
    "tags": []
   },
   "outputs": [],
   "source": [
    "def penn2morphy(penntag):\n",
    "    \"\"\" Converts Penn Treebank tags to WordNet. \"\"\"\n",
    "    morphy_tag = {'NN':'n', 'JJ':'a',\n",
    "                  'VB':'v', 'RB':'r'}\n",
    "    try:\n",
    "        return morphy_tag[penntag[:2]]\n",
    "    except:\n",
    "        return 'n' # if mapping isn't found, fall back to Noun."
   ]
  },
  {
   "cell_type": "code",
   "execution_count": 6,
   "id": "specialized-agriculture",
   "metadata": {
    "execution": {
     "iopub.execute_input": "2021-06-25T22:25:17.680458Z",
     "iopub.status.busy": "2021-06-25T22:25:17.679980Z",
     "iopub.status.idle": "2021-06-25T22:25:19.310994Z",
     "shell.execute_reply": "2021-06-25T22:25:19.310530Z",
     "shell.execute_reply.started": "2021-06-25T21:37:01.163282Z"
    },
    "papermill": {
     "duration": 1.663291,
     "end_time": "2021-06-25T22:25:19.311094",
     "exception": false,
     "start_time": "2021-06-25T22:25:17.647803",
     "status": "completed"
    },
    "tags": []
   },
   "outputs": [
    {
     "data": {
      "text/plain": [
       "['i', 'be', 'go', 'to', 'tell', 'you', 'anyway']"
      ]
     },
     "execution_count": 6,
     "metadata": {},
     "output_type": "execute_result"
    }
   ],
   "source": [
    "from nltk import word_tokenize\n",
    "from nltk.stem import WordNetLemmatizer\n",
    "lemmatizer=WordNetLemmatizer()\n",
    "\n",
    "def lemmatize_sent(text): \n",
    "    # Text input is string, returns lowercased strings.\n",
    "    return [lemmatizer.lemmatize(word.lower(), pos=penn2morphy(tag)) \n",
    "            for word, tag in nltk.pos_tag(word_tokenize(text))]\n",
    "\n",
    "lemmatize_sent('I was going to tell you anyway')"
   ]
  },
  {
   "cell_type": "code",
   "execution_count": 7,
   "id": "analyzed-forth",
   "metadata": {
    "execution": {
     "iopub.execute_input": "2021-06-25T22:25:19.373500Z",
     "iopub.status.busy": "2021-06-25T22:25:19.373030Z",
     "iopub.status.idle": "2021-06-25T22:25:19.378231Z",
     "shell.execute_reply": "2021-06-25T22:25:19.377850Z",
     "shell.execute_reply.started": "2021-06-25T21:37:01.193218Z"
    },
    "papermill": {
     "duration": 0.037393,
     "end_time": "2021-06-25T22:25:19.378315",
     "exception": false,
     "start_time": "2021-06-25T22:25:19.340922",
     "status": "completed"
    },
    "tags": []
   },
   "outputs": [],
   "source": [
    "def preprocessing(text):\n",
    "    stoplist_gen=set.union(stoplist,{'http'})\n",
    "    preproccessed_text=[word for word in lemmatize_sent(text) if word not in stoplist_gen]\n",
    "    for word in preproccessed_text:\n",
    "        if '//t.co/' in word:\n",
    "            preproccessed_text.remove(word)\n",
    "    return(preproccessed_text)"
   ]
  },
  {
   "cell_type": "markdown",
   "id": "precise-closing",
   "metadata": {
    "papermill": {
     "duration": 0.02838,
     "end_time": "2021-06-25T22:25:19.435193",
     "exception": false,
     "start_time": "2021-06-25T22:25:19.406813",
     "status": "completed"
    },
    "tags": []
   },
   "source": [
    "# Preprocessing a Data of Sentiment Analysis"
   ]
  },
  {
   "cell_type": "code",
   "execution_count": 8,
   "id": "featured-dakota",
   "metadata": {
    "execution": {
     "iopub.execute_input": "2021-06-25T22:25:19.496170Z",
     "iopub.status.busy": "2021-06-25T22:25:19.495747Z",
     "iopub.status.idle": "2021-06-25T22:25:19.498482Z",
     "shell.execute_reply": "2021-06-25T22:25:19.498086Z",
     "shell.execute_reply.started": "2021-06-25T21:37:01.202317Z"
    },
    "papermill": {
     "duration": 0.035297,
     "end_time": "2021-06-25T22:25:19.498571",
     "exception": false,
     "start_time": "2021-06-25T22:25:19.463274",
     "status": "completed"
    },
    "tags": []
   },
   "outputs": [],
   "source": [
    "def preprocess_file(filename):\n",
    "    tweets =[]\n",
    "    tweets_cleaned = []\n",
    "    labels = []\n",
    "    f = open(filename)\n",
    "    for line in f:\n",
    "        tweet_dict = json.loads(line)\n",
    "        #print(tweet_dict)\n",
    "        tweets.append(tweet_dict[\"text\"])\n",
    "        tweets_cleaned.append(preprocessing(tweet_dict[\"text\"]))\n",
    "        labels.append(int(tweet_dict[\"label\"]))\n",
    "    return tweets,tweets_cleaned,labels"
   ]
  },
  {
   "cell_type": "code",
   "execution_count": 9,
   "id": "technological-shelter",
   "metadata": {
    "execution": {
     "iopub.execute_input": "2021-06-25T22:25:19.560158Z",
     "iopub.status.busy": "2021-06-25T22:25:19.559751Z",
     "iopub.status.idle": "2021-06-25T22:25:58.581626Z",
     "shell.execute_reply": "2021-06-25T22:25:58.581221Z",
     "shell.execute_reply.started": "2021-06-25T21:37:01.216906Z"
    },
    "papermill": {
     "duration": 39.054128,
     "end_time": "2021-06-25T22:25:58.581730",
     "exception": false,
     "start_time": "2021-06-25T22:25:19.527602",
     "status": "completed"
    },
    "tags": []
   },
   "outputs": [],
   "source": [
    "import pandas as pd\n",
    "import json\n",
    "train_data = preprocess_file('../input/analyse-des-sentiment/training.json')\n",
    "train_data=pd.DataFrame({\"Tweets\":train_data[0],\"Preproccessed Tweets\":train_data[1],\"labels\":train_data[2]})"
   ]
  },
  {
   "cell_type": "code",
   "execution_count": 10,
   "id": "considered-islam",
   "metadata": {
    "execution": {
     "iopub.execute_input": "2021-06-25T22:25:58.651569Z",
     "iopub.status.busy": "2021-06-25T22:25:58.651093Z",
     "iopub.status.idle": "2021-06-25T22:25:58.667186Z",
     "shell.execute_reply": "2021-06-25T22:25:58.666755Z",
     "shell.execute_reply.started": "2021-06-25T21:37:35.032301Z"
    },
    "papermill": {
     "duration": 0.056696,
     "end_time": "2021-06-25T22:25:58.667280",
     "exception": false,
     "start_time": "2021-06-25T22:25:58.610584",
     "status": "completed"
    },
    "tags": []
   },
   "outputs": [
    {
     "data": {
      "text/html": [
       "<div>\n",
       "<style scoped>\n",
       "    .dataframe tbody tr th:only-of-type {\n",
       "        vertical-align: middle;\n",
       "    }\n",
       "\n",
       "    .dataframe tbody tr th {\n",
       "        vertical-align: top;\n",
       "    }\n",
       "\n",
       "    .dataframe thead th {\n",
       "        text-align: right;\n",
       "    }\n",
       "</style>\n",
       "<table border=\"1\" class=\"dataframe\">\n",
       "  <thead>\n",
       "    <tr style=\"text-align: right;\">\n",
       "      <th></th>\n",
       "      <th>Tweets</th>\n",
       "      <th>Preproccessed Tweets</th>\n",
       "      <th>labels</th>\n",
       "    </tr>\n",
       "  </thead>\n",
       "  <tbody>\n",
       "    <tr>\n",
       "      <th>0</th>\n",
       "      <td>dear @Microsoft the newOoffice for Mac is grea...</td>\n",
       "      <td>[dear, microsoft, newooffice, mac, great, lync...</td>\n",
       "      <td>-1</td>\n",
       "    </tr>\n",
       "    <tr>\n",
       "      <th>1</th>\n",
       "      <td>@Microsoft how about you make a system that do...</td>\n",
       "      <td>[microsoft, make, system, n't, eat, friggin, d...</td>\n",
       "      <td>-1</td>\n",
       "    </tr>\n",
       "    <tr>\n",
       "      <th>2</th>\n",
       "      <td>If I make a game as a #windows10 Universal App...</td>\n",
       "      <td>[make, game, windows10, universal, app, xboxon...</td>\n",
       "      <td>0</td>\n",
       "    </tr>\n",
       "    <tr>\n",
       "      <th>3</th>\n",
       "      <td>Microsoft, I may not prefer your gaming branch...</td>\n",
       "      <td>[microsoft, prefer, game, branch, business, ma...</td>\n",
       "      <td>1</td>\n",
       "    </tr>\n",
       "    <tr>\n",
       "      <th>4</th>\n",
       "      <td>@MikeWolf1980 @Microsoft I will be downgrading...</td>\n",
       "      <td>[mikewolf1980, microsoft, downgrade, windows10...</td>\n",
       "      <td>-1</td>\n",
       "    </tr>\n",
       "    <tr>\n",
       "      <th>...</th>\n",
       "      <td>...</td>\n",
       "      <td>...</td>\n",
       "      <td>...</td>\n",
       "    </tr>\n",
       "    <tr>\n",
       "      <th>16800</th>\n",
       "      <td>#WEB YouTube improves upload process with opti...</td>\n",
       "      <td>[web, youtube, improve, upload, process, optio...</td>\n",
       "      <td>0</td>\n",
       "    </tr>\n",
       "    <tr>\n",
       "      <th>16801</th>\n",
       "      <td>Gonna change my Tumblr theme. I hope I can fin...</td>\n",
       "      <td>[gon, na, change, tumblr, theme, hope, finish,...</td>\n",
       "      <td>1</td>\n",
       "    </tr>\n",
       "    <tr>\n",
       "      <th>16802</th>\n",
       "      <td>I'm so jealous of everyone at the Justin Biebe...</td>\n",
       "      <td>['m, jealous, justin, bieber, concert, worry, ...</td>\n",
       "      <td>0</td>\n",
       "    </tr>\n",
       "    <tr>\n",
       "      <th>16803</th>\n",
       "      <td>Jim Harbaugh, Alex Smith Drive Giants World Se...</td>\n",
       "      <td>[jim, harbaugh, alex, smith, drive, giant, wor...</td>\n",
       "      <td>0</td>\n",
       "    </tr>\n",
       "    <tr>\n",
       "      <th>16804</th>\n",
       "      <td>#Trending: Tim Tebow is now dating cave woman ...</td>\n",
       "      <td>[trending, tim, tebow, date, cave, woman, 10,0...</td>\n",
       "      <td>0</td>\n",
       "    </tr>\n",
       "  </tbody>\n",
       "</table>\n",
       "<p>16805 rows × 3 columns</p>\n",
       "</div>"
      ],
      "text/plain": [
       "                                                  Tweets  \\\n",
       "0      dear @Microsoft the newOoffice for Mac is grea...   \n",
       "1      @Microsoft how about you make a system that do...   \n",
       "2      If I make a game as a #windows10 Universal App...   \n",
       "3      Microsoft, I may not prefer your gaming branch...   \n",
       "4      @MikeWolf1980 @Microsoft I will be downgrading...   \n",
       "...                                                  ...   \n",
       "16800  #WEB YouTube improves upload process with opti...   \n",
       "16801  Gonna change my Tumblr theme. I hope I can fin...   \n",
       "16802  I'm so jealous of everyone at the Justin Biebe...   \n",
       "16803  Jim Harbaugh, Alex Smith Drive Giants World Se...   \n",
       "16804  #Trending: Tim Tebow is now dating cave woman ...   \n",
       "\n",
       "                                    Preproccessed Tweets  labels  \n",
       "0      [dear, microsoft, newooffice, mac, great, lync...      -1  \n",
       "1      [microsoft, make, system, n't, eat, friggin, d...      -1  \n",
       "2      [make, game, windows10, universal, app, xboxon...       0  \n",
       "3      [microsoft, prefer, game, branch, business, ma...       1  \n",
       "4      [mikewolf1980, microsoft, downgrade, windows10...      -1  \n",
       "...                                                  ...     ...  \n",
       "16800  [web, youtube, improve, upload, process, optio...       0  \n",
       "16801  [gon, na, change, tumblr, theme, hope, finish,...       1  \n",
       "16802  ['m, jealous, justin, bieber, concert, worry, ...       0  \n",
       "16803  [jim, harbaugh, alex, smith, drive, giant, wor...       0  \n",
       "16804  [trending, tim, tebow, date, cave, woman, 10,0...       0  \n",
       "\n",
       "[16805 rows x 3 columns]"
      ]
     },
     "execution_count": 10,
     "metadata": {},
     "output_type": "execute_result"
    }
   ],
   "source": [
    "train_data"
   ]
  },
  {
   "cell_type": "code",
   "execution_count": 11,
   "id": "moderate-statement",
   "metadata": {
    "execution": {
     "iopub.execute_input": "2021-06-25T22:25:58.729741Z",
     "iopub.status.busy": "2021-06-25T22:25:58.729297Z",
     "iopub.status.idle": "2021-06-25T22:26:01.311026Z",
     "shell.execute_reply": "2021-06-25T22:26:01.310508Z",
     "shell.execute_reply.started": "2021-06-25T21:37:35.054406Z"
    },
    "papermill": {
     "duration": 2.613942,
     "end_time": "2021-06-25T22:26:01.311153",
     "exception": false,
     "start_time": "2021-06-25T22:25:58.697211",
     "status": "completed"
    },
    "tags": []
   },
   "outputs": [],
   "source": [
    "test_data = preprocess_file('../input/analyse-des-sentiment/develop.json')\n",
    "test_data=pd.DataFrame({\"tweets\":test_data[0],\"Preproccessed Tweets\":test_data[1],\"labels\":test_data[2]})"
   ]
  },
  {
   "cell_type": "code",
   "execution_count": 12,
   "id": "preceding-destruction",
   "metadata": {
    "execution": {
     "iopub.execute_input": "2021-06-25T22:26:01.416114Z",
     "iopub.status.busy": "2021-06-25T22:26:01.407202Z",
     "iopub.status.idle": "2021-06-25T22:26:01.419336Z",
     "shell.execute_reply": "2021-06-25T22:26:01.418760Z",
     "shell.execute_reply.started": "2021-06-25T21:37:38.862453Z"
    },
    "papermill": {
     "duration": 0.063415,
     "end_time": "2021-06-25T22:26:01.419486",
     "exception": false,
     "start_time": "2021-06-25T22:26:01.356071",
     "status": "completed"
    },
    "tags": []
   },
   "outputs": [
    {
     "data": {
      "text/html": [
       "<div>\n",
       "<style scoped>\n",
       "    .dataframe tbody tr th:only-of-type {\n",
       "        vertical-align: middle;\n",
       "    }\n",
       "\n",
       "    .dataframe tbody tr th {\n",
       "        vertical-align: top;\n",
       "    }\n",
       "\n",
       "    .dataframe thead th {\n",
       "        text-align: right;\n",
       "    }\n",
       "</style>\n",
       "<table border=\"1\" class=\"dataframe\">\n",
       "  <thead>\n",
       "    <tr style=\"text-align: right;\">\n",
       "      <th></th>\n",
       "      <th>tweets</th>\n",
       "      <th>Preproccessed Tweets</th>\n",
       "      <th>labels</th>\n",
       "    </tr>\n",
       "  </thead>\n",
       "  <tbody>\n",
       "    <tr>\n",
       "      <th>0</th>\n",
       "      <td>05 Beat it - Michael Jackson - Thriller (25th ...</td>\n",
       "      <td>[05, beat, michael, jackson, thriller, 25th, a...</td>\n",
       "      <td>0</td>\n",
       "    </tr>\n",
       "    <tr>\n",
       "      <th>1</th>\n",
       "      <td>Jay Z joins Instagram with nostalgic tribute t...</td>\n",
       "      <td>[jay, join, instagram, nostalgic, tribute, mic...</td>\n",
       "      <td>1</td>\n",
       "    </tr>\n",
       "    <tr>\n",
       "      <th>2</th>\n",
       "      <td>Michael Jackson: Bad 25th Anniversary Edition ...</td>\n",
       "      <td>[michael, jackson, bad, 25th, anniversary, edi...</td>\n",
       "      <td>0</td>\n",
       "    </tr>\n",
       "    <tr>\n",
       "      <th>3</th>\n",
       "      <td>18th anniv of Princess Diana's death. I still ...</td>\n",
       "      <td>[18th, anniv, princess, diana, 's, death, live...</td>\n",
       "      <td>1</td>\n",
       "    </tr>\n",
       "    <tr>\n",
       "      <th>4</th>\n",
       "      <td>@oridaganjazz The 1st time I heard Michael Jac...</td>\n",
       "      <td>[oridaganjazz, 1st, time, hear, michael, jacks...</td>\n",
       "      <td>1</td>\n",
       "    </tr>\n",
       "    <tr>\n",
       "      <th>...</th>\n",
       "      <td>...</td>\n",
       "      <td>...</td>\n",
       "      <td>...</td>\n",
       "    </tr>\n",
       "    <tr>\n",
       "      <th>1824</th>\n",
       "      <td>I need to become a celebrity so I can just be ...</td>\n",
       "      <td>[celebrity, yeah, 'm, chill, juicy, today, 'll...</td>\n",
       "      <td>1</td>\n",
       "    </tr>\n",
       "    <tr>\n",
       "      <th>1825</th>\n",
       "      <td>Snoop dogg may be the funniest human alive</td>\n",
       "      <td>[snoop, dogg, funny, human, alive]</td>\n",
       "      <td>1</td>\n",
       "    </tr>\n",
       "    <tr>\n",
       "      <th>1826</th>\n",
       "      <td>I'm only ok with 3rd floor playing Snoop Dogg ...</td>\n",
       "      <td>['m, 3rd, floor, playing, snoop, dogg, early, ...</td>\n",
       "      <td>0</td>\n",
       "    </tr>\n",
       "    <tr>\n",
       "      <th>1827</th>\n",
       "      <td>SNOOP DOGG AKA SNOOPADELIC friday friday only ...</td>\n",
       "      <td>[snoop, dogg, aka, snoopadelic, friday, friday...</td>\n",
       "      <td>1</td>\n",
       "    </tr>\n",
       "    <tr>\n",
       "      <th>1828</th>\n",
       "      <td>I can't stop thinking about the fact that I'm ...</td>\n",
       "      <td>[ca, n't, stop, fact, 'm, presence, snoop, dog...</td>\n",
       "      <td>1</td>\n",
       "    </tr>\n",
       "  </tbody>\n",
       "</table>\n",
       "<p>1829 rows × 3 columns</p>\n",
       "</div>"
      ],
      "text/plain": [
       "                                                 tweets  \\\n",
       "0     05 Beat it - Michael Jackson - Thriller (25th ...   \n",
       "1     Jay Z joins Instagram with nostalgic tribute t...   \n",
       "2     Michael Jackson: Bad 25th Anniversary Edition ...   \n",
       "3     18th anniv of Princess Diana's death. I still ...   \n",
       "4     @oridaganjazz The 1st time I heard Michael Jac...   \n",
       "...                                                 ...   \n",
       "1824  I need to become a celebrity so I can just be ...   \n",
       "1825         Snoop dogg may be the funniest human alive   \n",
       "1826  I'm only ok with 3rd floor playing Snoop Dogg ...   \n",
       "1827  SNOOP DOGG AKA SNOOPADELIC friday friday only ...   \n",
       "1828  I can't stop thinking about the fact that I'm ...   \n",
       "\n",
       "                                   Preproccessed Tweets  labels  \n",
       "0     [05, beat, michael, jackson, thriller, 25th, a...       0  \n",
       "1     [jay, join, instagram, nostalgic, tribute, mic...       1  \n",
       "2     [michael, jackson, bad, 25th, anniversary, edi...       0  \n",
       "3     [18th, anniv, princess, diana, 's, death, live...       1  \n",
       "4     [oridaganjazz, 1st, time, hear, michael, jacks...       1  \n",
       "...                                                 ...     ...  \n",
       "1824  [celebrity, yeah, 'm, chill, juicy, today, 'll...       1  \n",
       "1825                 [snoop, dogg, funny, human, alive]       1  \n",
       "1826  ['m, 3rd, floor, playing, snoop, dogg, early, ...       0  \n",
       "1827  [snoop, dogg, aka, snoopadelic, friday, friday...       1  \n",
       "1828  [ca, n't, stop, fact, 'm, presence, snoop, dog...       1  \n",
       "\n",
       "[1829 rows x 3 columns]"
      ]
     },
     "execution_count": 12,
     "metadata": {},
     "output_type": "execute_result"
    }
   ],
   "source": [
    "test_data"
   ]
  },
  {
   "cell_type": "markdown",
   "id": "matched-polymer",
   "metadata": {
    "papermill": {
     "duration": 0.044989,
     "end_time": "2021-06-25T22:26:01.509783",
     "exception": false,
     "start_time": "2021-06-25T22:26:01.464794",
     "status": "completed"
    },
    "tags": []
   },
   "source": [
    "# Sampling the unbalanced Train Dataset"
   ]
  },
  {
   "cell_type": "code",
   "execution_count": 13,
   "id": "fifty-madrid",
   "metadata": {
    "execution": {
     "iopub.execute_input": "2021-06-25T22:26:01.602615Z",
     "iopub.status.busy": "2021-06-25T22:26:01.602013Z",
     "iopub.status.idle": "2021-06-25T22:26:01.631286Z",
     "shell.execute_reply": "2021-06-25T22:26:01.630753Z",
     "shell.execute_reply.started": "2021-06-25T21:37:38.884655Z"
    },
    "papermill": {
     "duration": 0.076413,
     "end_time": "2021-06-25T22:26:01.631444",
     "exception": false,
     "start_time": "2021-06-25T22:26:01.555031",
     "status": "completed"
    },
    "tags": []
   },
   "outputs": [],
   "source": [
    "from sklearn.utils import resample\n",
    "\n",
    "df_neg=(train_data[train_data[\"labels\"]==-1]).sample(n=2520,random_state=42)\n",
    "df_neu=(train_data[train_data[\"labels\"]==0]).sample(n=2520,random_state=42)\n",
    "df_pos=(train_data[train_data[\"labels\"]==1]).sample(n=2520,random_state=42)\n",
    "\n",
    "train_data=pd.concat([df_neg,df_neu,df_pos])"
   ]
  },
  {
   "cell_type": "code",
   "execution_count": 14,
   "id": "declared-amino",
   "metadata": {
    "execution": {
     "iopub.execute_input": "2021-06-25T22:26:01.726151Z",
     "iopub.status.busy": "2021-06-25T22:26:01.725667Z",
     "iopub.status.idle": "2021-06-25T22:26:01.729777Z",
     "shell.execute_reply": "2021-06-25T22:26:01.729295Z",
     "shell.execute_reply.started": "2021-06-25T21:37:38.907608Z"
    },
    "papermill": {
     "duration": 0.051574,
     "end_time": "2021-06-25T22:26:01.729882",
     "exception": false,
     "start_time": "2021-06-25T22:26:01.678308",
     "status": "completed"
    },
    "tags": []
   },
   "outputs": [
    {
     "name": "stdout",
     "output_type": "stream",
     "text": [
      "769\n"
     ]
    }
   ],
   "source": [
    "neg=test_data[test_data.labels == 1]\n",
    "print (len(neg))"
   ]
  },
  {
   "cell_type": "code",
   "execution_count": 15,
   "id": "ahead-preliminary",
   "metadata": {
    "execution": {
     "iopub.execute_input": "2021-06-25T22:26:01.800054Z",
     "iopub.status.busy": "2021-06-25T22:26:01.799609Z",
     "iopub.status.idle": "2021-06-25T22:26:01.804158Z",
     "shell.execute_reply": "2021-06-25T22:26:01.804589Z",
     "shell.execute_reply.started": "2021-06-25T21:37:38.918550Z"
    },
    "papermill": {
     "duration": 0.042753,
     "end_time": "2021-06-25T22:26:01.804715",
     "exception": false,
     "start_time": "2021-06-25T22:26:01.761962",
     "status": "completed"
    },
    "tags": []
   },
   "outputs": [
    {
     "data": {
      "text/plain": [
       "5630     Negative\n",
       "9721     Negative\n",
       "5224     Negative\n",
       "2115     Negative\n",
       "6441     Negative\n",
       "           ...   \n",
       "1254     Positive\n",
       "13767    Positive\n",
       "2132     Positive\n",
       "3818     Positive\n",
       "3185     Positive\n",
       "Name: labels, Length: 7560, dtype: object"
      ]
     },
     "execution_count": 15,
     "metadata": {},
     "output_type": "execute_result"
    }
   ],
   "source": [
    "label_mapping={1:'Positive',-1:'Negative',0:'Neutral'}\n",
    "Y=train_data['labels'].map(label_mapping)\n",
    "Y"
   ]
  },
  {
   "cell_type": "code",
   "execution_count": 16,
   "id": "dominican-merit",
   "metadata": {
    "execution": {
     "iopub.execute_input": "2021-06-25T22:26:01.866694Z",
     "iopub.status.busy": "2021-06-25T22:26:01.866261Z",
     "iopub.status.idle": "2021-06-25T22:26:02.091715Z",
     "shell.execute_reply": "2021-06-25T22:26:02.092125Z",
     "shell.execute_reply.started": "2021-06-25T21:37:38.937411Z"
    },
    "papermill": {
     "duration": 0.257359,
     "end_time": "2021-06-25T22:26:02.092242",
     "exception": false,
     "start_time": "2021-06-25T22:26:01.834883",
     "status": "completed"
    },
    "tags": []
   },
   "outputs": [
    {
     "data": {
      "image/png": "[encoded data removed]",
      "text/plain": [
       "<Figure size 504x432 with 1 Axes>"
      ]
     },
     "metadata": {},
     "output_type": "display_data"
    }
   ],
   "source": [
    "import seaborn as sns\n",
    "import matplotlib.pyplot as plt\n",
    "sns.set(font_scale=1.4)\n",
    "Y.value_counts(normalize=True).plot(kind='bar', figsize=(7, 6), rot=0)\n",
    "plt.xlabel(\"Sentiment Polarity\", labelpad=14)\n",
    "plt.ylabel(\"% of each category in the Dataset\", labelpad=14)\n",
    "plt.title(\"Distribution of tweets by polarity \", y=1.02);"
   ]
  },
  {
   "cell_type": "markdown",
   "id": "stylish-cutting",
   "metadata": {
    "papermill": {
     "duration": 0.047052,
     "end_time": "2021-06-25T22:26:02.170857",
     "exception": false,
     "start_time": "2021-06-25T22:26:02.123805",
     "status": "completed"
    },
    "tags": []
   },
   "source": [
    "# Building the word2vec model"
   ]
  },
  {
   "cell_type": "code",
   "execution_count": 17,
   "id": "excellent-repository",
   "metadata": {
    "execution": {
     "iopub.execute_input": "2021-06-25T22:26:02.267257Z",
     "iopub.status.busy": "2021-06-25T22:26:02.266691Z",
     "iopub.status.idle": "2021-06-25T22:26:02.271626Z",
     "shell.execute_reply": "2021-06-25T22:26:02.272172Z",
     "shell.execute_reply.started": "2021-06-25T21:37:39.112965Z"
    },
    "papermill": {
     "duration": 0.054359,
     "end_time": "2021-06-25T22:26:02.272298",
     "exception": false,
     "start_time": "2021-06-25T22:26:02.217939",
     "status": "completed"
    },
    "tags": []
   },
   "outputs": [],
   "source": [
    "# Importing the built-in logging module\n",
    "import logging\n",
    "logging.basicConfig(format='%(asctime)s : %(levelname)s : %(message)s', level=logging.INFO)"
   ]
  },
  {
   "cell_type": "code",
   "execution_count": 18,
   "id": "later-alberta",
   "metadata": {
    "execution": {
     "iopub.execute_input": "2021-06-25T22:26:02.368574Z",
     "iopub.status.busy": "2021-06-25T22:26:02.367997Z",
     "iopub.status.idle": "2021-06-25T22:26:02.370680Z",
     "shell.execute_reply": "2021-06-25T22:26:02.371211Z",
     "shell.execute_reply.started": "2021-06-25T21:37:39.119531Z"
    },
    "papermill": {
     "duration": 0.051917,
     "end_time": "2021-06-25T22:26:02.371334",
     "exception": false,
     "start_time": "2021-06-25T22:26:02.319417",
     "status": "completed"
    },
    "tags": []
   },
   "outputs": [],
   "source": [
    "sentences=train_data[\"Preproccessed Tweets\"]"
   ]
  },
  {
   "cell_type": "code",
   "execution_count": 19,
   "id": "front-recall",
   "metadata": {
    "execution": {
     "iopub.execute_input": "2021-06-25T22:26:02.467874Z",
     "iopub.status.busy": "2021-06-25T22:26:02.467300Z",
     "iopub.status.idle": "2021-06-25T22:26:02.470626Z",
     "shell.execute_reply": "2021-06-25T22:26:02.471087Z",
     "shell.execute_reply.started": "2021-06-25T21:37:39.134102Z"
    },
    "papermill": {
     "duration": 0.052314,
     "end_time": "2021-06-25T22:26:02.471211",
     "exception": false,
     "start_time": "2021-06-25T22:26:02.418897",
     "status": "completed"
    },
    "tags": []
   },
   "outputs": [],
   "source": [
    "import multiprocessing\n",
    "cores = multiprocessing.cpu_count() # Count the number of cores in a computer"
   ]
  },
  {
   "cell_type": "code",
   "execution_count": 20,
   "id": "empirical-graphics",
   "metadata": {
    "execution": {
     "iopub.execute_input": "2021-06-25T22:26:02.568276Z",
     "iopub.status.busy": "2021-06-25T22:26:02.567725Z",
     "iopub.status.idle": "2021-06-25T22:26:02.749712Z",
     "shell.execute_reply": "2021-06-25T22:26:02.750191Z",
     "shell.execute_reply.started": "2021-06-25T21:37:39.147296Z"
    },
    "papermill": {
     "duration": 0.232339,
     "end_time": "2021-06-25T22:26:02.750341",
     "exception": false,
     "start_time": "2021-06-25T22:26:02.518002",
     "status": "completed"
    },
    "tags": []
   },
   "outputs": [
    {
     "name": "stdout",
     "output_type": "stream",
     "text": [
      "Training model....\n"
     ]
    },
    {
     "name": "stderr",
     "output_type": "stream",
     "text": [
      "/opt/conda/lib/python3.7/site-packages/ipykernel_launcher.py:22: DeprecationWarning: Call to deprecated `init_sims` (Gensim 4.0.0 implemented internal optimizations that make calls to init_sims() unnecessary. init_sims() is now obsoleted and will be completely removed in future versions. See https://github.com/RaRe-Technologies/gensim/wiki/Migrating-from-Gensim-3.x-to-4).\n"
     ]
    }
   ],
   "source": [
    "# Creating the model and setting values for the various parameters\n",
    "num_features = 700  # Word vector dimensionality\n",
    "min_word_count = 40 # Minimum word count\n",
    "num_workers = 4     # Number of parallel threads\n",
    "context = 10        # Context window size\n",
    "\n",
    "# Initializing the train model\n",
    "from gensim.models import word2vec\n",
    "print(\"Training model....\")\n",
    "\n",
    "model = word2vec.Word2Vec(min_count=1,\n",
    "                     window=10,\n",
    "                     vector_size=700,\n",
    "                     sample=1e-5, \n",
    "                     #alpha=0.03, \n",
    "                     min_alpha=0.0007, \n",
    "                     negative=20,\n",
    "                     workers=cores-1,\n",
    "                     sg=1)\n",
    "\n",
    "# To make the model memory efficient\n",
    "model.init_sims(replace=True)\n",
    "\n",
    "# Saving the model for later use. Can be loaded using Word2Vec.load()\n",
    "model_name = \"700features_40minwords_10context\"\n",
    "model.save(model_name)"
   ]
  },
  {
   "cell_type": "code",
   "execution_count": 21,
   "id": "communist-party",
   "metadata": {
    "execution": {
     "iopub.execute_input": "2021-06-25T22:26:02.849416Z",
     "iopub.status.busy": "2021-06-25T22:26:02.848833Z",
     "iopub.status.idle": "2021-06-25T22:26:02.852411Z",
     "shell.execute_reply": "2021-06-25T22:26:02.852873Z",
     "shell.execute_reply.started": "2021-06-25T21:37:39.170998Z"
    },
    "papermill": {
     "duration": 0.053734,
     "end_time": "2021-06-25T22:26:02.853003",
     "exception": false,
     "start_time": "2021-06-25T22:26:02.799269",
     "status": "completed"
    },
    "tags": []
   },
   "outputs": [],
   "source": [
    "model = word2vec.Word2Vec.load(\"./700features_40minwords_10context\")"
   ]
  },
  {
   "cell_type": "code",
   "execution_count": 22,
   "id": "interior-eight",
   "metadata": {
    "execution": {
     "iopub.execute_input": "2021-06-25T22:26:02.950800Z",
     "iopub.status.busy": "2021-06-25T22:26:02.950222Z",
     "iopub.status.idle": "2021-06-25T22:26:03.400902Z",
     "shell.execute_reply": "2021-06-25T22:26:03.401438Z",
     "shell.execute_reply.started": "2021-06-25T21:37:39.189826Z"
    },
    "papermill": {
     "duration": 0.500551,
     "end_time": "2021-06-25T22:26:03.401622",
     "exception": false,
     "start_time": "2021-06-25T22:26:02.901071",
     "status": "completed"
    },
    "tags": []
   },
   "outputs": [],
   "source": [
    "model.build_vocab(sentences, progress_per=100000)"
   ]
  },
  {
   "cell_type": "code",
   "execution_count": 23,
   "id": "distributed-reach",
   "metadata": {
    "execution": {
     "iopub.execute_input": "2021-06-25T22:26:03.501050Z",
     "iopub.status.busy": "2021-06-25T22:26:03.500483Z",
     "iopub.status.idle": "2021-06-25T22:26:03.506003Z",
     "shell.execute_reply": "2021-06-25T22:26:03.505535Z",
     "shell.execute_reply.started": "2021-06-25T21:37:39.919495Z"
    },
    "papermill": {
     "duration": 0.055674,
     "end_time": "2021-06-25T22:26:03.506114",
     "exception": false,
     "start_time": "2021-06-25T22:26:03.450440",
     "status": "completed"
    },
    "tags": []
   },
   "outputs": [
    {
     "name": "stdout",
     "output_type": "stream",
     "text": [
      "7560 tweets ont été utilisés pour créer le vocabulaire de notre corpus.\n",
      "Le vocabulaire comporte 17209 mots distincts\n"
     ]
    }
   ],
   "source": [
    "# Nombre de tweets utilisés dans notre corpus\n",
    "total_examples = model.corpus_count\n",
    "print(\"{} tweets ont été utilisés pour créer le vocabulaire de notre corpus.\".format(total_examples))\n",
    "\n",
    "# Taille du vocabulaire de notre modèle\n",
    "print(\"Le vocabulaire comporte {} mots distincts\".format(len(model.wv.key_to_index)))"
   ]
  },
  {
   "cell_type": "code",
   "execution_count": 24,
   "id": "elementary-scott",
   "metadata": {
    "execution": {
     "iopub.execute_input": "2021-06-25T22:26:03.581604Z",
     "iopub.status.busy": "2021-06-25T22:26:03.580913Z",
     "iopub.status.idle": "2021-06-25T22:26:21.848615Z",
     "shell.execute_reply": "2021-06-25T22:26:21.848194Z",
     "shell.execute_reply.started": "2021-06-25T21:37:39.926632Z"
    },
    "papermill": {
     "duration": 18.310009,
     "end_time": "2021-06-25T22:26:21.848719",
     "exception": false,
     "start_time": "2021-06-25T22:26:03.538710",
     "status": "completed"
    },
    "tags": []
   },
   "outputs": [
    {
     "data": {
      "text/plain": [
       "(909194, 2472420)"
      ]
     },
     "execution_count": 24,
     "metadata": {},
     "output_type": "execute_result"
    }
   ],
   "source": [
    "\n",
    "model.train(sentences, total_examples=model.corpus_count, epochs=30, report_delay=1)"
   ]
  },
  {
   "cell_type": "code",
   "execution_count": 25,
   "id": "biblical-scene",
   "metadata": {
    "execution": {
     "iopub.execute_input": "2021-06-25T22:26:21.915878Z",
     "iopub.status.busy": "2021-06-25T22:26:21.915444Z",
     "iopub.status.idle": "2021-06-25T22:26:21.920619Z",
     "shell.execute_reply": "2021-06-25T22:26:21.920217Z",
     "shell.execute_reply.started": "2021-06-25T21:38:03.226688Z"
    },
    "papermill": {
     "duration": 0.03928,
     "end_time": "2021-06-25T22:26:21.920739",
     "exception": false,
     "start_time": "2021-06-25T22:26:21.881459",
     "status": "completed"
    },
    "tags": []
   },
   "outputs": [
    {
     "data": {
      "text/plain": [
       "['man', 'woman', 'girl', 'aunt', 'daughter']"
      ]
     },
     "execution_count": 25,
     "metadata": {},
     "output_type": "execute_result"
    }
   ],
   "source": [
    "L= \"man woman girl aunt daughter\".split()\n",
    "L"
   ]
  },
  {
   "cell_type": "code",
   "execution_count": 26,
   "id": "sought-spelling",
   "metadata": {
    "execution": {
     "iopub.execute_input": "2021-06-25T22:26:21.986508Z",
     "iopub.status.busy": "2021-06-25T22:26:21.986003Z",
     "iopub.status.idle": "2021-06-25T22:26:22.005106Z",
     "shell.execute_reply": "2021-06-25T22:26:22.004539Z",
     "shell.execute_reply.started": "2021-06-25T21:38:03.234099Z"
    },
    "papermill": {
     "duration": 0.053281,
     "end_time": "2021-06-25T22:26:22.005225",
     "exception": false,
     "start_time": "2021-06-25T22:26:21.951944",
     "status": "completed"
    },
    "tags": []
   },
   "outputs": [
    {
     "data": {
      "text/plain": [
       "'girl'"
      ]
     },
     "execution_count": 26,
     "metadata": {},
     "output_type": "execute_result"
    }
   ],
   "source": [
    "# Few tests: This will print the odd word among them \n",
    "model.wv.doesnt_match(L)"
   ]
  },
  {
   "cell_type": "code",
   "execution_count": 27,
   "id": "sharp-expression",
   "metadata": {
    "execution": {
     "iopub.execute_input": "2021-06-25T22:26:22.102807Z",
     "iopub.status.busy": "2021-06-25T22:26:22.102390Z",
     "iopub.status.idle": "2021-06-25T22:26:22.104670Z",
     "shell.execute_reply": "2021-06-25T22:26:22.105060Z",
     "shell.execute_reply.started": "2021-06-25T21:38:03.291308Z"
    },
    "papermill": {
     "duration": 0.052599,
     "end_time": "2021-06-25T22:26:22.105158",
     "exception": false,
     "start_time": "2021-06-25T22:26:22.052559",
     "status": "completed"
    },
    "tags": []
   },
   "outputs": [
    {
     "data": {
      "text/plain": [
       "['want', 'guys', 'Foreigner', 'world']"
      ]
     },
     "execution_count": 27,
     "metadata": {},
     "output_type": "execute_result"
    }
   ],
   "source": [
    "La= \"want guys Foreigner world\".split()\n",
    "La"
   ]
  },
  {
   "cell_type": "code",
   "execution_count": 28,
   "id": "administrative-occasion",
   "metadata": {
    "execution": {
     "iopub.execute_input": "2021-06-25T22:26:22.172054Z",
     "iopub.status.busy": "2021-06-25T22:26:22.171638Z",
     "iopub.status.idle": "2021-06-25T22:26:22.174058Z",
     "shell.execute_reply": "2021-06-25T22:26:22.174387Z",
     "shell.execute_reply.started": "2021-06-25T21:38:03.297875Z"
    },
    "papermill": {
     "duration": 0.037927,
     "end_time": "2021-06-25T22:26:22.174497",
     "exception": false,
     "start_time": "2021-06-25T22:26:22.136570",
     "status": "completed"
    },
    "tags": []
   },
   "outputs": [
    {
     "data": {
      "text/plain": [
       "'guys'"
      ]
     },
     "execution_count": 28,
     "metadata": {},
     "output_type": "execute_result"
    }
   ],
   "source": [
    "model.wv.doesnt_match(La)"
   ]
  },
  {
   "cell_type": "code",
   "execution_count": 29,
   "id": "aerial-hybrid",
   "metadata": {
    "execution": {
     "iopub.execute_input": "2021-06-25T22:26:22.243604Z",
     "iopub.status.busy": "2021-06-25T22:26:22.241483Z",
     "iopub.status.idle": "2021-06-25T22:26:22.251296Z",
     "shell.execute_reply": "2021-06-25T22:26:22.251758Z",
     "shell.execute_reply.started": "2021-06-25T21:38:03.315315Z"
    },
    "papermill": {
     "duration": 0.04585,
     "end_time": "2021-06-25T22:26:22.251920",
     "exception": false,
     "start_time": "2021-06-25T22:26:22.206070",
     "status": "completed"
    },
    "tags": []
   },
   "outputs": [
    {
     "data": {
      "text/plain": [
       "[('mol', 0.9997966885566711),\n",
       " ('someguy', 0.9997966289520264),\n",
       " ('much-', 0.9997963309288025),\n",
       " ('opat', 0.9997957348823547),\n",
       " ('missile', 0.9997929930686951),\n",
       " ('fro', 0.9997925758361816),\n",
       " ('troll', 0.9997920989990234),\n",
       " ('11:15', 0.9997918605804443),\n",
       " ('camurphy', 0.9997901916503906),\n",
       " ('bowtie', 0.9997901916503906)]"
      ]
     },
     "execution_count": 29,
     "metadata": {},
     "output_type": "execute_result"
    }
   ],
   "source": [
    "model.wv.most_similar(\"man\")"
   ]
  },
  {
   "cell_type": "code",
   "execution_count": 30,
   "id": "opposite-shooting",
   "metadata": {
    "execution": {
     "iopub.execute_input": "2021-06-25T22:26:22.353993Z",
     "iopub.status.busy": "2021-06-25T22:26:22.353411Z",
     "iopub.status.idle": "2021-06-25T22:26:22.358729Z",
     "shell.execute_reply": "2021-06-25T22:26:22.358245Z",
     "shell.execute_reply.started": "2021-06-25T21:38:03.342171Z"
    },
    "papermill": {
     "duration": 0.059421,
     "end_time": "2021-06-25T22:26:22.358861",
     "exception": false,
     "start_time": "2021-06-25T22:26:22.299440",
     "status": "completed"
    },
    "tags": []
   },
   "outputs": [
    {
     "data": {
      "text/plain": [
       "[('jagobrown91', 0.999805748462677),\n",
       " ('jayisourqb', 0.9997947216033936),\n",
       " ('fro', 0.9997934699058533),\n",
       " ('hbcu', 0.9997912049293518),\n",
       " ('loveadamseyes', 0.9997899532318115),\n",
       " ('alejandro', 0.999788224697113),\n",
       " ('betthat', 0.999788224697113),\n",
       " ('cool', 0.9997880458831787),\n",
       " ('inq', 0.9997880458831787),\n",
       " ('iidontrespectit', 0.9997876882553101)]"
      ]
     },
     "execution_count": 30,
     "metadata": {},
     "output_type": "execute_result"
    }
   ],
   "source": [
    "model.wv.most_similar(\"guy\")"
   ]
  },
  {
   "cell_type": "code",
   "execution_count": 31,
   "id": "scientific-night",
   "metadata": {
    "execution": {
     "iopub.execute_input": "2021-06-25T22:26:22.458649Z",
     "iopub.status.busy": "2021-06-25T22:26:22.456493Z",
     "iopub.status.idle": "2021-06-25T22:26:22.459267Z",
     "shell.execute_reply": "2021-06-25T22:26:22.459757Z",
     "shell.execute_reply.started": "2021-06-25T21:38:03.357686Z"
    },
    "papermill": {
     "duration": 0.053694,
     "end_time": "2021-06-25T22:26:22.459902",
     "exception": false,
     "start_time": "2021-06-25T22:26:22.406208",
     "status": "completed"
    },
    "tags": []
   },
   "outputs": [],
   "source": [
    "import numpy as np"
   ]
  },
  {
   "cell_type": "code",
   "execution_count": 32,
   "id": "governmental-prefix",
   "metadata": {
    "execution": {
     "iopub.execute_input": "2021-06-25T22:26:22.535480Z",
     "iopub.status.busy": "2021-06-25T22:26:22.534986Z",
     "iopub.status.idle": "2021-06-25T22:26:22.537396Z",
     "shell.execute_reply": "2021-06-25T22:26:22.536966Z",
     "shell.execute_reply.started": "2021-06-25T21:38:03.366397Z"
    },
    "papermill": {
     "duration": 0.040187,
     "end_time": "2021-06-25T22:26:22.537521",
     "exception": false,
     "start_time": "2021-06-25T22:26:22.497334",
     "status": "completed"
    },
    "tags": []
   },
   "outputs": [],
   "source": [
    "train_tweets=train_data[\"Preproccessed Tweets\"]\n",
    "test_tweets=test_data[\"Preproccessed Tweets\"]"
   ]
  },
  {
   "cell_type": "code",
   "execution_count": 33,
   "id": "billion-natural",
   "metadata": {
    "execution": {
     "iopub.execute_input": "2021-06-25T22:26:22.612024Z",
     "iopub.status.busy": "2021-06-25T22:26:22.611574Z",
     "iopub.status.idle": "2021-06-25T22:26:22.613919Z",
     "shell.execute_reply": "2021-06-25T22:26:22.613542Z",
     "shell.execute_reply.started": "2021-06-25T21:38:03.386641Z"
    },
    "papermill": {
     "duration": 0.041766,
     "end_time": "2021-06-25T22:26:22.614020",
     "exception": false,
     "start_time": "2021-06-25T22:26:22.572254",
     "status": "completed"
    },
    "tags": []
   },
   "outputs": [],
   "source": [
    "#Averaging Words Vectors to Create Sentence Embedding\n",
    "def get_mean_vector(word2vec_model, words):\n",
    "    # remove out-of-vocabulary words\n",
    "    words = [word for word in words if word in model.wv.key_to_index]\n",
    "    if len(words) >= 1:\n",
    "        return np.mean(word2vec_model[words], axis=0)\n",
    "    else:\n",
    "        return np.zeros(word2vec_model.vector_size)\n"
   ]
  },
  {
   "cell_type": "code",
   "execution_count": 34,
   "id": "automated-stuart",
   "metadata": {
    "execution": {
     "iopub.execute_input": "2021-06-25T22:26:22.685813Z",
     "iopub.status.busy": "2021-06-25T22:26:22.685346Z",
     "iopub.status.idle": "2021-06-25T22:26:23.160725Z",
     "shell.execute_reply": "2021-06-25T22:26:23.161101Z",
     "shell.execute_reply.started": "2021-06-25T21:38:03.397430Z"
    },
    "papermill": {
     "duration": 0.512466,
     "end_time": "2021-06-25T22:26:23.161226",
     "exception": false,
     "start_time": "2021-06-25T22:26:22.648760",
     "status": "completed"
    },
    "tags": []
   },
   "outputs": [],
   "source": [
    "train_array=[]\n",
    "test_array=[]\n",
    "for tweet in train_tweets:\n",
    "    vec = get_mean_vector(model.wv, tweet)\n",
    "    if len(vec) > 0:\n",
    "        train_array.append(vec)\n",
    "        \n",
    "for tweet in test_tweets:\n",
    "    vec = get_mean_vector(model.wv, tweet)\n",
    "    if len(vec) > 0:\n",
    "        test_array.append(vec)"
   ]
  },
  {
   "cell_type": "code",
   "execution_count": 35,
   "id": "brilliant-transformation",
   "metadata": {
    "execution": {
     "iopub.execute_input": "2021-06-25T22:26:23.232844Z",
     "iopub.status.busy": "2021-06-25T22:26:23.232421Z",
     "iopub.status.idle": "2021-06-25T22:26:23.237199Z",
     "shell.execute_reply": "2021-06-25T22:26:23.236831Z",
     "shell.execute_reply.started": "2021-06-25T21:38:04.124864Z"
    },
    "papermill": {
     "duration": 0.041518,
     "end_time": "2021-06-25T22:26:23.237300",
     "exception": false,
     "start_time": "2021-06-25T22:26:23.195782",
     "status": "completed"
    },
    "tags": []
   },
   "outputs": [
    {
     "data": {
      "text/plain": [
       "700"
      ]
     },
     "execution_count": 35,
     "metadata": {},
     "output_type": "execute_result"
    }
   ],
   "source": [
    "len(train_array[0])"
   ]
  },
  {
   "cell_type": "markdown",
   "id": "coordinated-motor",
   "metadata": {
    "papermill": {
     "duration": 0.03424,
     "end_time": "2021-06-25T22:26:23.306141",
     "exception": false,
     "start_time": "2021-06-25T22:26:23.271901",
     "status": "completed"
    },
    "tags": []
   },
   "source": [
    "# Support Vector Classifier"
   ]
  },
  {
   "cell_type": "code",
   "execution_count": 36,
   "id": "banned-haiti",
   "metadata": {
    "execution": {
     "iopub.execute_input": "2021-06-25T22:26:23.379181Z",
     "iopub.status.busy": "2021-06-25T22:26:23.378747Z",
     "iopub.status.idle": "2021-06-25T22:26:23.380538Z",
     "shell.execute_reply": "2021-06-25T22:26:23.380950Z",
     "shell.execute_reply.started": "2021-06-25T21:38:04.131617Z"
    },
    "papermill": {
     "duration": 0.040118,
     "end_time": "2021-06-25T22:26:23.381061",
     "exception": false,
     "start_time": "2021-06-25T22:26:23.340943",
     "status": "completed"
    },
    "tags": []
   },
   "outputs": [],
   "source": [
    "train_tags=train_data['labels']\n",
    "test_tags=test_data['labels']"
   ]
  },
  {
   "cell_type": "code",
   "execution_count": 37,
   "id": "elementary-thailand",
   "metadata": {
    "execution": {
     "iopub.execute_input": "2021-06-25T22:26:23.452833Z",
     "iopub.status.busy": "2021-06-25T22:26:23.452403Z",
     "iopub.status.idle": "2021-06-25T22:26:23.458071Z",
     "shell.execute_reply": "2021-06-25T22:26:23.458425Z",
     "shell.execute_reply.started": "2021-06-25T21:38:04.147214Z"
    },
    "papermill": {
     "duration": 0.04261,
     "end_time": "2021-06-25T22:26:23.458552",
     "exception": false,
     "start_time": "2021-06-25T22:26:23.415942",
     "status": "completed"
    },
    "tags": []
   },
   "outputs": [
    {
     "data": {
      "text/plain": [
       "5630    -1\n",
       "9721    -1\n",
       "5224    -1\n",
       "2115    -1\n",
       "6441    -1\n",
       "        ..\n",
       "1254     1\n",
       "13767    1\n",
       "2132     1\n",
       "3818     1\n",
       "3185     1\n",
       "Name: labels, Length: 7560, dtype: int64"
      ]
     },
     "execution_count": 37,
     "metadata": {},
     "output_type": "execute_result"
    }
   ],
   "source": [
    "train_tags"
   ]
  },
  {
   "cell_type": "code",
   "execution_count": 38,
   "id": "backed-record",
   "metadata": {
    "execution": {
     "iopub.execute_input": "2021-06-25T22:26:23.530498Z",
     "iopub.status.busy": "2021-06-25T22:26:23.530037Z",
     "iopub.status.idle": "2021-06-25T22:26:55.993120Z",
     "shell.execute_reply": "2021-06-25T22:26:55.993610Z",
     "shell.execute_reply.started": "2021-06-25T21:38:04.165207Z"
    },
    "papermill": {
     "duration": 32.500134,
     "end_time": "2021-06-25T22:26:55.993772",
     "exception": false,
     "start_time": "2021-06-25T22:26:23.493638",
     "status": "completed"
    },
    "tags": []
   },
   "outputs": [],
   "source": [
    "from sklearn import svm\n",
    "from sklearn.metrics import accuracy_score\n",
    "\n",
    "# Perform classification with SVM, kernel=linear\n",
    "classifier_linear = svm.SVC(kernel='linear') # SVC a linear kernel\n",
    "\n",
    "classifier_linear.fit(train_array, train_tags)\n",
    "\n",
    "prediction_linear = classifier_linear.predict(test_array)\n",
    "\n",
    "Resultat=accuracy_score(test_tags,prediction_linear)"
   ]
  },
  {
   "cell_type": "code",
   "execution_count": 39,
   "id": "grave-prospect",
   "metadata": {
    "execution": {
     "iopub.execute_input": "2021-06-25T22:26:56.102554Z",
     "iopub.status.busy": "2021-06-25T22:26:56.101953Z",
     "iopub.status.idle": "2021-06-25T22:26:56.105163Z",
     "shell.execute_reply": "2021-06-25T22:26:56.105626Z",
     "shell.execute_reply.started": "2021-06-25T21:38:52.092466Z"
    },
    "papermill": {
     "duration": 0.058865,
     "end_time": "2021-06-25T22:26:56.105757",
     "exception": false,
     "start_time": "2021-06-25T22:26:56.046892",
     "status": "completed"
    },
    "tags": []
   },
   "outputs": [
    {
     "data": {
      "text/plain": [
       "0.25150355385456535"
      ]
     },
     "execution_count": 39,
     "metadata": {},
     "output_type": "execute_result"
    }
   ],
   "source": [
    "Resultat"
   ]
  },
  {
   "cell_type": "code",
   "execution_count": 40,
   "id": "continental-junction",
   "metadata": {
    "execution": {
     "iopub.execute_input": "2021-06-25T22:26:56.215080Z",
     "iopub.status.busy": "2021-06-25T22:26:56.214491Z",
     "iopub.status.idle": "2021-06-25T22:26:56.413436Z",
     "shell.execute_reply": "2021-06-25T22:26:56.413955Z",
     "shell.execute_reply.started": "2021-06-25T21:38:52.100605Z"
    },
    "papermill": {
     "duration": 0.254856,
     "end_time": "2021-06-25T22:26:56.414108",
     "exception": false,
     "start_time": "2021-06-25T22:26:56.159252",
     "status": "completed"
    },
    "tags": []
   },
   "outputs": [
    {
     "name": "stdout",
     "output_type": "stream",
     "text": [
      "              precision    recall  f1-score   support\n",
      "\n",
      "          -1       0.21      0.95      0.34       360\n",
      "           0       0.51      0.03      0.05       700\n",
      "           1       0.59      0.13      0.21       769\n",
      "\n",
      "    accuracy                           0.25      1829\n",
      "   macro avg       0.44      0.37      0.20      1829\n",
      "weighted avg       0.49      0.25      0.18      1829\n",
      "\n"
     ]
    },
    {
     "data": {
      "text/plain": [
       "Text(61.5, 0.5, 'True Class')"
      ]
     },
     "execution_count": 40,
     "metadata": {},
     "output_type": "execute_result"
    },
    {
     "data": {
      "image/png": "[encoded data removed]",
      "text/plain": [
       "<Figure size 720x504 with 2 Axes>"
      ]
     },
     "metadata": {},
     "output_type": "display_data"
    }
   ],
   "source": [
    "## Plot confusion matrix\n",
    "import pandas as pd\n",
    "import matplotlib.pyplot as plt\n",
    "import seaborn as sns\n",
    "from sklearn.metrics import confusion_matrix,classification_report\n",
    "\n",
    "cf_matrix = confusion_matrix(test_tags,prediction_linear )\n",
    "\n",
    "cf_matrix\n",
    "print(classification_report(test_tags,prediction_linear))\n",
    "\n",
    "df_cm = pd.DataFrame(cf_matrix , index = [i for i in [-1,0,1]],columns = [i for i in [-1,0,1]])\n",
    "plt.figure(figsize = (10,7))\n",
    "sns.heatmap(df_cm/np.sum(df_cm), annot=True, \n",
    "            fmt='.2%',cmap=\"Blues\")\n",
    "plt.xlabel('Predicted Class')\n",
    "plt.ylabel('True Class')"
   ]
  },
  {
   "cell_type": "markdown",
   "id": "phantom-bracket",
   "metadata": {
    "papermill": {
     "duration": 0.05443,
     "end_time": "2021-06-25T22:26:56.523871",
     "exception": false,
     "start_time": "2021-06-25T22:26:56.469441",
     "status": "completed"
    },
    "tags": []
   },
   "source": [
    "# Random Forest Classifier"
   ]
  },
  {
   "cell_type": "code",
   "execution_count": 41,
   "id": "disciplinary-throat",
   "metadata": {
    "execution": {
     "iopub.execute_input": "2021-06-25T22:26:56.634781Z",
     "iopub.status.busy": "2021-06-25T22:26:56.633977Z",
     "iopub.status.idle": "2021-06-25T22:27:32.327699Z",
     "shell.execute_reply": "2021-06-25T22:27:32.328076Z",
     "shell.execute_reply.started": "2021-06-25T21:38:52.459016Z"
    },
    "papermill": {
     "duration": 35.750368,
     "end_time": "2021-06-25T22:27:32.328200",
     "exception": false,
     "start_time": "2021-06-25T22:26:56.577832",
     "status": "completed"
    },
    "tags": []
   },
   "outputs": [
    {
     "data": {
      "text/plain": [
       "0.3985784581738655"
      ]
     },
     "execution_count": 41,
     "metadata": {},
     "output_type": "execute_result"
    }
   ],
   "source": [
    "from sklearn.ensemble import RandomForestClassifier\n",
    "rf=RandomForestClassifier(n_estimators=200,max_features='sqrt',random_state=0)\n",
    "rf.fit(train_array, train_tags.ravel())\n",
    "Y_pred=rf.predict(test_array)\n",
    "rf.score(test_array,test_tags)"
   ]
  },
  {
   "cell_type": "code",
   "execution_count": 42,
   "id": "parallel-genome",
   "metadata": {
    "execution": {
     "iopub.execute_input": "2021-06-25T22:27:32.410953Z",
     "iopub.status.busy": "2021-06-25T22:27:32.410502Z",
     "iopub.status.idle": "2021-06-25T22:27:32.634426Z",
     "shell.execute_reply": "2021-06-25T22:27:32.633995Z",
     "shell.execute_reply.started": "2021-06-25T21:39:32.150075Z"
    },
    "papermill": {
     "duration": 0.269492,
     "end_time": "2021-06-25T22:27:32.634544",
     "exception": false,
     "start_time": "2021-06-25T22:27:32.365052",
     "status": "completed"
    },
    "tags": []
   },
   "outputs": [
    {
     "name": "stdout",
     "output_type": "stream",
     "text": [
      "              precision    recall  f1-score   support\n",
      "\n",
      "          -1       0.26      0.43      0.32       360\n",
      "           0       0.41      0.50      0.45       700\n",
      "           1       0.59      0.30      0.39       769\n",
      "\n",
      "    accuracy                           0.40      1829\n",
      "   macro avg       0.42      0.41      0.39      1829\n",
      "weighted avg       0.45      0.40      0.40      1829\n",
      "\n"
     ]
    },
    {
     "data": {
      "text/plain": [
       "Text(61.5, 0.5, 'True Class')"
      ]
     },
     "execution_count": 42,
     "metadata": {},
     "output_type": "execute_result"
    },
    {
     "data": {
      "image/png": "[encoded data removed]",
      "text/plain": [
       "<Figure size 720x504 with 2 Axes>"
      ]
     },
     "metadata": {},
     "output_type": "display_data"
    }
   ],
   "source": [
    "## Plot confusion matrix\n",
    "import pandas as pd\n",
    "import matplotlib.pyplot as plt\n",
    "import seaborn as sns\n",
    "from sklearn.metrics import confusion_matrix,classification_report\n",
    "\n",
    "cf_matrix = confusion_matrix(test_tags,Y_pred )\n",
    "\n",
    "cf_matrix\n",
    "print(classification_report(test_tags,Y_pred))\n",
    "\n",
    "df_cm = pd.DataFrame(cf_matrix , index = [i for i in [-1,0,1]],columns = [i for i in [-1,0,1]])\n",
    "plt.figure(figsize = (10,7))\n",
    "sns.heatmap(df_cm/np.sum(df_cm), annot=True, \n",
    "            fmt='.2%',cmap=\"Blues\")\n",
    "plt.xlabel('Predicted Class')\n",
    "plt.ylabel('True Class')"
   ]
  }
 ],
 "metadata": {
  "kernelspec": {
   "display_name": "Python 3",
   "language": "python",
   "name": "python3"
  },
  "language_info": {
   "codemirror_mode": {
    "name": "ipython",
    "version": 3
   },
   "file_extension": ".py",
   "mimetype": "text/x-python",
   "name": "python",
   "nbconvert_exporter": "python",
   "pygments_lexer": "ipython3",
   "version": "3.7.10"
  },
  "papermill": {
   "default_parameters": {},
   "duration": 144.768206,
   "end_time": "2021-06-25T22:27:34.441544",
   "environment_variables": {},
   "exception": null,
   "input_path": "__notebook__.ipynb",
   "output_path": "__notebook__.ipynb",
   "parameters": {},
   "start_time": "2021-06-25T22:25:09.673338",
   "version": "2.3.3"
  }
 },
 "nbformat": 4,
 "nbformat_minor": 5
}
