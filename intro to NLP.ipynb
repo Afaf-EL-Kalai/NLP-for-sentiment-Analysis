{
 "cells": [
  {
   "cell_type": "markdown",
   "id": "cognitive-columbia",
   "metadata": {
    "papermill": {
     "duration": 0.086789,
     "end_time": "2021-06-25T14:44:17.584451",
     "exception": false,
     "start_time": "2021-06-25T14:44:17.497662",
     "status": "completed"
    },
    "tags": []
   },
   "source": [
    "On utilise le corpus \"brown\" un corpus Anglais"
   ]
  },
  {
   "cell_type": "code",
   "execution_count": 1,
   "id": "fatty-palestinian",
   "metadata": {
    "execution": {
     "iopub.execute_input": "2021-06-25T14:44:17.762825Z",
     "iopub.status.busy": "2021-06-25T14:44:17.760659Z",
     "iopub.status.idle": "2021-06-25T14:44:19.561857Z",
     "shell.execute_reply": "2021-06-25T14:44:19.562466Z",
     "shell.execute_reply.started": "2021-06-25T14:39:54.668579Z"
    },
    "papermill": {
     "duration": 1.894899,
     "end_time": "2021-06-25T14:44:19.562761",
     "exception": false,
     "start_time": "2021-06-25T14:44:17.667862",
     "status": "completed"
    },
    "tags": []
   },
   "outputs": [],
   "source": [
    "import nltk"
   ]
  },
  {
   "cell_type": "markdown",
   "id": "muslim-fusion",
   "metadata": {
    "papermill": {
     "duration": 0.083106,
     "end_time": "2021-06-25T14:44:19.728859",
     "exception": false,
     "start_time": "2021-06-25T14:44:19.645753",
     "status": "completed"
    },
    "tags": []
   },
   "source": [
    "# Tokenization"
   ]
  },
  {
   "cell_type": "code",
   "execution_count": 2,
   "id": "attended-objective",
   "metadata": {
    "execution": {
     "iopub.execute_input": "2021-06-25T14:44:19.911612Z",
     "iopub.status.busy": "2021-06-25T14:44:19.903068Z",
     "iopub.status.idle": "2021-06-25T14:44:39.942895Z",
     "shell.execute_reply": "2021-06-25T14:44:39.943427Z",
     "shell.execute_reply.started": "2021-06-25T14:39:56.105488Z"
    },
    "papermill": {
     "duration": 20.130189,
     "end_time": "2021-06-25T14:44:39.943601",
     "exception": false,
     "start_time": "2021-06-25T14:44:19.813412",
     "status": "completed"
    },
    "tags": []
   },
   "outputs": [
    {
     "name": "stdout",
     "output_type": "stream",
     "text": [
      "[nltk_data] Error loading webtext: <urlopen error [Errno -3] Temporary\n",
      "[nltk_data]     failure in name resolution>\n"
     ]
    }
   ],
   "source": [
    "nltk.download('webtext')\n",
    "from nltk.corpus import webtext"
   ]
  },
  {
   "cell_type": "code",
   "execution_count": 3,
   "id": "mental-injury",
   "metadata": {
    "execution": {
     "iopub.execute_input": "2021-06-25T14:44:40.119926Z",
     "iopub.status.busy": "2021-06-25T14:44:40.118982Z",
     "iopub.status.idle": "2021-06-25T14:44:40.132577Z",
     "shell.execute_reply": "2021-06-25T14:44:40.132001Z",
     "shell.execute_reply.started": "2021-06-25T14:40:16.148923Z"
    },
    "papermill": {
     "duration": 0.10196,
     "end_time": "2021-06-25T14:44:40.132720",
     "exception": false,
     "start_time": "2021-06-25T14:44:40.030760",
     "status": "completed"
    },
    "tags": []
   },
   "outputs": [
    {
     "data": {
      "text/plain": [
       "['firefox.txt',\n",
       " 'grail.txt',\n",
       " 'overheard.txt',\n",
       " 'pirates.txt',\n",
       " 'singles.txt',\n",
       " 'wine.txt']"
      ]
     },
     "execution_count": 3,
     "metadata": {},
     "output_type": "execute_result"
    }
   ],
   "source": [
    "webtext.fileids() # fileids c'est le nombre de fichier"
   ]
  },
  {
   "cell_type": "markdown",
   "id": "regulated-morgan",
   "metadata": {
    "papermill": {
     "duration": 0.08418,
     "end_time": "2021-06-25T14:44:40.301688",
     "exception": false,
     "start_time": "2021-06-25T14:44:40.217508",
     "status": "completed"
    },
    "tags": []
   },
   "source": [
    "Webtext contient 5 fichiers"
   ]
  },
  {
   "cell_type": "code",
   "execution_count": 4,
   "id": "numerous-insider",
   "metadata": {
    "execution": {
     "iopub.execute_input": "2021-06-25T14:44:40.476156Z",
     "iopub.status.busy": "2021-06-25T14:44:40.475520Z",
     "iopub.status.idle": "2021-06-25T14:44:40.796414Z",
     "shell.execute_reply": "2021-06-25T14:44:40.795825Z",
     "shell.execute_reply.started": "2021-06-25T14:40:16.163433Z"
    },
    "papermill": {
     "duration": 0.409168,
     "end_time": "2021-06-25T14:44:40.796555",
     "exception": false,
     "start_time": "2021-06-25T14:44:40.387387",
     "status": "completed"
    },
    "tags": []
   },
   "outputs": [
    {
     "data": {
      "text/plain": [
       "[['Cookie', 'Manager', ':', '\"', 'Don', \"'\", 't', 'allow', 'sites', 'that', 'set', 'removed', 'cookies', 'to', 'set', 'future', 'cookies', '\"', 'should', 'stay', 'checked', 'When', 'in', 'full', 'screen', 'mode', 'Pressing', 'Ctrl', '-', 'N', 'should', 'open', 'a', 'new', 'browser', 'when', 'only', 'download', 'dialog', 'is', 'left', 'open', 'add', 'icons', 'to', 'context', 'menu', 'So', 'called', '\"', 'tab', 'bar', '\"', 'should', 'be', 'made', 'a', 'proper', 'toolbar', 'or', 'given', 'the', 'ability', 'collapse', '/', 'expand', '.'], ['[', 'XUL', ']', 'Implement', 'Cocoa', '-', 'style', 'toolbar', 'customization', '.'], ...]"
      ]
     },
     "execution_count": 4,
     "metadata": {},
     "output_type": "execute_result"
    }
   ],
   "source": [
    "webtext.sents(fileids='firefox.txt')"
   ]
  },
  {
   "cell_type": "code",
   "execution_count": 5,
   "id": "prescribed-morgan",
   "metadata": {
    "execution": {
     "iopub.execute_input": "2021-06-25T14:44:40.972870Z",
     "iopub.status.busy": "2021-06-25T14:44:40.972226Z",
     "iopub.status.idle": "2021-06-25T14:44:41.277737Z",
     "shell.execute_reply": "2021-06-25T14:44:41.277203Z",
     "shell.execute_reply.started": "2021-06-25T14:40:16.472547Z"
    },
    "papermill": {
     "duration": 0.39608,
     "end_time": "2021-06-25T14:44:41.277879",
     "exception": false,
     "start_time": "2021-06-25T14:44:40.881799",
     "status": "completed"
    },
    "tags": []
   },
   "outputs": [
    {
     "data": {
      "text/plain": [
       "1142"
      ]
     },
     "execution_count": 5,
     "metadata": {},
     "output_type": "execute_result"
    }
   ],
   "source": [
    "len(webtext.sents(fileids='firefox.txt'))"
   ]
  },
  {
   "cell_type": "code",
   "execution_count": 6,
   "id": "artificial-upgrade",
   "metadata": {
    "execution": {
     "iopub.execute_input": "2021-06-25T14:44:41.454740Z",
     "iopub.status.busy": "2021-06-25T14:44:41.454017Z",
     "iopub.status.idle": "2021-06-25T14:44:41.459872Z",
     "shell.execute_reply": "2021-06-25T14:44:41.460426Z",
     "shell.execute_reply.started": "2021-06-25T14:40:16.767113Z"
    },
    "papermill": {
     "duration": 0.096191,
     "end_time": "2021-06-25T14:44:41.460593",
     "exception": false,
     "start_time": "2021-06-25T14:44:41.364402",
     "status": "completed"
    },
    "tags": []
   },
   "outputs": [
    {
     "data": {
      "text/plain": [
       "['AMIABLE 43 y.o.',\n",
       " 'gentleman with European background, 170 cm, medium build, employed, never married, no children.',\n",
       " 'Enjoys sports, music, cafes, beach &c. Seeks an honest, attractive lady with a European background, without children, who would like to get married and have chil dren in the future.',\n",
       " '29-39 y.o.',\n",
       " 'Prefer non-smoker and living in Adelaide.']"
      ]
     },
     "execution_count": 6,
     "metadata": {},
     "output_type": "execute_result"
    }
   ],
   "source": [
    "from nltk import sent_tokenize\n",
    "single_no9 = webtext.raw('singles.txt').split('\\n')[9]\n",
    "sent_tokenize(single_no9)"
   ]
  },
  {
   "cell_type": "code",
   "execution_count": 7,
   "id": "buried-spectacular",
   "metadata": {
    "execution": {
     "iopub.execute_input": "2021-06-25T14:44:41.635178Z",
     "iopub.status.busy": "2021-06-25T14:44:41.634536Z",
     "iopub.status.idle": "2021-06-25T14:44:41.643388Z",
     "shell.execute_reply": "2021-06-25T14:44:41.642487Z",
     "shell.execute_reply.started": "2021-06-25T14:40:16.777985Z"
    },
    "papermill": {
     "duration": 0.096933,
     "end_time": "2021-06-25T14:44:41.643575",
     "exception": false,
     "start_time": "2021-06-25T14:44:41.546642",
     "status": "completed"
    },
    "tags": []
   },
   "outputs": [
    {
     "name": "stdout",
     "output_type": "stream",
     "text": [
      "0:\t25 SEXY MALE, seeks attrac older single lady, for discreet encounters.\n",
      "1:\t35YO Security Guard, seeking lady in uniform for fun times.\n",
      "2:\t40 yo SINGLE DAD, sincere friendly DTE seeks r/ship with fem age open S/E\n",
      "3:\t44yo tall seeks working single mum or lady below 45 fship rship. Nat Open\n",
      "4:\t6.2 35 yr old OUTGOING M seeks fem 28-35 for o/door sports - w/e away\n",
      "5:\tA professional business male, late 40s, 6 feet tall, slim build, well groomed, great personality, home owner, interests include the arts travel and all things good, Ringwood area, is seeking a genuine female of similar age or older, in same area or surrounds, for a meaningful long term rship. Looking forward to hearing from you all.\n",
      "6:\tABLE young man seeks, sexy older women. Phone for fun ready to play\n",
      "7:\tAFFECTIONATE LADY Sought by generous guy, 40s, mutual fulfillment\n",
      "8:\tARE YOU ALONE or lost in a r/ship too, with no hope in sight? Maybe we could explore new beginnings together? Im 45 Slim/Med build, GSOH, high needs and looking for someone similar. You WONT be disappointed.\n",
      "9:\tAMIABLE 43 y.o. gentleman with European background, 170 cm, medium build, employed, never married, no children. Enjoys sports, music, cafes, beach &c. Seeks an honest, attractive lady with a European background, without children, who would like to get married and have chil dren in the future. 29-39 y.o. Prefer non-smoker and living in Adelaide.\n",
      "10:\tARE YOU A COPPER REDHEAD? I am 36 y.o. and looking for companionship/friendship. I enjoy the AFL, animals and dining out.\n",
      "11:\tATTRACTIVE 43 Y.O. 61, medium build, financially secure, no children, seeks attractive lady up to 40 y.o. with no children. I enjoy the beach, sports and music. View to permanent relationship.\n"
     ]
    }
   ],
   "source": [
    "for i, line in enumerate (webtext.raw('singles.txt').split('\\n')):\n",
    "    print(str(i) + ':\\t' + line)\n",
    "    if i>10:\n",
    "        break"
   ]
  },
  {
   "cell_type": "code",
   "execution_count": 8,
   "id": "worth-holder",
   "metadata": {
    "execution": {
     "iopub.execute_input": "2021-06-25T14:44:41.821857Z",
     "iopub.status.busy": "2021-06-25T14:44:41.820930Z",
     "iopub.status.idle": "2021-06-25T14:44:41.826421Z",
     "shell.execute_reply": "2021-06-25T14:44:41.825764Z",
     "shell.execute_reply.started": "2021-06-25T14:40:16.789224Z"
    },
    "papermill": {
     "duration": 0.096076,
     "end_time": "2021-06-25T14:44:41.826568",
     "exception": false,
     "start_time": "2021-06-25T14:44:41.730492",
     "status": "completed"
    },
    "tags": []
   },
   "outputs": [
    {
     "data": {
      "text/plain": [
       "'ARE YOU ALONE or lost in a r/ship too, with no hope in sight? Maybe we could explore new beginnings together? Im 45 Slim/Med build, GSOH, high needs and looking for someone similar. You WONT be disappointed.'"
      ]
     },
     "execution_count": 8,
     "metadata": {},
     "output_type": "execute_result"
    }
   ],
   "source": [
    "sentence=webtext.raw('singles.txt').split('\\n')[8]\n",
    "sentence"
   ]
  },
  {
   "cell_type": "markdown",
   "id": "turkish-craft",
   "metadata": {
    "papermill": {
     "duration": 0.088318,
     "end_time": "2021-06-25T14:44:42.002563",
     "exception": false,
     "start_time": "2021-06-25T14:44:41.914245",
     "status": "completed"
    },
    "tags": []
   },
   "source": [
    "# Sentence Tokenization"
   ]
  },
  {
   "cell_type": "code",
   "execution_count": 9,
   "id": "catholic-rough",
   "metadata": {
    "execution": {
     "iopub.execute_input": "2021-06-25T14:44:42.182298Z",
     "iopub.status.busy": "2021-06-25T14:44:42.181327Z",
     "iopub.status.idle": "2021-06-25T14:44:42.185266Z",
     "shell.execute_reply": "2021-06-25T14:44:42.185792Z",
     "shell.execute_reply.started": "2021-06-25T14:40:16.797012Z"
    },
    "papermill": {
     "duration": 0.09666,
     "end_time": "2021-06-25T14:44:42.185968",
     "exception": false,
     "start_time": "2021-06-25T14:44:42.089308",
     "status": "completed"
    },
    "tags": []
   },
   "outputs": [
    {
     "data": {
      "text/plain": [
       "['ARE YOU ALONE or lost in a r/ship too, with no hope in sight?',\n",
       " 'Maybe we could explore new beginnings together?',\n",
       " 'Im 45 Slim/Med build, GSOH, high needs and looking for someone similar.',\n",
       " 'You WONT be disappointed.']"
      ]
     },
     "execution_count": 9,
     "metadata": {},
     "output_type": "execute_result"
    }
   ],
   "source": [
    "from nltk import sent_tokenize\n",
    "sent_tokenize(sentence)"
   ]
  },
  {
   "cell_type": "markdown",
   "id": "wicked-williams",
   "metadata": {
    "papermill": {
     "duration": 0.086628,
     "end_time": "2021-06-25T14:44:42.359194",
     "exception": false,
     "start_time": "2021-06-25T14:44:42.272566",
     "status": "completed"
    },
    "tags": []
   },
   "source": [
    "# Word Tokenization"
   ]
  },
  {
   "cell_type": "code",
   "execution_count": 10,
   "id": "unlike-showcase",
   "metadata": {
    "execution": {
     "iopub.execute_input": "2021-06-25T14:44:42.540900Z",
     "iopub.status.busy": "2021-06-25T14:44:42.539956Z",
     "iopub.status.idle": "2021-06-25T14:44:42.544283Z",
     "shell.execute_reply": "2021-06-25T14:44:42.543691Z",
     "shell.execute_reply.started": "2021-06-25T14:40:16.808576Z"
    },
    "papermill": {
     "duration": 0.098905,
     "end_time": "2021-06-25T14:44:42.544434",
     "exception": false,
     "start_time": "2021-06-25T14:44:42.445529",
     "status": "completed"
    },
    "tags": []
   },
   "outputs": [
    {
     "data": {
      "text/plain": [
       "[['ARE',\n",
       "  'YOU',\n",
       "  'ALONE',\n",
       "  'or',\n",
       "  'lost',\n",
       "  'in',\n",
       "  'a',\n",
       "  'r/ship',\n",
       "  'too',\n",
       "  ',',\n",
       "  'with',\n",
       "  'no',\n",
       "  'hope',\n",
       "  'in',\n",
       "  'sight',\n",
       "  '?'],\n",
       " ['Maybe', 'we', 'could', 'explore', 'new', 'beginnings', 'together', '?'],\n",
       " ['Im',\n",
       "  '45',\n",
       "  'Slim/Med',\n",
       "  'build',\n",
       "  ',',\n",
       "  'GSOH',\n",
       "  ',',\n",
       "  'high',\n",
       "  'needs',\n",
       "  'and',\n",
       "  'looking',\n",
       "  'for',\n",
       "  'someone',\n",
       "  'similar',\n",
       "  '.'],\n",
       " ['You', 'WONT', 'be', 'disappointed', '.']]"
      ]
     },
     "execution_count": 10,
     "metadata": {},
     "output_type": "execute_result"
    }
   ],
   "source": [
    "from nltk import word_tokenize\n",
    "Words=[]\n",
    "for sent in sent_tokenize(sentence):\n",
    "    Words.append(word_tokenize(sent))\n",
    "Words"
   ]
  },
  {
   "cell_type": "markdown",
   "id": "grave-conditions",
   "metadata": {
    "papermill": {
     "duration": 0.089168,
     "end_time": "2021-06-25T14:44:42.721185",
     "exception": false,
     "start_time": "2021-06-25T14:44:42.632017",
     "status": "completed"
    },
    "tags": []
   },
   "source": [
    "# Lowercasing\n"
   ]
  },
  {
   "cell_type": "code",
   "execution_count": 11,
   "id": "valuable-display",
   "metadata": {
    "execution": {
     "iopub.execute_input": "2021-06-25T14:44:42.902908Z",
     "iopub.status.busy": "2021-06-25T14:44:42.901806Z",
     "iopub.status.idle": "2021-06-25T14:44:42.906004Z",
     "shell.execute_reply": "2021-06-25T14:44:42.905403Z",
     "shell.execute_reply.started": "2021-06-25T14:40:16.821225Z"
    },
    "papermill": {
     "duration": 0.0968,
     "end_time": "2021-06-25T14:44:42.906161",
     "exception": false,
     "start_time": "2021-06-25T14:44:42.809361",
     "status": "completed"
    },
    "tags": []
   },
   "outputs": [
    {
     "name": "stdout",
     "output_type": "stream",
     "text": [
      "['are', 'you', 'alone', 'or', 'lost', 'in', 'a', 'r/ship', 'too', ',', 'with', 'no', 'hope', 'in', 'sight', '?']\n",
      "['maybe', 'we', 'could', 'explore', 'new', 'beginnings', 'together', '?']\n",
      "['im', '45', 'slim/med', 'build', ',', 'gsoh', ',', 'high', 'needs', 'and', 'looking', 'for', 'someone', 'similar', '.']\n",
      "['you', 'wont', 'be', 'disappointed', '.']\n"
     ]
    }
   ],
   "source": [
    "for sent in sent_tokenize(sentence):\n",
    "    print([word.lower() for word in word_tokenize(sent)])\n",
    "    "
   ]
  },
  {
   "cell_type": "code",
   "execution_count": 12,
   "id": "authentic-blogger",
   "metadata": {
    "execution": {
     "iopub.execute_input": "2021-06-25T14:44:43.089117Z",
     "iopub.status.busy": "2021-06-25T14:44:43.088343Z",
     "iopub.status.idle": "2021-06-25T14:44:43.092016Z",
     "shell.execute_reply": "2021-06-25T14:44:43.091506Z",
     "shell.execute_reply.started": "2021-06-25T14:40:16.832914Z"
    },
    "papermill": {
     "duration": 0.097208,
     "end_time": "2021-06-25T14:44:43.092166",
     "exception": false,
     "start_time": "2021-06-25T14:44:42.994958",
     "status": "completed"
    },
    "tags": []
   },
   "outputs": [
    {
     "data": {
      "text/plain": [
       "['ARE YOU ALONE or lost in a r/ship too, with no hope in sight?',\n",
       " 'Maybe we could explore new beginnings together?',\n",
       " 'Im 45 Slim/Med build, GSOH, high needs and looking for someone similar.',\n",
       " 'You WONT be disappointed.']"
      ]
     },
     "execution_count": 12,
     "metadata": {},
     "output_type": "execute_result"
    }
   ],
   "source": [
    "sent_tokenize(sentence)"
   ]
  },
  {
   "cell_type": "markdown",
   "id": "initial-forest",
   "metadata": {
    "papermill": {
     "duration": 0.088015,
     "end_time": "2021-06-25T14:44:43.267309",
     "exception": false,
     "start_time": "2021-06-25T14:44:43.179294",
     "status": "completed"
    },
    "tags": []
   },
   "source": [
    "# Stopwords"
   ]
  },
  {
   "cell_type": "code",
   "execution_count": 13,
   "id": "recreational-translation",
   "metadata": {
    "execution": {
     "iopub.execute_input": "2021-06-25T14:44:43.448281Z",
     "iopub.status.busy": "2021-06-25T14:44:43.447558Z",
     "iopub.status.idle": "2021-06-25T14:44:43.489479Z",
     "shell.execute_reply": "2021-06-25T14:44:43.490109Z",
     "shell.execute_reply.started": "2021-06-25T14:40:16.84173Z"
    },
    "papermill": {
     "duration": 0.134515,
     "end_time": "2021-06-25T14:44:43.490288",
     "exception": false,
     "start_time": "2021-06-25T14:44:43.355773",
     "status": "completed"
    },
    "tags": []
   },
   "outputs": [
    {
     "name": "stdout",
     "output_type": "stream",
     "text": [
      "['i', 'me', 'my', 'myself', 'we', 'our', 'ours', 'ourselves', 'you', \"you're\", \"you've\", \"you'll\", \"you'd\", 'your', 'yours', 'yourself', 'yourselves', 'he', 'him', 'his', 'himself', 'she', \"she's\", 'her', 'hers', 'herself', 'it', \"it's\", 'its', 'itself', 'they', 'them', 'their', 'theirs', 'themselves', 'what', 'which', 'who', 'whom', 'this', 'that', \"that'll\", 'these', 'those', 'am', 'is', 'are', 'was', 'were', 'be', 'been', 'being', 'have', 'has', 'had', 'having', 'do', 'does', 'did', 'doing', 'a', 'an', 'the', 'and', 'but', 'if', 'or', 'because', 'as', 'until', 'while', 'of', 'at', 'by', 'for', 'with', 'about', 'against', 'between', 'into', 'through', 'during', 'before', 'after', 'above', 'below', 'to', 'from', 'up', 'down', 'in', 'out', 'on', 'off', 'over', 'under', 'again', 'further', 'then', 'once', 'here', 'there', 'when', 'where', 'why', 'how', 'all', 'any', 'both', 'each', 'few', 'more', 'most', 'other', 'some', 'such', 'no', 'nor', 'not', 'only', 'own', 'same', 'so', 'than', 'too', 'very', 's', 't', 'can', 'will', 'just', 'don', \"don't\", 'should', \"should've\", 'now', 'd', 'll', 'm', 'o', 're', 've', 'y', 'ain', 'aren', \"aren't\", 'couldn', \"couldn't\", 'didn', \"didn't\", 'doesn', \"doesn't\", 'hadn', \"hadn't\", 'hasn', \"hasn't\", 'haven', \"haven't\", 'isn', \"isn't\", 'ma', 'mightn', \"mightn't\", 'mustn', \"mustn't\", 'needn', \"needn't\", 'shan', \"shan't\", 'shouldn', \"shouldn't\", 'wasn', \"wasn't\", 'weren', \"weren't\", 'won', \"won't\", 'wouldn', \"wouldn't\"]\n"
     ]
    }
   ],
   "source": [
    "from nltk.corpus import stopwords\n",
    "\n",
    "stopwords_en = stopwords.words('english')\n",
    "print(stopwords_en)"
   ]
  },
  {
   "cell_type": "markdown",
   "id": "cross-content",
   "metadata": {
    "papermill": {
     "duration": 0.086912,
     "end_time": "2021-06-25T14:44:43.664622",
     "exception": false,
     "start_time": "2021-06-25T14:44:43.577710",
     "status": "completed"
    },
    "tags": []
   },
   "source": [
    "# Lowering and removing stopwords"
   ]
  },
  {
   "cell_type": "code",
   "execution_count": 14,
   "id": "atmospheric-strip",
   "metadata": {
    "execution": {
     "iopub.execute_input": "2021-06-25T14:44:43.848818Z",
     "iopub.status.busy": "2021-06-25T14:44:43.846825Z",
     "iopub.status.idle": "2021-06-25T14:44:43.853141Z",
     "shell.execute_reply": "2021-06-25T14:44:43.852487Z",
     "shell.execute_reply.started": "2021-06-25T14:40:16.867345Z"
    },
    "papermill": {
     "duration": 0.100344,
     "end_time": "2021-06-25T14:44:43.853288",
     "exception": false,
     "start_time": "2021-06-25T14:44:43.752944",
     "status": "completed"
    },
    "tags": []
   },
   "outputs": [
    {
     "data": {
      "text/plain": [
       "['sample', 'sentence', ',', 'showing', 'stop', 'words', 'filtration']"
      ]
     },
     "execution_count": 14,
     "metadata": {},
     "output_type": "execute_result"
    }
   ],
   "source": [
    "from nltk.corpus import stopwords\n",
    "from nltk import word_tokenize\n",
    "\n",
    "stopwords = stopwords.words('english')\n",
    "Data=\"This is a sample sentence, showing off the stop words filtration\"\n",
    "Words= word_tokenize(Data)\n",
    "Cleaned_Data=[word for word in Words if word.lower() not in stopwords]\n",
    "Cleaned_Data"
   ]
  },
  {
   "cell_type": "markdown",
   "id": "laughing-wildlife",
   "metadata": {
    "papermill": {
     "duration": 0.090443,
     "end_time": "2021-06-25T14:44:44.032395",
     "exception": false,
     "start_time": "2021-06-25T14:44:43.941952",
     "status": "completed"
    },
    "tags": []
   },
   "source": [
    "# Fonction map : apply the given function to each item of a given iterable "
   ]
  },
  {
   "cell_type": "code",
   "execution_count": 15,
   "id": "cooked-circle",
   "metadata": {
    "execution": {
     "iopub.execute_input": "2021-06-25T14:44:44.218468Z",
     "iopub.status.busy": "2021-06-25T14:44:44.217518Z",
     "iopub.status.idle": "2021-06-25T14:44:44.221273Z",
     "shell.execute_reply": "2021-06-25T14:44:44.221769Z",
     "shell.execute_reply.started": "2021-06-25T14:40:16.875773Z"
    },
    "papermill": {
     "duration": 0.099998,
     "end_time": "2021-06-25T14:44:44.221931",
     "exception": false,
     "start_time": "2021-06-25T14:44:44.121933",
     "status": "completed"
    },
    "tags": []
   },
   "outputs": [
    {
     "data": {
      "text/plain": [
       "['amiable',\n",
       " '43',\n",
       " 'y.o',\n",
       " '.',\n",
       " 'gentleman',\n",
       " 'with',\n",
       " 'european',\n",
       " 'background',\n",
       " ',',\n",
       " '170',\n",
       " 'cm',\n",
       " ',',\n",
       " 'medium',\n",
       " 'build',\n",
       " ',',\n",
       " 'employed',\n",
       " ',',\n",
       " 'never',\n",
       " 'married',\n",
       " ',',\n",
       " 'no',\n",
       " 'children',\n",
       " '.',\n",
       " 'enjoys',\n",
       " 'sports',\n",
       " ',',\n",
       " 'music',\n",
       " ',',\n",
       " 'cafes',\n",
       " ',',\n",
       " 'beach',\n",
       " '&',\n",
       " 'c.',\n",
       " 'seeks',\n",
       " 'an',\n",
       " 'honest',\n",
       " ',',\n",
       " 'attractive',\n",
       " 'lady',\n",
       " 'with',\n",
       " 'a',\n",
       " 'european',\n",
       " 'background',\n",
       " ',',\n",
       " 'without',\n",
       " 'children',\n",
       " ',',\n",
       " 'who',\n",
       " 'would',\n",
       " 'like',\n",
       " 'to',\n",
       " 'get',\n",
       " 'married',\n",
       " 'and',\n",
       " 'have',\n",
       " 'chil',\n",
       " 'dren',\n",
       " 'in',\n",
       " 'the',\n",
       " 'future',\n",
       " '.',\n",
       " '29-39',\n",
       " 'y.o',\n",
       " '.',\n",
       " 'prefer',\n",
       " 'non-smoker',\n",
       " 'and',\n",
       " 'living',\n",
       " 'in',\n",
       " 'adelaide',\n",
       " '.']"
      ]
     },
     "execution_count": 15,
     "metadata": {},
     "output_type": "execute_result"
    }
   ],
   "source": [
    "sentence_lowered_tokenized=list(map(str.lower,word_tokenize(single_no9)))\n",
    "sentence_lowered_tokenized"
   ]
  },
  {
   "cell_type": "code",
   "execution_count": 16,
   "id": "premium-warren",
   "metadata": {
    "execution": {
     "iopub.execute_input": "2021-06-25T14:44:44.402636Z",
     "iopub.status.busy": "2021-06-25T14:44:44.401688Z",
     "iopub.status.idle": "2021-06-25T14:44:44.407615Z",
     "shell.execute_reply": "2021-06-25T14:44:44.408070Z",
     "shell.execute_reply.started": "2021-06-25T14:40:16.889142Z"
    },
    "papermill": {
     "duration": 0.097812,
     "end_time": "2021-06-25T14:44:44.408263",
     "exception": false,
     "start_time": "2021-06-25T14:44:44.310451",
     "status": "completed"
    },
    "tags": []
   },
   "outputs": [
    {
     "name": "stdout",
     "output_type": "stream",
     "text": [
      "['amiable', '43', 'y.o', '.', 'gentleman', 'european', 'background', ',', '170', 'cm', ',', 'medium', 'build', ',', 'employed', ',', 'never', 'married', ',', 'children', '.', 'enjoys', 'sports', ',', 'music', ',', 'cafes', ',', 'beach', '&', 'c.', 'seeks', 'honest', ',', 'attractive', 'lady', 'european', 'background', ',', 'without', 'children', ',', 'would', 'like', 'get', 'married', 'chil', 'dren', 'future', '.', '29-39', 'y.o', '.', 'prefer', 'non-smoker', 'living', 'adelaide', '.']\n"
     ]
    }
   ],
   "source": [
    "#nltk.download('stopwords')\n",
    "#stopwords_en = set(stopwords.words('english')) # Set checking is faster in Python than list.\n",
    "print([word for word in sentence_lowered_tokenized if word not in stopwords_en])"
   ]
  },
  {
   "cell_type": "markdown",
   "id": "floating-harvey",
   "metadata": {
    "papermill": {
     "duration": 0.088477,
     "end_time": "2021-06-25T14:44:44.586213",
     "exception": false,
     "start_time": "2021-06-25T14:44:44.497736",
     "status": "completed"
    },
    "tags": []
   },
   "source": [
    "# Pandas DataFrame vs Series"
   ]
  },
  {
   "cell_type": "code",
   "execution_count": 17,
   "id": "welsh-diving",
   "metadata": {
    "execution": {
     "iopub.execute_input": "2021-06-25T14:44:44.769303Z",
     "iopub.status.busy": "2021-06-25T14:44:44.768522Z",
     "iopub.status.idle": "2021-06-25T14:44:44.771352Z",
     "shell.execute_reply": "2021-06-25T14:44:44.771948Z",
     "shell.execute_reply.started": "2021-06-25T14:40:16.898553Z"
    },
    "papermill": {
     "duration": 0.096664,
     "end_time": "2021-06-25T14:44:44.772151",
     "exception": false,
     "start_time": "2021-06-25T14:44:44.675487",
     "status": "completed"
    },
    "tags": []
   },
   "outputs": [],
   "source": [
    "import pandas as pd"
   ]
  },
  {
   "cell_type": "code",
   "execution_count": 18,
   "id": "pediatric-property",
   "metadata": {
    "execution": {
     "iopub.execute_input": "2021-06-25T14:44:44.964811Z",
     "iopub.status.busy": "2021-06-25T14:44:44.963818Z",
     "iopub.status.idle": "2021-06-25T14:44:44.985009Z",
     "shell.execute_reply": "2021-06-25T14:44:44.985595Z",
     "shell.execute_reply.started": "2021-06-25T14:40:16.907622Z"
    },
    "papermill": {
     "duration": 0.119516,
     "end_time": "2021-06-25T14:44:44.985916",
     "exception": false,
     "start_time": "2021-06-25T14:44:44.866400",
     "status": "completed"
    },
    "tags": []
   },
   "outputs": [
    {
     "data": {
      "text/plain": [
       "(0                 lower\n",
       " 1              CAPITALS\n",
       " 2    this is a sentence\n",
       " 3              SwApCaSe\n",
       " dtype: object,\n",
       "                     0\n",
       " 0               lower\n",
       " 1            CAPITALS\n",
       " 2  this is a sentence\n",
       " 3            SwApCaSe)"
      ]
     },
     "execution_count": 18,
     "metadata": {},
     "output_type": "execute_result"
    }
   ],
   "source": [
    "s = pd.Series(['lower', 'CAPITALS', 'this is a sentence', 'SwApCaSe'])  # serie objet unidimmentionnel\n",
    "m= pd.DataFrame(['lower', 'CAPITALS', 'this is a sentence', 'SwApCaSe']) # Dataframe objet bidimensionnel pouvant contenir des séries, des listes et des dictionnaires\n",
    "s,m    "
   ]
  },
  {
   "cell_type": "code",
   "execution_count": 19,
   "id": "decimal-jerusalem",
   "metadata": {
    "execution": {
     "iopub.execute_input": "2021-06-25T14:44:45.225247Z",
     "iopub.status.busy": "2021-06-25T14:44:45.224570Z",
     "iopub.status.idle": "2021-06-25T14:44:45.247618Z",
     "shell.execute_reply": "2021-06-25T14:44:45.247036Z",
     "shell.execute_reply.started": "2021-06-25T14:40:16.929323Z"
    },
    "papermill": {
     "duration": 0.119317,
     "end_time": "2021-06-25T14:44:45.247765",
     "exception": false,
     "start_time": "2021-06-25T14:44:45.128448",
     "status": "completed"
    },
    "tags": []
   },
   "outputs": [
    {
     "data": {
      "text/html": [
       "<div>\n",
       "<style scoped>\n",
       "    .dataframe tbody tr th:only-of-type {\n",
       "        vertical-align: middle;\n",
       "    }\n",
       "\n",
       "    .dataframe tbody tr th {\n",
       "        vertical-align: top;\n",
       "    }\n",
       "\n",
       "    .dataframe thead th {\n",
       "        text-align: right;\n",
       "    }\n",
       "</style>\n",
       "<table border=\"1\" class=\"dataframe\">\n",
       "  <thead>\n",
       "    <tr style=\"text-align: right;\">\n",
       "      <th></th>\n",
       "      <th>one</th>\n",
       "      <th>two</th>\n",
       "    </tr>\n",
       "  </thead>\n",
       "  <tbody>\n",
       "    <tr>\n",
       "      <th>a</th>\n",
       "      <td>1.0</td>\n",
       "      <td>1.0</td>\n",
       "    </tr>\n",
       "    <tr>\n",
       "      <th>b</th>\n",
       "      <td>2.0</td>\n",
       "      <td>2.0</td>\n",
       "    </tr>\n",
       "    <tr>\n",
       "      <th>c</th>\n",
       "      <td>3.0</td>\n",
       "      <td>3.0</td>\n",
       "    </tr>\n",
       "    <tr>\n",
       "      <th>d</th>\n",
       "      <td>NaN</td>\n",
       "      <td>4.0</td>\n",
       "    </tr>\n",
       "  </tbody>\n",
       "</table>\n",
       "</div>"
      ],
      "text/plain": [
       "   one  two\n",
       "a  1.0  1.0\n",
       "b  2.0  2.0\n",
       "c  3.0  3.0\n",
       "d  NaN  4.0"
      ]
     },
     "execution_count": 19,
     "metadata": {},
     "output_type": "execute_result"
    }
   ],
   "source": [
    "d = {'one' : pd.Series([1., 2., 3.], index=['a', 'b', 'c']),\n",
    " 'two' : pd.Series([1., 2., 3., 4.], index=['a', 'b', 'c', 'd'])}\n",
    "pd.DataFrame(d)"
   ]
  },
  {
   "cell_type": "code",
   "execution_count": 20,
   "id": "gentle-intention",
   "metadata": {
    "execution": {
     "iopub.execute_input": "2021-06-25T14:44:45.431192Z",
     "iopub.status.busy": "2021-06-25T14:44:45.430576Z",
     "iopub.status.idle": "2021-06-25T14:44:45.441782Z",
     "shell.execute_reply": "2021-06-25T14:44:45.441041Z",
     "shell.execute_reply.started": "2021-06-25T14:40:16.950117Z"
    },
    "papermill": {
     "duration": 0.104382,
     "end_time": "2021-06-25T14:44:45.441922",
     "exception": false,
     "start_time": "2021-06-25T14:44:45.337540",
     "status": "completed"
    },
    "tags": []
   },
   "outputs": [
    {
     "data": {
      "text/html": [
       "<div>\n",
       "<style scoped>\n",
       "    .dataframe tbody tr th:only-of-type {\n",
       "        vertical-align: middle;\n",
       "    }\n",
       "\n",
       "    .dataframe tbody tr th {\n",
       "        vertical-align: top;\n",
       "    }\n",
       "\n",
       "    .dataframe thead th {\n",
       "        text-align: right;\n",
       "    }\n",
       "</style>\n",
       "<table border=\"1\" class=\"dataframe\">\n",
       "  <thead>\n",
       "    <tr style=\"text-align: right;\">\n",
       "      <th></th>\n",
       "      <th>fist</th>\n",
       "    </tr>\n",
       "  </thead>\n",
       "  <tbody>\n",
       "    <tr>\n",
       "      <th>a</th>\n",
       "      <td>NaN</td>\n",
       "    </tr>\n",
       "    <tr>\n",
       "      <th>b</th>\n",
       "      <td>NaN</td>\n",
       "    </tr>\n",
       "    <tr>\n",
       "      <th>c</th>\n",
       "      <td>NaN</td>\n",
       "    </tr>\n",
       "    <tr>\n",
       "      <th>d</th>\n",
       "      <td>NaN</td>\n",
       "    </tr>\n",
       "  </tbody>\n",
       "</table>\n",
       "</div>"
      ],
      "text/plain": [
       "  fist\n",
       "a  NaN\n",
       "b  NaN\n",
       "c  NaN\n",
       "d  NaN"
      ]
     },
     "execution_count": 20,
     "metadata": {},
     "output_type": "execute_result"
    }
   ],
   "source": [
    "pd.DataFrame(s,index=['a', 'b', 'c', 'd'], columns=['fist'])"
   ]
  },
  {
   "cell_type": "code",
   "execution_count": 21,
   "id": "clear-thriller",
   "metadata": {
    "execution": {
     "iopub.execute_input": "2021-06-25T14:44:45.632027Z",
     "iopub.status.busy": "2021-06-25T14:44:45.631350Z",
     "iopub.status.idle": "2021-06-25T14:44:45.634350Z",
     "shell.execute_reply": "2021-06-25T14:44:45.634827Z",
     "shell.execute_reply.started": "2021-06-25T14:40:16.96295Z"
    },
    "papermill": {
     "duration": 0.101469,
     "end_time": "2021-06-25T14:44:45.634990",
     "exception": false,
     "start_time": "2021-06-25T14:44:45.533521",
     "status": "completed"
    },
    "tags": []
   },
   "outputs": [
    {
     "data": {
      "text/html": [
       "<div>\n",
       "<style scoped>\n",
       "    .dataframe tbody tr th:only-of-type {\n",
       "        vertical-align: middle;\n",
       "    }\n",
       "\n",
       "    .dataframe tbody tr th {\n",
       "        vertical-align: top;\n",
       "    }\n",
       "\n",
       "    .dataframe thead th {\n",
       "        text-align: right;\n",
       "    }\n",
       "</style>\n",
       "<table border=\"1\" class=\"dataframe\">\n",
       "  <thead>\n",
       "    <tr style=\"text-align: right;\">\n",
       "      <th></th>\n",
       "      <th>vals</th>\n",
       "    </tr>\n",
       "  </thead>\n",
       "  <tbody>\n",
       "    <tr>\n",
       "      <th>0</th>\n",
       "      <td>lower</td>\n",
       "    </tr>\n",
       "    <tr>\n",
       "      <th>1</th>\n",
       "      <td>CAPITALS</td>\n",
       "    </tr>\n",
       "    <tr>\n",
       "      <th>2</th>\n",
       "      <td>this is a sentence</td>\n",
       "    </tr>\n",
       "    <tr>\n",
       "      <th>3</th>\n",
       "      <td>SwApCaSe</td>\n",
       "    </tr>\n",
       "  </tbody>\n",
       "</table>\n",
       "</div>"
      ],
      "text/plain": [
       "                 vals\n",
       "0               lower\n",
       "1            CAPITALS\n",
       "2  this is a sentence\n",
       "3            SwApCaSe"
      ]
     },
     "execution_count": 21,
     "metadata": {},
     "output_type": "execute_result"
    }
   ],
   "source": [
    "s.to_frame(name=\"vals\") # Convert Series to DataFrame"
   ]
  },
  {
   "cell_type": "markdown",
   "id": "matched-cooling",
   "metadata": {
    "papermill": {
     "duration": 0.094511,
     "end_time": "2021-06-25T14:44:45.819505",
     "exception": false,
     "start_time": "2021-06-25T14:44:45.724994",
     "status": "completed"
    },
    "tags": []
   },
   "source": []
  },
  {
   "cell_type": "code",
   "execution_count": 22,
   "id": "capable-vertex",
   "metadata": {
    "execution": {
     "iopub.execute_input": "2021-06-25T14:44:46.005741Z",
     "iopub.status.busy": "2021-06-25T14:44:46.004961Z",
     "iopub.status.idle": "2021-06-25T14:44:46.011806Z",
     "shell.execute_reply": "2021-06-25T14:44:46.011153Z",
     "shell.execute_reply.started": "2021-06-25T14:40:16.976974Z"
    },
    "papermill": {
     "duration": 0.101822,
     "end_time": "2021-06-25T14:44:46.011944",
     "exception": false,
     "start_time": "2021-06-25T14:44:45.910122",
     "status": "completed"
    },
    "tags": []
   },
   "outputs": [
    {
     "data": {
      "text/plain": [
       "{1, 2}"
      ]
     },
     "execution_count": 22,
     "metadata": {},
     "output_type": "execute_result"
    }
   ],
   "source": [
    "set([1,2])"
   ]
  },
  {
   "cell_type": "markdown",
   "id": "funny-aside",
   "metadata": {
    "papermill": {
     "duration": 0.091003,
     "end_time": "2021-06-25T14:44:46.195560",
     "exception": false,
     "start_time": "2021-06-25T14:44:46.104557",
     "status": "completed"
    },
    "tags": []
   },
   "source": [
    "# Stopwords-json"
   ]
  },
  {
   "cell_type": "code",
   "execution_count": 23,
   "id": "rough-office",
   "metadata": {
    "execution": {
     "iopub.execute_input": "2021-06-25T14:44:46.523721Z",
     "iopub.status.busy": "2021-06-25T14:44:46.522447Z",
     "iopub.status.idle": "2021-06-25T14:44:46.526054Z",
     "shell.execute_reply": "2021-06-25T14:44:46.526582Z",
     "shell.execute_reply.started": "2021-06-25T14:40:16.993327Z"
    },
    "papermill": {
     "duration": 0.239837,
     "end_time": "2021-06-25T14:44:46.526755",
     "exception": false,
     "start_time": "2021-06-25T14:44:46.286918",
     "status": "completed"
    },
    "tags": []
   },
   "outputs": [
    {
     "name": "stdout",
     "output_type": "stream",
     "text": [
      "From string.punctuation: !\"#$%&'()*+,-./:;<=>?@[\\]^_`{|}~\n",
      "['amiable', '43', 'y.o', 'gentleman', 'european', 'background', '170', 'cm', 'medium', 'build', 'employed', 'married', 'children', 'enjoys', 'sports', 'music', 'cafes', 'beach', 'c.', 'seeks', 'honest', 'attractive', 'lady', 'european', 'background', 'children', 'married', 'chil', 'dren', 'future', '29-39', 'y.o', 'prefer', 'non-smoker', 'living', 'adelaide']\n"
     ]
    }
   ],
   "source": [
    "from string import punctuation\n",
    "print('From string.punctuation:', punctuation)\n",
    "# stopwords_json existe dans https://github.com/6/stopwords-json/blob/master/stopwords-all.json\n",
    "stopwords_json = {\"en\":[\"a\",\"a's\",\"able\",\"about\",\"above\",\"according\",\"accordingly\",\"across\",\"actually\",\"after\",\"afterwards\",\"again\",\"against\",\"ain't\",\"all\",\"allow\",\"allows\",\"almost\",\"alone\",\"along\",\"already\",\"also\",\"although\",\"always\",\"am\",\"among\",\"amongst\",\"an\",\"and\",\"another\",\"any\",\"anybody\",\"anyhow\",\"anyone\",\"anything\",\"anyway\",\"anyways\",\"anywhere\",\"apart\",\"appear\",\"appreciate\",\"appropriate\",\"are\",\"aren't\",\"around\",\"as\",\"aside\",\"ask\",\"asking\",\"associated\",\"at\",\"available\",\"away\",\"awfully\",\"b\",\"be\",\"became\",\"because\",\"become\",\"becomes\",\"becoming\",\"been\",\"before\",\"beforehand\",\"behind\",\"being\",\"believe\",\"below\",\"beside\",\"besides\",\"best\",\"better\",\"between\",\"beyond\",\"both\",\"brief\",\"but\",\"by\",\"c\",\"c'mon\",\"c's\",\"came\",\"can\",\"can't\",\"cannot\",\"cant\",\"cause\",\"causes\",\"certain\",\"certainly\",\"changes\",\"clearly\",\"co\",\"com\",\"come\",\"comes\",\"concerning\",\"consequently\",\"consider\",\"considering\",\"contain\",\"containing\",\"contains\",\"corresponding\",\"could\",\"couldn't\",\"course\",\"currently\",\"d\",\"definitely\",\"described\",\"despite\",\"did\",\"didn't\",\"different\",\"do\",\"does\",\"doesn't\",\"doing\",\"don't\",\"done\",\"down\",\"downwards\",\"during\",\"e\",\"each\",\"edu\",\"eg\",\"eight\",\"either\",\"else\",\"elsewhere\",\"enough\",\"entirely\",\"especially\",\"et\",\"etc\",\"even\",\"ever\",\"every\",\"everybody\",\"everyone\",\"everything\",\"everywhere\",\"ex\",\"exactly\",\"example\",\"except\",\"f\",\"far\",\"few\",\"fifth\",\"first\",\"five\",\"followed\",\"following\",\"follows\",\"for\",\"former\",\"formerly\",\"forth\",\"four\",\"from\",\"further\",\"furthermore\",\"g\",\"get\",\"gets\",\"getting\",\"given\",\"gives\",\"go\",\"goes\",\"going\",\"gone\",\"got\",\"gotten\",\"greetings\",\"h\",\"had\",\"hadn't\",\"happens\",\"hardly\",\"has\",\"hasn't\",\"have\",\"haven't\",\"having\",\"he\",\"he's\",\"hello\",\"help\",\"hence\",\"her\",\"here\",\"here's\",\"hereafter\",\"hereby\",\"herein\",\"hereupon\",\"hers\",\"herself\",\"hi\",\"him\",\"himself\",\"his\",\"hither\",\"hopefully\",\"how\",\"howbeit\",\"however\",\"i\",\"i'd\",\"i'll\",\"i'm\",\"i've\",\"ie\",\"if\",\"ignored\",\"immediate\",\"in\",\"inasmuch\",\"inc\",\"indeed\",\"indicate\",\"indicated\",\"indicates\",\"inner\",\"insofar\",\"instead\",\"into\",\"inward\",\"is\",\"isn't\",\"it\",\"it'd\",\"it'll\",\"it's\",\"its\",\"itself\",\"j\",\"just\",\"k\",\"keep\",\"keeps\",\"kept\",\"know\",\"known\",\"knows\",\"l\",\"last\",\"lately\",\"later\",\"latter\",\"latterly\",\"least\",\"less\",\"lest\",\"let\",\"let's\",\"like\",\"liked\",\"likely\",\"little\",\"look\",\"looking\",\"looks\",\"ltd\",\"m\",\"mainly\",\"many\",\"may\",\"maybe\",\"me\",\"mean\",\"meanwhile\",\"merely\",\"might\",\"more\",\"moreover\",\"most\",\"mostly\",\"much\",\"must\",\"my\",\"myself\",\"n\",\"name\",\"namely\",\"nd\",\"near\",\"nearly\",\"necessary\",\"need\",\"needs\",\"neither\",\"never\",\"nevertheless\",\"new\",\"next\",\"nine\",\"no\",\"nobody\",\"non\",\"none\",\"noone\",\"nor\",\"normally\",\"not\",\"nothing\",\"novel\",\"now\",\"nowhere\",\"o\",\"obviously\",\"of\",\"off\",\"often\",\"oh\",\"ok\",\"okay\",\"old\",\"on\",\"once\",\"one\",\"ones\",\"only\",\"onto\",\"or\",\"other\",\"others\",\"otherwise\",\"ought\",\"our\",\"ours\",\"ourselves\",\"out\",\"outside\",\"over\",\"overall\",\"own\",\"p\",\"particular\",\"particularly\",\"per\",\"perhaps\",\"placed\",\"please\",\"plus\",\"possible\",\"presumably\",\"probably\",\"provides\",\"q\",\"que\",\"quite\",\"qv\",\"r\",\"rather\",\"rd\",\"re\",\"really\",\"reasonably\",\"regarding\",\"regardless\",\"regards\",\"relatively\",\"respectively\",\"right\",\"s\",\"said\",\"same\",\"saw\",\"say\",\"saying\",\"says\",\"second\",\"secondly\",\"see\",\"seeing\",\"seem\",\"seemed\",\"seeming\",\"seems\",\"seen\",\"self\",\"selves\",\"sensible\",\"sent\",\"serious\",\"seriously\",\"seven\",\"several\",\"shall\",\"she\",\"should\",\"shouldn't\",\"since\",\"six\",\"so\",\"some\",\"somebody\",\"somehow\",\"someone\",\"something\",\"sometime\",\"sometimes\",\"somewhat\",\"somewhere\",\"soon\",\"sorry\",\"specified\",\"specify\",\"specifying\",\"still\",\"sub\",\"such\",\"sup\",\"sure\",\"t\",\"t's\",\"take\",\"taken\",\"tell\",\"tends\",\"th\",\"than\",\"thank\",\"thanks\",\"thanx\",\"that\",\"that's\",\"thats\",\"the\",\"their\",\"theirs\",\"them\",\"themselves\",\"then\",\"thence\",\"there\",\"there's\",\"thereafter\",\"thereby\",\"therefore\",\"therein\",\"theres\",\"thereupon\",\"these\",\"they\",\"they'd\",\"they'll\",\"they're\",\"they've\",\"think\",\"third\",\"this\",\"thorough\",\"thoroughly\",\"those\",\"though\",\"three\",\"through\",\"throughout\",\"thru\",\"thus\",\"to\",\"together\",\"too\",\"took\",\"toward\",\"towards\",\"tried\",\"tries\",\"truly\",\"try\",\"trying\",\"twice\",\"two\",\"u\",\"un\",\"under\",\"unfortunately\",\"unless\",\"unlikely\",\"until\",\"unto\",\"up\",\"upon\",\"us\",\"use\",\"used\",\"useful\",\"uses\",\"using\",\"usually\",\"uucp\",\"v\",\"value\",\"various\",\"very\",\"via\",\"viz\",\"vs\",\"w\",\"want\",\"wants\",\"was\",\"wasn't\",\"way\",\"we\",\"we'd\",\"we'll\",\"we're\",\"we've\",\"welcome\",\"well\",\"went\",\"were\",\"weren't\",\"what\",\"what's\",\"whatever\",\"when\",\"whence\",\"whenever\",\"where\",\"where's\",\"whereafter\",\"whereas\",\"whereby\",\"wherein\",\"whereupon\",\"wherever\",\"whether\",\"which\",\"while\",\"whither\",\"who\",\"who's\",\"whoever\",\"whole\",\"whom\",\"whose\",\"why\",\"will\",\"willing\",\"wish\",\"with\",\"within\",\"without\",\"won't\",\"wonder\",\"would\",\"wouldn't\",\"x\",\"y\",\"yes\",\"yet\",\"you\",\"you'd\",\"you'll\",\"you're\",\"you've\",\"your\",\"yours\",\"yourself\",\"yourselves\",\"z\",\"zero\"]}\n",
    "stopwords_json_en = set(stopwords_json['en'])\n",
    "stopwords_nltk_en = set(stopwords_en)\n",
    "\n",
    "stopwords_punct = set(punctuation)\n",
    "stoplist=set.union(stopwords_nltk_en,stopwords_punct,stopwords_json_en)\n",
    "\n",
    "print([word for word in sentence_lowered_tokenized if word not in stoplist])"
   ]
  },
  {
   "cell_type": "markdown",
   "id": "julian-container",
   "metadata": {
    "papermill": {
     "duration": 0.091169,
     "end_time": "2021-06-25T14:44:46.709578",
     "exception": false,
     "start_time": "2021-06-25T14:44:46.618409",
     "status": "completed"
    },
    "tags": []
   },
   "source": [
    "# Stemming and Lemmatization"
   ]
  },
  {
   "cell_type": "code",
   "execution_count": 24,
   "id": "grand-benefit",
   "metadata": {
    "execution": {
     "iopub.execute_input": "2021-06-25T14:44:46.899383Z",
     "iopub.status.busy": "2021-06-25T14:44:46.898639Z",
     "iopub.status.idle": "2021-06-25T14:44:46.902002Z",
     "shell.execute_reply": "2021-06-25T14:44:46.902508Z",
     "shell.execute_reply.started": "2021-06-25T14:40:17.136601Z"
    },
    "papermill": {
     "duration": 0.100898,
     "end_time": "2021-06-25T14:44:46.902669",
     "exception": false,
     "start_time": "2021-06-25T14:44:46.801771",
     "status": "completed"
    },
    "tags": []
   },
   "outputs": [
    {
     "name": "stdout",
     "output_type": "stream",
     "text": [
      "['go', 'go', 'gone', 'went']\n"
     ]
    }
   ],
   "source": [
    "from nltk.stem import PorterStemmer\n",
    "stemmer=PorterStemmer()\n",
    "print([stemmer.stem(word) for word in ['go','going','gone','went']])"
   ]
  },
  {
   "cell_type": "code",
   "execution_count": 25,
   "id": "indonesian-fireplace",
   "metadata": {
    "execution": {
     "iopub.execute_input": "2021-06-25T14:44:47.093653Z",
     "iopub.status.busy": "2021-06-25T14:44:47.092890Z",
     "iopub.status.idle": "2021-06-25T14:44:49.213901Z",
     "shell.execute_reply": "2021-06-25T14:44:49.212649Z",
     "shell.execute_reply.started": "2021-06-25T14:40:17.146719Z"
    },
    "papermill": {
     "duration": 2.219511,
     "end_time": "2021-06-25T14:44:49.214058",
     "exception": false,
     "start_time": "2021-06-25T14:44:46.994547",
     "status": "completed"
    },
    "tags": []
   },
   "outputs": [
    {
     "name": "stdout",
     "output_type": "stream",
     "text": [
      "['go', 'going', 'gone', 'went']\n"
     ]
    }
   ],
   "source": [
    "from nltk.stem import WordNetLemmatizer\n",
    "lemmatizer=WordNetLemmatizer()\n",
    "print([lemmatizer.lemmatize(word) for word in ['go','going','gone','went']])"
   ]
  },
  {
   "cell_type": "markdown",
   "id": "progressive-evidence",
   "metadata": {
    "papermill": {
     "duration": 0.091874,
     "end_time": "2021-06-25T14:44:49.398461",
     "exception": false,
     "start_time": "2021-06-25T14:44:49.306587",
     "status": "completed"
    },
    "tags": []
   },
   "source": [
    "# nltk.pos_tag"
   ]
  },
  {
   "cell_type": "markdown",
   "id": "crude-relief",
   "metadata": {
    "papermill": {
     "duration": 0.093531,
     "end_time": "2021-06-25T14:44:49.584564",
     "exception": false,
     "start_time": "2021-06-25T14:44:49.491033",
     "status": "completed"
    },
    "tags": []
   },
   "source": [
    "By default, the WordNetLemmatizer.lemmatize() function will assume that the word is a Noun if there's no explict POS tag in the input.\n",
    "IF so it won't give us what we want\n",
    "so we need to"
   ]
  },
  {
   "cell_type": "code",
   "execution_count": 26,
   "id": "taken-colombia",
   "metadata": {
    "execution": {
     "iopub.execute_input": "2021-06-25T14:44:49.780163Z",
     "iopub.status.busy": "2021-06-25T14:44:49.779392Z",
     "iopub.status.idle": "2021-06-25T14:44:49.931115Z",
     "shell.execute_reply": "2021-06-25T14:44:49.931606Z",
     "shell.execute_reply.started": "2021-06-25T14:40:19.217343Z"
    },
    "papermill": {
     "duration": 0.253919,
     "end_time": "2021-06-25T14:44:49.931788",
     "exception": false,
     "start_time": "2021-06-25T14:44:49.677869",
     "status": "completed"
    },
    "tags": []
   },
   "outputs": [
    {
     "data": {
      "text/plain": [
       "[('went', 'VBD'), ('go', 'VB'), ('gone', 'VBN'), ('going', 'VBG')]"
      ]
     },
     "execution_count": 26,
     "metadata": {},
     "output_type": "execute_result"
    }
   ],
   "source": [
    "from nltk.corpus import wordnet\n",
    "sentence= \"Yesterday I went to school by foot\"\n",
    "sentence1= \"went go gone going\"\n",
    "nltk_tagged = nltk.pos_tag(nltk.word_tokenize(sentence1)) #returns a tuple of (word, tg)\n",
    "\n",
    "nltk_tagged # tg is ntlk_tag"
   ]
  },
  {
   "cell_type": "code",
   "execution_count": 27,
   "id": "conceptual-sampling",
   "metadata": {
    "execution": {
     "iopub.execute_input": "2021-06-25T14:44:50.122383Z",
     "iopub.status.busy": "2021-06-25T14:44:50.121392Z",
     "iopub.status.idle": "2021-06-25T14:44:50.129708Z",
     "shell.execute_reply": "2021-06-25T14:44:50.130206Z",
     "shell.execute_reply.started": "2021-06-25T14:40:19.350602Z"
    },
    "papermill": {
     "duration": 0.105474,
     "end_time": "2021-06-25T14:44:50.130381",
     "exception": false,
     "start_time": "2021-06-25T14:44:50.024907",
     "status": "completed"
    },
    "tags": []
   },
   "outputs": [
    {
     "data": {
      "text/plain": [
       "['go', 'go', 'go', 'go']"
      ]
     },
     "execution_count": 27,
     "metadata": {},
     "output_type": "execute_result"
    }
   ],
   "source": [
    "def penn2morphy(penntag):\n",
    "    \"\"\" Converts Penn Treebank tags to WordNet. \"\"\"\n",
    "    morphy_tag = {'NN':'n', 'JJ':'a',\n",
    "                  'VB':'v', 'RB':'r'}\n",
    "    try:\n",
    "        return morphy_tag[penntag[:2]]\n",
    "    except:\n",
    "        return 'n' # if mapping isn't found, fall back to Noun.\n",
    "\n",
    "    \n",
    "[lemmatizer.lemmatize(word.lower(), pos=penn2morphy(tag)) for word, tag in nltk_tagged]"
   ]
  },
  {
   "cell_type": "markdown",
   "id": "thrown-prairie",
   "metadata": {
    "papermill": {
     "duration": 0.094292,
     "end_time": "2021-06-25T14:44:50.316694",
     "exception": false,
     "start_time": "2021-06-25T14:44:50.222402",
     "status": "completed"
    },
    "tags": []
   },
   "source": [
    "# Un autre exemple"
   ]
  },
  {
   "cell_type": "code",
   "execution_count": 28,
   "id": "successful-ratio",
   "metadata": {
    "execution": {
     "iopub.execute_input": "2021-06-25T14:44:50.506477Z",
     "iopub.status.busy": "2021-06-25T14:44:50.505469Z",
     "iopub.status.idle": "2021-06-25T14:44:50.514610Z",
     "shell.execute_reply": "2021-06-25T14:44:50.513894Z",
     "shell.execute_reply.started": "2021-06-25T14:40:19.360192Z"
    },
    "papermill": {
     "duration": 0.105464,
     "end_time": "2021-06-25T14:44:50.514755",
     "exception": false,
     "start_time": "2021-06-25T14:44:50.409291",
     "status": "completed"
    },
    "tags": []
   },
   "outputs": [
    {
     "data": {
      "text/plain": [
       "['i', 'be', 'go', 'to', 'tell', 'you', 'anyway']"
      ]
     },
     "execution_count": 28,
     "metadata": {},
     "output_type": "execute_result"
    }
   ],
   "source": [
    "def lemmatize_sent(text): \n",
    "    # Text input is string, returns lowercased strings.\n",
    "    return [lemmatizer.lemmatize(word.lower(), pos=penn2morphy(tag)) \n",
    "            for word, tag in nltk.pos_tag(word_tokenize(text))]\n",
    "\n",
    "lemmatize_sent('I was going to tell you anyway')"
   ]
  },
  {
   "cell_type": "markdown",
   "id": "confident-editing",
   "metadata": {
    "papermill": {
     "duration": 0.092515,
     "end_time": "2021-06-25T14:44:50.701106",
     "exception": false,
     "start_time": "2021-06-25T14:44:50.608591",
     "status": "completed"
    },
    "tags": []
   },
   "source": [
    "# Let's do all of this to sentence single_no9"
   ]
  },
  {
   "cell_type": "code",
   "execution_count": 29,
   "id": "amino-complement",
   "metadata": {
    "execution": {
     "iopub.execute_input": "2021-06-25T14:44:50.931855Z",
     "iopub.status.busy": "2021-06-25T14:44:50.930943Z",
     "iopub.status.idle": "2021-06-25T14:44:50.934433Z",
     "shell.execute_reply": "2021-06-25T14:44:50.934938Z",
     "shell.execute_reply.started": "2021-06-25T14:40:19.377405Z"
    },
    "papermill": {
     "duration": 0.12562,
     "end_time": "2021-06-25T14:44:50.935122",
     "exception": false,
     "start_time": "2021-06-25T14:44:50.809502",
     "status": "completed"
    },
    "tags": []
   },
   "outputs": [
    {
     "data": {
      "text/plain": [
       "['amiable', '43', 'y.o', 'gentleman', 'european']"
      ]
     },
     "execution_count": 29,
     "metadata": {},
     "output_type": "execute_result"
    }
   ],
   "source": [
    "def preprocessing(text):\n",
    "    stoplist_gen=set.union(stoplist,{'http'})\n",
    "    preproccessed_text=[word for word in lemmatize_sent(text) if word not in stoplist_gen]\n",
    "    for word in preproccessed_text:\n",
    "        if '//t.co/' in word:\n",
    "            preproccessed_text.remove(word)\n",
    "    return(preproccessed_text)\n",
    "    \n",
    "single_no9_preprocessed=preprocessing(single_no9)\n",
    "single_no9_preprocessed[0:5]"
   ]
  },
  {
   "cell_type": "markdown",
   "id": "assigned-denial",
   "metadata": {
    "papermill": {
     "duration": 0.0952,
     "end_time": "2021-06-25T14:44:51.123695",
     "exception": false,
     "start_time": "2021-06-25T14:44:51.028495",
     "status": "completed"
    },
    "tags": []
   },
   "source": [
    "# CountVectorizer"
   ]
  },
  {
   "cell_type": "code",
   "execution_count": 30,
   "id": "strategic-picking",
   "metadata": {
    "execution": {
     "iopub.execute_input": "2021-06-25T14:44:51.316067Z",
     "iopub.status.busy": "2021-06-25T14:44:51.315117Z",
     "iopub.status.idle": "2021-06-25T14:44:51.336343Z",
     "shell.execute_reply": "2021-06-25T14:44:51.336850Z",
     "shell.execute_reply.started": "2021-06-25T14:40:19.395403Z"
    },
    "papermill": {
     "duration": 0.119836,
     "end_time": "2021-06-25T14:44:51.337026",
     "exception": false,
     "start_time": "2021-06-25T14:44:51.217190",
     "status": "completed"
    },
    "tags": []
   },
   "outputs": [
    {
     "name": "stdout",
     "output_type": "stream",
     "text": [
      "['The quick brown fox jumps over the lazy brown dog.', 'Mr brown jumps over the lazy fox.']\n",
      "['brown', 'dog', 'fox', 'jumps', 'lazy', 'mr', 'over', 'quick', 'the']\n"
     ]
    },
    {
     "data": {
      "text/html": [
       "<div>\n",
       "<style scoped>\n",
       "    .dataframe tbody tr th:only-of-type {\n",
       "        vertical-align: middle;\n",
       "    }\n",
       "\n",
       "    .dataframe tbody tr th {\n",
       "        vertical-align: top;\n",
       "    }\n",
       "\n",
       "    .dataframe thead th {\n",
       "        text-align: right;\n",
       "    }\n",
       "</style>\n",
       "<table border=\"1\" class=\"dataframe\">\n",
       "  <thead>\n",
       "    <tr style=\"text-align: right;\">\n",
       "      <th></th>\n",
       "      <th>brown</th>\n",
       "      <th>dog</th>\n",
       "      <th>fox</th>\n",
       "      <th>jumps</th>\n",
       "      <th>lazy</th>\n",
       "      <th>mr</th>\n",
       "      <th>over</th>\n",
       "      <th>quick</th>\n",
       "      <th>the</th>\n",
       "    </tr>\n",
       "  </thead>\n",
       "  <tbody>\n",
       "    <tr>\n",
       "      <th>0</th>\n",
       "      <td>2</td>\n",
       "      <td>1</td>\n",
       "      <td>1</td>\n",
       "      <td>1</td>\n",
       "      <td>1</td>\n",
       "      <td>0</td>\n",
       "      <td>1</td>\n",
       "      <td>1</td>\n",
       "      <td>2</td>\n",
       "    </tr>\n",
       "    <tr>\n",
       "      <th>1</th>\n",
       "      <td>1</td>\n",
       "      <td>0</td>\n",
       "      <td>1</td>\n",
       "      <td>1</td>\n",
       "      <td>1</td>\n",
       "      <td>1</td>\n",
       "      <td>1</td>\n",
       "      <td>0</td>\n",
       "      <td>1</td>\n",
       "    </tr>\n",
       "  </tbody>\n",
       "</table>\n",
       "</div>"
      ],
      "text/plain": [
       "   brown  dog  fox  jumps  lazy  mr  over  quick  the\n",
       "0      2    1    1      1     1   0     1      1    2\n",
       "1      1    0    1      1     1   1     1      0    1"
      ]
     },
     "execution_count": 30,
     "metadata": {},
     "output_type": "execute_result"
    }
   ],
   "source": [
    "from sklearn.feature_extraction.text import CountVectorizer\n",
    "import pandas as pd\n",
    "sent1 = \"The quick brown fox jumps over the lazy brown dog.\"\n",
    "sent2 = \"Mr brown jumps over the lazy fox.\"\n",
    "corpus=[sent1,sent2]\n",
    "print(corpus)\n",
    "vectorizer=CountVectorizer()\n",
    "doc_term_matrix=vectorizer.fit_transform(corpus)\n",
    "data=doc_term_matrix.toarray()\n",
    "print(vectorizer.get_feature_names())\n",
    "pd.DataFrame(data,columns=vectorizer.get_feature_names())\n",
    "\n"
   ]
  },
  {
   "cell_type": "code",
   "execution_count": 31,
   "id": "greater-reputation",
   "metadata": {
    "execution": {
     "iopub.execute_input": "2021-06-25T14:44:51.534559Z",
     "iopub.status.busy": "2021-06-25T14:44:51.532112Z",
     "iopub.status.idle": "2021-06-25T14:44:51.538877Z",
     "shell.execute_reply": "2021-06-25T14:44:51.538362Z",
     "shell.execute_reply.started": "2021-06-25T14:40:19.420582Z"
    },
    "papermill": {
     "duration": 0.105371,
     "end_time": "2021-06-25T14:44:51.539018",
     "exception": false,
     "start_time": "2021-06-25T14:44:51.433647",
     "status": "completed"
    },
    "tags": []
   },
   "outputs": [
    {
     "data": {
      "text/plain": [
       "15"
      ]
     },
     "execution_count": 31,
     "metadata": {},
     "output_type": "execute_result"
    }
   ],
   "source": [
    "doc_term_matrix.count_nonzero()"
   ]
  },
  {
   "cell_type": "markdown",
   "id": "stable-hepatitis",
   "metadata": {
    "papermill": {
     "duration": 0.093714,
     "end_time": "2021-06-25T14:44:51.728178",
     "exception": false,
     "start_time": "2021-06-25T14:44:51.634464",
     "status": "completed"
    },
    "tags": []
   },
   "source": []
  },
  {
   "cell_type": "code",
   "execution_count": 32,
   "id": "likely-thing",
   "metadata": {
    "execution": {
     "iopub.execute_input": "2021-06-25T14:44:51.925755Z",
     "iopub.status.busy": "2021-06-25T14:44:51.925001Z",
     "iopub.status.idle": "2021-06-25T14:44:51.929354Z",
     "shell.execute_reply": "2021-06-25T14:44:51.928638Z",
     "shell.execute_reply.started": "2021-06-25T14:40:19.427695Z"
    },
    "papermill": {
     "duration": 0.105289,
     "end_time": "2021-06-25T14:44:51.929496",
     "exception": false,
     "start_time": "2021-06-25T14:44:51.824207",
     "status": "completed"
    },
    "tags": []
   },
   "outputs": [
    {
     "data": {
      "text/plain": [
       "array([[2, 1, 1, 1, 1, 0, 1, 1, 2],\n",
       "       [1, 0, 1, 1, 1, 1, 1, 0, 1]])"
      ]
     },
     "execution_count": 32,
     "metadata": {},
     "output_type": "execute_result"
    }
   ],
   "source": [
    "sparse_matrix=vectorizer.transform([sent1, sent2])\n",
    "\n",
    "sparse_matrix.toarray()"
   ]
  },
  {
   "cell_type": "markdown",
   "id": "identified-bread",
   "metadata": {
    "papermill": {
     "duration": 0.098248,
     "end_time": "2021-06-25T14:44:52.123691",
     "exception": false,
     "start_time": "2021-06-25T14:44:52.025443",
     "status": "completed"
    },
    "tags": []
   },
   "source": [
    "#  Preprocessing && Vectorizing a Dataset of Sentiment Analysis"
   ]
  },
  {
   "cell_type": "markdown",
   "id": "worth-sharing",
   "metadata": {
    "papermill": {
     "duration": 0.095144,
     "end_time": "2021-06-25T14:44:52.315455",
     "exception": false,
     "start_time": "2021-06-25T14:44:52.220311",
     "status": "completed"
    },
    "tags": []
   },
   "source": [
    "Dataset : fichier train :\"training.json\"\n",
    "          fichier test  :\"develop.json\"\n",
    "Analyse-des-sentiments-des-Tweets en 3 classes : neg--> -1 pos-->1 neutre-->0"
   ]
  },
  {
   "cell_type": "code",
   "execution_count": 33,
   "id": "widespread-argument",
   "metadata": {
    "execution": {
     "iopub.execute_input": "2021-06-25T14:44:52.512453Z",
     "iopub.status.busy": "2021-06-25T14:44:52.511462Z",
     "iopub.status.idle": "2021-06-25T14:44:52.514659Z",
     "shell.execute_reply": "2021-06-25T14:44:52.514002Z",
     "shell.execute_reply.started": "2021-06-25T14:40:19.43979Z"
    },
    "papermill": {
     "duration": 0.10432,
     "end_time": "2021-06-25T14:44:52.514797",
     "exception": false,
     "start_time": "2021-06-25T14:44:52.410477",
     "status": "completed"
    },
    "tags": []
   },
   "outputs": [],
   "source": [
    "def preprocess_file(filename):\n",
    "    tweets = []\n",
    "    labels = []\n",
    "    f = open(filename)\n",
    "    for line in f:\n",
    "        tweet_dict = json.loads(line)\n",
    "        #print(tweet_dict)\n",
    "        tweets.append(preprocessing(tweet_dict[\"text\"]))\n",
    "        labels.append(int(tweet_dict[\"label\"]))\n",
    "    return tweets,labels\n"
   ]
  },
  {
   "cell_type": "code",
   "execution_count": 34,
   "id": "recovered-moldova",
   "metadata": {
    "execution": {
     "iopub.execute_input": "2021-06-25T14:44:52.709073Z",
     "iopub.status.busy": "2021-06-25T14:44:52.708460Z",
     "iopub.status.idle": "2021-06-25T14:45:26.592586Z",
     "shell.execute_reply": "2021-06-25T14:45:26.593068Z",
     "shell.execute_reply.started": "2021-06-25T14:40:19.449967Z"
    },
    "papermill": {
     "duration": 33.983734,
     "end_time": "2021-06-25T14:45:26.593336",
     "exception": false,
     "start_time": "2021-06-25T14:44:52.609602",
     "status": "completed"
    },
    "tags": []
   },
   "outputs": [],
   "source": [
    "import json\n",
    "train_data = preprocess_file('../input/dataset-analyse-des-sentiments/training.json')\n",
    "train_data=pd.DataFrame({\"tweets\":train_data[0],\"labels\":train_data[1]})"
   ]
  },
  {
   "cell_type": "code",
   "execution_count": 35,
   "id": "geological-uganda",
   "metadata": {
    "execution": {
     "iopub.execute_input": "2021-06-25T14:45:26.788454Z",
     "iopub.status.busy": "2021-06-25T14:45:26.787780Z",
     "iopub.status.idle": "2021-06-25T14:45:30.626785Z",
     "shell.execute_reply": "2021-06-25T14:45:30.625811Z",
     "shell.execute_reply.started": "2021-06-25T14:40:50.88853Z"
    },
    "papermill": {
     "duration": 3.938124,
     "end_time": "2021-06-25T14:45:30.626942",
     "exception": false,
     "start_time": "2021-06-25T14:45:26.688818",
     "status": "completed"
    },
    "tags": []
   },
   "outputs": [],
   "source": [
    "test_data = preprocess_file('../input/dataset-analyse-des-sentiments/develop.json')\n",
    "test_data=pd.DataFrame({\"tweets\":test_data[0],\"labels\":test_data[1]})"
   ]
  },
  {
   "cell_type": "code",
   "execution_count": 36,
   "id": "imported-colorado",
   "metadata": {
    "execution": {
     "iopub.execute_input": "2021-06-25T14:45:30.831443Z",
     "iopub.status.busy": "2021-06-25T14:45:30.830722Z",
     "iopub.status.idle": "2021-06-25T14:45:30.835041Z",
     "shell.execute_reply": "2021-06-25T14:45:30.834451Z",
     "shell.execute_reply.started": "2021-06-25T14:40:54.451778Z"
    },
    "papermill": {
     "duration": 0.111538,
     "end_time": "2021-06-25T14:45:30.835198",
     "exception": false,
     "start_time": "2021-06-25T14:45:30.723660",
     "status": "completed"
    },
    "tags": []
   },
   "outputs": [
    {
     "data": {
      "text/html": [
       "<div>\n",
       "<style scoped>\n",
       "    .dataframe tbody tr th:only-of-type {\n",
       "        vertical-align: middle;\n",
       "    }\n",
       "\n",
       "    .dataframe tbody tr th {\n",
       "        vertical-align: top;\n",
       "    }\n",
       "\n",
       "    .dataframe thead th {\n",
       "        text-align: right;\n",
       "    }\n",
       "</style>\n",
       "<table border=\"1\" class=\"dataframe\">\n",
       "  <thead>\n",
       "    <tr style=\"text-align: right;\">\n",
       "      <th></th>\n",
       "      <th>tweets</th>\n",
       "      <th>labels</th>\n",
       "    </tr>\n",
       "  </thead>\n",
       "  <tbody>\n",
       "    <tr>\n",
       "      <th>0</th>\n",
       "      <td>[dear, microsoft, newooffice, mac, great, lync...</td>\n",
       "      <td>-1</td>\n",
       "    </tr>\n",
       "    <tr>\n",
       "      <th>1</th>\n",
       "      <td>[microsoft, make, system, n't, eat, friggin, d...</td>\n",
       "      <td>-1</td>\n",
       "    </tr>\n",
       "    <tr>\n",
       "      <th>2</th>\n",
       "      <td>[make, game, windows10, universal, app, xboxon...</td>\n",
       "      <td>0</td>\n",
       "    </tr>\n",
       "    <tr>\n",
       "      <th>3</th>\n",
       "      <td>[microsoft, prefer, game, branch, business, ma...</td>\n",
       "      <td>1</td>\n",
       "    </tr>\n",
       "    <tr>\n",
       "      <th>4</th>\n",
       "      <td>[mikewolf1980, microsoft, downgrade, windows10...</td>\n",
       "      <td>-1</td>\n",
       "    </tr>\n",
       "  </tbody>\n",
       "</table>\n",
       "</div>"
      ],
      "text/plain": [
       "                                              tweets  labels\n",
       "0  [dear, microsoft, newooffice, mac, great, lync...      -1\n",
       "1  [microsoft, make, system, n't, eat, friggin, d...      -1\n",
       "2  [make, game, windows10, universal, app, xboxon...       0\n",
       "3  [microsoft, prefer, game, branch, business, ma...       1\n",
       "4  [mikewolf1980, microsoft, downgrade, windows10...      -1"
      ]
     },
     "execution_count": 36,
     "metadata": {},
     "output_type": "execute_result"
    }
   ],
   "source": [
    "train_data.head()"
   ]
  },
  {
   "cell_type": "code",
   "execution_count": 37,
   "id": "respected-thriller",
   "metadata": {
    "execution": {
     "iopub.execute_input": "2021-06-25T14:45:31.047701Z",
     "iopub.status.busy": "2021-06-25T14:45:31.046719Z",
     "iopub.status.idle": "2021-06-25T14:45:31.049854Z",
     "shell.execute_reply": "2021-06-25T14:45:31.050374Z",
     "shell.execute_reply.started": "2021-06-25T14:40:54.463979Z"
    },
    "papermill": {
     "duration": 0.112955,
     "end_time": "2021-06-25T14:45:31.050562",
     "exception": false,
     "start_time": "2021-06-25T14:45:30.937607",
     "status": "completed"
    },
    "tags": []
   },
   "outputs": [
    {
     "data": {
      "text/plain": [
       "0        [dear, microsoft, newooffice, mac, great, lync...\n",
       "1        [microsoft, make, system, n't, eat, friggin, d...\n",
       "2        [make, game, windows10, universal, app, xboxon...\n",
       "3        [microsoft, prefer, game, branch, business, ma...\n",
       "4        [mikewolf1980, microsoft, downgrade, windows10...\n",
       "                               ...                        \n",
       "16800    [web, youtube, improve, upload, process, optio...\n",
       "16801    [gon, na, change, tumblr, theme, hope, finish,...\n",
       "16802    ['m, jealous, justin, bieber, concert, worry, ...\n",
       "16803    [jim, harbaugh, alex, smith, drive, giant, wor...\n",
       "16804    [trending, tim, tebow, date, cave, woman, 10,0...\n",
       "Name: tweets, Length: 16805, dtype: object"
      ]
     },
     "execution_count": 37,
     "metadata": {},
     "output_type": "execute_result"
    }
   ],
   "source": [
    "train_data['tweets']\n"
   ]
  },
  {
   "cell_type": "code",
   "execution_count": 38,
   "id": "listed-bhutan",
   "metadata": {
    "execution": {
     "iopub.execute_input": "2021-06-25T14:45:31.247493Z",
     "iopub.status.busy": "2021-06-25T14:45:31.246844Z",
     "iopub.status.idle": "2021-06-25T14:45:31.259338Z",
     "shell.execute_reply": "2021-06-25T14:45:31.258622Z",
     "shell.execute_reply.started": "2021-06-25T14:40:54.479604Z"
    },
    "papermill": {
     "duration": 0.110799,
     "end_time": "2021-06-25T14:45:31.259483",
     "exception": false,
     "start_time": "2021-06-25T14:45:31.148684",
     "status": "completed"
    },
    "tags": []
   },
   "outputs": [
    {
     "data": {
      "text/html": [
       "<div>\n",
       "<style scoped>\n",
       "    .dataframe tbody tr th:only-of-type {\n",
       "        vertical-align: middle;\n",
       "    }\n",
       "\n",
       "    .dataframe tbody tr th {\n",
       "        vertical-align: top;\n",
       "    }\n",
       "\n",
       "    .dataframe thead th {\n",
       "        text-align: right;\n",
       "    }\n",
       "</style>\n",
       "<table border=\"1\" class=\"dataframe\">\n",
       "  <thead>\n",
       "    <tr style=\"text-align: right;\">\n",
       "      <th></th>\n",
       "      <th>tweets</th>\n",
       "      <th>labels</th>\n",
       "    </tr>\n",
       "  </thead>\n",
       "  <tbody>\n",
       "    <tr>\n",
       "      <th>0</th>\n",
       "      <td>[05, beat, michael, jackson, thriller, 25th, a...</td>\n",
       "      <td>0</td>\n",
       "    </tr>\n",
       "    <tr>\n",
       "      <th>1</th>\n",
       "      <td>[jay, join, instagram, nostalgic, tribute, mic...</td>\n",
       "      <td>1</td>\n",
       "    </tr>\n",
       "    <tr>\n",
       "      <th>2</th>\n",
       "      <td>[michael, jackson, bad, 25th, anniversary, edi...</td>\n",
       "      <td>0</td>\n",
       "    </tr>\n",
       "    <tr>\n",
       "      <th>3</th>\n",
       "      <td>[18th, anniv, princess, diana, 's, death, live...</td>\n",
       "      <td>1</td>\n",
       "    </tr>\n",
       "    <tr>\n",
       "      <th>4</th>\n",
       "      <td>[oridaganjazz, 1st, time, hear, michael, jacks...</td>\n",
       "      <td>1</td>\n",
       "    </tr>\n",
       "  </tbody>\n",
       "</table>\n",
       "</div>"
      ],
      "text/plain": [
       "                                              tweets  labels\n",
       "0  [05, beat, michael, jackson, thriller, 25th, a...       0\n",
       "1  [jay, join, instagram, nostalgic, tribute, mic...       1\n",
       "2  [michael, jackson, bad, 25th, anniversary, edi...       0\n",
       "3  [18th, anniv, princess, diana, 's, death, live...       1\n",
       "4  [oridaganjazz, 1st, time, hear, michael, jacks...       1"
      ]
     },
     "execution_count": 38,
     "metadata": {},
     "output_type": "execute_result"
    }
   ],
   "source": [
    "test_data.head()"
   ]
  },
  {
   "cell_type": "code",
   "execution_count": 39,
   "id": "pursuant-summit",
   "metadata": {
    "execution": {
     "iopub.execute_input": "2021-06-25T14:45:31.459578Z",
     "iopub.status.busy": "2021-06-25T14:45:31.458813Z",
     "iopub.status.idle": "2021-06-25T14:45:31.461863Z",
     "shell.execute_reply": "2021-06-25T14:45:31.462347Z",
     "shell.execute_reply.started": "2021-06-25T14:40:54.495643Z"
    },
    "papermill": {
     "duration": 0.105558,
     "end_time": "2021-06-25T14:45:31.462533",
     "exception": false,
     "start_time": "2021-06-25T14:45:31.356975",
     "status": "completed"
    },
    "tags": []
   },
   "outputs": [
    {
     "data": {
      "text/plain": [
       "['trending',\n",
       " 'tim',\n",
       " 'tebow',\n",
       " 'date',\n",
       " 'cave',\n",
       " 'woman',\n",
       " '10,000',\n",
       " 'bc',\n",
       " '1st',\n",
       " 'date',\n",
       " 'question',\n",
       " '``',\n",
       " 'time',\n",
       " 'jesus',\n",
       " \"''\",\n",
       " 'tebowmania']"
      ]
     },
     "execution_count": 39,
     "metadata": {},
     "output_type": "execute_result"
    }
   ],
   "source": [
    "train_data.iloc[16804,0]"
   ]
  },
  {
   "cell_type": "code",
   "execution_count": 40,
   "id": "nuclear-tattoo",
   "metadata": {
    "execution": {
     "iopub.execute_input": "2021-06-25T14:45:31.661470Z",
     "iopub.status.busy": "2021-06-25T14:45:31.660764Z",
     "iopub.status.idle": "2021-06-25T14:45:31.666278Z",
     "shell.execute_reply": "2021-06-25T14:45:31.666855Z",
     "shell.execute_reply.started": "2021-06-25T14:40:54.508313Z"
    },
    "papermill": {
     "duration": 0.106426,
     "end_time": "2021-06-25T14:45:31.667023",
     "exception": false,
     "start_time": "2021-06-25T14:45:31.560597",
     "status": "completed"
    },
    "tags": []
   },
   "outputs": [
    {
     "data": {
      "text/plain": [
       "['dear', 'microsoft', 'newooffice', 'mac', 'great', 'lync', 'update']"
      ]
     },
     "execution_count": 40,
     "metadata": {},
     "output_type": "execute_result"
    }
   ],
   "source": [
    "train_data.iloc[0,0]"
   ]
  },
  {
   "cell_type": "code",
   "execution_count": 41,
   "id": "variable-tennis",
   "metadata": {
    "execution": {
     "iopub.execute_input": "2021-06-25T14:45:31.867740Z",
     "iopub.status.busy": "2021-06-25T14:45:31.867030Z",
     "iopub.status.idle": "2021-06-25T14:45:31.872778Z",
     "shell.execute_reply": "2021-06-25T14:45:31.873317Z",
     "shell.execute_reply.started": "2021-06-25T14:40:54.518106Z"
    },
    "papermill": {
     "duration": 0.107598,
     "end_time": "2021-06-25T14:45:31.873520",
     "exception": false,
     "start_time": "2021-06-25T14:45:31.765922",
     "status": "completed"
    },
    "tags": []
   },
   "outputs": [
    {
     "data": {
      "text/plain": [
       "['innovation',\n",
       " 'job',\n",
       " 'corner',\n",
       " 'exact',\n",
       " 'wednesday',\n",
       " '8/19',\n",
       " 'microsoft',\n",
       " '//t.co/l2wozcwgrb']"
      ]
     },
     "execution_count": 41,
     "metadata": {},
     "output_type": "execute_result"
    }
   ],
   "source": [
    "train_data.iloc[12,0]"
   ]
  },
  {
   "cell_type": "code",
   "execution_count": 42,
   "id": "descending-inquiry",
   "metadata": {
    "execution": {
     "iopub.execute_input": "2021-06-25T14:45:32.072201Z",
     "iopub.status.busy": "2021-06-25T14:45:32.071475Z",
     "iopub.status.idle": "2021-06-25T14:45:32.077588Z",
     "shell.execute_reply": "2021-06-25T14:45:32.077032Z",
     "shell.execute_reply.started": "2021-06-25T14:40:54.529293Z"
    },
    "papermill": {
     "duration": 0.106436,
     "end_time": "2021-06-25T14:45:32.077724",
     "exception": false,
     "start_time": "2021-06-25T14:45:31.971288",
     "status": "completed"
    },
    "tags": []
   },
   "outputs": [
    {
     "data": {
      "text/plain": [
       "['shocking',\n",
       " 'moment',\n",
       " 'today',\n",
       " 'appleevent',\n",
       " 'microsoft',\n",
       " 'demo',\n",
       " 'ipadpro',\n",
       " '...',\n",
       " '..']"
      ]
     },
     "execution_count": 42,
     "metadata": {},
     "output_type": "execute_result"
    }
   ],
   "source": [
    "train_data.iloc[93,0]"
   ]
  },
  {
   "cell_type": "markdown",
   "id": "rough-partner",
   "metadata": {
    "papermill": {
     "duration": 0.096935,
     "end_time": "2021-06-25T14:45:32.273588",
     "exception": false,
     "start_time": "2021-06-25T14:45:32.176653",
     "status": "completed"
    },
    "tags": []
   },
   "source": [
    "# Data Visualization"
   ]
  },
  {
   "cell_type": "code",
   "execution_count": 43,
   "id": "moderate-stocks",
   "metadata": {
    "execution": {
     "iopub.execute_input": "2021-06-25T14:45:32.481795Z",
     "iopub.status.busy": "2021-06-25T14:45:32.480761Z",
     "iopub.status.idle": "2021-06-25T14:45:32.485333Z",
     "shell.execute_reply": "2021-06-25T14:45:32.484755Z",
     "shell.execute_reply.started": "2021-06-25T14:40:54.53945Z"
    },
    "papermill": {
     "duration": 0.114202,
     "end_time": "2021-06-25T14:45:32.485472",
     "exception": false,
     "start_time": "2021-06-25T14:45:32.371270",
     "status": "completed"
    },
    "tags": []
   },
   "outputs": [
    {
     "data": {
      "text/plain": [
       "0        Negative\n",
       "1        Negative\n",
       "2         Neutral\n",
       "3        Positive\n",
       "4        Negative\n",
       "           ...   \n",
       "16800     Neutral\n",
       "16801    Positive\n",
       "16802     Neutral\n",
       "16803     Neutral\n",
       "16804     Neutral\n",
       "Name: labels, Length: 16805, dtype: object"
      ]
     },
     "execution_count": 43,
     "metadata": {},
     "output_type": "execute_result"
    }
   ],
   "source": [
    "label_mapping={1:'Positive',-1:'Negative',0:'Neutral'}\n",
    "Y=train_data['labels'].map(label_mapping)\n",
    "Y"
   ]
  },
  {
   "cell_type": "code",
   "execution_count": 44,
   "id": "passive-medicine",
   "metadata": {
    "execution": {
     "iopub.execute_input": "2021-06-25T14:45:32.688751Z",
     "iopub.status.busy": "2021-06-25T14:45:32.688047Z",
     "iopub.status.idle": "2021-06-25T14:45:32.993323Z",
     "shell.execute_reply": "2021-06-25T14:45:32.993782Z",
     "shell.execute_reply.started": "2021-06-25T14:40:54.555Z"
    },
    "papermill": {
     "duration": 0.409385,
     "end_time": "2021-06-25T14:45:32.993956",
     "exception": false,
     "start_time": "2021-06-25T14:45:32.584571",
     "status": "completed"
    },
    "tags": []
   },
   "outputs": [
    {
     "data": {
      "image/png": "[encoded data removed]",
      "text/plain": [
       "<Figure size 504x432 with 1 Axes>"
      ]
     },
     "metadata": {},
     "output_type": "display_data"
    }
   ],
   "source": [
    "import seaborn as sns\n",
    "import matplotlib.pyplot as plt\n",
    "sns.set(font_scale=1.4)\n",
    "Y.value_counts(normalize=True).plot(kind='bar', figsize=(7, 6), rot=0)\n",
    "plt.xlabel(\"Sentiment Polarity\", labelpad=14)\n",
    "plt.ylabel(\"% of each category in the Dataset\", labelpad=14)\n",
    "plt.title(\"Distribution of tweets by polarity \", y=1.02);\n"
   ]
  },
  {
   "cell_type": "markdown",
   "id": "organic-heart",
   "metadata": {
    "papermill": {
     "duration": 0.099148,
     "end_time": "2021-06-25T14:45:33.195002",
     "exception": false,
     "start_time": "2021-06-25T14:45:33.095854",
     "status": "completed"
    },
    "tags": []
   },
   "source": [
    "# Resampling the unbalanced data"
   ]
  },
  {
   "cell_type": "code",
   "execution_count": 45,
   "id": "empty-blackjack",
   "metadata": {
    "execution": {
     "iopub.execute_input": "2021-06-25T14:45:33.400890Z",
     "iopub.status.busy": "2021-06-25T14:45:33.399889Z",
     "iopub.status.idle": "2021-06-25T14:45:33.419130Z",
     "shell.execute_reply": "2021-06-25T14:45:33.419641Z",
     "shell.execute_reply.started": "2021-06-25T14:40:54.829643Z"
    },
    "papermill": {
     "duration": 0.123279,
     "end_time": "2021-06-25T14:45:33.419834",
     "exception": false,
     "start_time": "2021-06-25T14:45:33.296555",
     "status": "completed"
    },
    "tags": []
   },
   "outputs": [],
   "source": [
    "from sklearn.utils import resample\n",
    "\n",
    "df_neg=(train_data[train_data[\"labels\"]==-1]).sample(n=2520,random_state=42)\n",
    "df_neu=(train_data[train_data[\"labels\"]==0]).sample(n=2520,random_state=42)\n",
    "df_pos=(train_data[train_data[\"labels\"]==1]).sample(n=2520,random_state=42)\n",
    "\n",
    "train_data=pd.concat([df_neg,df_neu,df_pos])"
   ]
  },
  {
   "cell_type": "markdown",
   "id": "partial-toilet",
   "metadata": {
    "papermill": {
     "duration": 0.103145,
     "end_time": "2021-06-25T14:45:33.623902",
     "exception": false,
     "start_time": "2021-06-25T14:45:33.520757",
     "status": "completed"
    },
    "tags": []
   },
   "source": [
    "# TF-IDF vectorization"
   ]
  },
  {
   "cell_type": "code",
   "execution_count": 46,
   "id": "timely-august",
   "metadata": {
    "execution": {
     "iopub.execute_input": "2021-06-25T14:45:33.829149Z",
     "iopub.status.busy": "2021-06-25T14:45:33.828166Z",
     "iopub.status.idle": "2021-06-25T14:45:33.996694Z",
     "shell.execute_reply": "2021-06-25T14:45:33.995828Z",
     "shell.execute_reply.started": "2021-06-25T14:40:54.847928Z"
    },
    "papermill": {
     "duration": 0.2732,
     "end_time": "2021-06-25T14:45:33.996838",
     "exception": false,
     "start_time": "2021-06-25T14:45:33.723638",
     "status": "completed"
    },
    "tags": []
   },
   "outputs": [
    {
     "data": {
      "text/plain": [
       "17209"
      ]
     },
     "execution_count": 46,
     "metadata": {},
     "output_type": "execute_result"
    }
   ],
   "source": [
    "from sklearn.feature_extraction.text import TfidfVectorizer\n",
    "\n",
    "\n",
    "def None_Function(doc):\n",
    "    return doc\n",
    "vectorizer = TfidfVectorizer(\n",
    "                             tokenizer=None_Function,\n",
    "                             preprocessor=None_Function,\n",
    "                             sublinear_tf = True,\n",
    "                             use_idf = True)\n",
    "train_vectors = vectorizer.fit_transform(train_data['tweets'])\n",
    "\n",
    "len(vectorizer.vocabulary_)\n"
   ]
  },
  {
   "cell_type": "code",
   "execution_count": 47,
   "id": "electrical-craft",
   "metadata": {
    "execution": {
     "iopub.execute_input": "2021-06-25T14:45:34.202876Z",
     "iopub.status.busy": "2021-06-25T14:45:34.202185Z",
     "iopub.status.idle": "2021-06-25T14:45:34.559396Z",
     "shell.execute_reply": "2021-06-25T14:45:34.558817Z",
     "shell.execute_reply.started": "2021-06-25T14:40:54.987289Z"
    },
    "papermill": {
     "duration": 0.461273,
     "end_time": "2021-06-25T14:45:34.559547",
     "exception": false,
     "start_time": "2021-06-25T14:45:34.098274",
     "status": "completed"
    },
    "tags": []
   },
   "outputs": [
    {
     "data": {
      "text/plain": [
       "array([[0.        , 0.        , 0.        , ..., 0.        , 0.        ,\n",
       "        0.        ],\n",
       "       [0.        , 0.        , 0.        , ..., 0.        , 0.        ,\n",
       "        0.        ],\n",
       "       [0.        , 0.        , 0.        , ..., 0.        , 0.        ,\n",
       "        0.        ],\n",
       "       ...,\n",
       "       [0.47367069, 0.        , 0.        , ..., 0.        , 0.        ,\n",
       "        0.        ],\n",
       "       [0.        , 0.        , 0.        , ..., 0.        , 0.        ,\n",
       "        0.        ],\n",
       "       [0.        , 0.        , 0.        , ..., 0.        , 0.        ,\n",
       "        0.        ]])"
      ]
     },
     "execution_count": 47,
     "metadata": {},
     "output_type": "execute_result"
    }
   ],
   "source": [
    "train_vectors.toarray()\n",
    "#pd.DataFrame(data,columns=vec.get_feature_names())"
   ]
  },
  {
   "cell_type": "code",
   "execution_count": 48,
   "id": "english-straight",
   "metadata": {
    "execution": {
     "iopub.execute_input": "2021-06-25T14:45:34.771513Z",
     "iopub.status.busy": "2021-06-25T14:45:34.770741Z",
     "iopub.status.idle": "2021-06-25T14:45:34.779708Z",
     "shell.execute_reply": "2021-06-25T14:45:34.780487Z",
     "shell.execute_reply.started": "2021-06-25T14:40:55.308454Z"
    },
    "papermill": {
     "duration": 0.119393,
     "end_time": "2021-06-25T14:45:34.780665",
     "exception": false,
     "start_time": "2021-06-25T14:45:34.661272",
     "status": "completed"
    },
    "tags": []
   },
   "outputs": [
    {
     "data": {
      "text/plain": [
       "79462"
      ]
     },
     "execution_count": 48,
     "metadata": {},
     "output_type": "execute_result"
    }
   ],
   "source": [
    "train_vectors.count_nonzero()"
   ]
  },
  {
   "cell_type": "code",
   "execution_count": 49,
   "id": "medical-campaign",
   "metadata": {
    "execution": {
     "iopub.execute_input": "2021-06-25T14:45:35.004717Z",
     "iopub.status.busy": "2021-06-25T14:45:35.004051Z",
     "iopub.status.idle": "2021-06-25T14:45:35.009175Z",
     "shell.execute_reply": "2021-06-25T14:45:35.009853Z",
     "shell.execute_reply.started": "2021-06-25T14:40:55.317394Z"
    },
    "papermill": {
     "duration": 0.109111,
     "end_time": "2021-06-25T14:45:35.010028",
     "exception": false,
     "start_time": "2021-06-25T14:45:34.900917",
     "status": "completed"
    },
    "tags": []
   },
   "outputs": [
    {
     "data": {
      "text/plain": [
       "(7560, 17209)"
      ]
     },
     "execution_count": 49,
     "metadata": {},
     "output_type": "execute_result"
    }
   ],
   "source": [
    "train_vectors.shape"
   ]
  },
  {
   "cell_type": "code",
   "execution_count": 50,
   "id": "western-newsletter",
   "metadata": {
    "execution": {
     "iopub.execute_input": "2021-06-25T14:45:35.215166Z",
     "iopub.status.busy": "2021-06-25T14:45:35.214525Z",
     "iopub.status.idle": "2021-06-25T14:45:35.312196Z",
     "shell.execute_reply": "2021-06-25T14:45:35.311478Z",
     "shell.execute_reply.started": "2021-06-25T14:40:55.327463Z"
    },
    "papermill": {
     "duration": 0.200088,
     "end_time": "2021-06-25T14:45:35.312352",
     "exception": false,
     "start_time": "2021-06-25T14:45:35.112264",
     "status": "completed"
    },
    "tags": []
   },
   "outputs": [
    {
     "data": {
      "text/plain": [
       "array([[0., 0., 0., ..., 0., 0., 0.],\n",
       "       [0., 0., 0., ..., 0., 0., 0.],\n",
       "       [0., 0., 0., ..., 0., 0., 0.],\n",
       "       ...,\n",
       "       [0., 0., 0., ..., 0., 0., 0.],\n",
       "       [0., 0., 0., ..., 0., 0., 0.],\n",
       "       [0., 0., 0., ..., 0., 0., 0.]])"
      ]
     },
     "execution_count": 50,
     "metadata": {},
     "output_type": "execute_result"
    }
   ],
   "source": [
    "test_vectors = vectorizer.transform(test_data['tweets'])\n",
    "test_vectors.toarray()"
   ]
  },
  {
   "cell_type": "code",
   "execution_count": 51,
   "id": "ancient-anxiety",
   "metadata": {
    "execution": {
     "iopub.execute_input": "2021-06-25T14:45:35.520554Z",
     "iopub.status.busy": "2021-06-25T14:45:35.519866Z",
     "iopub.status.idle": "2021-06-25T14:45:35.523460Z",
     "shell.execute_reply": "2021-06-25T14:45:35.523976Z",
     "shell.execute_reply.started": "2021-06-25T14:40:55.42371Z"
    },
    "papermill": {
     "duration": 0.110551,
     "end_time": "2021-06-25T14:45:35.524164",
     "exception": false,
     "start_time": "2021-06-25T14:45:35.413613",
     "status": "completed"
    },
    "tags": []
   },
   "outputs": [
    {
     "data": {
      "text/plain": [
       "15095"
      ]
     },
     "execution_count": 51,
     "metadata": {},
     "output_type": "execute_result"
    }
   ],
   "source": [
    "test_vectors.count_nonzero()"
   ]
  },
  {
   "cell_type": "code",
   "execution_count": 52,
   "id": "swiss-vegetarian",
   "metadata": {
    "execution": {
     "iopub.execute_input": "2021-06-25T14:45:35.731838Z",
     "iopub.status.busy": "2021-06-25T14:45:35.731166Z",
     "iopub.status.idle": "2021-06-25T14:45:35.733985Z",
     "shell.execute_reply": "2021-06-25T14:45:35.734715Z",
     "shell.execute_reply.started": "2021-06-25T14:40:55.430791Z"
    },
    "papermill": {
     "duration": 0.109505,
     "end_time": "2021-06-25T14:45:35.734976",
     "exception": false,
     "start_time": "2021-06-25T14:45:35.625471",
     "status": "completed"
    },
    "tags": []
   },
   "outputs": [
    {
     "data": {
      "text/plain": [
       "(1829, 17209)"
      ]
     },
     "execution_count": 52,
     "metadata": {},
     "output_type": "execute_result"
    }
   ],
   "source": [
    "test_vectors.shape"
   ]
  },
  {
   "cell_type": "code",
   "execution_count": 53,
   "id": "curious-disco",
   "metadata": {
    "execution": {
     "iopub.execute_input": "2021-06-25T14:45:35.949723Z",
     "iopub.status.busy": "2021-06-25T14:45:35.949017Z",
     "iopub.status.idle": "2021-06-25T14:45:35.954609Z",
     "shell.execute_reply": "2021-06-25T14:45:35.955245Z",
     "shell.execute_reply.started": "2021-06-25T14:40:55.44405Z"
    },
    "papermill": {
     "duration": 0.11291,
     "end_time": "2021-06-25T14:45:35.955427",
     "exception": false,
     "start_time": "2021-06-25T14:45:35.842517",
     "status": "completed"
    },
    "tags": []
   },
   "outputs": [
    {
     "data": {
      "text/plain": [
       "-1"
      ]
     },
     "execution_count": 53,
     "metadata": {},
     "output_type": "execute_result"
    }
   ],
   "source": [
    "train_tags=train_data['labels']\n",
    "train_tags[0]"
   ]
  },
  {
   "cell_type": "code",
   "execution_count": 54,
   "id": "facial-grammar",
   "metadata": {
    "execution": {
     "iopub.execute_input": "2021-06-25T14:45:36.164729Z",
     "iopub.status.busy": "2021-06-25T14:45:36.164126Z",
     "iopub.status.idle": "2021-06-25T14:45:36.168879Z",
     "shell.execute_reply": "2021-06-25T14:45:36.169455Z",
     "shell.execute_reply.started": "2021-06-25T14:40:55.454995Z"
    },
    "papermill": {
     "duration": 0.110149,
     "end_time": "2021-06-25T14:45:36.169622",
     "exception": false,
     "start_time": "2021-06-25T14:45:36.059473",
     "status": "completed"
    },
    "tags": []
   },
   "outputs": [
    {
     "data": {
      "text/plain": [
       "-1"
      ]
     },
     "execution_count": 54,
     "metadata": {},
     "output_type": "execute_result"
    }
   ],
   "source": [
    "train_tags.iloc[0]"
   ]
  },
  {
   "cell_type": "code",
   "execution_count": 55,
   "id": "emotional-corporation",
   "metadata": {
    "execution": {
     "iopub.execute_input": "2021-06-25T14:45:36.378437Z",
     "iopub.status.busy": "2021-06-25T14:45:36.377779Z",
     "iopub.status.idle": "2021-06-25T14:45:36.462361Z",
     "shell.execute_reply": "2021-06-25T14:45:36.462951Z",
     "shell.execute_reply.started": "2021-06-25T14:40:55.466079Z"
    },
    "papermill": {
     "duration": 0.191085,
     "end_time": "2021-06-25T14:45:36.463138",
     "exception": false,
     "start_time": "2021-06-25T14:45:36.272053",
     "status": "completed"
    },
    "tags": []
   },
   "outputs": [
    {
     "data": {
      "text/plain": [
       "array([[-1],\n",
       "       [-1],\n",
       "       [-1],\n",
       "       ...,\n",
       "       [ 1],\n",
       "       [ 1],\n",
       "       [ 1]])"
      ]
     },
     "execution_count": 55,
     "metadata": {},
     "output_type": "execute_result"
    }
   ],
   "source": [
    "import numpy as np\n",
    "train_tags=np.array([[train_tags.iloc[i]] for i in range(len(train_tags))])\n",
    "train_tags"
   ]
  },
  {
   "cell_type": "code",
   "execution_count": 56,
   "id": "stainless-aging",
   "metadata": {
    "execution": {
     "iopub.execute_input": "2021-06-25T14:45:36.674572Z",
     "iopub.status.busy": "2021-06-25T14:45:36.673847Z",
     "iopub.status.idle": "2021-06-25T14:45:36.699890Z",
     "shell.execute_reply": "2021-06-25T14:45:36.700467Z",
     "shell.execute_reply.started": "2021-06-25T14:40:55.560583Z"
    },
    "papermill": {
     "duration": 0.133158,
     "end_time": "2021-06-25T14:45:36.700656",
     "exception": false,
     "start_time": "2021-06-25T14:45:36.567498",
     "status": "completed"
    },
    "tags": []
   },
   "outputs": [
    {
     "data": {
      "text/plain": [
       "array([[0],\n",
       "       [1],\n",
       "       [0],\n",
       "       ...,\n",
       "       [0],\n",
       "       [1],\n",
       "       [1]])"
      ]
     },
     "execution_count": 56,
     "metadata": {},
     "output_type": "execute_result"
    }
   ],
   "source": [
    "test_tags=test_data['labels']\n",
    "test_tags=np.array([[test_tags.iloc[i]] for i in range(len(test_tags))])\n",
    "test_tags"
   ]
  },
  {
   "cell_type": "markdown",
   "id": "sapphire-bryan",
   "metadata": {
    "papermill": {
     "duration": 0.104871,
     "end_time": "2021-06-25T14:45:36.909044",
     "exception": false,
     "start_time": "2021-06-25T14:45:36.804173",
     "status": "completed"
    },
    "tags": []
   },
   "source": [
    "# Classification\n",
    "# Naive Bayes"
   ]
  },
  {
   "cell_type": "code",
   "execution_count": 57,
   "id": "typical-fiction",
   "metadata": {
    "execution": {
     "iopub.execute_input": "2021-06-25T14:45:37.121708Z",
     "iopub.status.busy": "2021-06-25T14:45:37.121009Z",
     "iopub.status.idle": "2021-06-25T14:45:37.141351Z",
     "shell.execute_reply": "2021-06-25T14:45:37.142537Z",
     "shell.execute_reply.started": "2021-06-25T14:40:55.587333Z"
    },
    "papermill": {
     "duration": 0.129519,
     "end_time": "2021-06-25T14:45:37.142770",
     "exception": false,
     "start_time": "2021-06-25T14:45:37.013251",
     "status": "completed"
    },
    "tags": []
   },
   "outputs": [
    {
     "name": "stderr",
     "output_type": "stream",
     "text": [
      "/opt/conda/lib/python3.7/site-packages/sklearn/utils/validation.py:63: DataConversionWarning: A column-vector y was passed when a 1d array was expected. Please change the shape of y to (n_samples, ), for example using ravel().\n",
      "  return f(*args, **kwargs)\n"
     ]
    },
    {
     "data": {
      "text/plain": [
       "MultinomialNB()"
      ]
     },
     "execution_count": 57,
     "metadata": {},
     "output_type": "execute_result"
    }
   ],
   "source": [
    "from sklearn.naive_bayes import MultinomialNB\n",
    "clf = MultinomialNB() \n",
    "\n",
    "# To train the classifier, simple do \n",
    "clf.fit(train_vectors, train_tags) "
   ]
  },
  {
   "cell_type": "code",
   "execution_count": 58,
   "id": "female-hearing",
   "metadata": {
    "execution": {
     "iopub.execute_input": "2021-06-25T14:45:37.355787Z",
     "iopub.status.busy": "2021-06-25T14:45:37.355065Z",
     "iopub.status.idle": "2021-06-25T14:45:37.362247Z",
     "shell.execute_reply": "2021-06-25T14:45:37.362912Z",
     "shell.execute_reply.started": "2021-06-25T14:40:55.612634Z"
    },
    "papermill": {
     "duration": 0.115602,
     "end_time": "2021-06-25T14:45:37.363155",
     "exception": false,
     "start_time": "2021-06-25T14:45:37.247553",
     "status": "completed"
    },
    "tags": []
   },
   "outputs": [
    {
     "name": "stdout",
     "output_type": "stream",
     "text": [
      "Polarity prediction test_accuracy = 45.05194095133953\n"
     ]
    }
   ],
   "source": [
    "from sklearn.metrics import accuracy_score\n",
    "\n",
    "predictions= clf.predict(test_vectors)\n",
    "\n",
    "print('Polarity prediction test_accuracy = {}'.format(\n",
    "        accuracy_score(predictions, test_tags) * 100)\n",
    "     )"
   ]
  },
  {
   "cell_type": "code",
   "execution_count": 59,
   "id": "celtic-final",
   "metadata": {
    "execution": {
     "iopub.execute_input": "2021-06-25T14:45:37.579534Z",
     "iopub.status.busy": "2021-06-25T14:45:37.578432Z",
     "iopub.status.idle": "2021-06-25T14:45:37.584627Z",
     "shell.execute_reply": "2021-06-25T14:45:37.585203Z",
     "shell.execute_reply.started": "2021-06-25T14:40:55.619655Z"
    },
    "papermill": {
     "duration": 0.117076,
     "end_time": "2021-06-25T14:45:37.585388",
     "exception": false,
     "start_time": "2021-06-25T14:45:37.468312",
     "status": "completed"
    },
    "tags": []
   },
   "outputs": [
    {
     "name": "stdout",
     "output_type": "stream",
     "text": [
      "Polarity prediction train_accuracy = 88.74338624338624\n"
     ]
    }
   ],
   "source": [
    "predictions_train= clf.predict(train_vectors)\n",
    "\n",
    "print('Polarity prediction train_accuracy = {}'.format(\n",
    "        accuracy_score(predictions_train, train_tags) * 100)\n",
    "     )"
   ]
  },
  {
   "cell_type": "markdown",
   "id": "opened-clark",
   "metadata": {
    "papermill": {
     "duration": 0.10591,
     "end_time": "2021-06-25T14:45:37.796322",
     "exception": false,
     "start_time": "2021-06-25T14:45:37.690412",
     "status": "completed"
    },
    "tags": []
   },
   "source": []
  },
  {
   "cell_type": "markdown",
   "id": "shaped-smoke",
   "metadata": {
    "papermill": {
     "duration": 0.105259,
     "end_time": "2021-06-25T14:45:38.008688",
     "exception": false,
     "start_time": "2021-06-25T14:45:37.903429",
     "status": "completed"
    },
    "tags": []
   },
   "source": [
    "# K-means"
   ]
  },
  {
   "cell_type": "code",
   "execution_count": 60,
   "id": "loose-inquiry",
   "metadata": {
    "execution": {
     "iopub.execute_input": "2021-06-25T14:45:38.223702Z",
     "iopub.status.busy": "2021-06-25T14:45:38.222917Z",
     "iopub.status.idle": "2021-06-25T14:45:38.369659Z",
     "shell.execute_reply": "2021-06-25T14:45:38.370926Z",
     "shell.execute_reply.started": "2021-06-25T14:40:55.631526Z"
    },
    "papermill": {
     "duration": 0.25664,
     "end_time": "2021-06-25T14:45:38.371221",
     "exception": false,
     "start_time": "2021-06-25T14:45:38.114581",
     "status": "completed"
    },
    "tags": []
   },
   "outputs": [
    {
     "data": {
      "text/plain": [
       "array([[ 0.03575734,  0.00810607],\n",
       "       [ 0.13636211, -0.00232113],\n",
       "       [ 0.10829689,  0.03227884],\n",
       "       ...,\n",
       "       [ 0.24977169, -0.1156082 ],\n",
       "       [ 0.12057921,  0.03760123],\n",
       "       [ 0.02275521, -0.00542831]])"
      ]
     },
     "execution_count": 60,
     "metadata": {},
     "output_type": "execute_result"
    }
   ],
   "source": [
    "from sklearn.decomposition import TruncatedSVD\n",
    "train_vectors_2D = TruncatedSVD(n_components=2).fit_transform(train_vectors)\n",
    "train_vectors_2D"
   ]
  },
  {
   "cell_type": "code",
   "execution_count": 61,
   "id": "painful-creator",
   "metadata": {
    "execution": {
     "iopub.execute_input": "2021-06-25T14:45:38.652556Z",
     "iopub.status.busy": "2021-06-25T14:45:38.651777Z",
     "iopub.status.idle": "2021-06-25T14:45:45.197310Z",
     "shell.execute_reply": "2021-06-25T14:45:45.197839Z",
     "shell.execute_reply.started": "2021-06-25T14:40:55.769501Z"
    },
    "papermill": {
     "duration": 6.655525,
     "end_time": "2021-06-25T14:45:45.198043",
     "exception": false,
     "start_time": "2021-06-25T14:45:38.542518",
     "status": "completed"
    },
    "tags": []
   },
   "outputs": [
    {
     "data": {
      "text/plain": [
       "KMeans(n_clusters=3, n_init=50)"
      ]
     },
     "execution_count": 61,
     "metadata": {},
     "output_type": "execute_result"
    }
   ],
   "source": [
    "from sklearn.cluster import KMeans\n",
    "kmeans = KMeans(n_clusters=3,n_init=50,max_iter=300)\n",
    "kmeans.fit(train_vectors_2D)"
   ]
  },
  {
   "cell_type": "code",
   "execution_count": 62,
   "id": "civic-layout",
   "metadata": {
    "execution": {
     "iopub.execute_input": "2021-06-25T14:45:45.414238Z",
     "iopub.status.busy": "2021-06-25T14:45:45.413511Z",
     "iopub.status.idle": "2021-06-25T14:45:45.423031Z",
     "shell.execute_reply": "2021-06-25T14:45:45.423649Z",
     "shell.execute_reply.started": "2021-06-25T14:41:03.000435Z"
    },
    "papermill": {
     "duration": 0.120181,
     "end_time": "2021-06-25T14:45:45.423848",
     "exception": false,
     "start_time": "2021-06-25T14:45:45.303667",
     "status": "completed"
    },
    "tags": []
   },
   "outputs": [],
   "source": [
    "Y_kmeans = kmeans.predict(train_vectors_2D)"
   ]
  },
  {
   "cell_type": "code",
   "execution_count": 63,
   "id": "speaking-northwest",
   "metadata": {
    "execution": {
     "iopub.execute_input": "2021-06-25T14:45:45.640753Z",
     "iopub.status.busy": "2021-06-25T14:45:45.640044Z",
     "iopub.status.idle": "2021-06-25T14:45:45.644198Z",
     "shell.execute_reply": "2021-06-25T14:45:45.643678Z",
     "shell.execute_reply.started": "2021-06-25T14:41:03.015321Z"
    },
    "papermill": {
     "duration": 0.113221,
     "end_time": "2021-06-25T14:45:45.644337",
     "exception": false,
     "start_time": "2021-06-25T14:45:45.531116",
     "status": "completed"
    },
    "tags": []
   },
   "outputs": [
    {
     "data": {
      "text/plain": [
       "array([ True,  True, False, ..., False, False,  True])"
      ]
     },
     "execution_count": 63,
     "metadata": {},
     "output_type": "execute_result"
    }
   ],
   "source": [
    "Y_kmeans==0"
   ]
  },
  {
   "cell_type": "code",
   "execution_count": 64,
   "id": "little-fifth",
   "metadata": {
    "execution": {
     "iopub.execute_input": "2021-06-25T14:45:45.901346Z",
     "iopub.status.busy": "2021-06-25T14:45:45.900411Z",
     "iopub.status.idle": "2021-06-25T14:45:45.903688Z",
     "shell.execute_reply": "2021-06-25T14:45:45.904251Z",
     "shell.execute_reply.started": "2021-06-25T14:41:03.024841Z"
    },
    "papermill": {
     "duration": 0.147009,
     "end_time": "2021-06-25T14:45:45.904449",
     "exception": false,
     "start_time": "2021-06-25T14:45:45.757440",
     "status": "completed"
    },
    "tags": []
   },
   "outputs": [
    {
     "data": {
      "text/plain": [
       "18.328716429857746"
      ]
     },
     "execution_count": 64,
     "metadata": {},
     "output_type": "execute_result"
    }
   ],
   "source": [
    "# The lowest SSE value\n",
    "kmeans.inertia_"
   ]
  },
  {
   "cell_type": "code",
   "execution_count": 65,
   "id": "alien-mileage",
   "metadata": {
    "execution": {
     "iopub.execute_input": "2021-06-25T14:45:46.121298Z",
     "iopub.status.busy": "2021-06-25T14:45:46.120582Z",
     "iopub.status.idle": "2021-06-25T14:45:46.123652Z",
     "shell.execute_reply": "2021-06-25T14:45:46.124138Z",
     "shell.execute_reply.started": "2021-06-25T14:41:03.033882Z"
    },
    "papermill": {
     "duration": 0.113593,
     "end_time": "2021-06-25T14:45:46.124312",
     "exception": false,
     "start_time": "2021-06-25T14:45:46.010719",
     "status": "completed"
    },
    "tags": []
   },
   "outputs": [],
   "source": [
    "# Final locations of the centroid\n",
    "centers=kmeans.cluster_centers_"
   ]
  },
  {
   "cell_type": "code",
   "execution_count": 66,
   "id": "neutral-somewhere",
   "metadata": {
    "execution": {
     "iopub.execute_input": "2021-06-25T14:45:46.339487Z",
     "iopub.status.busy": "2021-06-25T14:45:46.338776Z",
     "iopub.status.idle": "2021-06-25T14:45:46.343894Z",
     "shell.execute_reply": "2021-06-25T14:45:46.343255Z",
     "shell.execute_reply.started": "2021-06-25T14:41:03.044794Z"
    },
    "papermill": {
     "duration": 0.113772,
     "end_time": "2021-06-25T14:45:46.344029",
     "exception": false,
     "start_time": "2021-06-25T14:45:46.230257",
     "status": "completed"
    },
    "tags": []
   },
   "outputs": [
    {
     "data": {
      "text/plain": [
       "10"
      ]
     },
     "execution_count": 66,
     "metadata": {},
     "output_type": "execute_result"
    }
   ],
   "source": [
    "# The number of iterations required to converge\n",
    "kmeans.n_iter_"
   ]
  },
  {
   "cell_type": "code",
   "execution_count": 67,
   "id": "shaped-nepal",
   "metadata": {
    "execution": {
     "iopub.execute_input": "2021-06-25T14:45:46.562318Z",
     "iopub.status.busy": "2021-06-25T14:45:46.561563Z",
     "iopub.status.idle": "2021-06-25T14:45:46.564250Z",
     "shell.execute_reply": "2021-06-25T14:45:46.564823Z",
     "shell.execute_reply.started": "2021-06-25T14:41:03.055747Z"
    },
    "papermill": {
     "duration": 0.115624,
     "end_time": "2021-06-25T14:45:46.564996",
     "exception": false,
     "start_time": "2021-06-25T14:45:46.449372",
     "status": "completed"
    },
    "tags": []
   },
   "outputs": [],
   "source": [
    "import matplotlib.pyplot as plt"
   ]
  },
  {
   "cell_type": "code",
   "execution_count": 68,
   "id": "tutorial-postage",
   "metadata": {
    "execution": {
     "iopub.execute_input": "2021-06-25T14:45:46.789365Z",
     "iopub.status.busy": "2021-06-25T14:45:46.788640Z",
     "iopub.status.idle": "2021-06-25T14:45:47.012708Z",
     "shell.execute_reply": "2021-06-25T14:45:47.012174Z",
     "shell.execute_reply.started": "2021-06-25T14:41:03.069164Z"
    },
    "papermill": {
     "duration": 0.341297,
     "end_time": "2021-06-25T14:45:47.012856",
     "exception": false,
     "start_time": "2021-06-25T14:45:46.671559",
     "status": "completed"
    },
    "tags": []
   },
   "outputs": [
    {
     "data": {
      "text/plain": [
       "<matplotlib.collections.PathCollection at 0x7fd7f0030fd0>"
      ]
     },
     "execution_count": 68,
     "metadata": {},
     "output_type": "execute_result"
    },
    {
     "data": {
      "image/png": "[encoded data removed]",
      "text/plain": [
       "<Figure size 432x288 with 1 Axes>"
      ]
     },
     "metadata": {},
     "output_type": "display_data"
    }
   ],
   "source": [
    "plt.scatter(train_vectors_2D[Y_kmeans==0,0],train_vectors_2D[Y_kmeans==0,1],s=20,c='red')\n",
    "plt.scatter(train_vectors_2D[Y_kmeans==1,0],train_vectors_2D[Y_kmeans==1,1],s=20,c='blue')\n",
    "plt.scatter(train_vectors_2D[Y_kmeans==2,0],train_vectors_2D[Y_kmeans==2,1],s=20,c='green')\n",
    "\n",
    "plt.scatter(centers[0][0],centers[0][1],marker=\"*\",s=200,c='white')\n",
    "plt.scatter(centers[1][0],centers[1][1],marker=\"*\",s=200,c='white')\n",
    "plt.scatter(centers[2][0],centers[2][1],marker=\"*\",s=200,c='white')\n"
   ]
  },
  {
   "cell_type": "code",
   "execution_count": 69,
   "id": "helpful-advisory",
   "metadata": {
    "execution": {
     "iopub.execute_input": "2021-06-25T14:45:47.235248Z",
     "iopub.status.busy": "2021-06-25T14:45:47.234559Z",
     "iopub.status.idle": "2021-06-25T14:45:47.239631Z",
     "shell.execute_reply": "2021-06-25T14:45:47.240139Z",
     "shell.execute_reply.started": "2021-06-25T14:41:03.28881Z"
    },
    "papermill": {
     "duration": 0.118367,
     "end_time": "2021-06-25T14:45:47.240308",
     "exception": false,
     "start_time": "2021-06-25T14:45:47.121941",
     "status": "completed"
    },
    "tags": []
   },
   "outputs": [
    {
     "data": {
      "text/plain": [
       "0.31891534391534393"
      ]
     },
     "execution_count": 69,
     "metadata": {},
     "output_type": "execute_result"
    }
   ],
   "source": [
    "from sklearn.metrics import accuracy_score\n",
    "accuracy_score=accuracy_score(Y_kmeans,train_tags)\n",
    "accuracy_score"
   ]
  },
  {
   "cell_type": "markdown",
   "id": "similar-pharmacology",
   "metadata": {
    "papermill": {
     "duration": 0.10777,
     "end_time": "2021-06-25T14:45:47.456707",
     "exception": false,
     "start_time": "2021-06-25T14:45:47.348937",
     "status": "completed"
    },
    "tags": []
   },
   "source": [
    "## Random forest"
   ]
  },
  {
   "cell_type": "code",
   "execution_count": 70,
   "id": "perceived-meaning",
   "metadata": {
    "execution": {
     "iopub.execute_input": "2021-06-25T14:45:47.677958Z",
     "iopub.status.busy": "2021-06-25T14:45:47.677273Z",
     "iopub.status.idle": "2021-06-25T14:53:38.249839Z",
     "shell.execute_reply": "2021-06-25T14:53:38.249256Z"
    },
    "papermill": {
     "duration": 470.685625,
     "end_time": "2021-06-25T14:53:38.250007",
     "exception": false,
     "start_time": "2021-06-25T14:45:47.564382",
     "status": "completed"
    },
    "tags": []
   },
   "outputs": [],
   "source": [
    "from sklearn.decomposition import TruncatedSVD\n",
    "n=int(0.6*17209)\n",
    "svd = TruncatedSVD(n_components=10325)\n",
    "train_vectors=svd.fit_transform(train_vectors)"
   ]
  },
  {
   "cell_type": "code",
   "execution_count": 71,
   "id": "consolidated-questionnaire",
   "metadata": {
    "execution": {
     "iopub.execute_input": "2021-06-25T14:53:38.477413Z",
     "iopub.status.busy": "2021-06-25T14:53:38.476485Z",
     "iopub.status.idle": "2021-06-25T14:53:38.480767Z",
     "shell.execute_reply": "2021-06-25T14:53:38.480272Z"
    },
    "papermill": {
     "duration": 0.118502,
     "end_time": "2021-06-25T14:53:38.480914",
     "exception": false,
     "start_time": "2021-06-25T14:53:38.362412",
     "status": "completed"
    },
    "tags": []
   },
   "outputs": [
    {
     "data": {
      "text/plain": [
       "array([[ 3.57515911e-02,  7.31316088e-03, -8.00831874e-03, ...,\n",
       "         5.42101086e-19,  4.33680869e-19, -4.33680869e-19],\n",
       "       [ 1.36340038e-01, -2.67215789e-03,  8.48718553e-02, ...,\n",
       "        -1.04083409e-17,  9.48676901e-18, -8.89045781e-18],\n",
       "       [ 1.08280424e-01,  3.06063326e-02, -3.64841701e-02, ...,\n",
       "        -7.37257477e-18, -6.47810798e-18, -2.00577402e-17],\n",
       "       ...,\n",
       "       [ 2.49788614e-01, -1.15244918e-01, -3.59770022e-01, ...,\n",
       "        -2.04914211e-17, -9.75781955e-18,  6.50521303e-18],\n",
       "       [ 1.20577188e-01,  3.75392304e-02, -3.35882238e-02, ...,\n",
       "         4.01154804e-18,  8.32125167e-18, -1.02050529e-17],\n",
       "       [ 2.27619616e-02, -5.70787962e-03,  1.94230668e-03, ...,\n",
       "        -3.03576608e-18, -1.98951099e-17, -1.30104261e-17]])"
      ]
     },
     "execution_count": 71,
     "metadata": {},
     "output_type": "execute_result"
    }
   ],
   "source": [
    "train_vectors"
   ]
  },
  {
   "cell_type": "code",
   "execution_count": 72,
   "id": "specialized-neighborhood",
   "metadata": {
    "execution": {
     "iopub.execute_input": "2021-06-25T14:53:38.705145Z",
     "iopub.status.busy": "2021-06-25T14:53:38.704327Z",
     "iopub.status.idle": "2021-06-25T14:53:38.707454Z",
     "shell.execute_reply": "2021-06-25T14:53:38.708229Z"
    },
    "papermill": {
     "duration": 0.118858,
     "end_time": "2021-06-25T14:53:38.708463",
     "exception": false,
     "start_time": "2021-06-25T14:53:38.589605",
     "status": "completed"
    },
    "tags": []
   },
   "outputs": [
    {
     "name": "stdout",
     "output_type": "stream",
     "text": [
      "1.0\n"
     ]
    }
   ],
   "source": [
    "print(svd.explained_variance_ratio_.sum())"
   ]
  },
  {
   "cell_type": "code",
   "execution_count": 73,
   "id": "favorite-proposal",
   "metadata": {
    "execution": {
     "iopub.execute_input": "2021-06-25T14:53:38.963745Z",
     "iopub.status.busy": "2021-06-25T14:53:38.963126Z",
     "iopub.status.idle": "2021-06-25T14:53:38.967726Z",
     "shell.execute_reply": "2021-06-25T14:53:38.968349Z"
    },
    "papermill": {
     "duration": 0.119044,
     "end_time": "2021-06-25T14:53:38.968523",
     "exception": false,
     "start_time": "2021-06-25T14:53:38.849479",
     "status": "completed"
    },
    "tags": []
   },
   "outputs": [
    {
     "data": {
      "text/plain": [
       "(1829, 17209)"
      ]
     },
     "execution_count": 73,
     "metadata": {},
     "output_type": "execute_result"
    }
   ],
   "source": [
    "test_vectors.shape"
   ]
  },
  {
   "cell_type": "code",
   "execution_count": 74,
   "id": "common-developer",
   "metadata": {
    "execution": {
     "iopub.execute_input": "2021-06-25T14:53:39.201678Z",
     "iopub.status.busy": "2021-06-25T14:53:39.201016Z",
     "iopub.status.idle": "2021-06-25T14:53:39.207392Z",
     "shell.execute_reply": "2021-06-25T14:53:39.206832Z"
    },
    "papermill": {
     "duration": 0.124075,
     "end_time": "2021-06-25T14:53:39.207607",
     "exception": false,
     "start_time": "2021-06-25T14:53:39.083532",
     "status": "completed"
    },
    "tags": []
   },
   "outputs": [
    {
     "data": {
      "text/plain": [
       "(7560, 7560)"
      ]
     },
     "execution_count": 74,
     "metadata": {},
     "output_type": "execute_result"
    }
   ],
   "source": [
    "train_vectors.shape"
   ]
  },
  {
   "cell_type": "code",
   "execution_count": 75,
   "id": "grand-painting",
   "metadata": {
    "execution": {
     "iopub.execute_input": "2021-06-25T14:53:39.439190Z",
     "iopub.status.busy": "2021-06-25T14:53:39.438488Z",
     "iopub.status.idle": "2021-06-25T14:53:39.686960Z",
     "shell.execute_reply": "2021-06-25T14:53:39.687485Z"
    },
    "papermill": {
     "duration": 0.368737,
     "end_time": "2021-06-25T14:53:39.687679",
     "exception": false,
     "start_time": "2021-06-25T14:53:39.318942",
     "status": "completed"
    },
    "tags": []
   },
   "outputs": [],
   "source": [
    "test_vectors = svd.transform(test_vectors)"
   ]
  },
  {
   "cell_type": "code",
   "execution_count": 76,
   "id": "outdoor-composite",
   "metadata": {
    "execution": {
     "iopub.execute_input": "2021-06-25T14:53:39.913926Z",
     "iopub.status.busy": "2021-06-25T14:53:39.913274Z",
     "iopub.status.idle": "2021-06-25T14:53:39.916951Z",
     "shell.execute_reply": "2021-06-25T14:53:39.917556Z"
    },
    "papermill": {
     "duration": 0.119835,
     "end_time": "2021-06-25T14:53:39.917731",
     "exception": false,
     "start_time": "2021-06-25T14:53:39.797896",
     "status": "completed"
    },
    "tags": []
   },
   "outputs": [
    {
     "data": {
      "text/plain": [
       "array([[ 1.63327409e-02, -6.14401989e-03,  2.95681070e-03, ...,\n",
       "         1.41217546e-02,  7.22081328e-03,  1.92418283e-03],\n",
       "       [ 2.82277461e-02, -1.19852955e-02,  8.66129633e-04, ...,\n",
       "         1.43189064e-03, -1.17879267e-03, -1.60495745e-03],\n",
       "       [ 2.76549256e-02, -6.46178261e-03,  1.06553753e-02, ...,\n",
       "         1.01648142e-03,  1.51999301e-03,  5.37040690e-03],\n",
       "       ...,\n",
       "       [ 7.43286437e-02,  6.13338963e-02, -2.76331485e-02, ...,\n",
       "         5.00618713e-03,  2.43644727e-03,  5.61411551e-03],\n",
       "       [ 8.13034165e-02, -5.97767007e-02,  9.39019235e-02, ...,\n",
       "         9.82188246e-03, -1.32376753e-02,  1.08589185e-03],\n",
       "       [ 1.77366379e-01,  1.18045280e-01, -6.22885514e-02, ...,\n",
       "         1.68095204e-04,  2.93031310e-03, -5.52137361e-03]])"
      ]
     },
     "execution_count": 76,
     "metadata": {},
     "output_type": "execute_result"
    }
   ],
   "source": [
    "test_vectors"
   ]
  },
  {
   "cell_type": "code",
   "execution_count": 77,
   "id": "moved-conjunction",
   "metadata": {
    "execution": {
     "iopub.execute_input": "2021-06-25T14:53:40.147686Z",
     "iopub.status.busy": "2021-06-25T14:53:40.146642Z",
     "iopub.status.idle": "2021-06-25T14:53:40.150469Z",
     "shell.execute_reply": "2021-06-25T14:53:40.150916Z"
    },
    "papermill": {
     "duration": 0.122476,
     "end_time": "2021-06-25T14:53:40.151115",
     "exception": false,
     "start_time": "2021-06-25T14:53:40.028639",
     "status": "completed"
    },
    "tags": []
   },
   "outputs": [
    {
     "data": {
      "text/plain": [
       "(1829, 7560)"
      ]
     },
     "execution_count": 77,
     "metadata": {},
     "output_type": "execute_result"
    }
   ],
   "source": [
    "test_vectors.shape"
   ]
  },
  {
   "cell_type": "code",
   "execution_count": 78,
   "id": "amended-policy",
   "metadata": {
    "execution": {
     "iopub.execute_input": "2021-06-25T14:53:40.382500Z",
     "iopub.status.busy": "2021-06-25T14:53:40.381790Z",
     "iopub.status.idle": "2021-06-25T15:10:22.014252Z",
     "shell.execute_reply": "2021-06-25T15:10:22.014796Z"
    },
    "papermill": {
     "duration": 1001.750927,
     "end_time": "2021-06-25T15:10:22.014999",
     "exception": false,
     "start_time": "2021-06-25T14:53:40.264072",
     "status": "completed"
    },
    "tags": []
   },
   "outputs": [
    {
     "data": {
      "image/png": "[encoded data removed]",
      "text/plain": [
       "<Figure size 432x288 with 1 Axes>"
      ]
     },
     "metadata": {},
     "output_type": "display_data"
    }
   ],
   "source": [
    "import matplotlib.pyplot as plt \n",
    "from sklearn.ensemble import RandomForestClassifier\n",
    "\n",
    "#prediction=rf.predict(test_vectors)\n",
    "\n",
    "#accuracy_score=accuracy_score(prediction,test_tags)\n",
    "#accuracy_score\n",
    "n_estimators=[10,50,70,100,150,200,300,400]\n",
    "score=[]\n",
    "for x in n_estimators:\n",
    "    rf=RandomForestClassifier(n_estimators=x,max_features='sqrt',random_state=0)\n",
    "    rf.fit(train_vectors, train_tags.ravel())\n",
    "    score.append(rf.score(test_vectors,test_tags))\n",
    "\n",
    "plt.plot(n_estimators,score)\n",
    "plt.xlabel(\"nombre d'estimateurs (arbres de décision)\")\n",
    "plt.ylabel(\" Accuracy score\")\n",
    "plt.title(\"The score variation as a function of the number of estimators\" );\n",
    "plt.show()"
   ]
  },
  {
   "cell_type": "code",
   "execution_count": 79,
   "id": "administrative-ambassador",
   "metadata": {
    "execution": {
     "iopub.execute_input": "2021-06-25T15:10:22.250356Z",
     "iopub.status.busy": "2021-06-25T15:10:22.249697Z",
     "iopub.status.idle": "2021-06-25T15:12:58.579631Z",
     "shell.execute_reply": "2021-06-25T15:12:58.579034Z"
    },
    "papermill": {
     "duration": 156.44961,
     "end_time": "2021-06-25T15:12:58.579798",
     "exception": false,
     "start_time": "2021-06-25T15:10:22.130188",
     "status": "completed"
    },
    "tags": []
   },
   "outputs": [],
   "source": [
    "rf=RandomForestClassifier(n_estimators=200,max_features='sqrt',random_state=0)\n",
    "rf.fit(train_vectors, train_tags.ravel())\n",
    "Y_pred=rf.predict(test_vectors)"
   ]
  },
  {
   "cell_type": "code",
   "execution_count": 80,
   "id": "trying-production",
   "metadata": {
    "execution": {
     "iopub.execute_input": "2021-06-25T15:12:58.815237Z",
     "iopub.status.busy": "2021-06-25T15:12:58.814478Z",
     "iopub.status.idle": "2021-06-25T15:12:59.060903Z",
     "shell.execute_reply": "2021-06-25T15:12:59.060228Z"
    },
    "papermill": {
     "duration": 0.368309,
     "end_time": "2021-06-25T15:12:59.061046",
     "exception": false,
     "start_time": "2021-06-25T15:12:58.692737",
     "status": "completed"
    },
    "tags": []
   },
   "outputs": [
    {
     "data": {
      "text/plain": [
       "0.37889557135046475"
      ]
     },
     "execution_count": 80,
     "metadata": {},
     "output_type": "execute_result"
    }
   ],
   "source": [
    "rf.score(test_vectors,test_tags)"
   ]
  },
  {
   "cell_type": "code",
   "execution_count": 81,
   "id": "broadband-theory",
   "metadata": {
    "execution": {
     "iopub.execute_input": "2021-06-25T15:12:59.300305Z",
     "iopub.status.busy": "2021-06-25T15:12:59.299622Z",
     "iopub.status.idle": "2021-06-25T15:12:59.607792Z",
     "shell.execute_reply": "2021-06-25T15:12:59.608354Z"
    },
    "papermill": {
     "duration": 0.430033,
     "end_time": "2021-06-25T15:12:59.608538",
     "exception": false,
     "start_time": "2021-06-25T15:12:59.178505",
     "status": "completed"
    },
    "tags": []
   },
   "outputs": [
    {
     "name": "stdout",
     "output_type": "stream",
     "text": [
      "              precision    recall  f1-score   support\n",
      "\n",
      "          -1       0.24      0.56      0.33       360\n",
      "           0       0.46      0.24      0.32       700\n",
      "           1       0.53      0.42      0.47       769\n",
      "\n",
      "    accuracy                           0.38      1829\n",
      "   macro avg       0.41      0.41      0.37      1829\n",
      "weighted avg       0.45      0.38      0.38      1829\n",
      "\n"
     ]
    },
    {
     "data": {
      "text/plain": [
       "Text(61.5, 0.5, 'True Class')"
      ]
     },
     "execution_count": 81,
     "metadata": {},
     "output_type": "execute_result"
    },
    {
     "data": {
      "image/png": "[encoded data removed]",
      "text/plain": [
       "<Figure size 720x504 with 2 Axes>"
      ]
     },
     "metadata": {},
     "output_type": "display_data"
    }
   ],
   "source": [
    "## Plot confusion matrix\n",
    "import pandas as pd\n",
    "import matplotlib.pyplot as plt\n",
    "import seaborn as sns\n",
    "from sklearn.metrics import confusion_matrix,classification_report\n",
    "\n",
    "cf_matrix = confusion_matrix(test_tags,Y_pred )\n",
    "\n",
    "cf_matrix\n",
    "print(classification_report(test_tags,Y_pred))\n",
    "\n",
    "df_cm = pd.DataFrame(cf_matrix , index = [i for i in [-1,0,1]],columns = [i for i in [-1,0,1]])\n",
    "plt.figure(figsize = (10,7))\n",
    "sns.heatmap(df_cm/np.sum(df_cm), annot=True, \n",
    "            fmt='.2%')\n",
    "plt.xlabel('Predicted Class')\n",
    "plt.ylabel('True Class')\n"
   ]
  },
  {
   "cell_type": "markdown",
   "id": "joined-island",
   "metadata": {
    "papermill": {
     "duration": 0.116293,
     "end_time": "2021-06-25T15:12:59.893469",
     "exception": false,
     "start_time": "2021-06-25T15:12:59.777176",
     "status": "completed"
    },
    "tags": []
   },
   "source": [
    "# Hyperparameter Tuning the Random Forest"
   ]
  },
  {
   "cell_type": "code",
   "execution_count": 82,
   "id": "absolute-sampling",
   "metadata": {
    "execution": {
     "iopub.execute_input": "2021-06-25T15:13:00.135259Z",
     "iopub.status.busy": "2021-06-25T15:13:00.134277Z",
     "iopub.status.idle": "2021-06-25T15:13:00.148981Z",
     "shell.execute_reply": "2021-06-25T15:13:00.148330Z"
    },
    "papermill": {
     "duration": 0.13641,
     "end_time": "2021-06-25T15:13:00.149166",
     "exception": false,
     "start_time": "2021-06-25T15:13:00.012756",
     "status": "completed"
    },
    "tags": []
   },
   "outputs": [
    {
     "name": "stdout",
     "output_type": "stream",
     "text": [
      "Parameters currently in use:\n",
      "\n",
      "{'bootstrap': True,\n",
      " 'ccp_alpha': 0.0,\n",
      " 'class_weight': None,\n",
      " 'criterion': 'gini',\n",
      " 'max_depth': None,\n",
      " 'max_features': 'auto',\n",
      " 'max_leaf_nodes': None,\n",
      " 'max_samples': None,\n",
      " 'min_impurity_decrease': 0.0,\n",
      " 'min_impurity_split': None,\n",
      " 'min_samples_leaf': 1,\n",
      " 'min_samples_split': 2,\n",
      " 'min_weight_fraction_leaf': 0.0,\n",
      " 'n_estimators': 100,\n",
      " 'n_jobs': None,\n",
      " 'oob_score': False,\n",
      " 'random_state': 42,\n",
      " 'verbose': 0,\n",
      " 'warm_start': False}\n"
     ]
    }
   ],
   "source": [
    "from sklearn.ensemble import RandomForestClassifier\n",
    "rf = RandomForestClassifier(random_state = 42)\n",
    "from pprint import pprint\n",
    "# Look at parameters used by our current forest\n",
    "print('Parameters currently in use:\\n')\n",
    "pprint(rf.get_params())"
   ]
  },
  {
   "cell_type": "code",
   "execution_count": 83,
   "id": "coordinated-stocks",
   "metadata": {
    "execution": {
     "iopub.execute_input": "2021-06-25T15:13:00.394801Z",
     "iopub.status.busy": "2021-06-25T15:13:00.394070Z",
     "iopub.status.idle": "2021-06-25T15:13:00.400337Z",
     "shell.execute_reply": "2021-06-25T15:13:00.399785Z"
    },
    "papermill": {
     "duration": 0.132339,
     "end_time": "2021-06-25T15:13:00.400483",
     "exception": false,
     "start_time": "2021-06-25T15:13:00.268144",
     "status": "completed"
    },
    "tags": []
   },
   "outputs": [
    {
     "name": "stdout",
     "output_type": "stream",
     "text": [
      "{'bootstrap': [True, False],\n",
      " 'max_depth': [10, 20, 30, 40, 50, 60, 70, 80, 90, 100, 110, None],\n",
      " 'max_features': ['auto', 'sqrt'],\n",
      " 'min_samples_leaf': [1, 2, 4],\n",
      " 'min_samples_split': [2, 5, 10],\n",
      " 'n_estimators': [200, 400, 600, 800, 1000, 1200, 1400, 1600, 1800, 2000]}\n"
     ]
    }
   ],
   "source": [
    "from sklearn.model_selection import RandomizedSearchCV\n",
    "\n",
    "# Number of trees in random forest\n",
    "n_estimators = [int(x) for x in np.linspace(start = 200, stop = 2000, num = 10)]\n",
    "# Number of features to consider at every split\n",
    "max_features = ['auto', 'sqrt']\n",
    "# Maximum number of levels in tree\n",
    "max_depth = [int(x) for x in np.linspace(10, 110, num = 11)]\n",
    "max_depth.append(None)\n",
    "# Minimum number of samples required to split a node\n",
    "min_samples_split = [2, 5, 10]\n",
    "# Minimum number of samples required at each leaf node\n",
    "min_samples_leaf = [1, 2, 4]\n",
    "# Method of selecting samples for training each tree\n",
    "bootstrap = [True, False]\n",
    "# Create the random grid\n",
    "random_grid = {'n_estimators': n_estimators,\n",
    "               'max_features': max_features,\n",
    "               'max_depth': max_depth,\n",
    "               'min_samples_split': min_samples_split,\n",
    "               'min_samples_leaf': min_samples_leaf,\n",
    "               'bootstrap': bootstrap}\n",
    "pprint(random_grid)"
   ]
  },
  {
   "cell_type": "code",
   "execution_count": 84,
   "id": "super-visit",
   "metadata": {
    "execution": {
     "iopub.execute_input": "2021-06-25T15:13:00.640451Z",
     "iopub.status.busy": "2021-06-25T15:13:00.639647Z",
     "iopub.status.idle": "2021-06-25T15:13:00.643537Z",
     "shell.execute_reply": "2021-06-25T15:13:00.644040Z"
    },
    "papermill": {
     "duration": 0.126028,
     "end_time": "2021-06-25T15:13:00.644230",
     "exception": false,
     "start_time": "2021-06-25T15:13:00.518202",
     "status": "completed"
    },
    "tags": []
   },
   "outputs": [
    {
     "data": {
      "text/plain": [
       "(7560, 7560)"
      ]
     },
     "execution_count": 84,
     "metadata": {},
     "output_type": "execute_result"
    }
   ],
   "source": [
    "train_vectors.shape"
   ]
  },
  {
   "cell_type": "code",
   "execution_count": 85,
   "id": "rural-glass",
   "metadata": {
    "execution": {
     "iopub.execute_input": "2021-06-25T15:13:00.885898Z",
     "iopub.status.busy": "2021-06-25T15:13:00.885226Z",
     "iopub.status.idle": "2021-06-25T17:38:21.387723Z",
     "shell.execute_reply": "2021-06-25T17:38:21.388391Z"
    },
    "papermill": {
     "duration": 8720.626547,
     "end_time": "2021-06-25T17:38:21.388902",
     "exception": false,
     "start_time": "2021-06-25T15:13:00.762355",
     "status": "completed"
    },
    "tags": []
   },
   "outputs": [
    {
     "name": "stdout",
     "output_type": "stream",
     "text": [
      "Fitting 3 folds for each of 10 candidates, totalling 30 fits\n"
     ]
    },
    {
     "data": {
      "text/plain": [
       "RandomizedSearchCV(cv=3, estimator=RandomForestClassifier(), n_jobs=-1,\n",
       "                   param_distributions={'bootstrap': [True, False],\n",
       "                                        'max_depth': [10, 20, 30, 40, 50, 60,\n",
       "                                                      70, 80, 90, 100, 110,\n",
       "                                                      None],\n",
       "                                        'max_features': ['auto', 'sqrt'],\n",
       "                                        'min_samples_leaf': [1, 2, 4],\n",
       "                                        'min_samples_split': [2, 5, 10],\n",
       "                                        'n_estimators': [200, 400, 600, 800,\n",
       "                                                         1000, 1200, 1400, 1600,\n",
       "                                                         1800, 2000]},\n",
       "                   random_state=42, verbose=2)"
      ]
     },
     "execution_count": 85,
     "metadata": {},
     "output_type": "execute_result"
    }
   ],
   "source": [
    "\n",
    "# Use the random grid to search for best hyperparameters\n",
    "# First create the base model to tune\n",
    "rf = RandomForestClassifier()\n",
    "# Random search of parameters, using 3 fold cross validation, \n",
    "# search across 100 different combinations, and use all available cores\n",
    "rf_random = RandomizedSearchCV(estimator = rf, param_distributions = random_grid, n_iter = 10, cv =3 , verbose=2, random_state=42, n_jobs = -1)\n",
    "# n_jobs = Number of jobs to run in parallel\n",
    "#n_iter: controls the number of different combinations to try\n",
    "#cv : number of folds to use for cross validation\n",
    "\n",
    "# Fit the random search model\n",
    "rf_random.fit(train_vectors, train_tags.ravel())"
   ]
  },
  {
   "cell_type": "code",
   "execution_count": 86,
   "id": "conditional-transcription",
   "metadata": {
    "execution": {
     "iopub.execute_input": "2021-06-25T17:38:21.632960Z",
     "iopub.status.busy": "2021-06-25T17:38:21.631942Z",
     "iopub.status.idle": "2021-06-25T17:38:21.640262Z",
     "shell.execute_reply": "2021-06-25T17:38:21.639615Z"
    },
    "papermill": {
     "duration": 0.133717,
     "end_time": "2021-06-25T17:38:21.640412",
     "exception": false,
     "start_time": "2021-06-25T17:38:21.506695",
     "status": "completed"
    },
    "tags": []
   },
   "outputs": [
    {
     "data": {
      "text/plain": [
       "{'n_estimators': 2000,\n",
       " 'min_samples_split': 2,\n",
       " 'min_samples_leaf': 2,\n",
       " 'max_features': 'auto',\n",
       " 'max_depth': 50,\n",
       " 'bootstrap': False}"
      ]
     },
     "execution_count": 86,
     "metadata": {},
     "output_type": "execute_result"
    }
   ],
   "source": [
    "\n",
    "rf_random.best_params_"
   ]
  },
  {
   "cell_type": "code",
   "execution_count": 87,
   "id": "distant-functionality",
   "metadata": {
    "execution": {
     "iopub.execute_input": "2021-06-25T17:38:21.884604Z",
     "iopub.status.busy": "2021-06-25T17:38:21.883613Z",
     "iopub.status.idle": "2021-06-25T18:00:07.978876Z",
     "shell.execute_reply": "2021-06-25T18:00:07.979405Z"
    },
    "papermill": {
     "duration": 1306.220336,
     "end_time": "2021-06-25T18:00:07.979602",
     "exception": false,
     "start_time": "2021-06-25T17:38:21.759266",
     "status": "completed"
    },
    "tags": []
   },
   "outputs": [
    {
     "data": {
      "text/plain": [
       "0.36741388737014763"
      ]
     },
     "execution_count": 87,
     "metadata": {},
     "output_type": "execute_result"
    }
   ],
   "source": [
    "\n",
    "# Whether bootstrap samples are used when building trees. If False, the whole dataset is used to build each tree.\n",
    "rf=RandomForestClassifier(bootstrap=False,n_estimators=1000,max_features='auto',\n",
    "                          min_samples_split=10,min_samples_leaf=1,max_depth=80,random_state=42)\n",
    "rf.fit(train_vectors, train_tags.ravel())\n",
    "rf.score(test_vectors,test_tags)"
   ]
  },
  {
   "cell_type": "markdown",
   "id": "graphic-wisdom",
   "metadata": {
    "papermill": {
     "duration": 0.122591,
     "end_time": "2021-06-25T18:00:08.222495",
     "exception": false,
     "start_time": "2021-06-25T18:00:08.099904",
     "status": "completed"
    },
    "tags": []
   },
   "source": [
    "# Support Vectors Classifier"
   ]
  },
  {
   "cell_type": "code",
   "execution_count": 88,
   "id": "unlimited-seller",
   "metadata": {
    "execution": {
     "iopub.execute_input": "2021-06-25T18:00:08.469309Z",
     "iopub.status.busy": "2021-06-25T18:00:08.468591Z",
     "iopub.status.idle": "2021-06-25T18:06:58.394618Z",
     "shell.execute_reply": "2021-06-25T18:06:58.393850Z"
    },
    "papermill": {
     "duration": 410.052083,
     "end_time": "2021-06-25T18:06:58.394780",
     "exception": false,
     "start_time": "2021-06-25T18:00:08.342697",
     "status": "completed"
    },
    "tags": []
   },
   "outputs": [
    {
     "name": "stderr",
     "output_type": "stream",
     "text": [
      "/opt/conda/lib/python3.7/site-packages/sklearn/utils/validation.py:63: DataConversionWarning: A column-vector y was passed when a 1d array was expected. Please change the shape of y to (n_samples, ), for example using ravel().\n",
      "  return f(*args, **kwargs)\n"
     ]
    }
   ],
   "source": [
    "from sklearn import svm\n",
    "from sklearn.metrics import accuracy_score\n",
    "\n",
    "# Perform classification with SVM, kernel=linear\n",
    "classifier_linear = svm.SVC(kernel='linear') # SVC a linear kernel\n",
    "\n",
    "classifier_linear.fit(train_vectors, train_tags)\n",
    "\n",
    "prediction_linear = classifier_linear.predict(test_vectors)\n",
    "\n",
    "Resultat=accuracy_score(test_tags,prediction_linear)"
   ]
  },
  {
   "cell_type": "code",
   "execution_count": 89,
   "id": "welcome-journal",
   "metadata": {
    "execution": {
     "iopub.execute_input": "2021-06-25T18:06:58.641844Z",
     "iopub.status.busy": "2021-06-25T18:06:58.641188Z",
     "iopub.status.idle": "2021-06-25T18:06:58.644292Z",
     "shell.execute_reply": "2021-06-25T18:06:58.644860Z"
    },
    "papermill": {
     "duration": 0.128835,
     "end_time": "2021-06-25T18:06:58.645031",
     "exception": false,
     "start_time": "2021-06-25T18:06:58.516196",
     "status": "completed"
    },
    "tags": []
   },
   "outputs": [
    {
     "data": {
      "text/plain": [
       "0.43685073810825586"
      ]
     },
     "execution_count": 89,
     "metadata": {},
     "output_type": "execute_result"
    }
   ],
   "source": [
    "Resultat"
   ]
  },
  {
   "cell_type": "code",
   "execution_count": 90,
   "id": "saving-internship",
   "metadata": {
    "execution": {
     "iopub.execute_input": "2021-06-25T18:06:58.886536Z",
     "iopub.status.busy": "2021-06-25T18:06:58.885782Z",
     "iopub.status.idle": "2021-06-25T18:06:59.231647Z",
     "shell.execute_reply": "2021-06-25T18:06:59.232130Z"
    },
    "papermill": {
     "duration": 0.467809,
     "end_time": "2021-06-25T18:06:59.232321",
     "exception": false,
     "start_time": "2021-06-25T18:06:58.764512",
     "status": "completed"
    },
    "tags": []
   },
   "outputs": [
    {
     "name": "stdout",
     "output_type": "stream",
     "text": [
      "              precision    recall  f1-score   support\n",
      "\n",
      "          -1       0.32      0.58      0.41       360\n",
      "           0       0.41      0.49      0.45       700\n",
      "           1       0.71      0.32      0.44       769\n",
      "\n",
      "    accuracy                           0.44      1829\n",
      "   macro avg       0.48      0.46      0.43      1829\n",
      "weighted avg       0.52      0.44      0.44      1829\n",
      "\n"
     ]
    },
    {
     "data": {
      "text/plain": [
       "Text(61.5, 0.5, 'True Class')"
      ]
     },
     "execution_count": 90,
     "metadata": {},
     "output_type": "execute_result"
    },
    {
     "data": {
      "image/png": "[encoded data removed]",
      "text/plain": [
       "<Figure size 720x504 with 2 Axes>"
      ]
     },
     "metadata": {},
     "output_type": "display_data"
    }
   ],
   "source": [
    "## Plot confusion matrix\n",
    "import pandas as pd\n",
    "import matplotlib.pyplot as plt\n",
    "import seaborn as sns\n",
    "from sklearn.metrics import confusion_matrix,classification_report\n",
    "\n",
    "cf_matrix = confusion_matrix(test_tags,prediction_linear )\n",
    "\n",
    "cf_matrix\n",
    "print(classification_report(test_tags,prediction_linear))\n",
    "\n",
    "df_cm = pd.DataFrame(cf_matrix , index = [i for i in [-1,0,1]],columns = [i for i in [-1,0,1]])\n",
    "plt.figure(figsize = (10,7))\n",
    "sns.heatmap(df_cm/np.sum(df_cm), annot=True, \n",
    "            fmt='.2%')\n",
    "plt.xlabel('Predicted Class')\n",
    "plt.ylabel('True Class')"
   ]
  },
  {
   "cell_type": "markdown",
   "id": "controversial-sphere",
   "metadata": {
    "papermill": {
     "duration": 0.121642,
     "end_time": "2021-06-25T18:06:59.477142",
     "exception": false,
     "start_time": "2021-06-25T18:06:59.355500",
     "status": "completed"
    },
    "tags": []
   },
   "source": [
    "# Deep Learning"
   ]
  },
  {
   "cell_type": "code",
   "execution_count": 91,
   "id": "mathematical-failing",
   "metadata": {
    "execution": {
     "iopub.execute_input": "2021-06-25T18:06:59.730746Z",
     "iopub.status.busy": "2021-06-25T18:06:59.730026Z",
     "iopub.status.idle": "2021-06-25T18:21:37.054111Z",
     "shell.execute_reply": "2021-06-25T18:21:37.053343Z"
    },
    "papermill": {
     "duration": 877.454388,
     "end_time": "2021-06-25T18:21:37.054279",
     "exception": false,
     "start_time": "2021-06-25T18:06:59.599891",
     "status": "completed"
    },
    "tags": []
   },
   "outputs": [
    {
     "name": "stdout",
     "output_type": "stream",
     "text": [
      "Epoch 1/2000\n",
      "76/76 [==============================] - 1s 6ms/step - loss: 0.2044 - accuracy: 0.3348\n",
      "Epoch 2/2000\n",
      "76/76 [==============================] - 0s 6ms/step - loss: 0.0428 - accuracy: 0.3376\n",
      "Epoch 3/2000\n",
      "76/76 [==============================] - 0s 6ms/step - loss: -0.1160 - accuracy: 0.3350\n",
      "Epoch 4/2000\n",
      "76/76 [==============================] - 0s 6ms/step - loss: -0.1837 - accuracy: 0.3301\n",
      "Epoch 5/2000\n",
      "76/76 [==============================] - 0s 5ms/step - loss: -1.8888 - accuracy: 0.3306\n",
      "Epoch 6/2000\n",
      "76/76 [==============================] - 0s 6ms/step - loss: -4.3061 - accuracy: 0.3316\n",
      "Epoch 7/2000\n",
      "76/76 [==============================] - 0s 5ms/step - loss: -19.6409 - accuracy: 0.3298\n",
      "Epoch 8/2000\n",
      "76/76 [==============================] - 0s 6ms/step - loss: -76.3397 - accuracy: 0.3332\n",
      "Epoch 9/2000\n",
      "76/76 [==============================] - 0s 6ms/step - loss: -212.9098 - accuracy: 0.3383\n",
      "Epoch 10/2000\n",
      "76/76 [==============================] - 0s 6ms/step - loss: -542.3784 - accuracy: 0.3233\n",
      "Epoch 11/2000\n",
      "76/76 [==============================] - 0s 6ms/step - loss: -1121.2949 - accuracy: 0.3395\n",
      "Epoch 12/2000\n",
      "76/76 [==============================] - 0s 6ms/step - loss: -2050.2507 - accuracy: 0.3307\n",
      "Epoch 13/2000\n",
      "76/76 [==============================] - 0s 5ms/step - loss: -3151.5538 - accuracy: 0.3316\n",
      "Epoch 14/2000\n",
      "76/76 [==============================] - 0s 5ms/step - loss: -5326.9665 - accuracy: 0.3330\n",
      "Epoch 15/2000\n",
      "76/76 [==============================] - 0s 6ms/step - loss: -8327.8998 - accuracy: 0.3360\n",
      "Epoch 16/2000\n",
      "76/76 [==============================] - 0s 5ms/step - loss: -12632.2641 - accuracy: 0.3410\n",
      "Epoch 17/2000\n",
      "76/76 [==============================] - 0s 5ms/step - loss: -16735.8735 - accuracy: 0.3354\n",
      "Epoch 18/2000\n",
      "76/76 [==============================] - 0s 5ms/step - loss: -23220.7639 - accuracy: 0.3351\n",
      "Epoch 19/2000\n",
      "76/76 [==============================] - 0s 5ms/step - loss: -30897.4422 - accuracy: 0.3259\n",
      "Epoch 20/2000\n",
      "76/76 [==============================] - 0s 5ms/step - loss: -40316.1386 - accuracy: 0.3345\n",
      "Epoch 21/2000\n",
      "76/76 [==============================] - 0s 5ms/step - loss: -50299.8139 - accuracy: 0.3293\n",
      "Epoch 22/2000\n",
      "76/76 [==============================] - 0s 5ms/step - loss: -63294.8126 - accuracy: 0.3270\n",
      "Epoch 23/2000\n",
      "76/76 [==============================] - 0s 6ms/step - loss: -78945.0014 - accuracy: 0.3260\n",
      "Epoch 24/2000\n",
      "76/76 [==============================] - 0s 6ms/step - loss: -94621.3527 - accuracy: 0.3374\n",
      "Epoch 25/2000\n",
      "76/76 [==============================] - 0s 6ms/step - loss: -106877.2232 - accuracy: 0.3324\n",
      "Epoch 26/2000\n",
      "76/76 [==============================] - 0s 5ms/step - loss: -132409.0295 - accuracy: 0.3430\n",
      "Epoch 27/2000\n",
      "76/76 [==============================] - 0s 5ms/step - loss: -152003.2901 - accuracy: 0.3425\n",
      "Epoch 28/2000\n",
      "76/76 [==============================] - 0s 5ms/step - loss: -177363.7782 - accuracy: 0.3283\n",
      "Epoch 29/2000\n",
      "76/76 [==============================] - 0s 5ms/step - loss: -208357.5110 - accuracy: 0.3265\n",
      "Epoch 30/2000\n",
      "76/76 [==============================] - 0s 5ms/step - loss: -241207.4830 - accuracy: 0.3415\n",
      "Epoch 31/2000\n",
      "76/76 [==============================] - 0s 6ms/step - loss: -273874.8448 - accuracy: 0.3315\n",
      "Epoch 32/2000\n",
      "76/76 [==============================] - 0s 6ms/step - loss: -302479.7500 - accuracy: 0.3331\n",
      "Epoch 33/2000\n",
      "76/76 [==============================] - 0s 5ms/step - loss: -323455.8336 - accuracy: 0.3389\n",
      "Epoch 34/2000\n",
      "76/76 [==============================] - 0s 6ms/step - loss: -386630.0747 - accuracy: 0.3235\n",
      "Epoch 35/2000\n",
      "76/76 [==============================] - 0s 6ms/step - loss: -397675.7691 - accuracy: 0.3253\n",
      "Epoch 36/2000\n",
      "76/76 [==============================] - 0s 5ms/step - loss: -464495.8162 - accuracy: 0.3322\n",
      "Epoch 37/2000\n",
      "76/76 [==============================] - 0s 5ms/step - loss: -506799.3413 - accuracy: 0.3351\n",
      "Epoch 38/2000\n",
      "76/76 [==============================] - 0s 5ms/step - loss: -581707.2354 - accuracy: 0.3323\n",
      "Epoch 39/2000\n",
      "76/76 [==============================] - 0s 6ms/step - loss: -646561.2622 - accuracy: 0.3321\n",
      "Epoch 40/2000\n",
      "76/76 [==============================] - 0s 6ms/step - loss: -699147.8782 - accuracy: 0.3323\n",
      "Epoch 41/2000\n",
      "76/76 [==============================] - 0s 6ms/step - loss: -703807.3981 - accuracy: 0.3381\n",
      "Epoch 42/2000\n",
      "76/76 [==============================] - 0s 5ms/step - loss: -845773.6331 - accuracy: 0.3313\n",
      "Epoch 43/2000\n",
      "76/76 [==============================] - 0s 5ms/step - loss: -867149.0869 - accuracy: 0.3336\n",
      "Epoch 44/2000\n",
      "76/76 [==============================] - 0s 5ms/step - loss: -936626.7963 - accuracy: 0.3414\n",
      "Epoch 45/2000\n",
      "76/76 [==============================] - 0s 5ms/step - loss: -1027226.2760 - accuracy: 0.3243\n",
      "Epoch 46/2000\n",
      "76/76 [==============================] - 0s 6ms/step - loss: -1104993.6688 - accuracy: 0.3326\n",
      "Epoch 47/2000\n",
      "76/76 [==============================] - 0s 6ms/step - loss: -1192934.2468 - accuracy: 0.3266\n",
      "Epoch 48/2000\n",
      "76/76 [==============================] - 0s 6ms/step - loss: -1291084.3068 - accuracy: 0.3350\n",
      "Epoch 49/2000\n",
      "76/76 [==============================] - 0s 6ms/step - loss: -1392689.3945 - accuracy: 0.3274\n",
      "Epoch 50/2000\n",
      "76/76 [==============================] - 0s 6ms/step - loss: -1441546.7289 - accuracy: 0.3390\n",
      "Epoch 51/2000\n",
      "76/76 [==============================] - 0s 6ms/step - loss: -1542254.6721 - accuracy: 0.3488\n",
      "Epoch 52/2000\n",
      "76/76 [==============================] - 0s 5ms/step - loss: -1627155.4432 - accuracy: 0.3356\n",
      "Epoch 53/2000\n",
      "76/76 [==============================] - 0s 5ms/step - loss: -1737774.5519 - accuracy: 0.3375\n",
      "Epoch 54/2000\n",
      "76/76 [==============================] - 0s 5ms/step - loss: -1833386.3847 - accuracy: 0.3291\n",
      "Epoch 55/2000\n",
      "76/76 [==============================] - 0s 6ms/step - loss: -1955414.5032 - accuracy: 0.3378\n",
      "Epoch 56/2000\n",
      "76/76 [==============================] - 0s 6ms/step - loss: -1994841.0357 - accuracy: 0.3330\n",
      "Epoch 57/2000\n",
      "76/76 [==============================] - 0s 6ms/step - loss: -2201072.9708 - accuracy: 0.3509\n",
      "Epoch 58/2000\n",
      "76/76 [==============================] - 0s 6ms/step - loss: -2323148.1185 - accuracy: 0.3456\n",
      "Epoch 59/2000\n",
      "76/76 [==============================] - 0s 5ms/step - loss: -2390820.6218 - accuracy: 0.3363\n",
      "Epoch 60/2000\n",
      "76/76 [==============================] - 0s 6ms/step - loss: -2573307.8766 - accuracy: 0.3501\n",
      "Epoch 61/2000\n",
      "76/76 [==============================] - 0s 6ms/step - loss: -2651961.4286 - accuracy: 0.3382\n",
      "Epoch 62/2000\n",
      "76/76 [==============================] - 0s 6ms/step - loss: -2805300.6266 - accuracy: 0.3410\n",
      "Epoch 63/2000\n",
      "76/76 [==============================] - 0s 5ms/step - loss: -2966036.5195 - accuracy: 0.3527\n",
      "Epoch 64/2000\n",
      "76/76 [==============================] - 0s 6ms/step - loss: -2980871.3003 - accuracy: 0.3479\n",
      "Epoch 65/2000\n",
      "76/76 [==============================] - 0s 5ms/step - loss: -3232532.6299 - accuracy: 0.3512\n",
      "Epoch 66/2000\n",
      "76/76 [==============================] - 0s 6ms/step - loss: -3441191.0065 - accuracy: 0.3439\n",
      "Epoch 67/2000\n",
      "76/76 [==============================] - 0s 6ms/step - loss: -3648386.8636 - accuracy: 0.3346\n",
      "Epoch 68/2000\n",
      "76/76 [==============================] - 0s 5ms/step - loss: -3824444.1006 - accuracy: 0.3351\n",
      "Epoch 69/2000\n",
      "76/76 [==============================] - 0s 6ms/step - loss: -3962754.8182 - accuracy: 0.3458\n",
      "Epoch 70/2000\n",
      "76/76 [==============================] - 0s 6ms/step - loss: -4093269.3831 - accuracy: 0.3433\n",
      "Epoch 71/2000\n",
      "76/76 [==============================] - 0s 6ms/step - loss: -4258424.4545 - accuracy: 0.3467\n",
      "Epoch 72/2000\n",
      "76/76 [==============================] - 0s 6ms/step - loss: -4518151.4351 - accuracy: 0.3465\n",
      "Epoch 73/2000\n",
      "76/76 [==============================] - 0s 6ms/step - loss: -4684084.9026 - accuracy: 0.3536\n",
      "Epoch 74/2000\n",
      "76/76 [==============================] - 0s 6ms/step - loss: -4783778.2597 - accuracy: 0.3498\n",
      "Epoch 75/2000\n",
      "76/76 [==============================] - 0s 6ms/step - loss: -5071256.7273 - accuracy: 0.3520\n",
      "Epoch 76/2000\n",
      "76/76 [==============================] - 0s 6ms/step - loss: -5222289.1558 - accuracy: 0.3496\n",
      "Epoch 77/2000\n",
      "76/76 [==============================] - 0s 5ms/step - loss: -5331751.7825 - accuracy: 0.3472\n",
      "Epoch 78/2000\n",
      "76/76 [==============================] - 0s 5ms/step - loss: -5739715.3506 - accuracy: 0.3501\n",
      "Epoch 79/2000\n",
      "76/76 [==============================] - 0s 5ms/step - loss: -5993095.7922 - accuracy: 0.3426\n",
      "Epoch 80/2000\n",
      "76/76 [==============================] - 0s 6ms/step - loss: -6122091.8182 - accuracy: 0.3521\n",
      "Epoch 81/2000\n",
      "76/76 [==============================] - 0s 6ms/step - loss: -6250850.6104 - accuracy: 0.3515\n",
      "Epoch 82/2000\n",
      "76/76 [==============================] - 0s 6ms/step - loss: -6663294.4805 - accuracy: 0.3403\n",
      "Epoch 83/2000\n",
      "76/76 [==============================] - 0s 5ms/step - loss: -6993624.0974 - accuracy: 0.3530\n",
      "Epoch 84/2000\n",
      "76/76 [==============================] - 0s 5ms/step - loss: -6910361.8182 - accuracy: 0.3581\n",
      "Epoch 85/2000\n",
      "76/76 [==============================] - 0s 6ms/step - loss: -7283450.1299 - accuracy: 0.3536\n",
      "Epoch 86/2000\n",
      "76/76 [==============================] - 0s 5ms/step - loss: -7696429.3506 - accuracy: 0.3605\n",
      "Epoch 87/2000\n",
      "76/76 [==============================] - 0s 5ms/step - loss: -7949286.5195 - accuracy: 0.3542\n",
      "Epoch 88/2000\n",
      "76/76 [==============================] - 0s 6ms/step - loss: -8002407.2338 - accuracy: 0.3555\n",
      "Epoch 89/2000\n",
      "76/76 [==============================] - 0s 5ms/step - loss: -8496777.0260 - accuracy: 0.3586\n",
      "Epoch 90/2000\n",
      "76/76 [==============================] - 0s 6ms/step - loss: -8776856.7532 - accuracy: 0.3604\n",
      "Epoch 91/2000\n",
      "76/76 [==============================] - 0s 5ms/step - loss: -8894653.2208 - accuracy: 0.3582\n",
      "Epoch 92/2000\n",
      "76/76 [==============================] - 0s 6ms/step - loss: -9076082.0909 - accuracy: 0.3687\n",
      "Epoch 93/2000\n",
      "76/76 [==============================] - 0s 6ms/step - loss: -9330490.3506 - accuracy: 0.3606\n",
      "Epoch 94/2000\n",
      "76/76 [==============================] - 0s 5ms/step - loss: -9522970.8831 - accuracy: 0.3653\n",
      "Epoch 95/2000\n",
      "76/76 [==============================] - 0s 6ms/step - loss: -9891578.3766 - accuracy: 0.3755\n",
      "Epoch 96/2000\n",
      "76/76 [==============================] - 0s 6ms/step - loss: -10591222.3896 - accuracy: 0.3623\n",
      "Epoch 97/2000\n",
      "76/76 [==============================] - 0s 5ms/step - loss: -10550104.2987 - accuracy: 0.3735\n",
      "Epoch 98/2000\n",
      "76/76 [==============================] - 0s 5ms/step - loss: -10904601.2532 - accuracy: 0.3614\n",
      "Epoch 99/2000\n",
      "76/76 [==============================] - 0s 6ms/step - loss: -11142747.4156 - accuracy: 0.3683\n",
      "Epoch 100/2000\n",
      "76/76 [==============================] - 0s 7ms/step - loss: -11336186.5974 - accuracy: 0.3756\n",
      "Epoch 101/2000\n",
      "76/76 [==============================] - 0s 6ms/step - loss: -11958703.1558 - accuracy: 0.3717\n",
      "Epoch 102/2000\n",
      "76/76 [==============================] - 0s 5ms/step - loss: -12157165.8442 - accuracy: 0.3689\n",
      "Epoch 103/2000\n",
      "76/76 [==============================] - 0s 5ms/step - loss: -12614823.7403 - accuracy: 0.3760\n",
      "Epoch 104/2000\n",
      "76/76 [==============================] - 0s 6ms/step - loss: -12838684.2468 - accuracy: 0.3708\n",
      "Epoch 105/2000\n",
      "76/76 [==============================] - 0s 6ms/step - loss: -13435940.1039 - accuracy: 0.3848\n",
      "Epoch 106/2000\n",
      "76/76 [==============================] - 0s 6ms/step - loss: -13643033.2727 - accuracy: 0.3721\n",
      "Epoch 107/2000\n",
      "76/76 [==============================] - 0s 6ms/step - loss: -13902435.2338 - accuracy: 0.3837\n",
      "Epoch 108/2000\n",
      "76/76 [==============================] - 0s 5ms/step - loss: -14512275.9351 - accuracy: 0.3840\n",
      "Epoch 109/2000\n",
      "76/76 [==============================] - 0s 6ms/step - loss: -14753120.0519 - accuracy: 0.3862\n",
      "Epoch 110/2000\n",
      "76/76 [==============================] - 0s 6ms/step - loss: -15085077.2597 - accuracy: 0.3795\n",
      "Epoch 111/2000\n",
      "76/76 [==============================] - 0s 6ms/step - loss: -15436404.5584 - accuracy: 0.3863\n",
      "Epoch 112/2000\n",
      "76/76 [==============================] - 0s 6ms/step - loss: -16183304.1169 - accuracy: 0.3883\n",
      "Epoch 113/2000\n",
      "76/76 [==============================] - 0s 6ms/step - loss: -16130376.9481 - accuracy: 0.3912\n",
      "Epoch 114/2000\n",
      "76/76 [==============================] - 0s 6ms/step - loss: -17059546.8182 - accuracy: 0.3877\n",
      "Epoch 115/2000\n",
      "76/76 [==============================] - 0s 6ms/step - loss: -16996402.7532 - accuracy: 0.3748\n",
      "Epoch 116/2000\n",
      "76/76 [==============================] - 0s 6ms/step - loss: -17148467.3766 - accuracy: 0.3975\n",
      "Epoch 117/2000\n",
      "76/76 [==============================] - 0s 6ms/step - loss: -17833658.4675 - accuracy: 0.3933\n",
      "Epoch 118/2000\n",
      "76/76 [==============================] - 0s 6ms/step - loss: -18415450.3896 - accuracy: 0.3926\n",
      "Epoch 119/2000\n",
      "76/76 [==============================] - 0s 6ms/step - loss: -18113483.1558 - accuracy: 0.4017\n",
      "Epoch 120/2000\n",
      "76/76 [==============================] - 0s 6ms/step - loss: -19715935.6623 - accuracy: 0.3897\n",
      "Epoch 121/2000\n",
      "76/76 [==============================] - 0s 6ms/step - loss: -19451027.3506 - accuracy: 0.3976\n",
      "Epoch 122/2000\n",
      "76/76 [==============================] - 1s 7ms/step - loss: -19860857.7403 - accuracy: 0.3997\n",
      "Epoch 123/2000\n",
      "76/76 [==============================] - 0s 6ms/step - loss: -20448844.2857 - accuracy: 0.3961\n",
      "Epoch 124/2000\n",
      "76/76 [==============================] - 0s 6ms/step - loss: -21405217.7403 - accuracy: 0.3924\n",
      "Epoch 125/2000\n",
      "76/76 [==============================] - 0s 6ms/step - loss: -21337538.3636 - accuracy: 0.3956\n",
      "Epoch 126/2000\n",
      "76/76 [==============================] - 0s 6ms/step - loss: -22685201.2727 - accuracy: 0.3875\n",
      "Epoch 127/2000\n",
      "76/76 [==============================] - 0s 6ms/step - loss: -22964195.5065 - accuracy: 0.3947\n",
      "Epoch 128/2000\n",
      "76/76 [==============================] - 0s 6ms/step - loss: -22894886.1299 - accuracy: 0.3985\n",
      "Epoch 129/2000\n",
      "76/76 [==============================] - 0s 6ms/step - loss: -22994318.1818 - accuracy: 0.4101\n",
      "Epoch 130/2000\n",
      "76/76 [==============================] - 0s 6ms/step - loss: -23775941.4286 - accuracy: 0.4112\n",
      "Epoch 131/2000\n",
      "76/76 [==============================] - 0s 5ms/step - loss: -24770142.9091 - accuracy: 0.4010\n",
      "Epoch 132/2000\n",
      "76/76 [==============================] - 0s 6ms/step - loss: -25413815.0130 - accuracy: 0.4010\n",
      "Epoch 133/2000\n",
      "76/76 [==============================] - 0s 6ms/step - loss: -26194520.0000 - accuracy: 0.3978\n",
      "Epoch 134/2000\n",
      "76/76 [==============================] - 0s 6ms/step - loss: -26838959.0909 - accuracy: 0.4117\n",
      "Epoch 135/2000\n",
      "76/76 [==============================] - 0s 6ms/step - loss: -26685149.9221 - accuracy: 0.4118\n",
      "Epoch 136/2000\n",
      "76/76 [==============================] - 0s 6ms/step - loss: -26261834.0519 - accuracy: 0.4150\n",
      "Epoch 137/2000\n",
      "76/76 [==============================] - 0s 6ms/step - loss: -27360280.6234 - accuracy: 0.4139\n",
      "Epoch 138/2000\n",
      "76/76 [==============================] - 0s 6ms/step - loss: -27641423.8961 - accuracy: 0.4148\n",
      "Epoch 139/2000\n",
      "76/76 [==============================] - 0s 6ms/step - loss: -28214214.0260 - accuracy: 0.4080\n",
      "Epoch 140/2000\n",
      "76/76 [==============================] - 0s 6ms/step - loss: -29331037.7922 - accuracy: 0.4071\n",
      "Epoch 141/2000\n",
      "76/76 [==============================] - 0s 6ms/step - loss: -30423436.3896 - accuracy: 0.4066\n",
      "Epoch 142/2000\n",
      "76/76 [==============================] - 0s 5ms/step - loss: -31198595.3506 - accuracy: 0.4197\n",
      "Epoch 143/2000\n",
      "76/76 [==============================] - 0s 6ms/step - loss: -31302626.1818 - accuracy: 0.4123\n",
      "Epoch 144/2000\n",
      "76/76 [==============================] - 0s 5ms/step - loss: -32986624.5195 - accuracy: 0.4079\n",
      "Epoch 145/2000\n",
      "76/76 [==============================] - 0s 5ms/step - loss: -31256955.0390 - accuracy: 0.4284\n",
      "Epoch 146/2000\n",
      "76/76 [==============================] - 0s 6ms/step - loss: -33935209.2208 - accuracy: 0.4151\n",
      "Epoch 147/2000\n",
      "76/76 [==============================] - 0s 6ms/step - loss: -34626426.3896 - accuracy: 0.4129\n",
      "Epoch 148/2000\n",
      "76/76 [==============================] - 0s 6ms/step - loss: -34896240.4156 - accuracy: 0.4153\n",
      "Epoch 149/2000\n",
      "76/76 [==============================] - 0s 5ms/step - loss: -34633757.4286 - accuracy: 0.4194\n",
      "Epoch 150/2000\n",
      "76/76 [==============================] - 0s 6ms/step - loss: -35951243.4286 - accuracy: 0.4193\n",
      "Epoch 151/2000\n",
      "76/76 [==============================] - 0s 6ms/step - loss: -37311051.0390 - accuracy: 0.4233\n",
      "Epoch 152/2000\n",
      "76/76 [==============================] - 0s 5ms/step - loss: -38325297.6104 - accuracy: 0.4159\n",
      "Epoch 153/2000\n",
      "76/76 [==============================] - 0s 6ms/step - loss: -38852025.1429 - accuracy: 0.4257\n",
      "Epoch 154/2000\n",
      "76/76 [==============================] - 0s 6ms/step - loss: -38366539.2208 - accuracy: 0.4323\n",
      "Epoch 155/2000\n",
      "76/76 [==============================] - 0s 6ms/step - loss: -39258396.8831 - accuracy: 0.4269\n",
      "Epoch 156/2000\n",
      "76/76 [==============================] - 0s 5ms/step - loss: -39890124.3636 - accuracy: 0.4276\n",
      "Epoch 157/2000\n",
      "76/76 [==============================] - 0s 6ms/step - loss: -41735868.8831 - accuracy: 0.4268\n",
      "Epoch 158/2000\n",
      "76/76 [==============================] - 0s 5ms/step - loss: -42397074.9610 - accuracy: 0.4209\n",
      "Epoch 159/2000\n",
      "76/76 [==============================] - 0s 5ms/step - loss: -42359562.3896 - accuracy: 0.4273\n",
      "Epoch 160/2000\n",
      "76/76 [==============================] - 0s 5ms/step - loss: -42157340.3636 - accuracy: 0.4368\n",
      "Epoch 161/2000\n",
      "76/76 [==============================] - 0s 5ms/step - loss: -43451800.4156 - accuracy: 0.4280\n",
      "Epoch 162/2000\n",
      "76/76 [==============================] - 0s 6ms/step - loss: -44800347.5325 - accuracy: 0.4273\n",
      "Epoch 163/2000\n",
      "76/76 [==============================] - 0s 5ms/step - loss: -44551083.9481 - accuracy: 0.4368\n",
      "Epoch 164/2000\n",
      "76/76 [==============================] - 0s 5ms/step - loss: -44545664.7792 - accuracy: 0.4459\n",
      "Epoch 165/2000\n",
      "76/76 [==============================] - 0s 6ms/step - loss: -45268091.6883 - accuracy: 0.4326\n",
      "Epoch 166/2000\n",
      "76/76 [==============================] - 0s 5ms/step - loss: -45976634.3896 - accuracy: 0.4364\n",
      "Epoch 167/2000\n",
      "76/76 [==============================] - 0s 5ms/step - loss: -48596326.9610 - accuracy: 0.4365\n",
      "Epoch 168/2000\n",
      "76/76 [==============================] - 0s 5ms/step - loss: -47997146.9610 - accuracy: 0.4367\n",
      "Epoch 169/2000\n",
      "76/76 [==============================] - 0s 6ms/step - loss: -50731616.0519 - accuracy: 0.4346\n",
      "Epoch 170/2000\n",
      "76/76 [==============================] - 0s 6ms/step - loss: -50024955.0649 - accuracy: 0.4446\n",
      "Epoch 171/2000\n",
      "76/76 [==============================] - 0s 6ms/step - loss: -49788406.2857 - accuracy: 0.4447\n",
      "Epoch 172/2000\n",
      "76/76 [==============================] - 0s 6ms/step - loss: -50169991.7922 - accuracy: 0.4485\n",
      "Epoch 173/2000\n",
      "76/76 [==============================] - 0s 6ms/step - loss: -53295125.6623 - accuracy: 0.4415\n",
      "Epoch 174/2000\n",
      "76/76 [==============================] - 0s 6ms/step - loss: -54022246.9610 - accuracy: 0.4453\n",
      "Epoch 175/2000\n",
      "76/76 [==============================] - 1s 7ms/step - loss: -54792428.4156 - accuracy: 0.4467\n",
      "Epoch 176/2000\n",
      "76/76 [==============================] - 0s 7ms/step - loss: -56794073.5584 - accuracy: 0.4416\n",
      "Epoch 177/2000\n",
      "76/76 [==============================] - 0s 6ms/step - loss: -56163381.1948 - accuracy: 0.4553\n",
      "Epoch 178/2000\n",
      "76/76 [==============================] - 0s 6ms/step - loss: -55652181.7662 - accuracy: 0.4548\n",
      "Epoch 179/2000\n",
      "76/76 [==============================] - 0s 5ms/step - loss: -56273375.3247 - accuracy: 0.4514\n",
      "Epoch 180/2000\n",
      "76/76 [==============================] - 0s 5ms/step - loss: -58398771.3247 - accuracy: 0.4463\n",
      "Epoch 181/2000\n",
      "76/76 [==============================] - 0s 6ms/step - loss: -59389243.7403 - accuracy: 0.4487\n",
      "Epoch 182/2000\n",
      "76/76 [==============================] - 0s 5ms/step - loss: -61011449.1948 - accuracy: 0.4546\n",
      "Epoch 183/2000\n",
      "76/76 [==============================] - 0s 5ms/step - loss: -61290783.8442 - accuracy: 0.4637\n",
      "Epoch 184/2000\n",
      "76/76 [==============================] - 0s 6ms/step - loss: -61917354.4935 - accuracy: 0.4585\n",
      "Epoch 185/2000\n",
      "76/76 [==============================] - 0s 6ms/step - loss: -63120131.7403 - accuracy: 0.4526\n",
      "Epoch 186/2000\n",
      "76/76 [==============================] - 0s 6ms/step - loss: -65822923.4286 - accuracy: 0.4522\n",
      "Epoch 187/2000\n",
      "76/76 [==============================] - 0s 5ms/step - loss: -65834256.3117 - accuracy: 0.4497\n",
      "Epoch 188/2000\n",
      "76/76 [==============================] - 0s 6ms/step - loss: -68362543.5844 - accuracy: 0.4418\n",
      "Epoch 189/2000\n",
      "76/76 [==============================] - 0s 6ms/step - loss: -68340451.2208 - accuracy: 0.4616\n",
      "Epoch 190/2000\n",
      "76/76 [==============================] - 0s 6ms/step - loss: -68647259.0649 - accuracy: 0.4597\n",
      "Epoch 191/2000\n",
      "76/76 [==============================] - 0s 5ms/step - loss: -71072665.8701 - accuracy: 0.4464\n",
      "Epoch 192/2000\n",
      "76/76 [==============================] - 0s 6ms/step - loss: -69863652.9870 - accuracy: 0.4690\n",
      "Epoch 193/2000\n",
      "76/76 [==============================] - 0s 6ms/step - loss: -69931798.8571 - accuracy: 0.4641\n",
      "Epoch 194/2000\n",
      "76/76 [==============================] - 0s 6ms/step - loss: -72548124.6234 - accuracy: 0.4534\n",
      "Epoch 195/2000\n",
      "76/76 [==============================] - 0s 6ms/step - loss: -74324092.5714 - accuracy: 0.4596\n",
      "Epoch 196/2000\n",
      "76/76 [==============================] - 0s 6ms/step - loss: -73538353.4545 - accuracy: 0.4667\n",
      "Epoch 197/2000\n",
      "76/76 [==============================] - 0s 6ms/step - loss: -75748415.1688 - accuracy: 0.4592\n",
      "Epoch 198/2000\n",
      "76/76 [==============================] - 0s 6ms/step - loss: -77515225.7662 - accuracy: 0.4672\n",
      "Epoch 199/2000\n",
      "76/76 [==============================] - 0s 6ms/step - loss: -77945376.9351 - accuracy: 0.4712\n",
      "Epoch 200/2000\n",
      "76/76 [==============================] - 0s 5ms/step - loss: -78325966.8571 - accuracy: 0.4747\n",
      "Epoch 201/2000\n",
      "76/76 [==============================] - 0s 5ms/step - loss: -77860338.9610 - accuracy: 0.4776\n",
      "Epoch 202/2000\n",
      "76/76 [==============================] - 0s 5ms/step - loss: -79976378.7013 - accuracy: 0.4661\n",
      "Epoch 203/2000\n",
      "76/76 [==============================] - 0s 6ms/step - loss: -80141923.9481 - accuracy: 0.4759\n",
      "Epoch 204/2000\n",
      "76/76 [==============================] - 0s 5ms/step - loss: -82671454.8571 - accuracy: 0.4728\n",
      "Epoch 205/2000\n",
      "76/76 [==============================] - 0s 6ms/step - loss: -82288681.6623 - accuracy: 0.4870\n",
      "Epoch 206/2000\n",
      "76/76 [==============================] - 0s 6ms/step - loss: -83685114.8052 - accuracy: 0.4806\n",
      "Epoch 207/2000\n",
      "76/76 [==============================] - 0s 5ms/step - loss: -84951336.7273 - accuracy: 0.4806\n",
      "Epoch 208/2000\n",
      "76/76 [==============================] - 0s 5ms/step - loss: -89561355.0130 - accuracy: 0.4615\n",
      "Epoch 209/2000\n",
      "76/76 [==============================] - 0s 5ms/step - loss: -86732548.2597 - accuracy: 0.4864\n",
      "Epoch 210/2000\n",
      "76/76 [==============================] - 0s 5ms/step - loss: -87133627.9481 - accuracy: 0.4798\n",
      "Epoch 211/2000\n",
      "76/76 [==============================] - 0s 5ms/step - loss: -90513101.8182 - accuracy: 0.4646\n",
      "Epoch 212/2000\n",
      "76/76 [==============================] - 0s 5ms/step - loss: -93913295.5844 - accuracy: 0.4858\n",
      "Epoch 213/2000\n",
      "76/76 [==============================] - 0s 6ms/step - loss: -92199165.0909 - accuracy: 0.4800\n",
      "Epoch 214/2000\n",
      "76/76 [==============================] - 0s 5ms/step - loss: -90583788.0519 - accuracy: 0.4875\n",
      "Epoch 215/2000\n",
      "76/76 [==============================] - 0s 6ms/step - loss: -97152212.8831 - accuracy: 0.4692\n",
      "Epoch 216/2000\n",
      "76/76 [==============================] - 0s 5ms/step - loss: -98293353.4545 - accuracy: 0.4737\n",
      "Epoch 217/2000\n",
      "76/76 [==============================] - 0s 5ms/step - loss: -95606196.8831 - accuracy: 0.4966\n",
      "Epoch 218/2000\n",
      "76/76 [==============================] - 0s 6ms/step - loss: -96839897.0390 - accuracy: 0.4904\n",
      "Epoch 219/2000\n",
      "76/76 [==============================] - 0s 6ms/step - loss: -99236066.8052 - accuracy: 0.4880\n",
      "Epoch 220/2000\n",
      "76/76 [==============================] - 0s 6ms/step - loss: -98848976.3117 - accuracy: 0.4810\n",
      "Epoch 221/2000\n",
      "76/76 [==============================] - 0s 5ms/step - loss: -101758566.2338 - accuracy: 0.4894\n",
      "Epoch 222/2000\n",
      "76/76 [==============================] - 0s 5ms/step - loss: -104517115.1169 - accuracy: 0.4766\n",
      "Epoch 223/2000\n",
      "76/76 [==============================] - 0s 5ms/step - loss: -103188144.0000 - accuracy: 0.5041\n",
      "Epoch 224/2000\n",
      "76/76 [==============================] - 0s 6ms/step - loss: -104324128.9351 - accuracy: 0.4860\n",
      "Epoch 225/2000\n",
      "76/76 [==============================] - 0s 6ms/step - loss: -105182485.9221 - accuracy: 0.4954\n",
      "Epoch 226/2000\n",
      "76/76 [==============================] - 0s 5ms/step - loss: -106735946.8052 - accuracy: 0.5079\n",
      "Epoch 227/2000\n",
      "76/76 [==============================] - 0s 5ms/step - loss: -107822287.0649 - accuracy: 0.5060\n",
      "Epoch 228/2000\n",
      "76/76 [==============================] - 0s 5ms/step - loss: -110728708.9870 - accuracy: 0.4879\n",
      "Epoch 229/2000\n",
      "76/76 [==============================] - 0s 5ms/step - loss: -113361931.2208 - accuracy: 0.4937\n",
      "Epoch 230/2000\n",
      "76/76 [==============================] - 0s 5ms/step - loss: -111926569.9740 - accuracy: 0.5101\n",
      "Epoch 231/2000\n",
      "76/76 [==============================] - 0s 5ms/step - loss: -115681902.7532 - accuracy: 0.4939\n",
      "Epoch 232/2000\n",
      "76/76 [==============================] - 0s 6ms/step - loss: -114712332.8831 - accuracy: 0.5121\n",
      "Epoch 233/2000\n",
      "76/76 [==============================] - 0s 6ms/step - loss: -117798465.5584 - accuracy: 0.5041\n",
      "Epoch 234/2000\n",
      "76/76 [==============================] - 0s 5ms/step - loss: -119837025.0390 - accuracy: 0.4940\n",
      "Epoch 235/2000\n",
      "76/76 [==============================] - 0s 5ms/step - loss: -120969835.4286 - accuracy: 0.5134\n",
      "Epoch 236/2000\n",
      "76/76 [==============================] - 0s 5ms/step - loss: -120268004.5714 - accuracy: 0.5078\n",
      "Epoch 237/2000\n",
      "76/76 [==============================] - 0s 5ms/step - loss: -124014300.2597 - accuracy: 0.5089\n",
      "Epoch 238/2000\n",
      "76/76 [==============================] - 0s 5ms/step - loss: -125711320.2078 - accuracy: 0.5041\n",
      "Epoch 239/2000\n",
      "76/76 [==============================] - 0s 6ms/step - loss: -124544281.5584 - accuracy: 0.5108\n",
      "Epoch 240/2000\n",
      "76/76 [==============================] - 0s 5ms/step - loss: -124321466.4935 - accuracy: 0.5266\n",
      "Epoch 241/2000\n",
      "76/76 [==============================] - 0s 6ms/step - loss: -129670064.3117 - accuracy: 0.4963\n",
      "Epoch 242/2000\n",
      "76/76 [==============================] - 0s 6ms/step - loss: -130717642.8052 - accuracy: 0.4999\n",
      "Epoch 243/2000\n",
      "76/76 [==============================] - 0s 6ms/step - loss: -129956457.4545 - accuracy: 0.5219\n",
      "Epoch 244/2000\n",
      "76/76 [==============================] - 0s 6ms/step - loss: -132308263.1688 - accuracy: 0.5074\n",
      "Epoch 245/2000\n",
      "76/76 [==============================] - 0s 6ms/step - loss: -134161255.2727 - accuracy: 0.5101\n",
      "Epoch 246/2000\n",
      "76/76 [==============================] - 0s 6ms/step - loss: -134721179.2208 - accuracy: 0.5257\n",
      "Epoch 247/2000\n",
      "76/76 [==============================] - 0s 6ms/step - loss: -139003765.8182 - accuracy: 0.5114\n",
      "Epoch 248/2000\n",
      "76/76 [==============================] - 0s 6ms/step - loss: -136371242.5974 - accuracy: 0.5288\n",
      "Epoch 249/2000\n",
      "76/76 [==============================] - 0s 6ms/step - loss: -137690167.3766 - accuracy: 0.5365\n",
      "Epoch 250/2000\n",
      "76/76 [==============================] - 0s 6ms/step - loss: -144167266.4935 - accuracy: 0.5207\n",
      "Epoch 251/2000\n",
      "76/76 [==============================] - 1s 7ms/step - loss: -145377218.0779 - accuracy: 0.5246\n",
      "Epoch 252/2000\n",
      "76/76 [==============================] - 0s 6ms/step - loss: -145094613.4026 - accuracy: 0.5121\n",
      "Epoch 253/2000\n",
      "76/76 [==============================] - 0s 5ms/step - loss: -145223419.4286 - accuracy: 0.5388\n",
      "Epoch 254/2000\n",
      "76/76 [==============================] - 0s 6ms/step - loss: -147502659.5325 - accuracy: 0.5172\n",
      "Epoch 255/2000\n",
      "76/76 [==============================] - 0s 5ms/step - loss: -147882924.6753 - accuracy: 0.5270\n",
      "Epoch 256/2000\n",
      "76/76 [==============================] - 0s 5ms/step - loss: -150997014.2338 - accuracy: 0.5166\n",
      "Epoch 257/2000\n",
      "76/76 [==============================] - 0s 5ms/step - loss: -151606483.7403 - accuracy: 0.5407\n",
      "Epoch 258/2000\n",
      "76/76 [==============================] - 0s 5ms/step - loss: -153123088.2078 - accuracy: 0.5172\n",
      "Epoch 259/2000\n",
      "76/76 [==============================] - 0s 5ms/step - loss: -157236104.3117 - accuracy: 0.5272\n",
      "Epoch 260/2000\n",
      "76/76 [==============================] - 0s 6ms/step - loss: -163346226.0779 - accuracy: 0.5146\n",
      "Epoch 261/2000\n",
      "76/76 [==============================] - 0s 6ms/step - loss: -158741372.2597 - accuracy: 0.5251\n",
      "Epoch 262/2000\n",
      "76/76 [==============================] - 0s 5ms/step - loss: -164525736.1039 - accuracy: 0.5261\n",
      "Epoch 263/2000\n",
      "76/76 [==============================] - 0s 5ms/step - loss: -166066329.1429 - accuracy: 0.5198\n",
      "Epoch 264/2000\n",
      "76/76 [==============================] - 0s 6ms/step - loss: -165083299.0130 - accuracy: 0.5356\n",
      "Epoch 265/2000\n",
      "76/76 [==============================] - 0s 6ms/step - loss: -164533551.1688 - accuracy: 0.5468\n",
      "Epoch 266/2000\n",
      "76/76 [==============================] - 0s 6ms/step - loss: -169034656.8312 - accuracy: 0.5355\n",
      "Epoch 267/2000\n",
      "76/76 [==============================] - 0s 6ms/step - loss: -172311015.0649 - accuracy: 0.5289\n",
      "Epoch 268/2000\n",
      "76/76 [==============================] - 0s 6ms/step - loss: -170235956.7792 - accuracy: 0.5273\n",
      "Epoch 269/2000\n",
      "76/76 [==============================] - 0s 5ms/step - loss: -175014208.2078 - accuracy: 0.5287\n",
      "Epoch 270/2000\n",
      "76/76 [==============================] - 0s 6ms/step - loss: -170889376.2078 - accuracy: 0.5503\n",
      "Epoch 271/2000\n",
      "76/76 [==============================] - 0s 6ms/step - loss: -177997126.8571 - accuracy: 0.5418\n",
      "Epoch 272/2000\n",
      "76/76 [==============================] - 0s 5ms/step - loss: -178150702.7532 - accuracy: 0.5306\n",
      "Epoch 273/2000\n",
      "76/76 [==============================] - 0s 5ms/step - loss: -179950781.7143 - accuracy: 0.5491\n",
      "Epoch 274/2000\n",
      "76/76 [==============================] - 0s 6ms/step - loss: -182431302.2338 - accuracy: 0.5318\n",
      "Epoch 275/2000\n",
      "76/76 [==============================] - 0s 6ms/step - loss: -184594863.3766 - accuracy: 0.5320\n",
      "Epoch 276/2000\n",
      "76/76 [==============================] - 0s 6ms/step - loss: -181708673.2468 - accuracy: 0.5530\n",
      "Epoch 277/2000\n",
      "76/76 [==============================] - 0s 6ms/step - loss: -190743992.3117 - accuracy: 0.5318\n",
      "Epoch 278/2000\n",
      "76/76 [==============================] - 0s 6ms/step - loss: -191528531.3247 - accuracy: 0.5425\n",
      "Epoch 279/2000\n",
      "76/76 [==============================] - 0s 6ms/step - loss: -190441593.7662 - accuracy: 0.5407\n",
      "Epoch 280/2000\n",
      "76/76 [==============================] - 0s 5ms/step - loss: -190397632.6234 - accuracy: 0.5469\n",
      "Epoch 281/2000\n",
      "76/76 [==============================] - 0s 5ms/step - loss: -191288384.8312 - accuracy: 0.5421\n",
      "Epoch 282/2000\n",
      "76/76 [==============================] - 0s 5ms/step - loss: -189880105.3506 - accuracy: 0.5496\n",
      "Epoch 283/2000\n",
      "76/76 [==============================] - 0s 6ms/step - loss: -196997642.8052 - accuracy: 0.5472\n",
      "Epoch 284/2000\n",
      "76/76 [==============================] - 0s 5ms/step - loss: -198805665.8701 - accuracy: 0.5591\n",
      "Epoch 285/2000\n",
      "76/76 [==============================] - 0s 5ms/step - loss: -200635019.6364 - accuracy: 0.5406\n",
      "Epoch 286/2000\n",
      "76/76 [==============================] - 0s 5ms/step - loss: -203194367.1688 - accuracy: 0.5511\n",
      "Epoch 287/2000\n",
      "76/76 [==============================] - 0s 5ms/step - loss: -203404867.7403 - accuracy: 0.5502\n",
      "Epoch 288/2000\n",
      "76/76 [==============================] - 0s 5ms/step - loss: -205479165.5065 - accuracy: 0.5694\n",
      "Epoch 289/2000\n",
      "76/76 [==============================] - 0s 6ms/step - loss: -207049732.7792 - accuracy: 0.5432\n",
      "Epoch 290/2000\n",
      "76/76 [==============================] - 0s 5ms/step - loss: -207587131.6364 - accuracy: 0.5552\n",
      "Epoch 291/2000\n",
      "76/76 [==============================] - 0s 6ms/step - loss: -213388139.2208 - accuracy: 0.5492\n",
      "Epoch 292/2000\n",
      "76/76 [==============================] - 0s 5ms/step - loss: -215602078.7532 - accuracy: 0.5606\n",
      "Epoch 293/2000\n",
      "76/76 [==============================] - 0s 5ms/step - loss: -219382589.0909 - accuracy: 0.5580\n",
      "Epoch 294/2000\n",
      "76/76 [==============================] - 0s 5ms/step - loss: -219016268.4675 - accuracy: 0.5535\n",
      "Epoch 295/2000\n",
      "76/76 [==============================] - 0s 5ms/step - loss: -213627245.9221 - accuracy: 0.5698\n",
      "Epoch 296/2000\n",
      "76/76 [==============================] - 0s 6ms/step - loss: -226100434.9091 - accuracy: 0.5505\n",
      "Epoch 297/2000\n",
      "76/76 [==============================] - 0s 5ms/step - loss: -223374244.7792 - accuracy: 0.5643\n",
      "Epoch 298/2000\n",
      "76/76 [==============================] - 0s 5ms/step - loss: -230910359.2727 - accuracy: 0.5460\n",
      "Epoch 299/2000\n",
      "76/76 [==============================] - 0s 5ms/step - loss: -228682243.9481 - accuracy: 0.5607\n",
      "Epoch 300/2000\n",
      "76/76 [==============================] - 0s 5ms/step - loss: -228273633.2468 - accuracy: 0.5660\n",
      "Epoch 301/2000\n",
      "76/76 [==============================] - 0s 5ms/step - loss: -231701265.6623 - accuracy: 0.5589\n",
      "Epoch 302/2000\n",
      "76/76 [==============================] - 0s 6ms/step - loss: -237812475.4286 - accuracy: 0.5410\n",
      "Epoch 303/2000\n",
      "76/76 [==============================] - 0s 6ms/step - loss: -241287042.9091 - accuracy: 0.5505\n",
      "Epoch 304/2000\n",
      "76/76 [==============================] - 0s 5ms/step - loss: -236228336.8312 - accuracy: 0.5554\n",
      "Epoch 305/2000\n",
      "76/76 [==============================] - 0s 5ms/step - loss: -243889969.0390 - accuracy: 0.5651\n",
      "Epoch 306/2000\n",
      "76/76 [==============================] - 0s 5ms/step - loss: -244592283.0130 - accuracy: 0.5618\n",
      "Epoch 307/2000\n",
      "76/76 [==============================] - 0s 5ms/step - loss: -241825920.6234 - accuracy: 0.5674\n",
      "Epoch 308/2000\n",
      "76/76 [==============================] - 0s 5ms/step - loss: -249220576.2078 - accuracy: 0.5613\n",
      "Epoch 309/2000\n",
      "76/76 [==============================] - 0s 5ms/step - loss: -251962680.7273 - accuracy: 0.5658\n",
      "Epoch 310/2000\n",
      "76/76 [==============================] - 0s 5ms/step - loss: -249816972.4675 - accuracy: 0.5735\n",
      "Epoch 311/2000\n",
      "76/76 [==============================] - 0s 6ms/step - loss: -249512147.7403 - accuracy: 0.5691\n",
      "Epoch 312/2000\n",
      "76/76 [==============================] - 0s 5ms/step - loss: -256637097.9740 - accuracy: 0.5693\n",
      "Epoch 313/2000\n",
      "76/76 [==============================] - 0s 6ms/step - loss: -261731141.1948 - accuracy: 0.5640\n",
      "Epoch 314/2000\n",
      "76/76 [==============================] - 0s 5ms/step - loss: -264923861.4026 - accuracy: 0.5669\n",
      "Epoch 315/2000\n",
      "76/76 [==============================] - 0s 5ms/step - loss: -255869143.2727 - accuracy: 0.5857\n",
      "Epoch 316/2000\n",
      "76/76 [==============================] - 0s 5ms/step - loss: -270437862.2338 - accuracy: 0.5636\n",
      "Epoch 317/2000\n",
      "76/76 [==============================] - 0s 5ms/step - loss: -266853820.8831 - accuracy: 0.5696\n",
      "Epoch 318/2000\n",
      "76/76 [==============================] - 0s 5ms/step - loss: -265891197.7143 - accuracy: 0.5816\n",
      "Epoch 319/2000\n",
      "76/76 [==============================] - 0s 6ms/step - loss: -272520022.0260 - accuracy: 0.5758\n",
      "Epoch 320/2000\n",
      "76/76 [==============================] - 0s 5ms/step - loss: -277285209.3506 - accuracy: 0.5653\n",
      "Epoch 321/2000\n",
      "76/76 [==============================] - 0s 6ms/step - loss: -271335398.8571 - accuracy: 0.5841\n",
      "Epoch 322/2000\n",
      "76/76 [==============================] - 0s 5ms/step - loss: -279694628.5714 - accuracy: 0.5803\n",
      "Epoch 323/2000\n",
      "76/76 [==============================] - 0s 6ms/step - loss: -283380711.0649 - accuracy: 0.5709\n",
      "Epoch 324/2000\n",
      "76/76 [==============================] - 0s 6ms/step - loss: -285135676.2597 - accuracy: 0.5799\n",
      "Epoch 325/2000\n",
      "76/76 [==============================] - 0s 6ms/step - loss: -273915776.2078 - accuracy: 0.5975\n",
      "Epoch 326/2000\n",
      "76/76 [==============================] - 0s 6ms/step - loss: -277145496.3117 - accuracy: 0.5882\n",
      "Epoch 327/2000\n",
      "76/76 [==============================] - 1s 7ms/step - loss: -296094626.4935 - accuracy: 0.5736\n",
      "Epoch 328/2000\n",
      "76/76 [==============================] - 0s 6ms/step - loss: -291038368.8312 - accuracy: 0.5772\n",
      "Epoch 329/2000\n",
      "76/76 [==============================] - 0s 5ms/step - loss: -291102633.5584 - accuracy: 0.5714\n",
      "Epoch 330/2000\n",
      "76/76 [==============================] - 0s 5ms/step - loss: -297964162.9091 - accuracy: 0.5773\n",
      "Epoch 331/2000\n",
      "76/76 [==============================] - 0s 5ms/step - loss: -296966264.3117 - accuracy: 0.5869\n",
      "Epoch 332/2000\n",
      "76/76 [==============================] - 0s 5ms/step - loss: -298898829.7143 - accuracy: 0.5861\n",
      "Epoch 333/2000\n",
      "76/76 [==============================] - 0s 5ms/step - loss: -307110183.0649 - accuracy: 0.5751\n",
      "Epoch 334/2000\n",
      "76/76 [==============================] - 0s 5ms/step - loss: -305435876.9870 - accuracy: 0.5776\n",
      "Epoch 335/2000\n",
      "76/76 [==============================] - 0s 5ms/step - loss: -314234161.8701 - accuracy: 0.5866\n",
      "Epoch 336/2000\n",
      "76/76 [==============================] - 0s 5ms/step - loss: -305184559.7922 - accuracy: 0.5968\n",
      "Epoch 337/2000\n",
      "76/76 [==============================] - 0s 6ms/step - loss: -319936119.6883 - accuracy: 0.5885\n",
      "Epoch 338/2000\n",
      "76/76 [==============================] - 0s 6ms/step - loss: -322192084.7792 - accuracy: 0.5813\n",
      "Epoch 339/2000\n",
      "76/76 [==============================] - 0s 6ms/step - loss: -317997514.8052 - accuracy: 0.5982\n",
      "Epoch 340/2000\n",
      "76/76 [==============================] - 0s 6ms/step - loss: -319403331.7403 - accuracy: 0.5822\n",
      "Epoch 341/2000\n",
      "76/76 [==============================] - 0s 6ms/step - loss: -328241895.4805 - accuracy: 0.5838\n",
      "Epoch 342/2000\n",
      "76/76 [==============================] - 0s 6ms/step - loss: -333613742.9610 - accuracy: 0.5809\n",
      "Epoch 343/2000\n",
      "76/76 [==============================] - 0s 6ms/step - loss: -332520206.5455 - accuracy: 0.5912\n",
      "Epoch 344/2000\n",
      "76/76 [==============================] - 0s 6ms/step - loss: -335276689.4545 - accuracy: 0.5856\n",
      "Epoch 345/2000\n",
      "76/76 [==============================] - 0s 6ms/step - loss: -341080449.2468 - accuracy: 0.5867\n",
      "Epoch 346/2000\n",
      "76/76 [==============================] - 0s 6ms/step - loss: -329024503.2727 - accuracy: 0.6057\n",
      "Epoch 347/2000\n",
      "76/76 [==============================] - 0s 6ms/step - loss: -345303771.8442 - accuracy: 0.5883\n",
      "Epoch 348/2000\n",
      "76/76 [==============================] - 0s 6ms/step - loss: -346837395.5325 - accuracy: 0.5884\n",
      "Epoch 349/2000\n",
      "76/76 [==============================] - 0s 6ms/step - loss: -348955998.3377 - accuracy: 0.5898\n",
      "Epoch 350/2000\n",
      "76/76 [==============================] - 0s 6ms/step - loss: -350573549.2987 - accuracy: 0.5880\n",
      "Epoch 351/2000\n",
      "76/76 [==============================] - 0s 6ms/step - loss: -347463969.6623 - accuracy: 0.5971\n",
      "Epoch 352/2000\n",
      "76/76 [==============================] - 0s 6ms/step - loss: -354409944.9351 - accuracy: 0.5898\n",
      "Epoch 353/2000\n",
      "76/76 [==============================] - 0s 6ms/step - loss: -346668894.3377 - accuracy: 0.6009\n",
      "Epoch 354/2000\n",
      "76/76 [==============================] - 0s 6ms/step - loss: -359380745.5584 - accuracy: 0.5969\n",
      "Epoch 355/2000\n",
      "76/76 [==============================] - 0s 6ms/step - loss: -363776112.2078 - accuracy: 0.5915\n",
      "Epoch 356/2000\n",
      "76/76 [==============================] - 0s 6ms/step - loss: -362811351.2727 - accuracy: 0.5937\n",
      "Epoch 357/2000\n",
      "76/76 [==============================] - 0s 6ms/step - loss: -375413206.4416 - accuracy: 0.5847\n",
      "Epoch 358/2000\n",
      "76/76 [==============================] - 0s 6ms/step - loss: -373716365.7143 - accuracy: 0.5927\n",
      "Epoch 359/2000\n",
      "76/76 [==============================] - 0s 6ms/step - loss: -380366926.9610 - accuracy: 0.5907\n",
      "Epoch 360/2000\n",
      "76/76 [==============================] - 0s 6ms/step - loss: -372684740.9870 - accuracy: 0.5992\n",
      "Epoch 361/2000\n",
      "76/76 [==============================] - 0s 6ms/step - loss: -372338741.6104 - accuracy: 0.6106\n",
      "Epoch 362/2000\n",
      "76/76 [==============================] - 0s 6ms/step - loss: -374087970.9091 - accuracy: 0.6070\n",
      "Epoch 363/2000\n",
      "76/76 [==============================] - 0s 6ms/step - loss: -382156896.0000 - accuracy: 0.5960\n",
      "Epoch 364/2000\n",
      "76/76 [==============================] - 0s 6ms/step - loss: -396419325.0909 - accuracy: 0.5978\n",
      "Epoch 365/2000\n",
      "76/76 [==============================] - 0s 6ms/step - loss: -385422748.6753 - accuracy: 0.6060\n",
      "Epoch 366/2000\n",
      "76/76 [==============================] - 0s 6ms/step - loss: -396564572.2597 - accuracy: 0.5929\n",
      "Epoch 367/2000\n",
      "76/76 [==============================] - 0s 6ms/step - loss: -396212376.1039 - accuracy: 0.6001\n",
      "Epoch 368/2000\n",
      "76/76 [==============================] - 0s 6ms/step - loss: -388608007.4805 - accuracy: 0.6070\n",
      "Epoch 369/2000\n",
      "76/76 [==============================] - 0s 6ms/step - loss: -404557583.3766 - accuracy: 0.6008\n",
      "Epoch 370/2000\n",
      "76/76 [==============================] - 0s 6ms/step - loss: -416887546.1818 - accuracy: 0.5896\n",
      "Epoch 371/2000\n",
      "76/76 [==============================] - 0s 6ms/step - loss: -395959852.4675 - accuracy: 0.6090\n",
      "Epoch 372/2000\n",
      "76/76 [==============================] - 0s 6ms/step - loss: -409082306.4935 - accuracy: 0.6043\n",
      "Epoch 373/2000\n",
      "76/76 [==============================] - 0s 6ms/step - loss: -411191950.1299 - accuracy: 0.6039\n",
      "Epoch 374/2000\n",
      "76/76 [==============================] - 0s 6ms/step - loss: -435113665.2468 - accuracy: 0.5827\n",
      "Epoch 375/2000\n",
      "76/76 [==============================] - 0s 6ms/step - loss: -409084663.2727 - accuracy: 0.6100\n",
      "Epoch 376/2000\n",
      "76/76 [==============================] - 0s 6ms/step - loss: -425026673.8701 - accuracy: 0.5873\n",
      "Epoch 377/2000\n",
      "76/76 [==============================] - 0s 5ms/step - loss: -408394212.5714 - accuracy: 0.6210\n",
      "Epoch 378/2000\n",
      "76/76 [==============================] - 0s 6ms/step - loss: -422873222.6494 - accuracy: 0.6055\n",
      "Epoch 379/2000\n",
      "76/76 [==============================] - 0s 6ms/step - loss: -442636996.1558 - accuracy: 0.5968\n",
      "Epoch 380/2000\n",
      "76/76 [==============================] - 0s 6ms/step - loss: -436964947.9481 - accuracy: 0.6026\n",
      "Epoch 381/2000\n",
      "76/76 [==============================] - 0s 6ms/step - loss: -439170867.5325 - accuracy: 0.5954\n",
      "Epoch 382/2000\n",
      "76/76 [==============================] - 0s 6ms/step - loss: -436344704.4156 - accuracy: 0.6078\n",
      "Epoch 383/2000\n",
      "76/76 [==============================] - 0s 6ms/step - loss: -439874226.7013 - accuracy: 0.6053\n",
      "Epoch 384/2000\n",
      "76/76 [==============================] - 0s 6ms/step - loss: -450318663.0649 - accuracy: 0.6135\n",
      "Epoch 385/2000\n",
      "76/76 [==============================] - 0s 5ms/step - loss: -447563364.1558 - accuracy: 0.6027\n",
      "Epoch 386/2000\n",
      "76/76 [==============================] - 0s 5ms/step - loss: -461005555.9481 - accuracy: 0.5981\n",
      "Epoch 387/2000\n",
      "76/76 [==============================] - 0s 5ms/step - loss: -454596373.1948 - accuracy: 0.6116\n",
      "Epoch 388/2000\n",
      "76/76 [==============================] - 0s 6ms/step - loss: -461399304.3117 - accuracy: 0.6059\n",
      "Epoch 389/2000\n",
      "76/76 [==============================] - 0s 6ms/step - loss: -458235163.4286 - accuracy: 0.6086\n",
      "Epoch 390/2000\n",
      "76/76 [==============================] - 0s 6ms/step - loss: -466675557.8182 - accuracy: 0.6035\n",
      "Epoch 391/2000\n",
      "76/76 [==============================] - 0s 5ms/step - loss: -473055989.6104 - accuracy: 0.6034\n",
      "Epoch 392/2000\n",
      "76/76 [==============================] - 0s 5ms/step - loss: -470790771.5325 - accuracy: 0.6099\n",
      "Epoch 393/2000\n",
      "76/76 [==============================] - 0s 5ms/step - loss: -492057521.4545 - accuracy: 0.5857\n",
      "Epoch 394/2000\n",
      "76/76 [==============================] - 0s 5ms/step - loss: -468510481.4545 - accuracy: 0.6167\n",
      "Epoch 395/2000\n",
      "76/76 [==============================] - 0s 6ms/step - loss: -490255114.8052 - accuracy: 0.5993\n",
      "Epoch 396/2000\n",
      "76/76 [==============================] - 0s 6ms/step - loss: -493272850.7013 - accuracy: 0.6061\n",
      "Epoch 397/2000\n",
      "76/76 [==============================] - 0s 5ms/step - loss: -498953134.9610 - accuracy: 0.6062\n",
      "Epoch 398/2000\n",
      "76/76 [==============================] - 0s 5ms/step - loss: -495948587.6364 - accuracy: 0.6061\n",
      "Epoch 399/2000\n",
      "76/76 [==============================] - 0s 6ms/step - loss: -500614517.6104 - accuracy: 0.6038\n",
      "Epoch 400/2000\n",
      "76/76 [==============================] - 0s 5ms/step - loss: -482766538.8052 - accuracy: 0.6272\n",
      "Epoch 401/2000\n",
      "76/76 [==============================] - 0s 6ms/step - loss: -494278719.1688 - accuracy: 0.6119\n",
      "Epoch 402/2000\n",
      "76/76 [==============================] - 1s 7ms/step - loss: -508618890.8052 - accuracy: 0.6039\n",
      "Epoch 403/2000\n",
      "76/76 [==============================] - 0s 7ms/step - loss: -509116348.6753 - accuracy: 0.6090\n",
      "Epoch 404/2000\n",
      "76/76 [==============================] - 0s 6ms/step - loss: -512876953.3506 - accuracy: 0.6072\n",
      "Epoch 405/2000\n",
      "76/76 [==============================] - 0s 6ms/step - loss: -507143794.2857 - accuracy: 0.6199\n",
      "Epoch 406/2000\n",
      "76/76 [==============================] - 0s 6ms/step - loss: -517683564.4675 - accuracy: 0.6180\n",
      "Epoch 407/2000\n",
      "76/76 [==============================] - 0s 6ms/step - loss: -518893398.0260 - accuracy: 0.6201\n",
      "Epoch 408/2000\n",
      "76/76 [==============================] - 0s 6ms/step - loss: -519604425.9740 - accuracy: 0.6228\n",
      "Epoch 409/2000\n",
      "76/76 [==============================] - 0s 6ms/step - loss: -526365639.0649 - accuracy: 0.6127\n",
      "Epoch 410/2000\n",
      "76/76 [==============================] - 0s 6ms/step - loss: -546000293.8182 - accuracy: 0.6076\n",
      "Epoch 411/2000\n",
      "76/76 [==============================] - 0s 6ms/step - loss: -522226115.7403 - accuracy: 0.6203\n",
      "Epoch 412/2000\n",
      "76/76 [==============================] - 0s 7ms/step - loss: -531346552.9351 - accuracy: 0.6170\n",
      "Epoch 413/2000\n",
      "76/76 [==============================] - 0s 7ms/step - loss: -549493496.1039 - accuracy: 0.6162\n",
      "Epoch 414/2000\n",
      "76/76 [==============================] - 1s 7ms/step - loss: -547396512.4156 - accuracy: 0.6174\n",
      "Epoch 415/2000\n",
      "76/76 [==============================] - 1s 7ms/step - loss: -553348886.4416 - accuracy: 0.6175\n",
      "Epoch 416/2000\n",
      "76/76 [==============================] - 0s 6ms/step - loss: -543511588.1558 - accuracy: 0.6240\n",
      "Epoch 417/2000\n",
      "76/76 [==============================] - 0s 6ms/step - loss: -561820694.4416 - accuracy: 0.6185\n",
      "Epoch 418/2000\n",
      "76/76 [==============================] - 0s 6ms/step - loss: -563833021.0909 - accuracy: 0.6117\n",
      "Epoch 419/2000\n",
      "76/76 [==============================] - 0s 6ms/step - loss: -565564739.3247 - accuracy: 0.6192\n",
      "Epoch 420/2000\n",
      "76/76 [==============================] - 0s 6ms/step - loss: -580299496.7273 - accuracy: 0.6107\n",
      "Epoch 421/2000\n",
      "76/76 [==============================] - 0s 5ms/step - loss: -567908107.2208 - accuracy: 0.6217\n",
      "Epoch 422/2000\n",
      "76/76 [==============================] - 0s 5ms/step - loss: -574624043.2208 - accuracy: 0.6125\n",
      "Epoch 423/2000\n",
      "76/76 [==============================] - 0s 6ms/step - loss: -578117733.8182 - accuracy: 0.6164\n",
      "Epoch 424/2000\n",
      "76/76 [==============================] - 0s 5ms/step - loss: -571987423.5844 - accuracy: 0.6231\n",
      "Epoch 425/2000\n",
      "76/76 [==============================] - 0s 5ms/step - loss: -603790564.5714 - accuracy: 0.6052\n",
      "Epoch 426/2000\n",
      "76/76 [==============================] - 0s 5ms/step - loss: -591834956.4675 - accuracy: 0.6222\n",
      "Epoch 427/2000\n",
      "76/76 [==============================] - 0s 5ms/step - loss: -601983325.9221 - accuracy: 0.6148\n",
      "Epoch 428/2000\n",
      "76/76 [==============================] - 0s 6ms/step - loss: -583957656.9351 - accuracy: 0.6242\n",
      "Epoch 429/2000\n",
      "76/76 [==============================] - 0s 5ms/step - loss: -607089074.7013 - accuracy: 0.6152\n",
      "Epoch 430/2000\n",
      "76/76 [==============================] - 0s 5ms/step - loss: -617234791.8961 - accuracy: 0.6142\n",
      "Epoch 431/2000\n",
      "76/76 [==============================] - 0s 5ms/step - loss: -603678956.8831 - accuracy: 0.6240\n",
      "Epoch 432/2000\n",
      "76/76 [==============================] - 0s 5ms/step - loss: -608529531.0130 - accuracy: 0.6206\n",
      "Epoch 433/2000\n",
      "76/76 [==============================] - 0s 5ms/step - loss: -606191425.6623 - accuracy: 0.6283\n",
      "Epoch 434/2000\n",
      "76/76 [==============================] - 0s 5ms/step - loss: -622004661.1948 - accuracy: 0.6201\n",
      "Epoch 435/2000\n",
      "76/76 [==============================] - 0s 6ms/step - loss: -625855105.6623 - accuracy: 0.6207\n",
      "Epoch 436/2000\n",
      "76/76 [==============================] - 0s 5ms/step - loss: -623666277.4026 - accuracy: 0.6279\n",
      "Epoch 437/2000\n",
      "76/76 [==============================] - 0s 5ms/step - loss: -638115341.2987 - accuracy: 0.6174\n",
      "Epoch 438/2000\n",
      "76/76 [==============================] - 0s 6ms/step - loss: -652005684.3636 - accuracy: 0.6107\n",
      "Epoch 439/2000\n",
      "76/76 [==============================] - 0s 5ms/step - loss: -616726098.2857 - accuracy: 0.6392\n",
      "Epoch 440/2000\n",
      "76/76 [==============================] - 0s 5ms/step - loss: -643231417.3506 - accuracy: 0.6219\n",
      "Epoch 441/2000\n",
      "76/76 [==============================] - 0s 5ms/step - loss: -631312796.2597 - accuracy: 0.6322\n",
      "Epoch 442/2000\n",
      "76/76 [==============================] - 0s 5ms/step - loss: -646712380.6753 - accuracy: 0.6271\n",
      "Epoch 443/2000\n",
      "76/76 [==============================] - 0s 5ms/step - loss: -640670747.4286 - accuracy: 0.6328\n",
      "Epoch 444/2000\n",
      "76/76 [==============================] - 0s 5ms/step - loss: -654532800.8312 - accuracy: 0.6293\n",
      "Epoch 445/2000\n",
      "76/76 [==============================] - 0s 5ms/step - loss: -665506893.2987 - accuracy: 0.6254\n",
      "Epoch 446/2000\n",
      "76/76 [==============================] - 0s 5ms/step - loss: -682098721.2468 - accuracy: 0.6138\n",
      "Epoch 447/2000\n",
      "76/76 [==============================] - 0s 5ms/step - loss: -676909988.5714 - accuracy: 0.6279\n",
      "Epoch 448/2000\n",
      "76/76 [==============================] - 0s 5ms/step - loss: -670137836.0519 - accuracy: 0.6290\n",
      "Epoch 449/2000\n",
      "76/76 [==============================] - 0s 6ms/step - loss: -696737767.8961 - accuracy: 0.6147\n",
      "Epoch 450/2000\n",
      "76/76 [==============================] - 0s 6ms/step - loss: -673453466.5974 - accuracy: 0.6323\n",
      "Epoch 451/2000\n",
      "76/76 [==============================] - 0s 5ms/step - loss: -708364934.6494 - accuracy: 0.6157\n",
      "Epoch 452/2000\n",
      "76/76 [==============================] - 0s 6ms/step - loss: -698754398.7532 - accuracy: 0.6205\n",
      "Epoch 453/2000\n",
      "76/76 [==============================] - 0s 5ms/step - loss: -693172814.9610 - accuracy: 0.6288\n",
      "Epoch 454/2000\n",
      "76/76 [==============================] - 0s 5ms/step - loss: -709299849.1429 - accuracy: 0.6186\n",
      "Epoch 455/2000\n",
      "76/76 [==============================] - 0s 5ms/step - loss: -716022078.3377 - accuracy: 0.6163\n",
      "Epoch 456/2000\n",
      "76/76 [==============================] - 0s 5ms/step - loss: -703552999.8961 - accuracy: 0.6279\n",
      "Epoch 457/2000\n",
      "76/76 [==============================] - 0s 5ms/step - loss: -711858606.5455 - accuracy: 0.6244\n",
      "Epoch 458/2000\n",
      "76/76 [==============================] - 0s 5ms/step - loss: -708955632.2078 - accuracy: 0.6309\n",
      "Epoch 459/2000\n",
      "76/76 [==============================] - 0s 6ms/step - loss: -710645198.5455 - accuracy: 0.6289\n",
      "Epoch 460/2000\n",
      "76/76 [==============================] - 0s 5ms/step - loss: -746990961.0390 - accuracy: 0.6153\n",
      "Epoch 461/2000\n",
      "76/76 [==============================] - 0s 5ms/step - loss: -717253203.1169 - accuracy: 0.6377\n",
      "Epoch 462/2000\n",
      "76/76 [==============================] - 0s 5ms/step - loss: -726311404.0519 - accuracy: 0.6354\n",
      "Epoch 463/2000\n",
      "76/76 [==============================] - 0s 5ms/step - loss: -735849430.4416 - accuracy: 0.6280\n",
      "Epoch 464/2000\n",
      "76/76 [==============================] - 0s 6ms/step - loss: -732880273.4545 - accuracy: 0.6313\n",
      "Epoch 465/2000\n",
      "76/76 [==============================] - 0s 5ms/step - loss: -752491623.0649 - accuracy: 0.6279\n",
      "Epoch 466/2000\n",
      "76/76 [==============================] - 0s 6ms/step - loss: -767706070.4416 - accuracy: 0.6214\n",
      "Epoch 467/2000\n",
      "76/76 [==============================] - 0s 5ms/step - loss: -750744766.3377 - accuracy: 0.6323\n",
      "Epoch 468/2000\n",
      "76/76 [==============================] - 0s 5ms/step - loss: -761220959.5844 - accuracy: 0.6274\n",
      "Epoch 469/2000\n",
      "76/76 [==============================] - 0s 5ms/step - loss: -759838665.1429 - accuracy: 0.6329\n",
      "Epoch 470/2000\n",
      "76/76 [==============================] - 0s 5ms/step - loss: -750362747.0130 - accuracy: 0.6392\n",
      "Epoch 471/2000\n",
      "76/76 [==============================] - 0s 5ms/step - loss: -769090511.7922 - accuracy: 0.6299\n",
      "Epoch 472/2000\n",
      "76/76 [==============================] - 0s 5ms/step - loss: -770194910.7532 - accuracy: 0.6333\n",
      "Epoch 473/2000\n",
      "76/76 [==============================] - 0s 5ms/step - loss: -798186584.1039 - accuracy: 0.6245\n",
      "Epoch 474/2000\n",
      "76/76 [==============================] - 0s 5ms/step - loss: -783621812.3636 - accuracy: 0.6314\n",
      "Epoch 475/2000\n",
      "76/76 [==============================] - 0s 6ms/step - loss: -790914683.0130 - accuracy: 0.6329\n",
      "Epoch 476/2000\n",
      "76/76 [==============================] - 0s 5ms/step - loss: -810219013.8182 - accuracy: 0.6265\n",
      "Epoch 477/2000\n",
      "76/76 [==============================] - 0s 5ms/step - loss: -812026364.6753 - accuracy: 0.6297\n",
      "Epoch 478/2000\n",
      "76/76 [==============================] - 0s 6ms/step - loss: -795141868.8831 - accuracy: 0.6315\n",
      "Epoch 479/2000\n",
      "76/76 [==============================] - 1s 7ms/step - loss: -808454166.4416 - accuracy: 0.6371\n",
      "Epoch 480/2000\n",
      "76/76 [==============================] - 0s 6ms/step - loss: -823510266.1818 - accuracy: 0.6265\n",
      "Epoch 481/2000\n",
      "76/76 [==============================] - 0s 6ms/step - loss: -814117606.2338 - accuracy: 0.6324\n",
      "Epoch 482/2000\n",
      "76/76 [==============================] - 0s 5ms/step - loss: -827053676.8831 - accuracy: 0.6273\n",
      "Epoch 483/2000\n",
      "76/76 [==============================] - 0s 5ms/step - loss: -802159895.2727 - accuracy: 0.6465\n",
      "Epoch 484/2000\n",
      "76/76 [==============================] - 0s 6ms/step - loss: -830202099.5325 - accuracy: 0.6308\n",
      "Epoch 485/2000\n",
      "76/76 [==============================] - 0s 6ms/step - loss: -832634524.2597 - accuracy: 0.6320\n",
      "Epoch 486/2000\n",
      "76/76 [==============================] - 0s 5ms/step - loss: -839697078.0260 - accuracy: 0.6313\n",
      "Epoch 487/2000\n",
      "76/76 [==============================] - 0s 6ms/step - loss: -859423532.0519 - accuracy: 0.6300\n",
      "Epoch 488/2000\n",
      "76/76 [==============================] - 0s 6ms/step - loss: -874918664.3117 - accuracy: 0.6170\n",
      "Epoch 489/2000\n",
      "76/76 [==============================] - 0s 6ms/step - loss: -871891859.9481 - accuracy: 0.6268\n",
      "Epoch 490/2000\n",
      "76/76 [==============================] - 0s 6ms/step - loss: -862130235.0130 - accuracy: 0.6318\n",
      "Epoch 491/2000\n",
      "76/76 [==============================] - 0s 6ms/step - loss: -842132903.0649 - accuracy: 0.6423\n",
      "Epoch 492/2000\n",
      "76/76 [==============================] - 0s 6ms/step - loss: -883214129.8701 - accuracy: 0.6283\n",
      "Epoch 493/2000\n",
      "76/76 [==============================] - 0s 6ms/step - loss: -880989110.0260 - accuracy: 0.6313\n",
      "Epoch 494/2000\n",
      "76/76 [==============================] - 0s 6ms/step - loss: -887403714.4935 - accuracy: 0.6326\n",
      "Epoch 495/2000\n",
      "76/76 [==============================] - 0s 5ms/step - loss: -876845169.8701 - accuracy: 0.6389\n",
      "Epoch 496/2000\n",
      "76/76 [==============================] - 0s 5ms/step - loss: -908465762.9091 - accuracy: 0.6243\n",
      "Epoch 497/2000\n",
      "76/76 [==============================] - 0s 6ms/step - loss: -900968110.5455 - accuracy: 0.6313\n",
      "Epoch 498/2000\n",
      "76/76 [==============================] - 0s 6ms/step - loss: -919437562.1818 - accuracy: 0.6235\n",
      "Epoch 499/2000\n",
      "76/76 [==============================] - 0s 6ms/step - loss: -925703044.9870 - accuracy: 0.6228\n",
      "Epoch 500/2000\n",
      "76/76 [==============================] - 0s 6ms/step - loss: -931464801.2468 - accuracy: 0.6289\n",
      "Epoch 501/2000\n",
      "76/76 [==============================] - 0s 6ms/step - loss: -935929764.5714 - accuracy: 0.6301\n",
      "Epoch 502/2000\n",
      "76/76 [==============================] - 0s 6ms/step - loss: -904160868.5714 - accuracy: 0.6408\n",
      "Epoch 503/2000\n",
      "76/76 [==============================] - 0s 6ms/step - loss: -922575916.8831 - accuracy: 0.6347\n",
      "Epoch 504/2000\n",
      "76/76 [==============================] - 0s 5ms/step - loss: -915873353.9740 - accuracy: 0.6447\n",
      "Epoch 505/2000\n",
      "76/76 [==============================] - 0s 6ms/step - loss: -903484022.8571 - accuracy: 0.6469\n",
      "Epoch 506/2000\n",
      "76/76 [==============================] - 0s 6ms/step - loss: -941013678.5455 - accuracy: 0.6366\n",
      "Epoch 507/2000\n",
      "76/76 [==============================] - 0s 6ms/step - loss: -942681253.4026 - accuracy: 0.6360\n",
      "Epoch 508/2000\n",
      "76/76 [==============================] - 0s 5ms/step - loss: -954449915.0130 - accuracy: 0.6312\n",
      "Epoch 509/2000\n",
      "76/76 [==============================] - 0s 5ms/step - loss: -956645804.8831 - accuracy: 0.6333\n",
      "Epoch 510/2000\n",
      "76/76 [==============================] - 0s 6ms/step - loss: -979614109.9221 - accuracy: 0.6346\n",
      "Epoch 511/2000\n",
      "76/76 [==============================] - 0s 5ms/step - loss: -972271786.3896 - accuracy: 0.6291\n",
      "Epoch 512/2000\n",
      "76/76 [==============================] - 0s 6ms/step - loss: -973480603.4286 - accuracy: 0.6320\n",
      "Epoch 513/2000\n",
      "76/76 [==============================] - 0s 6ms/step - loss: -986688039.8961 - accuracy: 0.6316\n",
      "Epoch 514/2000\n",
      "76/76 [==============================] - 0s 5ms/step - loss: -977107519.1688 - accuracy: 0.6356\n",
      "Epoch 515/2000\n",
      "76/76 [==============================] - 0s 5ms/step - loss: -987872539.4286 - accuracy: 0.6371\n",
      "Epoch 516/2000\n",
      "76/76 [==============================] - 0s 5ms/step - loss: -1007145856.8312 - accuracy: 0.6319\n",
      "Epoch 517/2000\n",
      "76/76 [==============================] - 0s 5ms/step - loss: -999278250.3896 - accuracy: 0.6351\n",
      "Epoch 518/2000\n",
      "76/76 [==============================] - 0s 6ms/step - loss: -1014749015.2727 - accuracy: 0.6282\n",
      "Epoch 519/2000\n",
      "76/76 [==============================] - 0s 5ms/step - loss: -1023091100.2597 - accuracy: 0.6345\n",
      "Epoch 520/2000\n",
      "76/76 [==============================] - 0s 6ms/step - loss: -989472295.8961 - accuracy: 0.6412\n",
      "Epoch 521/2000\n",
      "76/76 [==============================] - 0s 6ms/step - loss: -1023420813.2987 - accuracy: 0.6328\n",
      "Epoch 522/2000\n",
      "76/76 [==============================] - 0s 6ms/step - loss: -1020403603.1169 - accuracy: 0.6391\n",
      "Epoch 523/2000\n",
      "76/76 [==============================] - 0s 5ms/step - loss: -1025734081.6623 - accuracy: 0.6382\n",
      "Epoch 524/2000\n",
      "76/76 [==============================] - 0s 6ms/step - loss: -1027544802.9091 - accuracy: 0.6377\n",
      "Epoch 525/2000\n",
      "76/76 [==============================] - 0s 5ms/step - loss: -1046519422.3377 - accuracy: 0.6338\n",
      "Epoch 526/2000\n",
      "76/76 [==============================] - 0s 6ms/step - loss: -1016478887.0649 - accuracy: 0.6495\n",
      "Epoch 527/2000\n",
      "76/76 [==============================] - 0s 6ms/step - loss: -1030435119.3766 - accuracy: 0.6449\n",
      "Epoch 528/2000\n",
      "76/76 [==============================] - 0s 6ms/step - loss: -1039310170.5974 - accuracy: 0.6379\n",
      "Epoch 529/2000\n",
      "76/76 [==============================] - 0s 5ms/step - loss: -1067653617.0390 - accuracy: 0.6359\n",
      "Epoch 530/2000\n",
      "76/76 [==============================] - 0s 5ms/step - loss: -1060156489.1429 - accuracy: 0.6365\n",
      "Epoch 531/2000\n",
      "76/76 [==============================] - 0s 6ms/step - loss: -1082666876.6753 - accuracy: 0.6337\n",
      "Epoch 532/2000\n",
      "76/76 [==============================] - 0s 5ms/step - loss: -1086312278.4416 - accuracy: 0.6348\n",
      "Epoch 533/2000\n",
      "76/76 [==============================] - 0s 6ms/step - loss: -1080453066.8052 - accuracy: 0.6363\n",
      "Epoch 534/2000\n",
      "76/76 [==============================] - 0s 6ms/step - loss: -1095070222.9610 - accuracy: 0.6381\n",
      "Epoch 535/2000\n",
      "76/76 [==============================] - 0s 5ms/step - loss: -1082959313.4545 - accuracy: 0.6408\n",
      "Epoch 536/2000\n",
      "76/76 [==============================] - 0s 6ms/step - loss: -1079052377.7662 - accuracy: 0.6450\n",
      "Epoch 537/2000\n",
      "76/76 [==============================] - 0s 6ms/step - loss: -1099164732.6753 - accuracy: 0.6412\n",
      "Epoch 538/2000\n",
      "76/76 [==============================] - 0s 6ms/step - loss: -1121737794.4935 - accuracy: 0.6346\n",
      "Epoch 539/2000\n",
      "76/76 [==============================] - 0s 6ms/step - loss: -1129042929.0390 - accuracy: 0.6337\n",
      "Epoch 540/2000\n",
      "76/76 [==============================] - 0s 5ms/step - loss: -1140816269.2987 - accuracy: 0.6327\n",
      "Epoch 541/2000\n",
      "76/76 [==============================] - 0s 5ms/step - loss: -1115306462.7532 - accuracy: 0.6429\n",
      "Epoch 542/2000\n",
      "76/76 [==============================] - 0s 5ms/step - loss: -1129435724.4675 - accuracy: 0.6399\n",
      "Epoch 543/2000\n",
      "76/76 [==============================] - 0s 6ms/step - loss: -1113898309.8182 - accuracy: 0.6451\n",
      "Epoch 544/2000\n",
      "76/76 [==============================] - 0s 6ms/step - loss: -1148363393.6623 - accuracy: 0.6413\n",
      "Epoch 545/2000\n",
      "76/76 [==============================] - 0s 5ms/step - loss: -1125872061.5065 - accuracy: 0.6493\n",
      "Epoch 546/2000\n",
      "76/76 [==============================] - 0s 6ms/step - loss: -1110343315.9481 - accuracy: 0.6552\n",
      "Epoch 547/2000\n",
      "76/76 [==============================] - 0s 5ms/step - loss: -1156510414.1299 - accuracy: 0.6391\n",
      "Epoch 548/2000\n",
      "76/76 [==============================] - 0s 5ms/step - loss: -1165739829.1948 - accuracy: 0.6410\n",
      "Epoch 549/2000\n",
      "76/76 [==============================] - 0s 5ms/step - loss: -1161597082.5974 - accuracy: 0.6430\n",
      "Epoch 550/2000\n",
      "76/76 [==============================] - 0s 5ms/step - loss: -1149506121.9740 - accuracy: 0.6493\n",
      "Epoch 551/2000\n",
      "76/76 [==============================] - 0s 5ms/step - loss: -1190397120.8312 - accuracy: 0.6370\n",
      "Epoch 552/2000\n",
      "76/76 [==============================] - 0s 6ms/step - loss: -1175753478.6494 - accuracy: 0.6403\n",
      "Epoch 553/2000\n",
      "76/76 [==============================] - 0s 5ms/step - loss: -1201965870.5455 - accuracy: 0.6399\n",
      "Epoch 554/2000\n",
      "76/76 [==============================] - 0s 5ms/step - loss: -1225903471.3766 - accuracy: 0.6309\n",
      "Epoch 555/2000\n",
      "76/76 [==============================] - 0s 6ms/step - loss: -1188349332.7792 - accuracy: 0.6511\n",
      "Epoch 556/2000\n",
      "76/76 [==============================] - 1s 7ms/step - loss: -1200397984.4156 - accuracy: 0.6472\n",
      "Epoch 557/2000\n",
      "76/76 [==============================] - 0s 6ms/step - loss: -1217514684.6753 - accuracy: 0.6409\n",
      "Epoch 558/2000\n",
      "76/76 [==============================] - 0s 6ms/step - loss: -1217001678.1299 - accuracy: 0.6458\n",
      "Epoch 559/2000\n",
      "76/76 [==============================] - 0s 5ms/step - loss: -1233877286.2338 - accuracy: 0.6381\n",
      "Epoch 560/2000\n",
      "76/76 [==============================] - 0s 5ms/step - loss: -1246688125.5065 - accuracy: 0.6384\n",
      "Epoch 561/2000\n",
      "76/76 [==============================] - 0s 5ms/step - loss: -1245958395.0130 - accuracy: 0.6425\n",
      "Epoch 562/2000\n",
      "76/76 [==============================] - 0s 6ms/step - loss: -1230158596.9870 - accuracy: 0.6469\n",
      "Epoch 563/2000\n",
      "76/76 [==============================] - 0s 6ms/step - loss: -1240856404.7792 - accuracy: 0.6456\n",
      "Epoch 564/2000\n",
      "76/76 [==============================] - 0s 6ms/step - loss: -1265893292.8831 - accuracy: 0.6431\n",
      "Epoch 565/2000\n",
      "76/76 [==============================] - 0s 6ms/step - loss: -1258403527.4805 - accuracy: 0.6446\n",
      "Epoch 566/2000\n",
      "76/76 [==============================] - 0s 6ms/step - loss: -1232154818.4935 - accuracy: 0.6532\n",
      "Epoch 567/2000\n",
      "76/76 [==============================] - 0s 6ms/step - loss: -1298897599.1688 - accuracy: 0.6363\n",
      "Epoch 568/2000\n",
      "76/76 [==============================] - 0s 6ms/step - loss: -1299249143.6883 - accuracy: 0.6363\n",
      "Epoch 569/2000\n",
      "76/76 [==============================] - 0s 6ms/step - loss: -1305205246.3377 - accuracy: 0.6370\n",
      "Epoch 570/2000\n",
      "76/76 [==============================] - 0s 5ms/step - loss: -1305151938.4935 - accuracy: 0.6415\n",
      "Epoch 571/2000\n",
      "76/76 [==============================] - 0s 5ms/step - loss: -1325258742.0260 - accuracy: 0.6399\n",
      "Epoch 572/2000\n",
      "76/76 [==============================] - 0s 5ms/step - loss: -1312059307.2208 - accuracy: 0.6428\n",
      "Epoch 573/2000\n",
      "76/76 [==============================] - 0s 5ms/step - loss: -1299285587.1169 - accuracy: 0.6475\n",
      "Epoch 574/2000\n",
      "76/76 [==============================] - 0s 5ms/step - loss: -1304303762.2857 - accuracy: 0.6481\n",
      "Epoch 575/2000\n",
      "76/76 [==============================] - 0s 6ms/step - loss: -1353128501.1948 - accuracy: 0.6350\n",
      "Epoch 576/2000\n",
      "76/76 [==============================] - 0s 6ms/step - loss: -1350412991.1688 - accuracy: 0.6377\n",
      "Epoch 577/2000\n",
      "76/76 [==============================] - 0s 6ms/step - loss: -1349117720.9351 - accuracy: 0.6418\n",
      "Epoch 578/2000\n",
      "76/76 [==============================] - 0s 5ms/step - loss: -1330955962.1818 - accuracy: 0.6460\n",
      "Epoch 579/2000\n",
      "76/76 [==============================] - 0s 6ms/step - loss: -1360399446.4416 - accuracy: 0.6418\n",
      "Epoch 580/2000\n",
      "76/76 [==============================] - 0s 6ms/step - loss: -1360147783.4805 - accuracy: 0.6445\n",
      "Epoch 581/2000\n",
      "76/76 [==============================] - 0s 6ms/step - loss: -1381695589.4026 - accuracy: 0.6425\n",
      "Epoch 582/2000\n",
      "76/76 [==============================] - 0s 6ms/step - loss: -1349964683.6364 - accuracy: 0.6464\n",
      "Epoch 583/2000\n",
      "76/76 [==============================] - 0s 6ms/step - loss: -1371069882.1818 - accuracy: 0.6467\n",
      "Epoch 584/2000\n",
      "76/76 [==============================] - 0s 5ms/step - loss: -1369475862.4416 - accuracy: 0.6498\n",
      "Epoch 585/2000\n",
      "76/76 [==============================] - 0s 5ms/step - loss: -1363919986.7013 - accuracy: 0.6490\n",
      "Epoch 586/2000\n",
      "76/76 [==============================] - 0s 5ms/step - loss: -1427940205.7143 - accuracy: 0.6380\n",
      "Epoch 587/2000\n",
      "76/76 [==============================] - 0s 5ms/step - loss: -1412392137.1429 - accuracy: 0.6450\n",
      "Epoch 588/2000\n",
      "76/76 [==============================] - 0s 5ms/step - loss: -1410121892.5714 - accuracy: 0.6475\n",
      "Epoch 589/2000\n",
      "76/76 [==============================] - 0s 5ms/step - loss: -1388389827.3247 - accuracy: 0.6516\n",
      "Epoch 590/2000\n",
      "76/76 [==============================] - 0s 5ms/step - loss: -1424027169.2468 - accuracy: 0.6455\n",
      "Epoch 591/2000\n",
      "76/76 [==============================] - 0s 6ms/step - loss: -1415639974.2338 - accuracy: 0.6527\n",
      "Epoch 592/2000\n",
      "76/76 [==============================] - 0s 6ms/step - loss: -1453289959.0649 - accuracy: 0.6406\n",
      "Epoch 593/2000\n",
      "76/76 [==============================] - 0s 5ms/step - loss: -1434254307.7403 - accuracy: 0.6443\n",
      "Epoch 594/2000\n",
      "76/76 [==============================] - 0s 5ms/step - loss: -1467833324.0519 - accuracy: 0.6419\n",
      "Epoch 595/2000\n",
      "76/76 [==============================] - 0s 6ms/step - loss: -1443162481.0390 - accuracy: 0.6516\n",
      "Epoch 596/2000\n",
      "76/76 [==============================] - 0s 5ms/step - loss: -1437302943.5844 - accuracy: 0.6551\n",
      "Epoch 597/2000\n",
      "76/76 [==============================] - 0s 5ms/step - loss: -1463150994.2857 - accuracy: 0.6458\n",
      "Epoch 598/2000\n",
      "76/76 [==============================] - 0s 5ms/step - loss: -1446225959.8961 - accuracy: 0.6507\n",
      "Epoch 599/2000\n",
      "76/76 [==============================] - 0s 5ms/step - loss: -1468429089.2468 - accuracy: 0.6541\n",
      "Epoch 600/2000\n",
      "76/76 [==============================] - 0s 5ms/step - loss: -1523462546.2857 - accuracy: 0.6367\n",
      "Epoch 601/2000\n",
      "76/76 [==============================] - 0s 5ms/step - loss: -1501948420.9870 - accuracy: 0.6458\n",
      "Epoch 602/2000\n",
      "76/76 [==============================] - 0s 5ms/step - loss: -1518249664.8312 - accuracy: 0.6443\n",
      "Epoch 603/2000\n",
      "76/76 [==============================] - 0s 6ms/step - loss: -1512793197.7143 - accuracy: 0.6447\n",
      "Epoch 604/2000\n",
      "76/76 [==============================] - 0s 6ms/step - loss: -1531145566.7532 - accuracy: 0.6446\n",
      "Epoch 605/2000\n",
      "76/76 [==============================] - 0s 5ms/step - loss: -1561287683.3247 - accuracy: 0.6384\n",
      "Epoch 606/2000\n",
      "76/76 [==============================] - 0s 6ms/step - loss: -1522802982.2338 - accuracy: 0.6471\n",
      "Epoch 607/2000\n",
      "76/76 [==============================] - 0s 5ms/step - loss: -1542470960.2078 - accuracy: 0.6455\n",
      "Epoch 608/2000\n",
      "76/76 [==============================] - 0s 5ms/step - loss: -1631995677.9221 - accuracy: 0.6286\n",
      "Epoch 609/2000\n",
      "76/76 [==============================] - 0s 5ms/step - loss: -1564065454.5455 - accuracy: 0.6420\n",
      "Epoch 610/2000\n",
      "76/76 [==============================] - 0s 5ms/step - loss: -1549199973.4026 - accuracy: 0.6507\n",
      "Epoch 611/2000\n",
      "76/76 [==============================] - 0s 5ms/step - loss: -1575450318.1299 - accuracy: 0.6436\n",
      "Epoch 612/2000\n",
      "76/76 [==============================] - 0s 5ms/step - loss: -1574461696.0000 - accuracy: 0.6457\n",
      "Epoch 613/2000\n",
      "76/76 [==============================] - 0s 5ms/step - loss: -1625225546.8052 - accuracy: 0.6353\n",
      "Epoch 614/2000\n",
      "76/76 [==============================] - 0s 5ms/step - loss: -1560708475.0130 - accuracy: 0.6542\n",
      "Epoch 615/2000\n",
      "76/76 [==============================] - 0s 5ms/step - loss: -1634901055.1688 - accuracy: 0.6350\n",
      "Epoch 616/2000\n",
      "76/76 [==============================] - 0s 5ms/step - loss: -1585328114.7013 - accuracy: 0.6497\n",
      "Epoch 617/2000\n",
      "76/76 [==============================] - 0s 5ms/step - loss: -1637703832.9351 - accuracy: 0.6404\n",
      "Epoch 618/2000\n",
      "76/76 [==============================] - 0s 6ms/step - loss: -1614370530.0779 - accuracy: 0.6496\n",
      "Epoch 619/2000\n",
      "76/76 [==============================] - 0s 5ms/step - loss: -1642604691.9481 - accuracy: 0.6411\n",
      "Epoch 620/2000\n",
      "76/76 [==============================] - 0s 5ms/step - loss: -1597545746.2857 - accuracy: 0.6548\n",
      "Epoch 621/2000\n",
      "76/76 [==============================] - 0s 5ms/step - loss: -1653434831.7922 - accuracy: 0.6444\n",
      "Epoch 622/2000\n",
      "76/76 [==============================] - 0s 6ms/step - loss: -1629193264.2078 - accuracy: 0.6528\n",
      "Epoch 623/2000\n",
      "76/76 [==============================] - 0s 5ms/step - loss: -1620887857.8701 - accuracy: 0.6505\n",
      "Epoch 624/2000\n",
      "76/76 [==============================] - 0s 5ms/step - loss: -1686172487.4805 - accuracy: 0.6425\n",
      "Epoch 625/2000\n",
      "76/76 [==============================] - 0s 6ms/step - loss: -1682061458.2857 - accuracy: 0.6492\n",
      "Epoch 626/2000\n",
      "76/76 [==============================] - 0s 6ms/step - loss: -1720389563.8442 - accuracy: 0.6357\n",
      "Epoch 627/2000\n",
      "76/76 [==============================] - 0s 6ms/step - loss: -1611430818.9091 - accuracy: 0.6627\n",
      "Epoch 628/2000\n",
      "76/76 [==============================] - 0s 6ms/step - loss: -1658168029.0909 - accuracy: 0.6569\n",
      "Epoch 629/2000\n",
      "76/76 [==============================] - 0s 6ms/step - loss: -1699902429.0909 - accuracy: 0.6492\n",
      "Epoch 630/2000\n",
      "76/76 [==============================] - 0s 6ms/step - loss: -1711269176.5195 - accuracy: 0.6440\n",
      "Epoch 631/2000\n",
      "76/76 [==============================] - 0s 5ms/step - loss: -1768841337.3506 - accuracy: 0.6344\n",
      "Epoch 632/2000\n",
      "76/76 [==============================] - 0s 5ms/step - loss: -1680672881.0390 - accuracy: 0.6576\n",
      "Epoch 633/2000\n",
      "76/76 [==============================] - 0s 6ms/step - loss: -1699022224.6234 - accuracy: 0.6570\n",
      "Epoch 634/2000\n",
      "76/76 [==============================] - 0s 6ms/step - loss: -1686624490.3896 - accuracy: 0.6566\n",
      "Epoch 635/2000\n",
      "76/76 [==============================] - 0s 6ms/step - loss: -1730239283.5325 - accuracy: 0.6469\n",
      "Epoch 636/2000\n",
      "76/76 [==============================] - 0s 6ms/step - loss: -1744233051.4286 - accuracy: 0.6494\n",
      "Epoch 637/2000\n",
      "76/76 [==============================] - 0s 5ms/step - loss: -1730656673.2468 - accuracy: 0.6535\n",
      "Epoch 638/2000\n",
      "76/76 [==============================] - 0s 5ms/step - loss: -1775044878.9610 - accuracy: 0.6450\n",
      "Epoch 639/2000\n",
      "76/76 [==============================] - 0s 5ms/step - loss: -1790433065.5584 - accuracy: 0.6447\n",
      "Epoch 640/2000\n",
      "76/76 [==============================] - 0s 6ms/step - loss: -1782837901.2987 - accuracy: 0.6490\n",
      "Epoch 641/2000\n",
      "76/76 [==============================] - 0s 6ms/step - loss: -1769942160.6234 - accuracy: 0.6509\n",
      "Epoch 642/2000\n",
      "76/76 [==============================] - 0s 6ms/step - loss: -1804028401.0390 - accuracy: 0.6489\n",
      "Epoch 643/2000\n",
      "76/76 [==============================] - 0s 6ms/step - loss: -1769953619.1169 - accuracy: 0.6548\n",
      "Epoch 644/2000\n",
      "76/76 [==============================] - 0s 6ms/step - loss: -1800757174.8571 - accuracy: 0.6505\n",
      "Epoch 645/2000\n",
      "76/76 [==============================] - 0s 6ms/step - loss: -1836955475.1169 - accuracy: 0.6452\n",
      "Epoch 646/2000\n",
      "76/76 [==============================] - 0s 6ms/step - loss: -1834681365.6104 - accuracy: 0.6458\n",
      "Epoch 647/2000\n",
      "76/76 [==============================] - 0s 6ms/step - loss: -1868180624.6234 - accuracy: 0.6446\n",
      "Epoch 648/2000\n",
      "76/76 [==============================] - 0s 5ms/step - loss: -1823854766.5455 - accuracy: 0.6549\n",
      "Epoch 649/2000\n",
      "76/76 [==============================] - 0s 5ms/step - loss: -1832304447.1688 - accuracy: 0.6538\n",
      "Epoch 650/2000\n",
      "76/76 [==============================] - 0s 6ms/step - loss: -1858695495.4805 - accuracy: 0.6499\n",
      "Epoch 651/2000\n",
      "76/76 [==============================] - 0s 6ms/step - loss: -1869847696.6234 - accuracy: 0.6458\n",
      "Epoch 652/2000\n",
      "76/76 [==============================] - 0s 6ms/step - loss: -1909975952.6234 - accuracy: 0.6413\n",
      "Epoch 653/2000\n",
      "76/76 [==============================] - 0s 5ms/step - loss: -1910411624.7273 - accuracy: 0.6418\n",
      "Epoch 654/2000\n",
      "76/76 [==============================] - 0s 6ms/step - loss: -1830851156.7792 - accuracy: 0.6603\n",
      "Epoch 655/2000\n",
      "76/76 [==============================] - 0s 6ms/step - loss: -1901677443.3247 - accuracy: 0.6471\n",
      "Epoch 656/2000\n",
      "76/76 [==============================] - 0s 5ms/step - loss: -1877863522.0779 - accuracy: 0.6530\n",
      "Epoch 657/2000\n",
      "76/76 [==============================] - 0s 5ms/step - loss: -1882187769.3506 - accuracy: 0.6559\n",
      "Epoch 658/2000\n",
      "76/76 [==============================] - 0s 6ms/step - loss: -1924596765.9221 - accuracy: 0.6490\n",
      "Epoch 659/2000\n",
      "76/76 [==============================] - 0s 6ms/step - loss: -1942760285.0909 - accuracy: 0.6472\n",
      "Epoch 660/2000\n",
      "76/76 [==============================] - 0s 6ms/step - loss: -1965531571.5325 - accuracy: 0.6462\n",
      "Epoch 661/2000\n",
      "76/76 [==============================] - 0s 5ms/step - loss: -1899658354.7013 - accuracy: 0.6587\n",
      "Epoch 662/2000\n",
      "76/76 [==============================] - 0s 6ms/step - loss: -1959494247.0649 - accuracy: 0.6453\n",
      "Epoch 663/2000\n",
      "76/76 [==============================] - 0s 6ms/step - loss: -1995401189.4026 - accuracy: 0.6421\n",
      "Epoch 664/2000\n",
      "76/76 [==============================] - 0s 6ms/step - loss: -1968561698.9091 - accuracy: 0.6451\n",
      "Epoch 665/2000\n",
      "76/76 [==============================] - 0s 5ms/step - loss: -1972694355.1169 - accuracy: 0.6523\n",
      "Epoch 666/2000\n",
      "76/76 [==============================] - 0s 5ms/step - loss: -1937129703.0649 - accuracy: 0.6559\n",
      "Epoch 667/2000\n",
      "76/76 [==============================] - 0s 6ms/step - loss: -1981849737.9740 - accuracy: 0.6471\n",
      "Epoch 668/2000\n",
      "76/76 [==============================] - 0s 6ms/step - loss: -2045500307.9481 - accuracy: 0.6420\n",
      "Epoch 669/2000\n",
      "76/76 [==============================] - 0s 5ms/step - loss: -2031273063.0649 - accuracy: 0.6464\n",
      "Epoch 670/2000\n",
      "76/76 [==============================] - 0s 5ms/step - loss: -2033376246.0260 - accuracy: 0.6503\n",
      "Epoch 671/2000\n",
      "76/76 [==============================] - 0s 5ms/step - loss: -2064236169.9740 - accuracy: 0.6440\n",
      "Epoch 672/2000\n",
      "76/76 [==============================] - 0s 5ms/step - loss: -2003656790.4416 - accuracy: 0.6556\n",
      "Epoch 673/2000\n",
      "76/76 [==============================] - 0s 6ms/step - loss: -2080560990.7532 - accuracy: 0.6448\n",
      "Epoch 674/2000\n",
      "76/76 [==============================] - 0s 5ms/step - loss: -2039202322.2857 - accuracy: 0.6518\n",
      "Epoch 675/2000\n",
      "76/76 [==============================] - 0s 6ms/step - loss: -2071986874.1818 - accuracy: 0.6474\n",
      "Epoch 676/2000\n",
      "76/76 [==============================] - 0s 6ms/step - loss: -2057913081.3506 - accuracy: 0.6493\n",
      "Epoch 677/2000\n",
      "76/76 [==============================] - 0s 6ms/step - loss: -2072200554.3896 - accuracy: 0.6492\n",
      "Epoch 678/2000\n",
      "76/76 [==============================] - 0s 6ms/step - loss: -2035922742.8571 - accuracy: 0.6607\n",
      "Epoch 679/2000\n",
      "76/76 [==============================] - 0s 6ms/step - loss: -2015037157.4026 - accuracy: 0.6633\n",
      "Epoch 680/2000\n",
      "76/76 [==============================] - 0s 6ms/step - loss: -2067434622.3377 - accuracy: 0.6578\n",
      "Epoch 681/2000\n",
      "76/76 [==============================] - 0s 5ms/step - loss: -2113462207.1688 - accuracy: 0.6498\n",
      "Epoch 682/2000\n",
      "76/76 [==============================] - 0s 5ms/step - loss: -2136306493.5065 - accuracy: 0.6481\n",
      "Epoch 683/2000\n",
      "76/76 [==============================] - 0s 5ms/step - loss: -2105408809.5584 - accuracy: 0.6555\n",
      "Epoch 684/2000\n",
      "76/76 [==============================] - 0s 6ms/step - loss: -2166379579.8442 - accuracy: 0.6463\n",
      "Epoch 685/2000\n",
      "76/76 [==============================] - 0s 6ms/step - loss: -2196746130.2857 - accuracy: 0.6410\n",
      "Epoch 686/2000\n",
      "76/76 [==============================] - 0s 5ms/step - loss: -2151635520.8312 - accuracy: 0.6522\n",
      "Epoch 687/2000\n",
      "76/76 [==============================] - 0s 6ms/step - loss: -2167773559.6883 - accuracy: 0.6525\n",
      "Epoch 688/2000\n",
      "76/76 [==============================] - 0s 6ms/step - loss: -2157826016.4156 - accuracy: 0.6506\n",
      "Epoch 689/2000\n",
      "76/76 [==============================] - 0s 6ms/step - loss: -2174262504.7273 - accuracy: 0.6513\n",
      "Epoch 690/2000\n",
      "76/76 [==============================] - 0s 5ms/step - loss: -2199167024.2078 - accuracy: 0.6492\n",
      "Epoch 691/2000\n",
      "76/76 [==============================] - 0s 6ms/step - loss: -2237866961.4545 - accuracy: 0.6463\n",
      "Epoch 692/2000\n",
      "76/76 [==============================] - 0s 6ms/step - loss: -2272768063.1688 - accuracy: 0.6421\n",
      "Epoch 693/2000\n",
      "76/76 [==============================] - 0s 6ms/step - loss: -2191285517.2987 - accuracy: 0.6548\n",
      "Epoch 694/2000\n",
      "76/76 [==============================] - 0s 6ms/step - loss: -2237987820.0519 - accuracy: 0.6453\n",
      "Epoch 695/2000\n",
      "76/76 [==============================] - 0s 6ms/step - loss: -2234500548.1558 - accuracy: 0.6483\n",
      "Epoch 696/2000\n",
      "76/76 [==============================] - 0s 6ms/step - loss: -2213386258.2857 - accuracy: 0.6573\n",
      "Epoch 697/2000\n",
      "76/76 [==============================] - 0s 6ms/step - loss: -2252981871.3766 - accuracy: 0.6511\n",
      "Epoch 698/2000\n",
      "76/76 [==============================] - 0s 6ms/step - loss: -2251171816.7273 - accuracy: 0.6549\n",
      "Epoch 699/2000\n",
      "76/76 [==============================] - 0s 6ms/step - loss: -2299759526.2338 - accuracy: 0.6452\n",
      "Epoch 700/2000\n",
      "76/76 [==============================] - 0s 6ms/step - loss: -2188588155.0130 - accuracy: 0.6658\n",
      "Epoch 701/2000\n",
      "76/76 [==============================] - 0s 6ms/step - loss: -2272879971.7403 - accuracy: 0.6522\n",
      "Epoch 702/2000\n",
      "76/76 [==============================] - 0s 6ms/step - loss: -2335290384.6234 - accuracy: 0.6471\n",
      "Epoch 703/2000\n",
      "76/76 [==============================] - 0s 5ms/step - loss: -2264703612.6753 - accuracy: 0.6580\n",
      "Epoch 704/2000\n",
      "76/76 [==============================] - 0s 6ms/step - loss: -2332280187.0130 - accuracy: 0.6514\n",
      "Epoch 705/2000\n",
      "76/76 [==============================] - 0s 6ms/step - loss: -2294615671.6883 - accuracy: 0.6549\n",
      "Epoch 706/2000\n",
      "76/76 [==============================] - 0s 5ms/step - loss: -2332961412.9870 - accuracy: 0.6504\n",
      "Epoch 707/2000\n",
      "76/76 [==============================] - 0s 5ms/step - loss: -2364675580.6753 - accuracy: 0.6476\n",
      "Epoch 708/2000\n",
      "76/76 [==============================] - 0s 5ms/step - loss: -2331816014.1299 - accuracy: 0.6552\n",
      "Epoch 709/2000\n",
      "76/76 [==============================] - 0s 5ms/step - loss: -2299003157.6104 - accuracy: 0.6597\n",
      "Epoch 710/2000\n",
      "76/76 [==============================] - 0s 6ms/step - loss: -2442671090.7013 - accuracy: 0.6424\n",
      "Epoch 711/2000\n",
      "76/76 [==============================] - 0s 6ms/step - loss: -2402714790.2338 - accuracy: 0.6488\n",
      "Epoch 712/2000\n",
      "76/76 [==============================] - 1s 7ms/step - loss: -2415951004.2597 - accuracy: 0.6494\n",
      "Epoch 713/2000\n",
      "76/76 [==============================] - 0s 6ms/step - loss: -2388053876.3636 - accuracy: 0.6491\n",
      "Epoch 714/2000\n",
      "76/76 [==============================] - 0s 6ms/step - loss: -2422420034.4935 - accuracy: 0.6517\n",
      "Epoch 715/2000\n",
      "76/76 [==============================] - 0s 5ms/step - loss: -2443330157.7143 - accuracy: 0.6481\n",
      "Epoch 716/2000\n",
      "76/76 [==============================] - 0s 5ms/step - loss: -2423073441.2468 - accuracy: 0.6521\n",
      "Epoch 717/2000\n",
      "76/76 [==============================] - 0s 6ms/step - loss: -2421576657.4545 - accuracy: 0.6518\n",
      "Epoch 718/2000\n",
      "76/76 [==============================] - 0s 6ms/step - loss: -2433325784.1039 - accuracy: 0.6530\n",
      "Epoch 719/2000\n",
      "76/76 [==============================] - 0s 6ms/step - loss: -2417855321.7662 - accuracy: 0.6570\n",
      "Epoch 720/2000\n",
      "76/76 [==============================] - 0s 6ms/step - loss: -2449344891.0130 - accuracy: 0.6530\n",
      "Epoch 721/2000\n",
      "76/76 [==============================] - 0s 6ms/step - loss: -2421685404.2597 - accuracy: 0.6568\n",
      "Epoch 722/2000\n",
      "76/76 [==============================] - 0s 6ms/step - loss: -2434631886.1299 - accuracy: 0.6574\n",
      "Epoch 723/2000\n",
      "76/76 [==============================] - 0s 6ms/step - loss: -2515200551.8961 - accuracy: 0.6492\n",
      "Epoch 724/2000\n",
      "76/76 [==============================] - 1s 12ms/step - loss: -2455488202.8052 - accuracy: 0.6556\n",
      "Epoch 725/2000\n",
      "76/76 [==============================] - 0s 6ms/step - loss: -2583062022.6494 - accuracy: 0.6423\n",
      "Epoch 726/2000\n",
      "76/76 [==============================] - 0s 5ms/step - loss: -2497944600.9351 - accuracy: 0.6560\n",
      "Epoch 727/2000\n",
      "76/76 [==============================] - 0s 6ms/step - loss: -2539008794.5974 - accuracy: 0.6489\n",
      "Epoch 728/2000\n",
      "76/76 [==============================] - 0s 5ms/step - loss: -2605611350.4416 - accuracy: 0.6424\n",
      "Epoch 729/2000\n",
      "76/76 [==============================] - 0s 6ms/step - loss: -2558209871.7922 - accuracy: 0.6516\n",
      "Epoch 730/2000\n",
      "76/76 [==============================] - 0s 5ms/step - loss: -2575531536.6234 - accuracy: 0.6482\n",
      "Epoch 731/2000\n",
      "76/76 [==============================] - 0s 5ms/step - loss: -2605917809.0390 - accuracy: 0.6494\n",
      "Epoch 732/2000\n",
      "76/76 [==============================] - 0s 5ms/step - loss: -2552715636.3636 - accuracy: 0.6579\n",
      "Epoch 733/2000\n",
      "76/76 [==============================] - 0s 5ms/step - loss: -2588260238.9610 - accuracy: 0.6530\n",
      "Epoch 734/2000\n",
      "76/76 [==============================] - 0s 5ms/step - loss: -2584337534.3377 - accuracy: 0.6544\n",
      "Epoch 735/2000\n",
      "76/76 [==============================] - 0s 5ms/step - loss: -2564418982.2338 - accuracy: 0.6592\n",
      "Epoch 736/2000\n",
      "76/76 [==============================] - 0s 6ms/step - loss: -2614490012.2597 - accuracy: 0.6543\n",
      "Epoch 737/2000\n",
      "76/76 [==============================] - 0s 5ms/step - loss: -2578450335.5844 - accuracy: 0.6598\n",
      "Epoch 738/2000\n",
      "76/76 [==============================] - 0s 5ms/step - loss: -2625402756.9870 - accuracy: 0.6560\n",
      "Epoch 739/2000\n",
      "76/76 [==============================] - 0s 5ms/step - loss: -2636638331.0130 - accuracy: 0.6552\n",
      "Epoch 740/2000\n",
      "76/76 [==============================] - 0s 5ms/step - loss: -2621598394.1818 - accuracy: 0.6582\n",
      "Epoch 741/2000\n",
      "76/76 [==============================] - 0s 5ms/step - loss: -2683025301.6104 - accuracy: 0.6519\n",
      "Epoch 742/2000\n",
      "76/76 [==============================] - 0s 6ms/step - loss: -2677874069.6104 - accuracy: 0.6529\n",
      "Epoch 743/2000\n",
      "76/76 [==============================] - 0s 5ms/step - loss: -2716459164.2597 - accuracy: 0.6471\n",
      "Epoch 744/2000\n",
      "76/76 [==============================] - 0s 6ms/step - loss: -2660849959.8961 - accuracy: 0.6588\n",
      "Epoch 745/2000\n",
      "76/76 [==============================] - 0s 6ms/step - loss: -2713006851.3247 - accuracy: 0.6550\n",
      "Epoch 746/2000\n",
      "76/76 [==============================] - 0s 6ms/step - loss: -2716383700.7792 - accuracy: 0.6530\n",
      "Epoch 747/2000\n",
      "76/76 [==============================] - 0s 5ms/step - loss: -2691393798.6494 - accuracy: 0.6570\n",
      "Epoch 748/2000\n",
      "76/76 [==============================] - 0s 5ms/step - loss: -2730082968.9351 - accuracy: 0.6570\n",
      "Epoch 749/2000\n",
      "76/76 [==============================] - 0s 5ms/step - loss: -2786165746.7013 - accuracy: 0.6499\n",
      "Epoch 750/2000\n",
      "76/76 [==============================] - 0s 5ms/step - loss: -2737610333.0909 - accuracy: 0.6562\n",
      "Epoch 751/2000\n",
      "76/76 [==============================] - 0s 6ms/step - loss: -2723490822.6494 - accuracy: 0.6575\n",
      "Epoch 752/2000\n",
      "76/76 [==============================] - 0s 5ms/step - loss: -2828760147.1169 - accuracy: 0.6451\n",
      "Epoch 753/2000\n",
      "76/76 [==============================] - 0s 5ms/step - loss: -2746112531.9481 - accuracy: 0.6574\n",
      "Epoch 754/2000\n",
      "76/76 [==============================] - 0s 5ms/step - loss: -2800057417.1429 - accuracy: 0.6531\n",
      "Epoch 755/2000\n",
      "76/76 [==============================] - 0s 6ms/step - loss: -2894319050.8052 - accuracy: 0.6436\n",
      "Epoch 756/2000\n",
      "76/76 [==============================] - 0s 5ms/step - loss: -2806860590.5455 - accuracy: 0.6554\n",
      "Epoch 757/2000\n",
      "76/76 [==============================] - 0s 5ms/step - loss: -2845161837.7143 - accuracy: 0.6508\n",
      "Epoch 758/2000\n",
      "76/76 [==============================] - 0s 5ms/step - loss: -2828586771.9481 - accuracy: 0.6544\n",
      "Epoch 759/2000\n",
      "76/76 [==============================] - 0s 5ms/step - loss: -2887273106.2857 - accuracy: 0.6512\n",
      "Epoch 760/2000\n",
      "76/76 [==============================] - 0s 6ms/step - loss: -2872980051.1169 - accuracy: 0.6529\n",
      "Epoch 761/2000\n",
      "76/76 [==============================] - 0s 5ms/step - loss: -2842546624.8312 - accuracy: 0.6555\n",
      "Epoch 762/2000\n",
      "76/76 [==============================] - 0s 5ms/step - loss: -2944034882.4935 - accuracy: 0.6462\n",
      "Epoch 763/2000\n",
      "76/76 [==============================] - 0s 5ms/step - loss: -2844494129.8701 - accuracy: 0.6590\n",
      "Epoch 764/2000\n",
      "76/76 [==============================] - 0s 5ms/step - loss: -2895824972.4675 - accuracy: 0.6536\n",
      "Epoch 765/2000\n",
      "76/76 [==============================] - 0s 5ms/step - loss: -2911145302.4416 - accuracy: 0.6553\n",
      "Epoch 766/2000\n",
      "76/76 [==============================] - 0s 5ms/step - loss: -2928711324.2597 - accuracy: 0.6547\n",
      "Epoch 767/2000\n",
      "76/76 [==============================] - 0s 5ms/step - loss: -2913903592.7273 - accuracy: 0.6574\n",
      "Epoch 768/2000\n",
      "76/76 [==============================] - 0s 5ms/step - loss: -3043226663.8961 - accuracy: 0.6411\n",
      "Epoch 769/2000\n",
      "76/76 [==============================] - 0s 5ms/step - loss: -2978315972.1558 - accuracy: 0.6520\n",
      "Epoch 770/2000\n",
      "76/76 [==============================] - 0s 5ms/step - loss: -2868255847.0649 - accuracy: 0.6636\n",
      "Epoch 771/2000\n",
      "76/76 [==============================] - 0s 5ms/step - loss: -2939283130.1818 - accuracy: 0.6592\n",
      "Epoch 772/2000\n",
      "76/76 [==============================] - 0s 5ms/step - loss: -3041801388.8831 - accuracy: 0.6493\n",
      "Epoch 773/2000\n",
      "76/76 [==============================] - 0s 5ms/step - loss: -3020910611.9481 - accuracy: 0.6521\n",
      "Epoch 774/2000\n",
      "76/76 [==============================] - 0s 5ms/step - loss: -3047428744.3117 - accuracy: 0.6517\n",
      "Epoch 775/2000\n",
      "76/76 [==============================] - 0s 5ms/step - loss: -3011404879.7922 - accuracy: 0.6556\n",
      "Epoch 776/2000\n",
      "76/76 [==============================] - 0s 5ms/step - loss: -3039277232.2078 - accuracy: 0.6545\n",
      "Epoch 777/2000\n",
      "76/76 [==============================] - 0s 5ms/step - loss: -2999602697.9740 - accuracy: 0.6594\n",
      "Epoch 778/2000\n",
      "76/76 [==============================] - 0s 5ms/step - loss: -2993078717.5065 - accuracy: 0.6614\n",
      "Epoch 779/2000\n",
      "76/76 [==============================] - 0s 5ms/step - loss: -3081160055.6883 - accuracy: 0.6550\n",
      "Epoch 780/2000\n",
      "76/76 [==============================] - 0s 5ms/step - loss: -3087450527.5844 - accuracy: 0.6510\n",
      "Epoch 781/2000\n",
      "76/76 [==============================] - 0s 5ms/step - loss: -3119421815.6883 - accuracy: 0.6520\n",
      "Epoch 782/2000\n",
      "76/76 [==============================] - 0s 6ms/step - loss: -3132048935.8961 - accuracy: 0.6505\n",
      "Epoch 783/2000\n",
      "76/76 [==============================] - 0s 5ms/step - loss: -3061469809.0390 - accuracy: 0.6569\n",
      "Epoch 784/2000\n",
      "76/76 [==============================] - 0s 5ms/step - loss: -3130473721.3506 - accuracy: 0.6542\n",
      "Epoch 785/2000\n",
      "76/76 [==============================] - 0s 5ms/step - loss: -3097810621.5065 - accuracy: 0.6587\n",
      "Epoch 786/2000\n",
      "76/76 [==============================] - 0s 6ms/step - loss: -3141756346.1818 - accuracy: 0.6557\n",
      "Epoch 787/2000\n",
      "76/76 [==============================] - 0s 6ms/step - loss: -3240743560.3117 - accuracy: 0.6455\n",
      "Epoch 788/2000\n",
      "76/76 [==============================] - 0s 6ms/step - loss: -3253907057.0390 - accuracy: 0.6453\n",
      "Epoch 789/2000\n",
      "76/76 [==============================] - 0s 5ms/step - loss: -3178521629.9221 - accuracy: 0.6520\n",
      "Epoch 790/2000\n",
      "76/76 [==============================] - 0s 5ms/step - loss: -3249715948.0519 - accuracy: 0.6468\n",
      "Epoch 791/2000\n",
      "76/76 [==============================] - 0s 5ms/step - loss: -3172561946.5974 - accuracy: 0.6564\n",
      "Epoch 792/2000\n",
      "76/76 [==============================] - 0s 5ms/step - loss: -3175478358.4416 - accuracy: 0.6577\n",
      "Epoch 793/2000\n",
      "76/76 [==============================] - 0s 5ms/step - loss: -3250082998.8571 - accuracy: 0.6513\n",
      "Epoch 794/2000\n",
      "76/76 [==============================] - 0s 5ms/step - loss: -3240985407.1688 - accuracy: 0.6536\n",
      "Epoch 795/2000\n",
      "76/76 [==============================] - 0s 5ms/step - loss: -3243147360.4156 - accuracy: 0.6554\n",
      "Epoch 796/2000\n",
      "76/76 [==============================] - 0s 6ms/step - loss: -3204053693.5065 - accuracy: 0.6575\n",
      "Epoch 797/2000\n",
      "76/76 [==============================] - 0s 6ms/step - loss: -3285326060.0519 - accuracy: 0.6519\n",
      "Epoch 798/2000\n",
      "76/76 [==============================] - 0s 6ms/step - loss: -3304691755.2208 - accuracy: 0.6528\n",
      "Epoch 799/2000\n",
      "76/76 [==============================] - 0s 6ms/step - loss: -3244522964.7792 - accuracy: 0.6590\n",
      "Epoch 800/2000\n",
      "76/76 [==============================] - 0s 6ms/step - loss: -3380222756.5714 - accuracy: 0.6477\n",
      "Epoch 801/2000\n",
      "76/76 [==============================] - 0s 6ms/step - loss: -3216567126.4416 - accuracy: 0.6630\n",
      "Epoch 802/2000\n",
      "76/76 [==============================] - 0s 6ms/step - loss: -3293398710.8571 - accuracy: 0.6566\n",
      "Epoch 803/2000\n",
      "76/76 [==============================] - 0s 6ms/step - loss: -3260197868.0519 - accuracy: 0.6622\n",
      "Epoch 804/2000\n",
      "76/76 [==============================] - 0s 6ms/step - loss: -3392981540.5714 - accuracy: 0.6490\n",
      "Epoch 805/2000\n",
      "76/76 [==============================] - 0s 5ms/step - loss: -3354759330.9091 - accuracy: 0.6533\n",
      "Epoch 806/2000\n",
      "76/76 [==============================] - 0s 6ms/step - loss: -3410876974.5455 - accuracy: 0.6505\n",
      "Epoch 807/2000\n",
      "76/76 [==============================] - 0s 6ms/step - loss: -3307816880.2078 - accuracy: 0.6598\n",
      "Epoch 808/2000\n",
      "76/76 [==============================] - 0s 6ms/step - loss: -3413973567.1688 - accuracy: 0.6528\n",
      "Epoch 809/2000\n",
      "76/76 [==============================] - 0s 5ms/step - loss: -3326736533.6104 - accuracy: 0.6620\n",
      "Epoch 810/2000\n",
      "76/76 [==============================] - 0s 5ms/step - loss: -3510187014.6494 - accuracy: 0.6471\n",
      "Epoch 811/2000\n",
      "76/76 [==============================] - 0s 5ms/step - loss: -3474022157.2987 - accuracy: 0.6492\n",
      "Epoch 812/2000\n",
      "76/76 [==============================] - 0s 6ms/step - loss: -3379444868.9870 - accuracy: 0.6598\n",
      "Epoch 813/2000\n",
      "76/76 [==============================] - 0s 5ms/step - loss: -3431672994.9091 - accuracy: 0.6572\n",
      "Epoch 814/2000\n",
      "76/76 [==============================] - 0s 6ms/step - loss: -3424012627.1169 - accuracy: 0.6606\n",
      "Epoch 815/2000\n",
      "76/76 [==============================] - 0s 5ms/step - loss: -3440791153.0390 - accuracy: 0.6557\n",
      "Epoch 816/2000\n",
      "76/76 [==============================] - 0s 6ms/step - loss: -3432173853.9221 - accuracy: 0.6621\n",
      "Epoch 817/2000\n",
      "76/76 [==============================] - 0s 6ms/step - loss: -3545186500.1558 - accuracy: 0.6477\n",
      "Epoch 818/2000\n",
      "76/76 [==============================] - 0s 5ms/step - loss: -3550816445.5065 - accuracy: 0.6502\n",
      "Epoch 819/2000\n",
      "76/76 [==============================] - 0s 6ms/step - loss: -3472801672.3117 - accuracy: 0.6618\n",
      "Epoch 820/2000\n",
      "76/76 [==============================] - 0s 5ms/step - loss: -3485407398.2338 - accuracy: 0.6608\n",
      "Epoch 821/2000\n",
      "76/76 [==============================] - 0s 6ms/step - loss: -3508717624.5195 - accuracy: 0.6582\n",
      "Epoch 822/2000\n",
      "76/76 [==============================] - 0s 5ms/step - loss: -3616589830.6494 - accuracy: 0.6488\n",
      "Epoch 823/2000\n",
      "76/76 [==============================] - 0s 6ms/step - loss: -3630013622.8571 - accuracy: 0.6508\n",
      "Epoch 824/2000\n",
      "76/76 [==============================] - 0s 6ms/step - loss: -3660949480.7273 - accuracy: 0.6465\n",
      "Epoch 825/2000\n",
      "76/76 [==============================] - 0s 5ms/step - loss: -3552674985.5584 - accuracy: 0.6590\n",
      "Epoch 826/2000\n",
      "76/76 [==============================] - 0s 5ms/step - loss: -3562361001.5584 - accuracy: 0.6598\n",
      "Epoch 827/2000\n",
      "76/76 [==============================] - 0s 5ms/step - loss: -3646999957.6104 - accuracy: 0.6540\n",
      "Epoch 828/2000\n",
      "76/76 [==============================] - 0s 5ms/step - loss: -3562244002.9091 - accuracy: 0.6631\n",
      "Epoch 829/2000\n",
      "76/76 [==============================] - 0s 5ms/step - loss: -3598745038.1299 - accuracy: 0.6617\n",
      "Epoch 830/2000\n",
      "76/76 [==============================] - 0s 5ms/step - loss: -3611625116.2597 - accuracy: 0.6600\n",
      "Epoch 831/2000\n",
      "76/76 [==============================] - 0s 5ms/step - loss: -3650015660.8831 - accuracy: 0.6550\n",
      "Epoch 832/2000\n",
      "76/76 [==============================] - 0s 5ms/step - loss: -3686705248.4156 - accuracy: 0.6551\n",
      "Epoch 833/2000\n",
      "76/76 [==============================] - 0s 6ms/step - loss: -3579157374.3377 - accuracy: 0.6667\n",
      "Epoch 834/2000\n",
      "76/76 [==============================] - 0s 5ms/step - loss: -3704343339.2208 - accuracy: 0.6557\n",
      "Epoch 835/2000\n",
      "76/76 [==============================] - 0s 6ms/step - loss: -3730418558.3377 - accuracy: 0.6535\n",
      "Epoch 836/2000\n",
      "76/76 [==============================] - 0s 6ms/step - loss: -3745797745.0390 - accuracy: 0.6547\n",
      "Epoch 837/2000\n",
      "76/76 [==============================] - 0s 5ms/step - loss: -3745904014.9610 - accuracy: 0.6547\n",
      "Epoch 838/2000\n",
      "76/76 [==============================] - 0s 5ms/step - loss: -3760211053.7143 - accuracy: 0.6537\n",
      "Epoch 839/2000\n",
      "76/76 [==============================] - 0s 5ms/step - loss: -3686548283.8442 - accuracy: 0.6626\n",
      "Epoch 840/2000\n",
      "76/76 [==============================] - 0s 6ms/step - loss: -3824769183.5844 - accuracy: 0.6524\n",
      "Epoch 841/2000\n",
      "76/76 [==============================] - 0s 6ms/step - loss: -3787644861.5065 - accuracy: 0.6557\n",
      "Epoch 842/2000\n",
      "76/76 [==============================] - 0s 5ms/step - loss: -3897433570.0779 - accuracy: 0.6495\n",
      "Epoch 843/2000\n",
      "76/76 [==============================] - 0s 5ms/step - loss: -3741669508.9870 - accuracy: 0.6621\n",
      "Epoch 844/2000\n",
      "76/76 [==============================] - 0s 5ms/step - loss: -3786758263.6883 - accuracy: 0.6588\n",
      "Epoch 845/2000\n",
      "76/76 [==============================] - 0s 5ms/step - loss: -3744836418.4935 - accuracy: 0.6652\n",
      "Epoch 846/2000\n",
      "76/76 [==============================] - 0s 5ms/step - loss: -3802794283.2208 - accuracy: 0.6579\n",
      "Epoch 847/2000\n",
      "76/76 [==============================] - 0s 5ms/step - loss: -3969368832.0000 - accuracy: 0.6474\n",
      "Epoch 848/2000\n",
      "76/76 [==============================] - 0s 5ms/step - loss: -3806088411.4286 - accuracy: 0.6614\n",
      "Epoch 849/2000\n",
      "76/76 [==============================] - 0s 5ms/step - loss: -3886159396.5714 - accuracy: 0.6542\n",
      "Epoch 850/2000\n",
      "76/76 [==============================] - 0s 5ms/step - loss: -3951696593.4545 - accuracy: 0.6515\n",
      "Epoch 851/2000\n",
      "76/76 [==============================] - 0s 5ms/step - loss: -3993987228.2597 - accuracy: 0.6491\n",
      "Epoch 852/2000\n",
      "76/76 [==============================] - 0s 5ms/step - loss: -3947883194.1818 - accuracy: 0.6537\n",
      "Epoch 853/2000\n",
      "76/76 [==============================] - 0s 5ms/step - loss: -3936409201.0390 - accuracy: 0.6554\n",
      "Epoch 854/2000\n",
      "76/76 [==============================] - 0s 6ms/step - loss: -3900684613.8182 - accuracy: 0.6606\n",
      "Epoch 855/2000\n",
      "76/76 [==============================] - 0s 6ms/step - loss: -3987745449.5584 - accuracy: 0.6540\n",
      "Epoch 856/2000\n",
      "76/76 [==============================] - 0s 5ms/step - loss: -3958457480.3117 - accuracy: 0.6588\n",
      "Epoch 857/2000\n",
      "76/76 [==============================] - 0s 5ms/step - loss: -4068276732.6753 - accuracy: 0.6481\n",
      "Epoch 858/2000\n",
      "76/76 [==============================] - 0s 5ms/step - loss: -4020130919.0649 - accuracy: 0.6558\n",
      "Epoch 859/2000\n",
      "76/76 [==============================] - 0s 6ms/step - loss: -4053150108.2597 - accuracy: 0.6532\n",
      "Epoch 860/2000\n",
      "76/76 [==============================] - 0s 5ms/step - loss: -3971864984.9351 - accuracy: 0.6625\n",
      "Epoch 861/2000\n",
      "76/76 [==============================] - 0s 5ms/step - loss: -4040517452.4675 - accuracy: 0.6567\n",
      "Epoch 862/2000\n",
      "76/76 [==============================] - 0s 6ms/step - loss: -4075811115.2208 - accuracy: 0.6555\n",
      "Epoch 863/2000\n",
      "76/76 [==============================] - 1s 7ms/step - loss: -4038915221.6104 - accuracy: 0.6591\n",
      "Epoch 864/2000\n",
      "76/76 [==============================] - 0s 6ms/step - loss: -4029807230.3377 - accuracy: 0.6597\n",
      "Epoch 865/2000\n",
      "76/76 [==============================] - 0s 6ms/step - loss: -4115646769.8701 - accuracy: 0.6552\n",
      "Epoch 866/2000\n",
      "76/76 [==============================] - 0s 5ms/step - loss: -4029986184.3117 - accuracy: 0.6627\n",
      "Epoch 867/2000\n",
      "76/76 [==============================] - 0s 5ms/step - loss: -4021661888.8312 - accuracy: 0.6626\n",
      "Epoch 868/2000\n",
      "76/76 [==============================] - 0s 6ms/step - loss: -4119775581.0909 - accuracy: 0.6597\n",
      "Epoch 869/2000\n",
      "76/76 [==============================] - 0s 6ms/step - loss: -4091483598.1299 - accuracy: 0.6601\n",
      "Epoch 870/2000\n",
      "76/76 [==============================] - 0s 6ms/step - loss: -4317947392.0000 - accuracy: 0.6420\n",
      "Epoch 871/2000\n",
      "76/76 [==============================] - 0s 6ms/step - loss: -4240196072.7273 - accuracy: 0.6491\n",
      "Epoch 872/2000\n",
      "76/76 [==============================] - 0s 6ms/step - loss: -4159686280.3117 - accuracy: 0.6565\n",
      "Epoch 873/2000\n",
      "76/76 [==============================] - 0s 5ms/step - loss: -4130993590.8571 - accuracy: 0.6619\n",
      "Epoch 874/2000\n",
      "76/76 [==============================] - 0s 6ms/step - loss: -4072870606.1299 - accuracy: 0.6680\n",
      "Epoch 875/2000\n",
      "76/76 [==============================] - 0s 6ms/step - loss: -4178141420.0519 - accuracy: 0.6615\n",
      "Epoch 876/2000\n",
      "76/76 [==============================] - 0s 6ms/step - loss: -4215225314.0779 - accuracy: 0.6574\n",
      "Epoch 877/2000\n",
      "76/76 [==============================] - 0s 6ms/step - loss: -4241095437.2987 - accuracy: 0.6587\n",
      "Epoch 878/2000\n",
      "76/76 [==============================] - 0s 6ms/step - loss: -4233166369.2468 - accuracy: 0.6591\n",
      "Epoch 879/2000\n",
      "76/76 [==============================] - 0s 6ms/step - loss: -4253081742.9610 - accuracy: 0.6601\n",
      "Epoch 880/2000\n",
      "76/76 [==============================] - 0s 6ms/step - loss: -4334597033.5584 - accuracy: 0.6509\n",
      "Epoch 881/2000\n",
      "76/76 [==============================] - 0s 6ms/step - loss: -4242375463.8961 - accuracy: 0.6601\n",
      "Epoch 882/2000\n",
      "76/76 [==============================] - 0s 6ms/step - loss: -4419303187.9481 - accuracy: 0.6502\n",
      "Epoch 883/2000\n",
      "76/76 [==============================] - 1s 7ms/step - loss: -4275905811.9481 - accuracy: 0.6592\n",
      "Epoch 884/2000\n",
      "76/76 [==============================] - 1s 8ms/step - loss: -4282251928.9351 - accuracy: 0.6619\n",
      "Epoch 885/2000\n",
      "76/76 [==============================] - 0s 6ms/step - loss: -4273882633.9740 - accuracy: 0.6634\n",
      "Epoch 886/2000\n",
      "76/76 [==============================] - 0s 6ms/step - loss: -4399321869.2987 - accuracy: 0.6530\n",
      "Epoch 887/2000\n",
      "76/76 [==============================] - 0s 5ms/step - loss: -4290731822.5455 - accuracy: 0.6623\n",
      "Epoch 888/2000\n",
      "76/76 [==============================] - 0s 5ms/step - loss: -4226389304.5195 - accuracy: 0.6699\n",
      "Epoch 889/2000\n",
      "76/76 [==============================] - 0s 5ms/step - loss: -4552198183.8961 - accuracy: 0.6469\n",
      "Epoch 890/2000\n",
      "76/76 [==============================] - 0s 5ms/step - loss: -4576181474.0779 - accuracy: 0.6477\n",
      "Epoch 891/2000\n",
      "76/76 [==============================] - 0s 6ms/step - loss: -4536141983.5844 - accuracy: 0.6518\n",
      "Epoch 892/2000\n",
      "76/76 [==============================] - 0s 5ms/step - loss: -4489716968.7273 - accuracy: 0.6543\n",
      "Epoch 893/2000\n",
      "76/76 [==============================] - 0s 6ms/step - loss: -4351822232.9351 - accuracy: 0.6676\n",
      "Epoch 894/2000\n",
      "76/76 [==============================] - 0s 5ms/step - loss: -4449395798.4416 - accuracy: 0.6579\n",
      "Epoch 895/2000\n",
      "76/76 [==============================] - 0s 6ms/step - loss: -4299284563.1169 - accuracy: 0.6712\n",
      "Epoch 896/2000\n",
      "76/76 [==============================] - 0s 6ms/step - loss: -4484316545.6623 - accuracy: 0.6601\n",
      "Epoch 897/2000\n",
      "76/76 [==============================] - 0s 5ms/step - loss: -4478005297.8701 - accuracy: 0.6600\n",
      "Epoch 898/2000\n",
      "76/76 [==============================] - 0s 5ms/step - loss: -4610938254.9610 - accuracy: 0.6518\n",
      "Epoch 899/2000\n",
      "76/76 [==============================] - 0s 5ms/step - loss: -4545846451.5325 - accuracy: 0.6583\n",
      "Epoch 900/2000\n",
      "76/76 [==============================] - 0s 5ms/step - loss: -4692447797.1948 - accuracy: 0.6481\n",
      "Epoch 901/2000\n",
      "76/76 [==============================] - 0s 5ms/step - loss: -4536663977.5584 - accuracy: 0.6605\n",
      "Epoch 902/2000\n",
      "76/76 [==============================] - 0s 6ms/step - loss: -4527165609.5584 - accuracy: 0.6612\n",
      "Epoch 903/2000\n",
      "76/76 [==============================] - 0s 5ms/step - loss: -4749049151.1688 - accuracy: 0.6481\n",
      "Epoch 904/2000\n",
      "76/76 [==============================] - 0s 6ms/step - loss: -4654925198.9610 - accuracy: 0.6547\n",
      "Epoch 905/2000\n",
      "76/76 [==============================] - 0s 6ms/step - loss: -4674419256.5195 - accuracy: 0.6563\n",
      "Epoch 906/2000\n",
      "76/76 [==============================] - 0s 6ms/step - loss: -4657045371.0130 - accuracy: 0.6592\n",
      "Epoch 907/2000\n",
      "76/76 [==============================] - 0s 5ms/step - loss: -4531289048.1039 - accuracy: 0.6673\n",
      "Epoch 908/2000\n",
      "76/76 [==============================] - 0s 5ms/step - loss: -4663515408.6234 - accuracy: 0.6590\n",
      "Epoch 909/2000\n",
      "76/76 [==============================] - 0s 6ms/step - loss: -4564806030.9610 - accuracy: 0.6684\n",
      "Epoch 910/2000\n",
      "76/76 [==============================] - 0s 6ms/step - loss: -4678036762.5974 - accuracy: 0.6604\n",
      "Epoch 911/2000\n",
      "76/76 [==============================] - 0s 5ms/step - loss: -4815926690.9091 - accuracy: 0.6509\n",
      "Epoch 912/2000\n",
      "76/76 [==============================] - 0s 6ms/step - loss: -4757302478.1299 - accuracy: 0.6559\n",
      "Epoch 913/2000\n",
      "76/76 [==============================] - 0s 6ms/step - loss: -4702419821.7143 - accuracy: 0.6594\n",
      "Epoch 914/2000\n",
      "76/76 [==============================] - 0s 5ms/step - loss: -4819904930.9091 - accuracy: 0.6529\n",
      "Epoch 915/2000\n",
      "76/76 [==============================] - 0s 6ms/step - loss: -4808988396.0519 - accuracy: 0.6563\n",
      "Epoch 916/2000\n",
      "76/76 [==============================] - 0s 6ms/step - loss: -4887708499.1169 - accuracy: 0.6507\n",
      "Epoch 917/2000\n",
      "76/76 [==============================] - 0s 6ms/step - loss: -4890155865.7662 - accuracy: 0.6507\n",
      "Epoch 918/2000\n",
      "76/76 [==============================] - 0s 5ms/step - loss: -4945317981.0909 - accuracy: 0.6488\n",
      "Epoch 919/2000\n",
      "76/76 [==============================] - 0s 5ms/step - loss: -4889641272.5195 - accuracy: 0.6554\n",
      "Epoch 920/2000\n",
      "76/76 [==============================] - 0s 5ms/step - loss: -4736011383.6883 - accuracy: 0.6672\n",
      "Epoch 921/2000\n",
      "76/76 [==============================] - 0s 6ms/step - loss: -4959640236.8831 - accuracy: 0.6512\n",
      "Epoch 922/2000\n",
      "76/76 [==============================] - 0s 5ms/step - loss: -5038901706.8052 - accuracy: 0.6468\n",
      "Epoch 923/2000\n",
      "76/76 [==============================] - 0s 5ms/step - loss: -4932576761.3506 - accuracy: 0.6543\n",
      "Epoch 924/2000\n",
      "76/76 [==============================] - 0s 5ms/step - loss: -4983984679.8961 - accuracy: 0.6541\n",
      "Epoch 925/2000\n",
      "76/76 [==============================] - 0s 5ms/step - loss: -4996014984.3117 - accuracy: 0.6554\n",
      "Epoch 926/2000\n",
      "76/76 [==============================] - 0s 6ms/step - loss: -5110723337.9740 - accuracy: 0.6469\n",
      "Epoch 927/2000\n",
      "76/76 [==============================] - 0s 5ms/step - loss: -4946513095.4805 - accuracy: 0.6588\n",
      "Epoch 928/2000\n",
      "76/76 [==============================] - 0s 5ms/step - loss: -5122957804.0519 - accuracy: 0.6465\n",
      "Epoch 929/2000\n",
      "76/76 [==============================] - 0s 6ms/step - loss: -5182504667.4286 - accuracy: 0.6446\n",
      "Epoch 930/2000\n",
      "76/76 [==============================] - 0s 5ms/step - loss: -5078245741.7143 - accuracy: 0.6542\n",
      "Epoch 931/2000\n",
      "76/76 [==============================] - 0s 5ms/step - loss: -5111944291.7403 - accuracy: 0.6530\n",
      "Epoch 932/2000\n",
      "76/76 [==============================] - 0s 5ms/step - loss: -4940468356.9870 - accuracy: 0.6643\n",
      "Epoch 933/2000\n",
      "76/76 [==============================] - 0s 5ms/step - loss: -5008364670.3377 - accuracy: 0.6592\n",
      "Epoch 934/2000\n",
      "76/76 [==============================] - 0s 5ms/step - loss: -5092394017.2468 - accuracy: 0.6574\n",
      "Epoch 935/2000\n",
      "76/76 [==============================] - 0s 6ms/step - loss: -5025571088.6234 - accuracy: 0.6641\n",
      "Epoch 936/2000\n",
      "76/76 [==============================] - 0s 6ms/step - loss: -4925870229.6104 - accuracy: 0.6697\n",
      "Epoch 937/2000\n",
      "76/76 [==============================] - 0s 6ms/step - loss: -5074270035.1169 - accuracy: 0.6601\n",
      "Epoch 938/2000\n",
      "76/76 [==============================] - 1s 7ms/step - loss: -5176077085.9221 - accuracy: 0.6542\n",
      "Epoch 939/2000\n",
      "76/76 [==============================] - 0s 6ms/step - loss: -5032519360.8312 - accuracy: 0.6662\n",
      "Epoch 940/2000\n",
      "76/76 [==============================] - 0s 6ms/step - loss: -5248629673.5584 - accuracy: 0.6531\n",
      "Epoch 941/2000\n",
      "76/76 [==============================] - 0s 6ms/step - loss: -5178089339.0130 - accuracy: 0.6582\n",
      "Epoch 942/2000\n",
      "76/76 [==============================] - 0s 5ms/step - loss: -5066144654.9610 - accuracy: 0.6650\n",
      "Epoch 943/2000\n",
      "76/76 [==============================] - 0s 5ms/step - loss: -5246082626.4935 - accuracy: 0.6578\n",
      "Epoch 944/2000\n",
      "76/76 [==============================] - 0s 5ms/step - loss: -5109261943.6883 - accuracy: 0.6631\n",
      "Epoch 945/2000\n",
      "76/76 [==============================] - 0s 6ms/step - loss: -5323529069.7143 - accuracy: 0.6519\n",
      "Epoch 946/2000\n",
      "76/76 [==============================] - 0s 5ms/step - loss: -5244323035.4286 - accuracy: 0.6583\n",
      "Epoch 947/2000\n",
      "76/76 [==============================] - 0s 5ms/step - loss: -5169177400.5195 - accuracy: 0.6650\n",
      "Epoch 948/2000\n",
      "76/76 [==============================] - 0s 6ms/step - loss: -5314878683.4286 - accuracy: 0.6560\n",
      "Epoch 949/2000\n",
      "76/76 [==============================] - 0s 5ms/step - loss: -5220424271.7922 - accuracy: 0.6646\n",
      "Epoch 950/2000\n",
      "76/76 [==============================] - 0s 6ms/step - loss: -5185629469.9221 - accuracy: 0.6638\n",
      "Epoch 951/2000\n",
      "76/76 [==============================] - 0s 6ms/step - loss: -5413575314.2857 - accuracy: 0.6523\n",
      "Epoch 952/2000\n",
      "76/76 [==============================] - 0s 6ms/step - loss: -5336364411.0130 - accuracy: 0.6570\n",
      "Epoch 953/2000\n",
      "76/76 [==============================] - 0s 5ms/step - loss: -5420665383.8961 - accuracy: 0.6551\n",
      "Epoch 954/2000\n",
      "76/76 [==============================] - 0s 5ms/step - loss: -5339661418.3896 - accuracy: 0.6591\n",
      "Epoch 955/2000\n",
      "76/76 [==============================] - 0s 6ms/step - loss: -5313530211.7403 - accuracy: 0.6613\n",
      "Epoch 956/2000\n",
      "76/76 [==============================] - 0s 6ms/step - loss: -5263212158.3377 - accuracy: 0.6675\n",
      "Epoch 957/2000\n",
      "76/76 [==============================] - 0s 6ms/step - loss: -5447234746.1818 - accuracy: 0.6552\n",
      "Epoch 958/2000\n",
      "76/76 [==============================] - 0s 6ms/step - loss: -5504703960.1039 - accuracy: 0.6538\n",
      "Epoch 959/2000\n",
      "76/76 [==============================] - 0s 6ms/step - loss: -5458861056.0000 - accuracy: 0.6599\n",
      "Epoch 960/2000\n",
      "76/76 [==============================] - 1s 7ms/step - loss: -5216357485.7143 - accuracy: 0.6745\n",
      "Epoch 961/2000\n",
      "76/76 [==============================] - 0s 6ms/step - loss: -5556904827.0130 - accuracy: 0.6543\n",
      "Epoch 962/2000\n",
      "76/76 [==============================] - 0s 6ms/step - loss: -5517865385.5584 - accuracy: 0.6563\n",
      "Epoch 963/2000\n",
      "76/76 [==============================] - 0s 6ms/step - loss: -5382350375.8961 - accuracy: 0.6663\n",
      "Epoch 964/2000\n",
      "76/76 [==============================] - 0s 6ms/step - loss: -5461258619.0130 - accuracy: 0.6609\n",
      "Epoch 965/2000\n",
      "76/76 [==============================] - 0s 6ms/step - loss: -5455241578.3896 - accuracy: 0.6625\n",
      "Epoch 966/2000\n",
      "76/76 [==============================] - 0s 5ms/step - loss: -5509058380.4675 - accuracy: 0.6630\n",
      "Epoch 967/2000\n",
      "76/76 [==============================] - 0s 5ms/step - loss: -5525132401.0390 - accuracy: 0.6643\n",
      "Epoch 968/2000\n",
      "76/76 [==============================] - 0s 5ms/step - loss: -5707828908.8831 - accuracy: 0.6514\n",
      "Epoch 969/2000\n",
      "76/76 [==============================] - 0s 5ms/step - loss: -5549498946.4935 - accuracy: 0.6609\n",
      "Epoch 970/2000\n",
      "76/76 [==============================] - 0s 5ms/step - loss: -5778151503.7922 - accuracy: 0.6511\n",
      "Epoch 971/2000\n",
      "76/76 [==============================] - 0s 5ms/step - loss: -5802523215.7922 - accuracy: 0.6476\n",
      "Epoch 972/2000\n",
      "76/76 [==============================] - 0s 6ms/step - loss: -5623550869.6104 - accuracy: 0.6600\n",
      "Epoch 973/2000\n",
      "76/76 [==============================] - 0s 5ms/step - loss: -5639701284.5714 - accuracy: 0.6613\n",
      "Epoch 974/2000\n",
      "76/76 [==============================] - 0s 6ms/step - loss: -5782599207.8961 - accuracy: 0.6530\n",
      "Epoch 975/2000\n",
      "76/76 [==============================] - 0s 5ms/step - loss: -5666915487.5844 - accuracy: 0.6582\n",
      "Epoch 976/2000\n",
      "76/76 [==============================] - 0s 6ms/step - loss: -5822919407.3766 - accuracy: 0.6541\n",
      "Epoch 977/2000\n",
      "76/76 [==============================] - 0s 5ms/step - loss: -5732442697.1429 - accuracy: 0.6593\n",
      "Epoch 978/2000\n",
      "76/76 [==============================] - 0s 6ms/step - loss: -5745872636.6753 - accuracy: 0.6596\n",
      "Epoch 979/2000\n",
      "76/76 [==============================] - 0s 6ms/step - loss: -5954236083.5325 - accuracy: 0.6498\n",
      "Epoch 980/2000\n",
      "76/76 [==============================] - 0s 5ms/step - loss: -5718826422.8571 - accuracy: 0.6632\n",
      "Epoch 981/2000\n",
      "76/76 [==============================] - 0s 5ms/step - loss: -5871760889.3506 - accuracy: 0.6539\n",
      "Epoch 982/2000\n",
      "76/76 [==============================] - 0s 5ms/step - loss: -5824220206.5455 - accuracy: 0.6559\n",
      "Epoch 983/2000\n",
      "76/76 [==============================] - 0s 5ms/step - loss: -5750846590.3377 - accuracy: 0.6640\n",
      "Epoch 984/2000\n",
      "76/76 [==============================] - 0s 5ms/step - loss: -5866864393.9740 - accuracy: 0.6578\n",
      "Epoch 985/2000\n",
      "76/76 [==============================] - 0s 6ms/step - loss: -5835356399.3766 - accuracy: 0.6614\n",
      "Epoch 986/2000\n",
      "76/76 [==============================] - 0s 5ms/step - loss: -5768927936.8312 - accuracy: 0.6664\n",
      "Epoch 987/2000\n",
      "76/76 [==============================] - 0s 5ms/step - loss: -5975830315.2208 - accuracy: 0.6563\n",
      "Epoch 988/2000\n",
      "76/76 [==============================] - 0s 6ms/step - loss: -5800988292.9870 - accuracy: 0.6637\n",
      "Epoch 989/2000\n",
      "76/76 [==============================] - 0s 5ms/step - loss: -6105355443.5325 - accuracy: 0.6501\n",
      "Epoch 990/2000\n",
      "76/76 [==============================] - 0s 5ms/step - loss: -6047840329.1429 - accuracy: 0.6543\n",
      "Epoch 991/2000\n",
      "76/76 [==============================] - 0s 5ms/step - loss: -5763435859.1169 - accuracy: 0.6707\n",
      "Epoch 992/2000\n",
      "76/76 [==============================] - 0s 5ms/step - loss: -6041550382.5455 - accuracy: 0.6563\n",
      "Epoch 993/2000\n",
      "76/76 [==============================] - 0s 5ms/step - loss: -5964214331.8442 - accuracy: 0.6625\n",
      "Epoch 994/2000\n",
      "76/76 [==============================] - 0s 5ms/step - loss: -6042117412.5714 - accuracy: 0.6589\n",
      "Epoch 995/2000\n",
      "76/76 [==============================] - 0s 5ms/step - loss: -5970163598.9610 - accuracy: 0.6634\n",
      "Epoch 996/2000\n",
      "76/76 [==============================] - 0s 5ms/step - loss: -5992548232.3117 - accuracy: 0.6631\n",
      "Epoch 997/2000\n",
      "76/76 [==============================] - 0s 5ms/step - loss: -6056636382.7532 - accuracy: 0.6584\n",
      "Epoch 998/2000\n",
      "76/76 [==============================] - 0s 5ms/step - loss: -6178201732.9870 - accuracy: 0.6534\n",
      "Epoch 999/2000\n",
      "76/76 [==============================] - 0s 5ms/step - loss: -6213623881.1429 - accuracy: 0.6536\n",
      "Epoch 1000/2000\n",
      "76/76 [==============================] - 0s 5ms/step - loss: -6191365013.6104 - accuracy: 0.6539\n",
      "Epoch 1001/2000\n",
      "76/76 [==============================] - 0s 5ms/step - loss: -6073204310.4416 - accuracy: 0.6636\n",
      "Epoch 1002/2000\n",
      "76/76 [==============================] - 0s 5ms/step - loss: -6340484508.2597 - accuracy: 0.6495\n",
      "Epoch 1003/2000\n",
      "76/76 [==============================] - 0s 5ms/step - loss: -6173799856.2078 - accuracy: 0.6583\n",
      "Epoch 1004/2000\n",
      "76/76 [==============================] - 0s 5ms/step - loss: -6148582779.0130 - accuracy: 0.6624\n",
      "Epoch 1005/2000\n",
      "76/76 [==============================] - 0s 5ms/step - loss: -6237861209.7662 - accuracy: 0.6571\n",
      "Epoch 1006/2000\n",
      "76/76 [==============================] - 0s 5ms/step - loss: -6251098045.5065 - accuracy: 0.6584\n",
      "Epoch 1007/2000\n",
      "76/76 [==============================] - 0s 6ms/step - loss: -6221904630.0260 - accuracy: 0.6585\n",
      "Epoch 1008/2000\n",
      "76/76 [==============================] - 0s 6ms/step - loss: -6228353176.9351 - accuracy: 0.6591\n",
      "Epoch 1009/2000\n",
      "76/76 [==============================] - 0s 5ms/step - loss: -6238453600.4156 - accuracy: 0.6605\n",
      "Epoch 1010/2000\n",
      "76/76 [==============================] - 0s 6ms/step - loss: -6332407734.8571 - accuracy: 0.6589\n",
      "Epoch 1011/2000\n",
      "76/76 [==============================] - 0s 6ms/step - loss: -6274199871.1688 - accuracy: 0.6608\n",
      "Epoch 1012/2000\n",
      "76/76 [==============================] - 0s 6ms/step - loss: -6284605094.2338 - accuracy: 0.6623\n",
      "Epoch 1013/2000\n",
      "76/76 [==============================] - 0s 6ms/step - loss: -6522136077.2987 - accuracy: 0.6504\n",
      "Epoch 1014/2000\n",
      "76/76 [==============================] - 1s 7ms/step - loss: -6257464020.7792 - accuracy: 0.6654\n",
      "Epoch 1015/2000\n",
      "76/76 [==============================] - 0s 6ms/step - loss: -6406265104.6234 - accuracy: 0.6552\n",
      "Epoch 1016/2000\n",
      "76/76 [==============================] - 0s 6ms/step - loss: -6350569571.7403 - accuracy: 0.6610\n",
      "Epoch 1017/2000\n",
      "76/76 [==============================] - 0s 6ms/step - loss: -6304538703.7922 - accuracy: 0.6640\n",
      "Epoch 1018/2000\n",
      "76/76 [==============================] - 0s 5ms/step - loss: -6475690934.8571 - accuracy: 0.6569\n",
      "Epoch 1019/2000\n",
      "76/76 [==============================] - 0s 5ms/step - loss: -6458117997.7143 - accuracy: 0.6581\n",
      "Epoch 1020/2000\n",
      "76/76 [==============================] - 0s 5ms/step - loss: -6600603262.3377 - accuracy: 0.6532\n",
      "Epoch 1021/2000\n",
      "76/76 [==============================] - 0s 6ms/step - loss: -6311100276.3636 - accuracy: 0.6697\n",
      "Epoch 1022/2000\n",
      "76/76 [==============================] - 0s 5ms/step - loss: -6546870597.8182 - accuracy: 0.6567\n",
      "Epoch 1023/2000\n",
      "76/76 [==============================] - 0s 6ms/step - loss: -6587133945.3506 - accuracy: 0.6562\n",
      "Epoch 1024/2000\n",
      "76/76 [==============================] - 0s 6ms/step - loss: -6542143700.7792 - accuracy: 0.6586\n",
      "Epoch 1025/2000\n",
      "76/76 [==============================] - 0s 5ms/step - loss: -6512565414.2338 - accuracy: 0.6628\n",
      "Epoch 1026/2000\n",
      "76/76 [==============================] - 0s 5ms/step - loss: -6698216846.9610 - accuracy: 0.6509\n",
      "Epoch 1027/2000\n",
      "76/76 [==============================] - 0s 5ms/step - loss: -6361721629.9221 - accuracy: 0.6714\n",
      "Epoch 1028/2000\n",
      "76/76 [==============================] - 0s 5ms/step - loss: -6539748139.2208 - accuracy: 0.6626\n",
      "Epoch 1029/2000\n",
      "76/76 [==============================] - 0s 5ms/step - loss: -6400189639.4805 - accuracy: 0.6714\n",
      "Epoch 1030/2000\n",
      "76/76 [==============================] - 0s 5ms/step - loss: -6563805077.6104 - accuracy: 0.6625\n",
      "Epoch 1031/2000\n",
      "76/76 [==============================] - 0s 6ms/step - loss: -6573524180.7792 - accuracy: 0.6643\n",
      "Epoch 1032/2000\n",
      "76/76 [==============================] - 0s 5ms/step - loss: -6671363178.3896 - accuracy: 0.6609\n",
      "Epoch 1033/2000\n",
      "76/76 [==============================] - 0s 5ms/step - loss: -6558182207.1688 - accuracy: 0.6676\n",
      "Epoch 1034/2000\n",
      "76/76 [==============================] - 0s 5ms/step - loss: -6682441894.2338 - accuracy: 0.6613\n",
      "Epoch 1035/2000\n",
      "76/76 [==============================] - 0s 5ms/step - loss: -6816402272.4156 - accuracy: 0.6562\n",
      "Epoch 1036/2000\n",
      "76/76 [==============================] - 0s 6ms/step - loss: -6592388661.1948 - accuracy: 0.6665\n",
      "Epoch 1037/2000\n",
      "76/76 [==============================] - 1s 7ms/step - loss: -6996621631.1688 - accuracy: 0.6486\n",
      "Epoch 1038/2000\n",
      "76/76 [==============================] - 0s 6ms/step - loss: -6737489308.2597 - accuracy: 0.6605\n",
      "Epoch 1039/2000\n",
      "76/76 [==============================] - 0s 6ms/step - loss: -6866835123.5325 - accuracy: 0.6559\n",
      "Epoch 1040/2000\n",
      "76/76 [==============================] - 0s 6ms/step - loss: -6872854395.0130 - accuracy: 0.6570\n",
      "Epoch 1041/2000\n",
      "76/76 [==============================] - 0s 6ms/step - loss: -7042398394.1818 - accuracy: 0.6495\n",
      "Epoch 1042/2000\n",
      "76/76 [==============================] - 0s 6ms/step - loss: -6752199241.1429 - accuracy: 0.6635\n",
      "Epoch 1043/2000\n",
      "76/76 [==============================] - 0s 6ms/step - loss: -6749348145.8701 - accuracy: 0.6673\n",
      "Epoch 1044/2000\n",
      "76/76 [==============================] - 0s 6ms/step - loss: -7093239023.3766 - accuracy: 0.6504\n",
      "Epoch 1045/2000\n",
      "76/76 [==============================] - 0s 6ms/step - loss: -6918201596.6753 - accuracy: 0.6612\n",
      "Epoch 1046/2000\n",
      "76/76 [==============================] - 0s 6ms/step - loss: -7004058045.5065 - accuracy: 0.6554\n",
      "Epoch 1047/2000\n",
      "76/76 [==============================] - 0s 6ms/step - loss: -6873935193.7662 - accuracy: 0.6652\n",
      "Epoch 1048/2000\n",
      "76/76 [==============================] - 0s 5ms/step - loss: -7062187759.3766 - accuracy: 0.6550\n",
      "Epoch 1049/2000\n",
      "76/76 [==============================] - 0s 5ms/step - loss: -7039468650.3896 - accuracy: 0.6565\n",
      "Epoch 1050/2000\n",
      "76/76 [==============================] - 0s 5ms/step - loss: -7087428089.3506 - accuracy: 0.6561\n",
      "Epoch 1051/2000\n",
      "76/76 [==============================] - 0s 5ms/step - loss: -7307116317.9221 - accuracy: 0.6481\n",
      "Epoch 1052/2000\n",
      "76/76 [==============================] - 0s 6ms/step - loss: -6876265059.7403 - accuracy: 0.6686\n",
      "Epoch 1053/2000\n",
      "76/76 [==============================] - 0s 5ms/step - loss: -7074850244.1558 - accuracy: 0.6601\n",
      "Epoch 1054/2000\n",
      "76/76 [==============================] - 0s 6ms/step - loss: -7149684110.9610 - accuracy: 0.6555\n",
      "Epoch 1055/2000\n",
      "76/76 [==============================] - 0s 6ms/step - loss: -7113243288.9351 - accuracy: 0.6600\n",
      "Epoch 1056/2000\n",
      "76/76 [==============================] - 0s 5ms/step - loss: -7091048767.1688 - accuracy: 0.6617\n",
      "Epoch 1057/2000\n",
      "76/76 [==============================] - 0s 6ms/step - loss: -7153686973.5065 - accuracy: 0.6594\n",
      "Epoch 1058/2000\n",
      "76/76 [==============================] - 0s 6ms/step - loss: -7373231123.9481 - accuracy: 0.6492\n",
      "Epoch 1059/2000\n",
      "76/76 [==============================] - 0s 6ms/step - loss: -7053009374.7532 - accuracy: 0.6664\n",
      "Epoch 1060/2000\n",
      "76/76 [==============================] - 0s 6ms/step - loss: -7227621123.3247 - accuracy: 0.6589\n",
      "Epoch 1061/2000\n",
      "76/76 [==============================] - 0s 6ms/step - loss: -7239788444.2597 - accuracy: 0.6568\n",
      "Epoch 1062/2000\n",
      "76/76 [==============================] - 0s 6ms/step - loss: -7391889820.2597 - accuracy: 0.6521\n",
      "Epoch 1063/2000\n",
      "76/76 [==============================] - 0s 6ms/step - loss: -7353914487.6883 - accuracy: 0.6557\n",
      "Epoch 1064/2000\n",
      "76/76 [==============================] - 0s 6ms/step - loss: -7126856770.4935 - accuracy: 0.6659\n",
      "Epoch 1065/2000\n",
      "76/76 [==============================] - 0s 6ms/step - loss: -7261267828.3636 - accuracy: 0.6592\n",
      "Epoch 1066/2000\n",
      "76/76 [==============================] - 0s 6ms/step - loss: -7238684439.2727 - accuracy: 0.6647\n",
      "Epoch 1067/2000\n",
      "76/76 [==============================] - 0s 6ms/step - loss: -7301868843.2208 - accuracy: 0.6617\n",
      "Epoch 1068/2000\n",
      "76/76 [==============================] - 0s 6ms/step - loss: -7529261827.3247 - accuracy: 0.6536\n",
      "Epoch 1069/2000\n",
      "76/76 [==============================] - 0s 6ms/step - loss: -7594962638.1299 - accuracy: 0.6509\n",
      "Epoch 1070/2000\n",
      "76/76 [==============================] - 0s 6ms/step - loss: -7477181765.8182 - accuracy: 0.6575\n",
      "Epoch 1071/2000\n",
      "76/76 [==============================] - 0s 6ms/step - loss: -7474781835.6364 - accuracy: 0.6564\n",
      "Epoch 1072/2000\n",
      "76/76 [==============================] - 0s 6ms/step - loss: -7512831707.4286 - accuracy: 0.6555\n",
      "Epoch 1073/2000\n",
      "76/76 [==============================] - 0s 6ms/step - loss: -7514530722.9091 - accuracy: 0.6585\n",
      "Epoch 1074/2000\n",
      "76/76 [==============================] - 0s 6ms/step - loss: -7660731179.2208 - accuracy: 0.6531\n",
      "Epoch 1075/2000\n",
      "76/76 [==============================] - 0s 6ms/step - loss: -7465778275.7403 - accuracy: 0.6625\n",
      "Epoch 1076/2000\n",
      "76/76 [==============================] - 0s 5ms/step - loss: -7546587209.1429 - accuracy: 0.6590\n",
      "Epoch 1077/2000\n",
      "76/76 [==============================] - 0s 6ms/step - loss: -7583358829.7143 - accuracy: 0.6600\n",
      "Epoch 1078/2000\n",
      "76/76 [==============================] - 0s 5ms/step - loss: -7645988378.5974 - accuracy: 0.6562\n",
      "Epoch 1079/2000\n",
      "76/76 [==============================] - 0s 5ms/step - loss: -7467251439.3766 - accuracy: 0.6640\n",
      "Epoch 1080/2000\n",
      "76/76 [==============================] - 0s 5ms/step - loss: -7584298289.8701 - accuracy: 0.6603\n",
      "Epoch 1081/2000\n",
      "76/76 [==============================] - 0s 5ms/step - loss: -7498508367.7922 - accuracy: 0.6632\n",
      "Epoch 1082/2000\n",
      "76/76 [==============================] - 0s 6ms/step - loss: -7866413581.2987 - accuracy: 0.6509\n",
      "Epoch 1083/2000\n",
      "76/76 [==============================] - 0s 6ms/step - loss: -7680240832.8312 - accuracy: 0.6580\n",
      "Epoch 1084/2000\n",
      "76/76 [==============================] - 0s 6ms/step - loss: -7580722275.7403 - accuracy: 0.6623\n",
      "Epoch 1085/2000\n",
      "76/76 [==============================] - 0s 6ms/step - loss: -7719910247.0649 - accuracy: 0.6600\n",
      "Epoch 1086/2000\n",
      "76/76 [==============================] - 0s 6ms/step - loss: -7619835205.8182 - accuracy: 0.6648\n",
      "Epoch 1087/2000\n",
      "76/76 [==============================] - 1s 7ms/step - loss: -7912880001.6623 - accuracy: 0.6517\n",
      "Epoch 1088/2000\n",
      "76/76 [==============================] - 0s 6ms/step - loss: -7739659170.9091 - accuracy: 0.6622\n",
      "Epoch 1089/2000\n",
      "76/76 [==============================] - 0s 6ms/step - loss: -7947928755.5325 - accuracy: 0.6540\n",
      "Epoch 1090/2000\n",
      "76/76 [==============================] - 0s 6ms/step - loss: -7802230597.8182 - accuracy: 0.6604\n",
      "Epoch 1091/2000\n",
      "76/76 [==============================] - 0s 6ms/step - loss: -7735787699.5325 - accuracy: 0.6637\n",
      "Epoch 1092/2000\n",
      "76/76 [==============================] - 0s 6ms/step - loss: -8125844819.1169 - accuracy: 0.6483\n",
      "Epoch 1093/2000\n",
      "76/76 [==============================] - 0s 6ms/step - loss: -8187819300.5714 - accuracy: 0.6443\n",
      "Epoch 1094/2000\n",
      "76/76 [==============================] - 0s 6ms/step - loss: -8151734471.4805 - accuracy: 0.6487\n",
      "Epoch 1095/2000\n",
      "76/76 [==============================] - 0s 6ms/step - loss: -7878722593.2468 - accuracy: 0.6605\n",
      "Epoch 1096/2000\n",
      "76/76 [==============================] - 0s 6ms/step - loss: -7902185491.9481 - accuracy: 0.6626\n",
      "Epoch 1097/2000\n",
      "76/76 [==============================] - 0s 6ms/step - loss: -7799094125.7143 - accuracy: 0.6673\n",
      "Epoch 1098/2000\n",
      "76/76 [==============================] - 0s 6ms/step - loss: -7850380893.0909 - accuracy: 0.6648\n",
      "Epoch 1099/2000\n",
      "76/76 [==============================] - 0s 6ms/step - loss: -7999036070.2338 - accuracy: 0.6597\n",
      "Epoch 1100/2000\n",
      "76/76 [==============================] - 0s 6ms/step - loss: -7949780466.7013 - accuracy: 0.6623\n",
      "Epoch 1101/2000\n",
      "76/76 [==============================] - 0s 6ms/step - loss: -7859250169.3506 - accuracy: 0.6679\n",
      "Epoch 1102/2000\n",
      "76/76 [==============================] - 0s 6ms/step - loss: -8171575435.6364 - accuracy: 0.6551\n",
      "Epoch 1103/2000\n",
      "76/76 [==============================] - 0s 6ms/step - loss: -8404921244.2597 - accuracy: 0.6428\n",
      "Epoch 1104/2000\n",
      "76/76 [==============================] - 0s 6ms/step - loss: -8339820676.9870 - accuracy: 0.6520\n",
      "Epoch 1105/2000\n",
      "76/76 [==============================] - 0s 6ms/step - loss: -8005758357.6104 - accuracy: 0.6626\n",
      "Epoch 1106/2000\n",
      "76/76 [==============================] - 0s 6ms/step - loss: -8345025569.2468 - accuracy: 0.6503\n",
      "Epoch 1107/2000\n",
      "76/76 [==============================] - 0s 6ms/step - loss: -8123002175.1688 - accuracy: 0.6601\n",
      "Epoch 1108/2000\n",
      "76/76 [==============================] - 0s 6ms/step - loss: -8358438160.6234 - accuracy: 0.6518\n",
      "Epoch 1109/2000\n",
      "76/76 [==============================] - 0s 6ms/step - loss: -8283397731.7403 - accuracy: 0.6579\n",
      "Epoch 1110/2000\n",
      "76/76 [==============================] - 0s 6ms/step - loss: -8045052435.9481 - accuracy: 0.6653\n",
      "Epoch 1111/2000\n",
      "76/76 [==============================] - 0s 6ms/step - loss: -8337984531.9481 - accuracy: 0.6553\n",
      "Epoch 1112/2000\n",
      "76/76 [==============================] - 0s 6ms/step - loss: -8293336143.7922 - accuracy: 0.6594\n",
      "Epoch 1113/2000\n",
      "76/76 [==============================] - 0s 6ms/step - loss: -8347913315.7403 - accuracy: 0.6570\n",
      "Epoch 1114/2000\n",
      "76/76 [==============================] - 0s 6ms/step - loss: -8635576612.5714 - accuracy: 0.6469\n",
      "Epoch 1115/2000\n",
      "76/76 [==============================] - 0s 6ms/step - loss: -8160113351.4805 - accuracy: 0.6650\n",
      "Epoch 1116/2000\n",
      "76/76 [==============================] - 1s 7ms/step - loss: -8304384871.0649 - accuracy: 0.6609\n",
      "Epoch 1117/2000\n",
      "76/76 [==============================] - 1s 7ms/step - loss: -8231485579.6364 - accuracy: 0.6648\n",
      "Epoch 1118/2000\n",
      "76/76 [==============================] - 0s 7ms/step - loss: -8396463330.0779 - accuracy: 0.6588\n",
      "Epoch 1119/2000\n",
      "76/76 [==============================] - 0s 6ms/step - loss: -8275993094.6494 - accuracy: 0.6638\n",
      "Epoch 1120/2000\n",
      "76/76 [==============================] - 0s 6ms/step - loss: -8395238453.1948 - accuracy: 0.6605\n",
      "Epoch 1121/2000\n",
      "76/76 [==============================] - 0s 6ms/step - loss: -8415388193.2468 - accuracy: 0.6591\n",
      "Epoch 1122/2000\n",
      "76/76 [==============================] - 0s 6ms/step - loss: -8448164199.0649 - accuracy: 0.6612\n",
      "Epoch 1123/2000\n",
      "76/76 [==============================] - 0s 6ms/step - loss: -8534869583.7922 - accuracy: 0.6579\n",
      "Epoch 1124/2000\n",
      "76/76 [==============================] - 0s 6ms/step - loss: -8384673758.7532 - accuracy: 0.6627\n",
      "Epoch 1125/2000\n",
      "76/76 [==============================] - 0s 6ms/step - loss: -8355580795.0130 - accuracy: 0.6671\n",
      "Epoch 1126/2000\n",
      "76/76 [==============================] - 0s 6ms/step - loss: -8600974070.0260 - accuracy: 0.6569\n",
      "Epoch 1127/2000\n",
      "76/76 [==============================] - 1s 7ms/step - loss: -8446009111.2727 - accuracy: 0.6635\n",
      "Epoch 1128/2000\n",
      "76/76 [==============================] - 0s 6ms/step - loss: -8386599723.2208 - accuracy: 0.6688\n",
      "Epoch 1129/2000\n",
      "76/76 [==============================] - 0s 6ms/step - loss: -8371034218.3896 - accuracy: 0.6700\n",
      "Epoch 1130/2000\n",
      "76/76 [==============================] - 0s 5ms/step - loss: -8546428688.6234 - accuracy: 0.6636\n",
      "Epoch 1131/2000\n",
      "76/76 [==============================] - 0s 6ms/step - loss: -8759707854.1299 - accuracy: 0.6566\n",
      "Epoch 1132/2000\n",
      "76/76 [==============================] - 0s 5ms/step - loss: -9101904763.0130 - accuracy: 0.6431\n",
      "Epoch 1133/2000\n",
      "76/76 [==============================] - 0s 6ms/step - loss: -8647624950.0260 - accuracy: 0.6627\n",
      "Epoch 1134/2000\n",
      "76/76 [==============================] - 0s 5ms/step - loss: -8402043365.4026 - accuracy: 0.6725\n",
      "Epoch 1135/2000\n",
      "76/76 [==============================] - 0s 6ms/step - loss: -8861175036.6753 - accuracy: 0.6541\n",
      "Epoch 1136/2000\n",
      "76/76 [==============================] - 0s 6ms/step - loss: -8682716618.8052 - accuracy: 0.6636\n",
      "Epoch 1137/2000\n",
      "76/76 [==============================] - 0s 5ms/step - loss: -8933272103.8961 - accuracy: 0.6547\n",
      "Epoch 1138/2000\n",
      "76/76 [==============================] - 0s 5ms/step - loss: -8593877543.8961 - accuracy: 0.6692\n",
      "Epoch 1139/2000\n",
      "76/76 [==============================] - 0s 5ms/step - loss: -9003673500.2597 - accuracy: 0.6541\n",
      "Epoch 1140/2000\n",
      "76/76 [==============================] - 0s 6ms/step - loss: -8837430225.4545 - accuracy: 0.6615\n",
      "Epoch 1141/2000\n",
      "76/76 [==============================] - 0s 6ms/step - loss: -8606192380.6753 - accuracy: 0.6677\n",
      "Epoch 1142/2000\n",
      "76/76 [==============================] - 0s 6ms/step - loss: -9182962568.3117 - accuracy: 0.6478\n",
      "Epoch 1143/2000\n",
      "76/76 [==============================] - 0s 6ms/step - loss: -8929969072.2078 - accuracy: 0.6603\n",
      "Epoch 1144/2000\n",
      "76/76 [==============================] - 0s 6ms/step - loss: -8707485981.9221 - accuracy: 0.6695\n",
      "Epoch 1145/2000\n",
      "76/76 [==============================] - 0s 6ms/step - loss: -9049558907.0130 - accuracy: 0.6574\n",
      "Epoch 1146/2000\n",
      "76/76 [==============================] - 0s 6ms/step - loss: -8738361031.4805 - accuracy: 0.6699\n",
      "Epoch 1147/2000\n",
      "76/76 [==============================] - 0s 5ms/step - loss: -9016775686.6494 - accuracy: 0.6604\n",
      "Epoch 1148/2000\n",
      "76/76 [==============================] - 0s 5ms/step - loss: -9177433207.6883 - accuracy: 0.6531\n",
      "Epoch 1149/2000\n",
      "76/76 [==============================] - 0s 5ms/step - loss: -9094559112.3117 - accuracy: 0.6598\n",
      "Epoch 1150/2000\n",
      "76/76 [==============================] - 0s 5ms/step - loss: -9079389942.0260 - accuracy: 0.6583\n",
      "Epoch 1151/2000\n",
      "76/76 [==============================] - 0s 5ms/step - loss: -9163941901.2987 - accuracy: 0.6577\n",
      "Epoch 1152/2000\n",
      "76/76 [==============================] - 0s 6ms/step - loss: -9267341484.8831 - accuracy: 0.6553\n",
      "Epoch 1153/2000\n",
      "76/76 [==============================] - 0s 6ms/step - loss: -9229090297.3506 - accuracy: 0.6569\n",
      "Epoch 1154/2000\n",
      "76/76 [==============================] - 0s 5ms/step - loss: -9211676472.5195 - accuracy: 0.6582\n",
      "Epoch 1155/2000\n",
      "76/76 [==============================] - 0s 5ms/step - loss: -9029096368.2078 - accuracy: 0.6652\n",
      "Epoch 1156/2000\n",
      "76/76 [==============================] - 0s 6ms/step - loss: -9317247734.0260 - accuracy: 0.6573\n",
      "Epoch 1157/2000\n",
      "76/76 [==============================] - 0s 6ms/step - loss: -9551239340.8831 - accuracy: 0.6462\n",
      "Epoch 1158/2000\n",
      "76/76 [==============================] - 0s 5ms/step - loss: -9116448448.8312 - accuracy: 0.6652\n",
      "Epoch 1159/2000\n",
      "76/76 [==============================] - 0s 6ms/step - loss: -9321514356.3636 - accuracy: 0.6577\n",
      "Epoch 1160/2000\n",
      "76/76 [==============================] - 0s 5ms/step - loss: -9456561245.0909 - accuracy: 0.6539\n",
      "Epoch 1161/2000\n",
      "76/76 [==============================] - 1s 7ms/step - loss: -9396556853.1948 - accuracy: 0.6574\n",
      "Epoch 1162/2000\n",
      "76/76 [==============================] - 1s 7ms/step - loss: -9216080922.5974 - accuracy: 0.6634\n",
      "Epoch 1163/2000\n",
      "76/76 [==============================] - 0s 6ms/step - loss: -9603525605.4026 - accuracy: 0.6529\n",
      "Epoch 1164/2000\n",
      "76/76 [==============================] - 0s 6ms/step - loss: -9156729350.6494 - accuracy: 0.6689\n",
      "Epoch 1165/2000\n",
      "76/76 [==============================] - 0s 6ms/step - loss: -9457622468.1558 - accuracy: 0.6592\n",
      "Epoch 1166/2000\n",
      "76/76 [==============================] - 0s 6ms/step - loss: -9327301286.2338 - accuracy: 0.6632\n",
      "Epoch 1167/2000\n",
      "76/76 [==============================] - 0s 5ms/step - loss: -9411093271.2727 - accuracy: 0.6627\n",
      "Epoch 1168/2000\n",
      "76/76 [==============================] - 0s 6ms/step - loss: -9181721639.8961 - accuracy: 0.6733\n",
      "Epoch 1169/2000\n",
      "76/76 [==============================] - 0s 6ms/step - loss: -9571800290.0779 - accuracy: 0.6568\n",
      "Epoch 1170/2000\n",
      "76/76 [==============================] - 0s 6ms/step - loss: -9421702516.3636 - accuracy: 0.6634\n",
      "Epoch 1171/2000\n",
      "76/76 [==============================] - 0s 5ms/step - loss: -9390831928.5195 - accuracy: 0.6682\n",
      "Epoch 1172/2000\n",
      "76/76 [==============================] - 0s 5ms/step - loss: -9638594107.8442 - accuracy: 0.6564\n",
      "Epoch 1173/2000\n",
      "76/76 [==============================] - 0s 5ms/step - loss: -9402897713.8701 - accuracy: 0.6670\n",
      "Epoch 1174/2000\n",
      "76/76 [==============================] - 0s 6ms/step - loss: -9586469927.8961 - accuracy: 0.6610\n",
      "Epoch 1175/2000\n",
      "76/76 [==============================] - 0s 6ms/step - loss: -9723280270.9610 - accuracy: 0.6568\n",
      "Epoch 1176/2000\n",
      "76/76 [==============================] - 0s 6ms/step - loss: -9688880580.1558 - accuracy: 0.6576\n",
      "Epoch 1177/2000\n",
      "76/76 [==============================] - 0s 6ms/step - loss: -9462572537.3506 - accuracy: 0.6692\n",
      "Epoch 1178/2000\n",
      "76/76 [==============================] - 0s 6ms/step - loss: -9965850810.1818 - accuracy: 0.6498\n",
      "Epoch 1179/2000\n",
      "76/76 [==============================] - 0s 5ms/step - loss: -9814495378.2857 - accuracy: 0.6568\n",
      "Epoch 1180/2000\n",
      "76/76 [==============================] - 0s 6ms/step - loss: -9750399428.1558 - accuracy: 0.6622\n",
      "Epoch 1181/2000\n",
      "76/76 [==============================] - 0s 6ms/step - loss: -9861501313.6623 - accuracy: 0.6591\n",
      "Epoch 1182/2000\n",
      "76/76 [==============================] - 0s 6ms/step - loss: -10143853248.8312 - accuracy: 0.6497\n",
      "Epoch 1183/2000\n",
      "76/76 [==============================] - 0s 6ms/step - loss: -9908447165.5065 - accuracy: 0.6583\n",
      "Epoch 1184/2000\n",
      "76/76 [==============================] - 0s 6ms/step - loss: -10103721478.6494 - accuracy: 0.6517\n",
      "Epoch 1185/2000\n",
      "76/76 [==============================] - 0s 6ms/step - loss: -9898079325.0909 - accuracy: 0.6574\n",
      "Epoch 1186/2000\n",
      "76/76 [==============================] - 0s 6ms/step - loss: -9879266663.0649 - accuracy: 0.6612\n",
      "Epoch 1187/2000\n",
      "76/76 [==============================] - 0s 5ms/step - loss: -10046107062.8571 - accuracy: 0.6554\n",
      "Epoch 1188/2000\n",
      "76/76 [==============================] - 0s 5ms/step - loss: -10048016384.0000 - accuracy: 0.6568\n",
      "Epoch 1189/2000\n",
      "76/76 [==============================] - 0s 6ms/step - loss: -10169900657.0390 - accuracy: 0.6542\n",
      "Epoch 1190/2000\n",
      "76/76 [==============================] - 0s 5ms/step - loss: -10060117244.6753 - accuracy: 0.6594\n",
      "Epoch 1191/2000\n",
      "76/76 [==============================] - 0s 6ms/step - loss: -9870162924.0519 - accuracy: 0.6653\n",
      "Epoch 1192/2000\n",
      "76/76 [==============================] - 0s 6ms/step - loss: -10207558549.6104 - accuracy: 0.6547\n",
      "Epoch 1193/2000\n",
      "76/76 [==============================] - 0s 6ms/step - loss: -9881374254.5455 - accuracy: 0.6660\n",
      "Epoch 1194/2000\n",
      "76/76 [==============================] - 0s 6ms/step - loss: -10433354619.0130 - accuracy: 0.6497\n",
      "Epoch 1195/2000\n",
      "76/76 [==============================] - 0s 5ms/step - loss: -10010527531.2208 - accuracy: 0.6645\n",
      "Epoch 1196/2000\n",
      "76/76 [==============================] - 0s 6ms/step - loss: -9866024561.0390 - accuracy: 0.6691\n",
      "Epoch 1197/2000\n",
      "76/76 [==============================] - 0s 6ms/step - loss: -10162444474.1818 - accuracy: 0.6604\n",
      "Epoch 1198/2000\n",
      "76/76 [==============================] - 0s 6ms/step - loss: -10190899612.2597 - accuracy: 0.6591\n",
      "Epoch 1199/2000\n",
      "76/76 [==============================] - 0s 6ms/step - loss: -10295361309.9221 - accuracy: 0.6573\n",
      "Epoch 1200/2000\n",
      "76/76 [==============================] - 0s 6ms/step - loss: -10060833924.9870 - accuracy: 0.6674\n",
      "Epoch 1201/2000\n",
      "76/76 [==============================] - 0s 6ms/step - loss: -9984600622.5455 - accuracy: 0.6682\n",
      "Epoch 1202/2000\n",
      "76/76 [==============================] - 0s 6ms/step - loss: -9976599724.8831 - accuracy: 0.6693\n",
      "Epoch 1203/2000\n",
      "76/76 [==============================] - 0s 6ms/step - loss: -10622161933.2987 - accuracy: 0.6483\n",
      "Epoch 1204/2000\n",
      "76/76 [==============================] - 0s 6ms/step - loss: -10215700320.4156 - accuracy: 0.6643\n",
      "Epoch 1205/2000\n",
      "76/76 [==============================] - 0s 6ms/step - loss: -10259371766.0260 - accuracy: 0.6633\n",
      "Epoch 1206/2000\n",
      "76/76 [==============================] - 0s 6ms/step - loss: -10643004868.1558 - accuracy: 0.6491\n",
      "Epoch 1207/2000\n",
      "76/76 [==============================] - 0s 6ms/step - loss: -10450525609.5584 - accuracy: 0.6590\n",
      "Epoch 1208/2000\n",
      "76/76 [==============================] - 0s 6ms/step - loss: -10476087628.4675 - accuracy: 0.6583\n",
      "Epoch 1209/2000\n",
      "76/76 [==============================] - 1s 7ms/step - loss: -10571534774.8571 - accuracy: 0.6551\n",
      "Epoch 1210/2000\n",
      "76/76 [==============================] - 0s 6ms/step - loss: -10490291040.4156 - accuracy: 0.6599\n",
      "Epoch 1211/2000\n",
      "76/76 [==============================] - 0s 6ms/step - loss: -10546487681.6623 - accuracy: 0.6578\n",
      "Epoch 1212/2000\n",
      "76/76 [==============================] - 0s 6ms/step - loss: -10604899500.8831 - accuracy: 0.6578\n",
      "Epoch 1213/2000\n",
      "76/76 [==============================] - 0s 5ms/step - loss: -10468309351.0649 - accuracy: 0.6622\n",
      "Epoch 1214/2000\n",
      "76/76 [==============================] - 0s 5ms/step - loss: -10562678424.9351 - accuracy: 0.6631\n",
      "Epoch 1215/2000\n",
      "76/76 [==============================] - 0s 6ms/step - loss: -10263581642.8052 - accuracy: 0.6702\n",
      "Epoch 1216/2000\n",
      "76/76 [==============================] - 0s 5ms/step - loss: -11044511478.0260 - accuracy: 0.6447\n",
      "Epoch 1217/2000\n",
      "76/76 [==============================] - 0s 6ms/step - loss: -10912447567.7922 - accuracy: 0.6539\n",
      "Epoch 1218/2000\n",
      "76/76 [==============================] - 0s 6ms/step - loss: -10588129120.4156 - accuracy: 0.6641\n",
      "Epoch 1219/2000\n",
      "76/76 [==============================] - 0s 5ms/step - loss: -10501992381.5065 - accuracy: 0.6664\n",
      "Epoch 1220/2000\n",
      "76/76 [==============================] - 0s 6ms/step - loss: -10955681286.6494 - accuracy: 0.6528\n",
      "Epoch 1221/2000\n",
      "76/76 [==============================] - 0s 5ms/step - loss: -11014659045.4026 - accuracy: 0.6529\n",
      "Epoch 1222/2000\n",
      "76/76 [==============================] - 0s 6ms/step - loss: -10591525342.7532 - accuracy: 0.6667\n",
      "Epoch 1223/2000\n",
      "76/76 [==============================] - 0s 5ms/step - loss: -10819364824.1039 - accuracy: 0.6594\n",
      "Epoch 1224/2000\n",
      "76/76 [==============================] - 0s 5ms/step - loss: -10927983217.0390 - accuracy: 0.6570\n",
      "Epoch 1225/2000\n",
      "76/76 [==============================] - 0s 5ms/step - loss: -10634889827.7403 - accuracy: 0.6692\n",
      "Epoch 1226/2000\n",
      "76/76 [==============================] - 0s 5ms/step - loss: -10761858393.7662 - accuracy: 0.6637\n",
      "Epoch 1227/2000\n",
      "76/76 [==============================] - 0s 6ms/step - loss: -10873749982.7532 - accuracy: 0.6627\n",
      "Epoch 1228/2000\n",
      "76/76 [==============================] - 0s 6ms/step - loss: -10998783268.5714 - accuracy: 0.6595\n",
      "Epoch 1229/2000\n",
      "76/76 [==============================] - 0s 6ms/step - loss: -11071449420.4675 - accuracy: 0.6542\n",
      "Epoch 1230/2000\n",
      "76/76 [==============================] - 0s 6ms/step - loss: -10587989111.6883 - accuracy: 0.6705\n",
      "Epoch 1231/2000\n",
      "76/76 [==============================] - 0s 6ms/step - loss: -11053478340.1558 - accuracy: 0.6583\n",
      "Epoch 1232/2000\n",
      "76/76 [==============================] - 0s 5ms/step - loss: -11108732409.3506 - accuracy: 0.6575\n",
      "Epoch 1233/2000\n",
      "76/76 [==============================] - 0s 6ms/step - loss: -10914505927.4805 - accuracy: 0.6670\n",
      "Epoch 1234/2000\n",
      "76/76 [==============================] - 0s 6ms/step - loss: -11025629662.7532 - accuracy: 0.6636\n",
      "Epoch 1235/2000\n",
      "76/76 [==============================] - 0s 5ms/step - loss: -11399073805.2987 - accuracy: 0.6527\n",
      "Epoch 1236/2000\n",
      "76/76 [==============================] - 1s 7ms/step - loss: -10661964281.3506 - accuracy: 0.6739\n",
      "Epoch 1237/2000\n",
      "76/76 [==============================] - 0s 7ms/step - loss: -10945937481.1429 - accuracy: 0.6689\n",
      "Epoch 1238/2000\n",
      "76/76 [==============================] - 0s 6ms/step - loss: -11410961767.0649 - accuracy: 0.6532\n",
      "Epoch 1239/2000\n",
      "76/76 [==============================] - 0s 6ms/step - loss: -11341156671.1688 - accuracy: 0.6567\n",
      "Epoch 1240/2000\n",
      "76/76 [==============================] - 0s 6ms/step - loss: -11144919824.6234 - accuracy: 0.6629\n",
      "Epoch 1241/2000\n",
      "76/76 [==============================] - 0s 6ms/step - loss: -10951887852.0519 - accuracy: 0.6679\n",
      "Epoch 1242/2000\n",
      "76/76 [==============================] - 0s 6ms/step - loss: -11082718380.8831 - accuracy: 0.6651\n",
      "Epoch 1243/2000\n",
      "76/76 [==============================] - 0s 6ms/step - loss: -11408868152.5195 - accuracy: 0.6579\n",
      "Epoch 1244/2000\n",
      "76/76 [==============================] - 0s 6ms/step - loss: -11006484493.2987 - accuracy: 0.6702\n",
      "Epoch 1245/2000\n",
      "76/76 [==============================] - 0s 6ms/step - loss: -11420145424.6234 - accuracy: 0.6592\n",
      "Epoch 1246/2000\n",
      "76/76 [==============================] - 0s 6ms/step - loss: -11645583692.4675 - accuracy: 0.6540\n",
      "Epoch 1247/2000\n",
      "76/76 [==============================] - 0s 6ms/step - loss: -11433508105.9740 - accuracy: 0.6591\n",
      "Epoch 1248/2000\n",
      "76/76 [==============================] - 0s 6ms/step - loss: -12091684943.7922 - accuracy: 0.6425\n",
      "Epoch 1249/2000\n",
      "76/76 [==============================] - 0s 6ms/step - loss: -11234770199.2727 - accuracy: 0.6662\n",
      "Epoch 1250/2000\n",
      "76/76 [==============================] - 0s 6ms/step - loss: -11365260952.9351 - accuracy: 0.6620\n",
      "Epoch 1251/2000\n",
      "76/76 [==============================] - 0s 5ms/step - loss: -11450980937.1429 - accuracy: 0.6613\n",
      "Epoch 1252/2000\n",
      "76/76 [==============================] - 0s 6ms/step - loss: -11585592200.3117 - accuracy: 0.6585\n",
      "Epoch 1253/2000\n",
      "76/76 [==============================] - 0s 6ms/step - loss: -11697156707.7403 - accuracy: 0.6563\n",
      "Epoch 1254/2000\n",
      "76/76 [==============================] - 0s 5ms/step - loss: -11831828533.1948 - accuracy: 0.6529\n",
      "Epoch 1255/2000\n",
      "76/76 [==============================] - 0s 5ms/step - loss: -11694221325.2987 - accuracy: 0.6602\n",
      "Epoch 1256/2000\n",
      "76/76 [==============================] - 0s 5ms/step - loss: -11538786463.5844 - accuracy: 0.6624\n",
      "Epoch 1257/2000\n",
      "76/76 [==============================] - 0s 5ms/step - loss: -11886713164.4675 - accuracy: 0.6552\n",
      "Epoch 1258/2000\n",
      "76/76 [==============================] - 0s 6ms/step - loss: -11652459360.4156 - accuracy: 0.6624\n",
      "Epoch 1259/2000\n",
      "76/76 [==============================] - 0s 5ms/step - loss: -11786455305.9740 - accuracy: 0.6594\n",
      "Epoch 1260/2000\n",
      "76/76 [==============================] - 0s 5ms/step - loss: -12019633830.2338 - accuracy: 0.6536\n",
      "Epoch 1261/2000\n",
      "76/76 [==============================] - 0s 6ms/step - loss: -11849301710.1299 - accuracy: 0.6576\n",
      "Epoch 1262/2000\n",
      "76/76 [==============================] - 0s 5ms/step - loss: -11848069452.4675 - accuracy: 0.6601\n",
      "Epoch 1263/2000\n",
      "76/76 [==============================] - 0s 6ms/step - loss: -12080462901.1948 - accuracy: 0.6537\n",
      "Epoch 1264/2000\n",
      "76/76 [==============================] - 0s 6ms/step - loss: -11640641602.4935 - accuracy: 0.6661\n",
      "Epoch 1265/2000\n",
      "76/76 [==============================] - 0s 6ms/step - loss: -11951468530.7013 - accuracy: 0.6580\n",
      "Epoch 1266/2000\n",
      "76/76 [==============================] - 0s 5ms/step - loss: -11711558376.7273 - accuracy: 0.6649\n",
      "Epoch 1267/2000\n",
      "76/76 [==============================] - 0s 6ms/step - loss: -12189548317.9221 - accuracy: 0.6524\n",
      "Epoch 1268/2000\n",
      "76/76 [==============================] - 0s 6ms/step - loss: -12041147697.8701 - accuracy: 0.6564\n",
      "Epoch 1269/2000\n",
      "76/76 [==============================] - 0s 5ms/step - loss: -11814806022.6494 - accuracy: 0.6665\n",
      "Epoch 1270/2000\n",
      "76/76 [==============================] - 0s 5ms/step - loss: -12017834835.1169 - accuracy: 0.6602\n",
      "Epoch 1271/2000\n",
      "76/76 [==============================] - 0s 6ms/step - loss: -12131426397.0909 - accuracy: 0.6573\n",
      "Epoch 1272/2000\n",
      "76/76 [==============================] - 0s 5ms/step - loss: -12181853649.4545 - accuracy: 0.6584\n",
      "Epoch 1273/2000\n",
      "76/76 [==============================] - 0s 6ms/step - loss: -12118851264.8312 - accuracy: 0.6601\n",
      "Epoch 1274/2000\n",
      "76/76 [==============================] - 0s 5ms/step - loss: -11921115907.3247 - accuracy: 0.6660\n",
      "Epoch 1275/2000\n",
      "76/76 [==============================] - 0s 5ms/step - loss: -12144992894.3377 - accuracy: 0.6608\n",
      "Epoch 1276/2000\n",
      "76/76 [==============================] - 0s 6ms/step - loss: -12166627421.0909 - accuracy: 0.6598\n",
      "Epoch 1277/2000\n",
      "76/76 [==============================] - 0s 5ms/step - loss: -12207864300.0519 - accuracy: 0.6586\n",
      "Epoch 1278/2000\n",
      "76/76 [==============================] - 0s 6ms/step - loss: -12547929752.9351 - accuracy: 0.6520\n",
      "Epoch 1279/2000\n",
      "76/76 [==============================] - 0s 6ms/step - loss: -12276604023.6883 - accuracy: 0.6608\n",
      "Epoch 1280/2000\n",
      "76/76 [==============================] - 1s 7ms/step - loss: -12335306392.9351 - accuracy: 0.6589\n",
      "Epoch 1281/2000\n",
      "76/76 [==============================] - 1s 9ms/step - loss: -12075799831.2727 - accuracy: 0.6671\n",
      "Epoch 1282/2000\n",
      "76/76 [==============================] - 1s 7ms/step - loss: -12507546371.3247 - accuracy: 0.6571\n",
      "Epoch 1283/2000\n",
      "76/76 [==============================] - 0s 6ms/step - loss: -12028022584.5195 - accuracy: 0.6687\n",
      "Epoch 1284/2000\n",
      "76/76 [==============================] - 0s 6ms/step - loss: -12713878966.8571 - accuracy: 0.6528\n",
      "Epoch 1285/2000\n",
      "76/76 [==============================] - 1s 7ms/step - loss: -12452929057.2468 - accuracy: 0.6607\n",
      "Epoch 1286/2000\n",
      "76/76 [==============================] - 0s 6ms/step - loss: -12345131579.8442 - accuracy: 0.6618\n",
      "Epoch 1287/2000\n",
      "76/76 [==============================] - 0s 6ms/step - loss: -12744876191.5844 - accuracy: 0.6511\n",
      "Epoch 1288/2000\n",
      "76/76 [==============================] - 0s 6ms/step - loss: -12358333838.9610 - accuracy: 0.6652\n",
      "Epoch 1289/2000\n",
      "76/76 [==============================] - 0s 6ms/step - loss: -12431852929.6623 - accuracy: 0.6637\n",
      "Epoch 1290/2000\n",
      "76/76 [==============================] - 0s 6ms/step - loss: -12562709198.1299 - accuracy: 0.6599\n",
      "Epoch 1291/2000\n",
      "76/76 [==============================] - 0s 6ms/step - loss: -12733854733.2987 - accuracy: 0.6571\n",
      "Epoch 1292/2000\n",
      "76/76 [==============================] - 0s 6ms/step - loss: -12478956078.5455 - accuracy: 0.6650\n",
      "Epoch 1293/2000\n",
      "76/76 [==============================] - 0s 6ms/step - loss: -12428557258.8052 - accuracy: 0.6662\n",
      "Epoch 1294/2000\n",
      "76/76 [==============================] - 0s 6ms/step - loss: -12707544050.7013 - accuracy: 0.6595\n",
      "Epoch 1295/2000\n",
      "76/76 [==============================] - 0s 6ms/step - loss: -12763375044.1558 - accuracy: 0.6589\n",
      "Epoch 1296/2000\n",
      "76/76 [==============================] - 0s 6ms/step - loss: -12734329736.3117 - accuracy: 0.6624\n",
      "Epoch 1297/2000\n",
      "76/76 [==============================] - 0s 6ms/step - loss: -12641086929.4545 - accuracy: 0.6628\n",
      "Epoch 1298/2000\n",
      "76/76 [==============================] - 0s 6ms/step - loss: -12668981793.2468 - accuracy: 0.6638\n",
      "Epoch 1299/2000\n",
      "76/76 [==============================] - 0s 6ms/step - loss: -12521697027.3247 - accuracy: 0.6677\n",
      "Epoch 1300/2000\n",
      "76/76 [==============================] - 0s 6ms/step - loss: -12686536105.5584 - accuracy: 0.6631\n",
      "Epoch 1301/2000\n",
      "76/76 [==============================] - 0s 6ms/step - loss: -13153391496.3117 - accuracy: 0.6501\n",
      "Epoch 1302/2000\n",
      "76/76 [==============================] - 0s 6ms/step - loss: -12696948190.7532 - accuracy: 0.6666\n",
      "Epoch 1303/2000\n",
      "76/76 [==============================] - 0s 6ms/step - loss: -13461547672.9351 - accuracy: 0.6449\n",
      "Epoch 1304/2000\n",
      "76/76 [==============================] - 0s 6ms/step - loss: -13131068974.5455 - accuracy: 0.6559\n",
      "Epoch 1305/2000\n",
      "76/76 [==============================] - 0s 6ms/step - loss: -12847245418.3896 - accuracy: 0.6636\n",
      "Epoch 1306/2000\n",
      "76/76 [==============================] - 0s 6ms/step - loss: -12595715883.2208 - accuracy: 0.6722\n",
      "Epoch 1307/2000\n",
      "76/76 [==============================] - 0s 6ms/step - loss: -12600465075.5325 - accuracy: 0.6709\n",
      "Epoch 1308/2000\n",
      "76/76 [==============================] - 0s 5ms/step - loss: -12903657299.1169 - accuracy: 0.6645\n",
      "Epoch 1309/2000\n",
      "76/76 [==============================] - 0s 5ms/step - loss: -13061832211.9481 - accuracy: 0.6611\n",
      "Epoch 1310/2000\n",
      "76/76 [==============================] - 1s 7ms/step - loss: -13194340844.0519 - accuracy: 0.6576\n",
      "Epoch 1311/2000\n",
      "76/76 [==============================] - 0s 6ms/step - loss: -13217499109.4026 - accuracy: 0.6587\n",
      "Epoch 1312/2000\n",
      "76/76 [==============================] - 0s 6ms/step - loss: -13297131094.4416 - accuracy: 0.6592\n",
      "Epoch 1313/2000\n",
      "76/76 [==============================] - 0s 5ms/step - loss: -13274552466.2857 - accuracy: 0.6582\n",
      "Epoch 1314/2000\n",
      "76/76 [==============================] - 0s 5ms/step - loss: -13551140252.2597 - accuracy: 0.6528\n",
      "Epoch 1315/2000\n",
      "76/76 [==============================] - 0s 6ms/step - loss: -13233630593.6623 - accuracy: 0.6608\n",
      "Epoch 1316/2000\n",
      "76/76 [==============================] - 0s 6ms/step - loss: -13513423340.0519 - accuracy: 0.6565\n",
      "Epoch 1317/2000\n",
      "76/76 [==============================] - 0s 6ms/step - loss: -12910853385.9740 - accuracy: 0.6711\n",
      "Epoch 1318/2000\n",
      "76/76 [==============================] - 0s 6ms/step - loss: -13300616604.2597 - accuracy: 0.6611\n",
      "Epoch 1319/2000\n",
      "76/76 [==============================] - 0s 6ms/step - loss: -13032609805.2987 - accuracy: 0.6697\n",
      "Epoch 1320/2000\n",
      "76/76 [==============================] - 0s 6ms/step - loss: -13433236998.6494 - accuracy: 0.6604\n",
      "Epoch 1321/2000\n",
      "76/76 [==============================] - 0s 6ms/step - loss: -13426802541.7143 - accuracy: 0.6604\n",
      "Epoch 1322/2000\n",
      "76/76 [==============================] - 0s 5ms/step - loss: -13442301100.8831 - accuracy: 0.6622\n",
      "Epoch 1323/2000\n",
      "76/76 [==============================] - 0s 6ms/step - loss: -13512352289.2468 - accuracy: 0.6591\n",
      "Epoch 1324/2000\n",
      "76/76 [==============================] - 0s 6ms/step - loss: -13524147678.7532 - accuracy: 0.6612\n",
      "Epoch 1325/2000\n",
      "76/76 [==============================] - 0s 6ms/step - loss: -13150088324.9870 - accuracy: 0.6708\n",
      "Epoch 1326/2000\n",
      "76/76 [==============================] - 0s 6ms/step - loss: -13675800722.2857 - accuracy: 0.6567\n",
      "Epoch 1327/2000\n",
      "76/76 [==============================] - 0s 6ms/step - loss: -13633969085.5065 - accuracy: 0.6606\n",
      "Epoch 1328/2000\n",
      "76/76 [==============================] - 0s 5ms/step - loss: -13321594893.2987 - accuracy: 0.6691\n",
      "Epoch 1329/2000\n",
      "76/76 [==============================] - 0s 5ms/step - loss: -14237689749.6104 - accuracy: 0.6465\n",
      "Epoch 1330/2000\n",
      "76/76 [==============================] - 0s 6ms/step - loss: -13819500916.3636 - accuracy: 0.6578\n",
      "Epoch 1331/2000\n",
      "76/76 [==============================] - 0s 5ms/step - loss: -13793401536.8312 - accuracy: 0.6596\n",
      "Epoch 1332/2000\n",
      "76/76 [==============================] - 0s 5ms/step - loss: -13881959769.7662 - accuracy: 0.6584\n",
      "Epoch 1333/2000\n",
      "76/76 [==============================] - 0s 6ms/step - loss: -13517873777.0390 - accuracy: 0.6693\n",
      "Epoch 1334/2000\n",
      "76/76 [==============================] - 0s 6ms/step - loss: -14262377777.8701 - accuracy: 0.6494\n",
      "Epoch 1335/2000\n",
      "76/76 [==============================] - 0s 6ms/step - loss: -13928410630.6494 - accuracy: 0.6589\n",
      "Epoch 1336/2000\n",
      "76/76 [==============================] - 0s 5ms/step - loss: -14267533391.7922 - accuracy: 0.6522\n",
      "Epoch 1337/2000\n",
      "76/76 [==============================] - 0s 6ms/step - loss: -13777842880.8312 - accuracy: 0.6647\n",
      "Epoch 1338/2000\n",
      "76/76 [==============================] - 0s 6ms/step - loss: -13914990605.2987 - accuracy: 0.6620\n",
      "Epoch 1339/2000\n",
      "76/76 [==============================] - 0s 6ms/step - loss: -13975249720.5195 - accuracy: 0.6614\n",
      "Epoch 1340/2000\n",
      "76/76 [==============================] - 0s 6ms/step - loss: -14073278104.9351 - accuracy: 0.6599\n",
      "Epoch 1341/2000\n",
      "76/76 [==============================] - 0s 6ms/step - loss: -14288952466.2857 - accuracy: 0.6560\n",
      "Epoch 1342/2000\n",
      "76/76 [==============================] - 0s 5ms/step - loss: -14071821910.4416 - accuracy: 0.6609\n",
      "Epoch 1343/2000\n",
      "76/76 [==============================] - 0s 5ms/step - loss: -14202784994.0779 - accuracy: 0.6566\n",
      "Epoch 1344/2000\n",
      "76/76 [==============================] - 0s 5ms/step - loss: -14492639817.1429 - accuracy: 0.6521\n",
      "Epoch 1345/2000\n",
      "76/76 [==============================] - 0s 5ms/step - loss: -13868274581.6104 - accuracy: 0.6667\n",
      "Epoch 1346/2000\n",
      "76/76 [==============================] - 0s 5ms/step - loss: -13992719399.8961 - accuracy: 0.6635\n",
      "Epoch 1347/2000\n",
      "76/76 [==============================] - 0s 6ms/step - loss: -14260391723.2208 - accuracy: 0.6580\n",
      "Epoch 1348/2000\n",
      "76/76 [==============================] - 0s 6ms/step - loss: -14044720886.0260 - accuracy: 0.6637\n",
      "Epoch 1349/2000\n",
      "76/76 [==============================] - 0s 5ms/step - loss: -14227921348.1558 - accuracy: 0.6626\n",
      "Epoch 1350/2000\n",
      "76/76 [==============================] - 0s 6ms/step - loss: -14334636324.5714 - accuracy: 0.6607\n",
      "Epoch 1351/2000\n",
      "76/76 [==============================] - 0s 5ms/step - loss: -14316863275.2208 - accuracy: 0.6601\n",
      "Epoch 1352/2000\n",
      "76/76 [==============================] - 0s 6ms/step - loss: -14166826077.0909 - accuracy: 0.6680\n",
      "Epoch 1353/2000\n",
      "76/76 [==============================] - 0s 6ms/step - loss: -14079421506.4935 - accuracy: 0.6674\n",
      "Epoch 1354/2000\n",
      "76/76 [==============================] - 0s 6ms/step - loss: -14278508304.6234 - accuracy: 0.6646\n",
      "Epoch 1355/2000\n",
      "76/76 [==============================] - 0s 6ms/step - loss: -14605163613.0909 - accuracy: 0.6572\n",
      "Epoch 1356/2000\n",
      "76/76 [==============================] - 0s 6ms/step - loss: -14402171518.3377 - accuracy: 0.6619\n",
      "Epoch 1357/2000\n",
      "76/76 [==============================] - 0s 6ms/step - loss: -14508710659.3247 - accuracy: 0.6583\n",
      "Epoch 1358/2000\n",
      "76/76 [==============================] - 0s 6ms/step - loss: -14756851632.2078 - accuracy: 0.6565\n",
      "Epoch 1359/2000\n",
      "76/76 [==============================] - 0s 6ms/step - loss: -14755189853.0909 - accuracy: 0.6564\n",
      "Epoch 1360/2000\n",
      "76/76 [==============================] - 0s 5ms/step - loss: -14364093971.9481 - accuracy: 0.6655\n",
      "Epoch 1361/2000\n",
      "76/76 [==============================] - 0s 6ms/step - loss: -14880333478.2338 - accuracy: 0.6550\n",
      "Epoch 1362/2000\n",
      "76/76 [==============================] - 0s 6ms/step - loss: -14434160134.6494 - accuracy: 0.6676\n",
      "Epoch 1363/2000\n",
      "76/76 [==============================] - 0s 6ms/step - loss: -14866111288.5195 - accuracy: 0.6566\n",
      "Epoch 1364/2000\n",
      "76/76 [==============================] - 0s 6ms/step - loss: -14777625068.0519 - accuracy: 0.6599\n",
      "Epoch 1365/2000\n",
      "76/76 [==============================] - 0s 6ms/step - loss: -14559736073.9740 - accuracy: 0.6671\n",
      "Epoch 1366/2000\n",
      "76/76 [==============================] - 0s 6ms/step - loss: -14841469965.2987 - accuracy: 0.6616\n",
      "Epoch 1367/2000\n",
      "76/76 [==============================] - 0s 6ms/step - loss: -14754668982.8571 - accuracy: 0.6623\n",
      "Epoch 1368/2000\n",
      "76/76 [==============================] - 0s 6ms/step - loss: -14859990720.8312 - accuracy: 0.6609\n",
      "Epoch 1369/2000\n",
      "76/76 [==============================] - 0s 6ms/step - loss: -14970140273.0390 - accuracy: 0.6587\n",
      "Epoch 1370/2000\n",
      "76/76 [==============================] - 0s 6ms/step - loss: -14851488648.3117 - accuracy: 0.6644\n",
      "Epoch 1371/2000\n",
      "76/76 [==============================] - 0s 6ms/step - loss: -14988486549.6104 - accuracy: 0.6595\n",
      "Epoch 1372/2000\n",
      "76/76 [==============================] - 1s 7ms/step - loss: -14699740612.1558 - accuracy: 0.6663\n",
      "Epoch 1373/2000\n",
      "76/76 [==============================] - 0s 6ms/step - loss: -15190341073.4545 - accuracy: 0.6553\n",
      "Epoch 1374/2000\n",
      "76/76 [==============================] - 0s 6ms/step - loss: -15372721777.0390 - accuracy: 0.6539\n",
      "Epoch 1375/2000\n",
      "76/76 [==============================] - 0s 6ms/step - loss: -14931072398.9610 - accuracy: 0.6620\n",
      "Epoch 1376/2000\n",
      "76/76 [==============================] - 0s 6ms/step - loss: -15071049355.6364 - accuracy: 0.6616\n",
      "Epoch 1377/2000\n",
      "76/76 [==============================] - 0s 6ms/step - loss: -15565564515.7403 - accuracy: 0.6524\n",
      "Epoch 1378/2000\n",
      "76/76 [==============================] - 0s 6ms/step - loss: -15172976746.3896 - accuracy: 0.6595\n",
      "Epoch 1379/2000\n",
      "76/76 [==============================] - 0s 6ms/step - loss: -15372482639.7922 - accuracy: 0.6567\n",
      "Epoch 1380/2000\n",
      "76/76 [==============================] - 0s 6ms/step - loss: -15373365460.7792 - accuracy: 0.6568\n",
      "Epoch 1381/2000\n",
      "76/76 [==============================] - 0s 6ms/step - loss: -14997556330.3896 - accuracy: 0.6663\n",
      "Epoch 1382/2000\n",
      "76/76 [==============================] - 0s 6ms/step - loss: -15204494721.6623 - accuracy: 0.6621\n",
      "Epoch 1383/2000\n",
      "76/76 [==============================] - 0s 6ms/step - loss: -15142431783.8961 - accuracy: 0.6645\n",
      "Epoch 1384/2000\n",
      "76/76 [==============================] - 0s 6ms/step - loss: -15146387801.7662 - accuracy: 0.6644\n",
      "Epoch 1385/2000\n",
      "76/76 [==============================] - 1s 7ms/step - loss: -15477560546.0779 - accuracy: 0.6586\n",
      "Epoch 1386/2000\n",
      "76/76 [==============================] - 0s 6ms/step - loss: -15385677305.3506 - accuracy: 0.6588\n",
      "Epoch 1387/2000\n",
      "76/76 [==============================] - 0s 6ms/step - loss: -15294990974.3377 - accuracy: 0.6661\n",
      "Epoch 1388/2000\n",
      "76/76 [==============================] - 0s 5ms/step - loss: -15508264547.7403 - accuracy: 0.6597\n",
      "Epoch 1389/2000\n",
      "76/76 [==============================] - 0s 6ms/step - loss: -15833455217.0390 - accuracy: 0.6517\n",
      "Epoch 1390/2000\n",
      "76/76 [==============================] - 0s 5ms/step - loss: -15806126146.4935 - accuracy: 0.6547\n",
      "Epoch 1391/2000\n",
      "76/76 [==============================] - 0s 5ms/step - loss: -15403683480.9351 - accuracy: 0.6655\n",
      "Epoch 1392/2000\n",
      "76/76 [==============================] - 0s 5ms/step - loss: -15447755962.1818 - accuracy: 0.6630\n",
      "Epoch 1393/2000\n",
      "76/76 [==============================] - 0s 6ms/step - loss: -15474512071.4805 - accuracy: 0.6642\n",
      "Epoch 1394/2000\n",
      "76/76 [==============================] - 0s 6ms/step - loss: -15631413248.0000 - accuracy: 0.6606\n",
      "Epoch 1395/2000\n",
      "76/76 [==============================] - 0s 6ms/step - loss: -15587423497.9740 - accuracy: 0.6626\n",
      "Epoch 1396/2000\n",
      "76/76 [==============================] - 0s 5ms/step - loss: -16129593290.8052 - accuracy: 0.6510\n",
      "Epoch 1397/2000\n",
      "76/76 [==============================] - 0s 6ms/step - loss: -16084427962.1818 - accuracy: 0.6542\n",
      "Epoch 1398/2000\n",
      "76/76 [==============================] - 0s 6ms/step - loss: -15663176092.2597 - accuracy: 0.6651\n",
      "Epoch 1399/2000\n",
      "76/76 [==============================] - 0s 6ms/step - loss: -15835142995.1169 - accuracy: 0.6613\n",
      "Epoch 1400/2000\n",
      "76/76 [==============================] - 0s 6ms/step - loss: -15842122033.8701 - accuracy: 0.6621\n",
      "Epoch 1401/2000\n",
      "76/76 [==============================] - 0s 5ms/step - loss: -15857785350.6494 - accuracy: 0.6603\n",
      "Epoch 1402/2000\n",
      "76/76 [==============================] - 0s 6ms/step - loss: -15834333543.0649 - accuracy: 0.6631\n",
      "Epoch 1403/2000\n",
      "76/76 [==============================] - 0s 5ms/step - loss: -16728465700.5714 - accuracy: 0.6459\n",
      "Epoch 1404/2000\n",
      "76/76 [==============================] - 0s 6ms/step - loss: -15644407728.2078 - accuracy: 0.6673\n",
      "Epoch 1405/2000\n",
      "76/76 [==============================] - 0s 5ms/step - loss: -16132737821.9221 - accuracy: 0.6593\n",
      "Epoch 1406/2000\n",
      "76/76 [==============================] - 0s 6ms/step - loss: -16094193557.6104 - accuracy: 0.6596\n",
      "Epoch 1407/2000\n",
      "76/76 [==============================] - 0s 6ms/step - loss: -16091548033.6623 - accuracy: 0.6607\n",
      "Epoch 1408/2000\n",
      "76/76 [==============================] - 0s 6ms/step - loss: -15831627124.3636 - accuracy: 0.6659\n",
      "Epoch 1409/2000\n",
      "76/76 [==============================] - 0s 6ms/step - loss: -16327492288.8312 - accuracy: 0.6559\n",
      "Epoch 1410/2000\n",
      "76/76 [==============================] - 0s 6ms/step - loss: -16123936940.8831 - accuracy: 0.6641\n",
      "Epoch 1411/2000\n",
      "76/76 [==============================] - 0s 6ms/step - loss: -16732295008.4156 - accuracy: 0.6506\n",
      "Epoch 1412/2000\n",
      "76/76 [==============================] - 0s 5ms/step - loss: -16356523353.7662 - accuracy: 0.6591\n",
      "Epoch 1413/2000\n",
      "76/76 [==============================] - 0s 5ms/step - loss: -16924580983.6883 - accuracy: 0.6473\n",
      "Epoch 1414/2000\n",
      "76/76 [==============================] - 0s 6ms/step - loss: -16789698041.3506 - accuracy: 0.6503\n",
      "Epoch 1415/2000\n",
      "76/76 [==============================] - 0s 6ms/step - loss: -16133186373.8182 - accuracy: 0.6632\n",
      "Epoch 1416/2000\n",
      "76/76 [==============================] - 0s 6ms/step - loss: -16032544861.0909 - accuracy: 0.6677\n",
      "Epoch 1417/2000\n",
      "76/76 [==============================] - 0s 6ms/step - loss: -16646664657.4545 - accuracy: 0.6540\n",
      "Epoch 1418/2000\n",
      "76/76 [==============================] - 0s 6ms/step - loss: -15907424894.3377 - accuracy: 0.6724\n",
      "Epoch 1419/2000\n",
      "76/76 [==============================] - 0s 5ms/step - loss: -16393878129.0390 - accuracy: 0.6641\n",
      "Epoch 1420/2000\n",
      "76/76 [==============================] - 0s 6ms/step - loss: -16042053326.1299 - accuracy: 0.6705\n",
      "Epoch 1421/2000\n",
      "76/76 [==============================] - 0s 6ms/step - loss: -16316776368.2078 - accuracy: 0.6646\n",
      "Epoch 1422/2000\n",
      "76/76 [==============================] - 0s 6ms/step - loss: -16882314838.4416 - accuracy: 0.6545\n",
      "Epoch 1423/2000\n",
      "76/76 [==============================] - 0s 6ms/step - loss: -17073325827.3247 - accuracy: 0.6506\n",
      "Epoch 1424/2000\n",
      "76/76 [==============================] - 0s 5ms/step - loss: -16837762606.5455 - accuracy: 0.6559\n",
      "Epoch 1425/2000\n",
      "76/76 [==============================] - 0s 5ms/step - loss: -17206921162.8052 - accuracy: 0.6509\n",
      "Epoch 1426/2000\n",
      "76/76 [==============================] - 0s 5ms/step - loss: -16959250112.8312 - accuracy: 0.6555\n",
      "Epoch 1427/2000\n",
      "76/76 [==============================] - 0s 5ms/step - loss: -16407984766.3377 - accuracy: 0.6689\n",
      "Epoch 1428/2000\n",
      "76/76 [==============================] - 0s 5ms/step - loss: -16773933667.7403 - accuracy: 0.6604\n",
      "Epoch 1429/2000\n",
      "76/76 [==============================] - 0s 5ms/step - loss: -16933312791.2727 - accuracy: 0.6587\n",
      "Epoch 1430/2000\n",
      "76/76 [==============================] - 0s 5ms/step - loss: -17242324100.9870 - accuracy: 0.6532\n",
      "Epoch 1431/2000\n",
      "76/76 [==============================] - 0s 5ms/step - loss: -16795933789.0909 - accuracy: 0.6634\n",
      "Epoch 1432/2000\n",
      "76/76 [==============================] - 0s 6ms/step - loss: -16903238536.3117 - accuracy: 0.6624\n",
      "Epoch 1433/2000\n",
      "76/76 [==============================] - 0s 6ms/step - loss: -17233496662.4416 - accuracy: 0.6567\n",
      "Epoch 1434/2000\n",
      "76/76 [==============================] - 0s 6ms/step - loss: -17040908713.5584 - accuracy: 0.6597\n",
      "Epoch 1435/2000\n",
      "76/76 [==============================] - 0s 6ms/step - loss: -16707041905.0390 - accuracy: 0.6668\n",
      "Epoch 1436/2000\n",
      "76/76 [==============================] - 0s 6ms/step - loss: -16813532372.7792 - accuracy: 0.6657\n",
      "Epoch 1437/2000\n",
      "76/76 [==============================] - 0s 5ms/step - loss: -16771323624.7273 - accuracy: 0.6670\n",
      "Epoch 1438/2000\n",
      "76/76 [==============================] - 0s 5ms/step - loss: -17036022305.2468 - accuracy: 0.6601\n",
      "Epoch 1439/2000\n",
      "76/76 [==============================] - 0s 6ms/step - loss: -17059153627.4286 - accuracy: 0.6632\n",
      "Epoch 1440/2000\n",
      "76/76 [==============================] - 0s 5ms/step - loss: -16971531543.2727 - accuracy: 0.6652\n",
      "Epoch 1441/2000\n",
      "76/76 [==============================] - 0s 6ms/step - loss: -17195941382.6493 - accuracy: 0.6599\n",
      "Epoch 1442/2000\n",
      "76/76 [==============================] - 0s 5ms/step - loss: -17197231635.9481 - accuracy: 0.6625\n",
      "Epoch 1443/2000\n",
      "76/76 [==============================] - 0s 6ms/step - loss: -17390932952.1039 - accuracy: 0.6591\n",
      "Epoch 1444/2000\n",
      "76/76 [==============================] - 0s 6ms/step - loss: -17118508537.3506 - accuracy: 0.6668\n",
      "Epoch 1445/2000\n",
      "76/76 [==============================] - 0s 5ms/step - loss: -17663483478.4416 - accuracy: 0.6560\n",
      "Epoch 1446/2000\n",
      "76/76 [==============================] - 0s 6ms/step - loss: -16907330413.7143 - accuracy: 0.6709\n",
      "Epoch 1447/2000\n",
      "76/76 [==============================] - 0s 6ms/step - loss: -17325838455.6883 - accuracy: 0.6633\n",
      "Epoch 1448/2000\n",
      "76/76 [==============================] - 0s 6ms/step - loss: -17292904022.4416 - accuracy: 0.6649\n",
      "Epoch 1449/2000\n",
      "76/76 [==============================] - 0s 6ms/step - loss: -18017093392.6234 - accuracy: 0.6518\n",
      "Epoch 1450/2000\n",
      "76/76 [==============================] - 0s 6ms/step - loss: -17113390133.1948 - accuracy: 0.6693\n",
      "Epoch 1451/2000\n",
      "76/76 [==============================] - 0s 6ms/step - loss: -17614454105.7662 - accuracy: 0.6584\n",
      "Epoch 1452/2000\n",
      "76/76 [==============================] - 0s 6ms/step - loss: -17777180020.3636 - accuracy: 0.6574\n",
      "Epoch 1453/2000\n",
      "76/76 [==============================] - 0s 6ms/step - loss: -17690898511.7922 - accuracy: 0.6591\n",
      "Epoch 1454/2000\n",
      "76/76 [==============================] - 0s 6ms/step - loss: -17341641182.7532 - accuracy: 0.6679\n",
      "Epoch 1455/2000\n",
      "76/76 [==============================] - 0s 6ms/step - loss: -17549683924.7792 - accuracy: 0.6645\n",
      "Epoch 1456/2000\n",
      "76/76 [==============================] - 0s 6ms/step - loss: -17683312334.1299 - accuracy: 0.6614\n",
      "Epoch 1457/2000\n",
      "76/76 [==============================] - 0s 6ms/step - loss: -18205243684.5714 - accuracy: 0.6551\n",
      "Epoch 1458/2000\n",
      "76/76 [==============================] - 0s 6ms/step - loss: -17784294293.6104 - accuracy: 0.6607\n",
      "Epoch 1459/2000\n",
      "76/76 [==============================] - 0s 6ms/step - loss: -17842957883.8442 - accuracy: 0.6607\n",
      "Epoch 1460/2000\n",
      "76/76 [==============================] - 1s 7ms/step - loss: -17808524354.4935 - accuracy: 0.6630\n",
      "Epoch 1461/2000\n",
      "76/76 [==============================] - 1s 8ms/step - loss: -17812329086.3377 - accuracy: 0.6625\n",
      "Epoch 1462/2000\n",
      "76/76 [==============================] - 0s 6ms/step - loss: -17647614364.2597 - accuracy: 0.6677\n",
      "Epoch 1463/2000\n",
      "76/76 [==============================] - 0s 5ms/step - loss: -17864949680.2078 - accuracy: 0.6642\n",
      "Epoch 1464/2000\n",
      "76/76 [==============================] - 0s 6ms/step - loss: -18325605336.1039 - accuracy: 0.6559\n",
      "Epoch 1465/2000\n",
      "76/76 [==============================] - 0s 6ms/step - loss: -18499506096.2078 - accuracy: 0.6521\n",
      "Epoch 1466/2000\n",
      "76/76 [==============================] - 0s 6ms/step - loss: -17660950714.1818 - accuracy: 0.6696\n",
      "Epoch 1467/2000\n",
      "76/76 [==============================] - 0s 6ms/step - loss: -18341559229.5065 - accuracy: 0.6570\n",
      "Epoch 1468/2000\n",
      "76/76 [==============================] - 0s 6ms/step - loss: -18223803804.2597 - accuracy: 0.6607\n",
      "Epoch 1469/2000\n",
      "76/76 [==============================] - 0s 5ms/step - loss: -18175300248.9351 - accuracy: 0.6608\n",
      "Epoch 1470/2000\n",
      "76/76 [==============================] - 0s 6ms/step - loss: -18518446133.1948 - accuracy: 0.6541\n",
      "Epoch 1471/2000\n",
      "76/76 [==============================] - 0s 5ms/step - loss: -18123007534.5455 - accuracy: 0.6641\n",
      "Epoch 1472/2000\n",
      "76/76 [==============================] - 0s 5ms/step - loss: -18350882603.2208 - accuracy: 0.6606\n",
      "Epoch 1473/2000\n",
      "76/76 [==============================] - 0s 5ms/step - loss: -18207344054.8571 - accuracy: 0.6610\n",
      "Epoch 1474/2000\n",
      "76/76 [==============================] - 0s 5ms/step - loss: -18728781105.8701 - accuracy: 0.6542\n",
      "Epoch 1475/2000\n",
      "76/76 [==============================] - 0s 5ms/step - loss: -18782375882.8052 - accuracy: 0.6535\n",
      "Epoch 1476/2000\n",
      "76/76 [==============================] - 0s 5ms/step - loss: -18659563067.8442 - accuracy: 0.6561\n",
      "Epoch 1477/2000\n",
      "76/76 [==============================] - 0s 6ms/step - loss: -19012215289.3507 - accuracy: 0.6525\n",
      "Epoch 1478/2000\n",
      "76/76 [==============================] - 0s 5ms/step - loss: -18312751795.5325 - accuracy: 0.6647\n",
      "Epoch 1479/2000\n",
      "76/76 [==============================] - 0s 5ms/step - loss: -18442743515.4286 - accuracy: 0.6633\n",
      "Epoch 1480/2000\n",
      "76/76 [==============================] - 0s 5ms/step - loss: -18729316591.3766 - accuracy: 0.6573\n",
      "Epoch 1481/2000\n",
      "76/76 [==============================] - 0s 5ms/step - loss: -18551565724.2597 - accuracy: 0.6607\n",
      "Epoch 1482/2000\n",
      "76/76 [==============================] - 0s 6ms/step - loss: -18844044381.0909 - accuracy: 0.6563\n",
      "Epoch 1483/2000\n",
      "76/76 [==============================] - 0s 6ms/step - loss: -18561841098.8052 - accuracy: 0.6635\n",
      "Epoch 1484/2000\n",
      "76/76 [==============================] - 0s 6ms/step - loss: -19102906008.9351 - accuracy: 0.6549\n",
      "Epoch 1485/2000\n",
      "76/76 [==============================] - 0s 6ms/step - loss: -18496495709.0909 - accuracy: 0.6663\n",
      "Epoch 1486/2000\n",
      "76/76 [==============================] - 0s 5ms/step - loss: -18999416858.5974 - accuracy: 0.6567\n",
      "Epoch 1487/2000\n",
      "76/76 [==============================] - 0s 5ms/step - loss: -18169944728.9351 - accuracy: 0.6730\n",
      "Epoch 1488/2000\n",
      "76/76 [==============================] - 0s 6ms/step - loss: -18928541323.6364 - accuracy: 0.6596\n",
      "Epoch 1489/2000\n",
      "76/76 [==============================] - 0s 6ms/step - loss: -19019364458.3896 - accuracy: 0.6593\n",
      "Epoch 1490/2000\n",
      "76/76 [==============================] - 0s 6ms/step - loss: -19166487299.3247 - accuracy: 0.6573\n",
      "Epoch 1491/2000\n",
      "76/76 [==============================] - 0s 6ms/step - loss: -19379701706.8052 - accuracy: 0.6537\n",
      "Epoch 1492/2000\n",
      "76/76 [==============================] - 0s 6ms/step - loss: -18864716414.3377 - accuracy: 0.6631\n",
      "Epoch 1493/2000\n",
      "76/76 [==============================] - 0s 6ms/step - loss: -18979282598.2338 - accuracy: 0.6626\n",
      "Epoch 1494/2000\n",
      "76/76 [==============================] - 0s 6ms/step - loss: -19559216088.1039 - accuracy: 0.6525\n",
      "Epoch 1495/2000\n",
      "76/76 [==============================] - 0s 6ms/step - loss: -19363577137.8701 - accuracy: 0.6557\n",
      "Epoch 1496/2000\n",
      "76/76 [==============================] - 0s 6ms/step - loss: -19310277751.6883 - accuracy: 0.6596\n",
      "Epoch 1497/2000\n",
      "76/76 [==============================] - 0s 5ms/step - loss: -18974519402.3896 - accuracy: 0.6637\n",
      "Epoch 1498/2000\n",
      "76/76 [==============================] - 0s 5ms/step - loss: -19104487291.0130 - accuracy: 0.6630\n",
      "Epoch 1499/2000\n",
      "76/76 [==============================] - 0s 6ms/step - loss: -19129651891.5325 - accuracy: 0.6640\n",
      "Epoch 1500/2000\n",
      "76/76 [==============================] - 0s 6ms/step - loss: -19293197697.6623 - accuracy: 0.6608\n",
      "Epoch 1501/2000\n",
      "76/76 [==============================] - 0s 6ms/step - loss: -19707394925.7143 - accuracy: 0.6542\n",
      "Epoch 1502/2000\n",
      "76/76 [==============================] - 0s 6ms/step - loss: -19597042195.9481 - accuracy: 0.6577\n",
      "Epoch 1503/2000\n",
      "76/76 [==============================] - 0s 6ms/step - loss: -19538871974.2338 - accuracy: 0.6606\n",
      "Epoch 1504/2000\n",
      "76/76 [==============================] - 0s 6ms/step - loss: -18886586806.8571 - accuracy: 0.6697\n",
      "Epoch 1505/2000\n",
      "76/76 [==============================] - 0s 6ms/step - loss: -19841264227.7403 - accuracy: 0.6558\n",
      "Epoch 1506/2000\n",
      "76/76 [==============================] - 0s 6ms/step - loss: -19363703980.8831 - accuracy: 0.6618\n",
      "Epoch 1507/2000\n",
      "76/76 [==============================] - 0s 6ms/step - loss: -19561774678.4416 - accuracy: 0.6615\n",
      "Epoch 1508/2000\n",
      "76/76 [==============================] - 0s 6ms/step - loss: -19459194560.8312 - accuracy: 0.6620\n",
      "Epoch 1509/2000\n",
      "76/76 [==============================] - 0s 6ms/step - loss: -19603418032.2078 - accuracy: 0.6594\n",
      "Epoch 1510/2000\n",
      "76/76 [==============================] - 0s 6ms/step - loss: -19901727145.5584 - accuracy: 0.6567\n",
      "Epoch 1511/2000\n",
      "76/76 [==============================] - 0s 6ms/step - loss: -19837726799.7922 - accuracy: 0.6610\n",
      "Epoch 1512/2000\n",
      "76/76 [==============================] - 0s 6ms/step - loss: -19399148118.4416 - accuracy: 0.6671\n",
      "Epoch 1513/2000\n",
      "76/76 [==============================] - 0s 6ms/step - loss: -19372177195.2208 - accuracy: 0.6694\n",
      "Epoch 1514/2000\n",
      "76/76 [==============================] - 0s 6ms/step - loss: -19588010542.5455 - accuracy: 0.6638\n",
      "Epoch 1515/2000\n",
      "76/76 [==============================] - 0s 6ms/step - loss: -19606837274.5974 - accuracy: 0.6655\n",
      "Epoch 1516/2000\n",
      "76/76 [==============================] - 0s 6ms/step - loss: -19580562870.8571 - accuracy: 0.6679\n",
      "Epoch 1517/2000\n",
      "76/76 [==============================] - 0s 6ms/step - loss: -19644093586.2857 - accuracy: 0.6652\n",
      "Epoch 1518/2000\n",
      "76/76 [==============================] - 0s 6ms/step - loss: -19912018318.9610 - accuracy: 0.6605\n",
      "Epoch 1519/2000\n",
      "76/76 [==============================] - 0s 6ms/step - loss: -20010254601.9740 - accuracy: 0.6597\n",
      "Epoch 1520/2000\n",
      "76/76 [==============================] - 0s 6ms/step - loss: -20289560177.0390 - accuracy: 0.6582\n",
      "Epoch 1521/2000\n",
      "76/76 [==============================] - 0s 6ms/step - loss: -20831895738.1818 - accuracy: 0.6502\n",
      "Epoch 1522/2000\n",
      "76/76 [==============================] - 0s 6ms/step - loss: -19640469956.1558 - accuracy: 0.6662\n",
      "Epoch 1523/2000\n",
      "76/76 [==============================] - 0s 6ms/step - loss: -20007982891.2208 - accuracy: 0.6645\n",
      "Epoch 1524/2000\n",
      "76/76 [==============================] - 0s 6ms/step - loss: -20506734618.5974 - accuracy: 0.6540\n",
      "Epoch 1525/2000\n",
      "76/76 [==============================] - 0s 6ms/step - loss: -20420484455.0649 - accuracy: 0.6581\n",
      "Epoch 1526/2000\n",
      "76/76 [==============================] - 0s 6ms/step - loss: -20122875877.4026 - accuracy: 0.6647\n",
      "Epoch 1527/2000\n",
      "76/76 [==============================] - 0s 6ms/step - loss: -20321848093.9221 - accuracy: 0.6610\n",
      "Epoch 1528/2000\n",
      "76/76 [==============================] - 0s 6ms/step - loss: -20856277337.7662 - accuracy: 0.6521\n",
      "Epoch 1529/2000\n",
      "76/76 [==============================] - 0s 6ms/step - loss: -20507747793.4545 - accuracy: 0.6598\n",
      "Epoch 1530/2000\n",
      "76/76 [==============================] - 0s 6ms/step - loss: -20366931010.4935 - accuracy: 0.6627\n",
      "Epoch 1531/2000\n",
      "76/76 [==============================] - 0s 6ms/step - loss: -20583959139.7403 - accuracy: 0.6595\n",
      "Epoch 1532/2000\n",
      "76/76 [==============================] - 0s 6ms/step - loss: -20415895525.4026 - accuracy: 0.6618\n",
      "Epoch 1533/2000\n",
      "76/76 [==============================] - 0s 6ms/step - loss: -20486116657.8701 - accuracy: 0.6605\n",
      "Epoch 1534/2000\n",
      "76/76 [==============================] - 0s 6ms/step - loss: -20151014360.1039 - accuracy: 0.6679\n",
      "Epoch 1535/2000\n",
      "76/76 [==============================] - 1s 9ms/step - loss: -20938954619.0130 - accuracy: 0.6548\n",
      "Epoch 1536/2000\n",
      "76/76 [==============================] - 1s 8ms/step - loss: -20584195417.7662 - accuracy: 0.6628\n",
      "Epoch 1537/2000\n",
      "76/76 [==============================] - 0s 6ms/step - loss: -20702062193.0390 - accuracy: 0.6602\n",
      "Epoch 1538/2000\n",
      "76/76 [==============================] - 0s 6ms/step - loss: -20517798260.3636 - accuracy: 0.6646\n",
      "Epoch 1539/2000\n",
      "76/76 [==============================] - 0s 6ms/step - loss: -20862781519.7922 - accuracy: 0.6596\n",
      "Epoch 1540/2000\n",
      "76/76 [==============================] - 0s 6ms/step - loss: -20307143281.0390 - accuracy: 0.6704\n",
      "Epoch 1541/2000\n",
      "76/76 [==============================] - 0s 6ms/step - loss: -20956137392.2078 - accuracy: 0.6593\n",
      "Epoch 1542/2000\n",
      "76/76 [==============================] - 0s 6ms/step - loss: -21437581391.7922 - accuracy: 0.6525\n",
      "Epoch 1543/2000\n",
      "76/76 [==============================] - 0s 6ms/step - loss: -20678543945.1429 - accuracy: 0.6666\n",
      "Epoch 1544/2000\n",
      "76/76 [==============================] - 0s 6ms/step - loss: -20347747740.2597 - accuracy: 0.6703\n",
      "Epoch 1545/2000\n",
      "76/76 [==============================] - 0s 6ms/step - loss: -20310605744.2078 - accuracy: 0.6723\n",
      "Epoch 1546/2000\n",
      "76/76 [==============================] - 0s 7ms/step - loss: -21448985054.7532 - accuracy: 0.6552\n",
      "Epoch 1547/2000\n",
      "76/76 [==============================] - 0s 6ms/step - loss: -21037852352.8312 - accuracy: 0.6624\n",
      "Epoch 1548/2000\n",
      "76/76 [==============================] - 0s 6ms/step - loss: -20645141144.9351 - accuracy: 0.6668\n",
      "Epoch 1549/2000\n",
      "76/76 [==============================] - 0s 6ms/step - loss: -20773173115.0130 - accuracy: 0.6674\n",
      "Epoch 1550/2000\n",
      "76/76 [==============================] - 0s 6ms/step - loss: -20722600920.1039 - accuracy: 0.6700\n",
      "Epoch 1551/2000\n",
      "76/76 [==============================] - 0s 6ms/step - loss: -21331306442.8052 - accuracy: 0.6603\n",
      "Epoch 1552/2000\n",
      "76/76 [==============================] - 0s 6ms/step - loss: -21014688063.1688 - accuracy: 0.6658\n",
      "Epoch 1553/2000\n",
      "76/76 [==============================] - 0s 6ms/step - loss: -21606944688.2078 - accuracy: 0.6578\n",
      "Epoch 1554/2000\n",
      "76/76 [==============================] - 0s 6ms/step - loss: -21501856674.9091 - accuracy: 0.6576\n",
      "Epoch 1555/2000\n",
      "76/76 [==============================] - 0s 6ms/step - loss: -21239652112.6234 - accuracy: 0.6643\n",
      "Epoch 1556/2000\n",
      "76/76 [==============================] - 0s 6ms/step - loss: -21875460840.7273 - accuracy: 0.6544\n",
      "Epoch 1557/2000\n",
      "76/76 [==============================] - 0s 6ms/step - loss: -21761436525.7143 - accuracy: 0.6585\n",
      "Epoch 1558/2000\n",
      "76/76 [==============================] - 0s 6ms/step - loss: -21880180842.3896 - accuracy: 0.6573\n",
      "Epoch 1559/2000\n",
      "76/76 [==============================] - 0s 5ms/step - loss: -21771328871.0649 - accuracy: 0.6550\n",
      "Epoch 1560/2000\n",
      "76/76 [==============================] - 0s 5ms/step - loss: -22138191074.0779 - accuracy: 0.6528\n",
      "Epoch 1561/2000\n",
      "76/76 [==============================] - 0s 6ms/step - loss: -20904516794.1818 - accuracy: 0.6696\n",
      "Epoch 1562/2000\n",
      "76/76 [==============================] - 0s 6ms/step - loss: -21896249849.3507 - accuracy: 0.6564\n",
      "Epoch 1563/2000\n",
      "76/76 [==============================] - 0s 6ms/step - loss: -21771773765.8182 - accuracy: 0.6597\n",
      "Epoch 1564/2000\n",
      "76/76 [==============================] - 0s 6ms/step - loss: -21579651683.7403 - accuracy: 0.6644\n",
      "Epoch 1565/2000\n",
      "76/76 [==============================] - 0s 6ms/step - loss: -21329621231.3766 - accuracy: 0.6705\n",
      "Epoch 1566/2000\n",
      "76/76 [==============================] - 0s 6ms/step - loss: -21890477388.4675 - accuracy: 0.6601\n",
      "Epoch 1567/2000\n",
      "76/76 [==============================] - 0s 6ms/step - loss: -21602717270.4416 - accuracy: 0.6658\n",
      "Epoch 1568/2000\n",
      "76/76 [==============================] - 0s 6ms/step - loss: -22291479246.1299 - accuracy: 0.6565\n",
      "Epoch 1569/2000\n",
      "76/76 [==============================] - 0s 5ms/step - loss: -21830206796.4675 - accuracy: 0.6624\n",
      "Epoch 1570/2000\n",
      "76/76 [==============================] - 0s 6ms/step - loss: -21911220197.4026 - accuracy: 0.6595\n",
      "Epoch 1571/2000\n",
      "76/76 [==============================] - 0s 5ms/step - loss: -22224225612.4675 - accuracy: 0.6583\n",
      "Epoch 1572/2000\n",
      "76/76 [==============================] - 0s 6ms/step - loss: -21768769004.0519 - accuracy: 0.6656\n",
      "Epoch 1573/2000\n",
      "76/76 [==============================] - 0s 6ms/step - loss: -21967209033.1429 - accuracy: 0.6635\n",
      "Epoch 1574/2000\n",
      "76/76 [==============================] - 0s 6ms/step - loss: -21859032742.2338 - accuracy: 0.6654\n",
      "Epoch 1575/2000\n",
      "76/76 [==============================] - 0s 6ms/step - loss: -21992305757.0909 - accuracy: 0.6624\n",
      "Epoch 1576/2000\n",
      "76/76 [==============================] - 0s 5ms/step - loss: -22331919559.4805 - accuracy: 0.6596\n",
      "Epoch 1577/2000\n",
      "76/76 [==============================] - 0s 6ms/step - loss: -22793964051.9481 - accuracy: 0.6538\n",
      "Epoch 1578/2000\n",
      "76/76 [==============================] - 0s 5ms/step - loss: -22159742896.2078 - accuracy: 0.6631\n",
      "Epoch 1579/2000\n",
      "76/76 [==============================] - 0s 5ms/step - loss: -22310892371.1169 - accuracy: 0.6617\n",
      "Epoch 1580/2000\n",
      "76/76 [==============================] - 0s 6ms/step - loss: -21755682097.8701 - accuracy: 0.6715\n",
      "Epoch 1581/2000\n",
      "76/76 [==============================] - 0s 5ms/step - loss: -22750608024.9351 - accuracy: 0.6554\n",
      "Epoch 1582/2000\n",
      "76/76 [==============================] - 0s 5ms/step - loss: -22998601728.0000 - accuracy: 0.6535\n",
      "Epoch 1583/2000\n",
      "76/76 [==============================] - 0s 5ms/step - loss: -23004986860.0519 - accuracy: 0.6530\n",
      "Epoch 1584/2000\n",
      "76/76 [==============================] - 0s 6ms/step - loss: -22557873883.4286 - accuracy: 0.6620\n",
      "Epoch 1585/2000\n",
      "76/76 [==============================] - 0s 5ms/step - loss: -22661706313.1429 - accuracy: 0.6612\n",
      "Epoch 1586/2000\n",
      "76/76 [==============================] - 0s 6ms/step - loss: -22511621053.5065 - accuracy: 0.6639\n",
      "Epoch 1587/2000\n",
      "76/76 [==============================] - 0s 6ms/step - loss: -22332981939.5325 - accuracy: 0.6653\n",
      "Epoch 1588/2000\n",
      "76/76 [==============================] - 0s 6ms/step - loss: -22523807371.6364 - accuracy: 0.6644\n",
      "Epoch 1589/2000\n",
      "76/76 [==============================] - 0s 6ms/step - loss: -22830051248.2078 - accuracy: 0.6603\n",
      "Epoch 1590/2000\n",
      "76/76 [==============================] - 0s 6ms/step - loss: -23542519222.8571 - accuracy: 0.6517\n",
      "Epoch 1591/2000\n",
      "76/76 [==============================] - 0s 5ms/step - loss: -22793096338.2857 - accuracy: 0.6618\n",
      "Epoch 1592/2000\n",
      "76/76 [==============================] - 0s 5ms/step - loss: -23360282118.6493 - accuracy: 0.6552\n",
      "Epoch 1593/2000\n",
      "76/76 [==============================] - 0s 6ms/step - loss: -22884374501.4026 - accuracy: 0.6619\n",
      "Epoch 1594/2000\n",
      "76/76 [==============================] - 0s 5ms/step - loss: -23154779920.6234 - accuracy: 0.6573\n",
      "Epoch 1595/2000\n",
      "76/76 [==============================] - 0s 5ms/step - loss: -22502945486.1299 - accuracy: 0.6702\n",
      "Epoch 1596/2000\n",
      "76/76 [==============================] - 0s 6ms/step - loss: -22598128600.1039 - accuracy: 0.6671\n",
      "Epoch 1597/2000\n",
      "76/76 [==============================] - 0s 6ms/step - loss: -22752476226.4935 - accuracy: 0.6658\n",
      "Epoch 1598/2000\n",
      "76/76 [==============================] - 0s 6ms/step - loss: -23171072000.0000 - accuracy: 0.6609\n",
      "Epoch 1599/2000\n",
      "76/76 [==============================] - 0s 5ms/step - loss: -23476091677.9221 - accuracy: 0.6569\n",
      "Epoch 1600/2000\n",
      "76/76 [==============================] - 0s 6ms/step - loss: -23135795705.3507 - accuracy: 0.6630\n",
      "Epoch 1601/2000\n",
      "76/76 [==============================] - 0s 6ms/step - loss: -22993141627.0130 - accuracy: 0.6646\n",
      "Epoch 1602/2000\n",
      "76/76 [==============================] - 0s 6ms/step - loss: -23277698859.2208 - accuracy: 0.6619\n",
      "Epoch 1603/2000\n",
      "76/76 [==============================] - 0s 5ms/step - loss: -22889014045.9221 - accuracy: 0.6663\n",
      "Epoch 1604/2000\n",
      "76/76 [==============================] - 0s 5ms/step - loss: -24039899056.2078 - accuracy: 0.6534\n",
      "Epoch 1605/2000\n",
      "76/76 [==============================] - 0s 6ms/step - loss: -23252913457.8701 - accuracy: 0.6638\n",
      "Epoch 1606/2000\n",
      "76/76 [==============================] - 0s 6ms/step - loss: -23775672107.2208 - accuracy: 0.6558\n",
      "Epoch 1607/2000\n",
      "76/76 [==============================] - 0s 6ms/step - loss: -23449619894.8571 - accuracy: 0.6624\n",
      "Epoch 1608/2000\n",
      "76/76 [==============================] - 0s 5ms/step - loss: -22812094171.4286 - accuracy: 0.6698\n",
      "Epoch 1609/2000\n",
      "76/76 [==============================] - 0s 6ms/step - loss: -24227432793.7662 - accuracy: 0.6530\n",
      "Epoch 1610/2000\n",
      "76/76 [==============================] - 1s 7ms/step - loss: -23230954110.3377 - accuracy: 0.6680\n",
      "Epoch 1611/2000\n",
      "76/76 [==============================] - 0s 6ms/step - loss: -23998092381.0909 - accuracy: 0.6551\n",
      "Epoch 1612/2000\n",
      "76/76 [==============================] - 0s 6ms/step - loss: -23524007031.6883 - accuracy: 0.6635\n",
      "Epoch 1613/2000\n",
      "76/76 [==============================] - 0s 5ms/step - loss: -22990440979.9481 - accuracy: 0.6713\n",
      "Epoch 1614/2000\n",
      "76/76 [==============================] - 0s 5ms/step - loss: -24516105654.8571 - accuracy: 0.6495\n",
      "Epoch 1615/2000\n",
      "76/76 [==============================] - 0s 5ms/step - loss: -23244495539.5325 - accuracy: 0.6713\n",
      "Epoch 1616/2000\n",
      "76/76 [==============================] - 0s 5ms/step - loss: -23933727517.9221 - accuracy: 0.6612\n",
      "Epoch 1617/2000\n",
      "76/76 [==============================] - 0s 5ms/step - loss: -23991296452.1558 - accuracy: 0.6609\n",
      "Epoch 1618/2000\n",
      "76/76 [==============================] - 0s 6ms/step - loss: -23997734034.2857 - accuracy: 0.6593\n",
      "Epoch 1619/2000\n",
      "76/76 [==============================] - 0s 6ms/step - loss: -24231770032.2078 - accuracy: 0.6582\n",
      "Epoch 1620/2000\n",
      "76/76 [==============================] - 0s 5ms/step - loss: -23923923475.9481 - accuracy: 0.6610\n",
      "Epoch 1621/2000\n",
      "76/76 [==============================] - 0s 6ms/step - loss: -24059942486.4416 - accuracy: 0.6623\n",
      "Epoch 1622/2000\n",
      "76/76 [==============================] - 0s 6ms/step - loss: -24433368502.8571 - accuracy: 0.6573\n",
      "Epoch 1623/2000\n",
      "76/76 [==============================] - 0s 5ms/step - loss: -24250154582.4416 - accuracy: 0.6590\n",
      "Epoch 1624/2000\n",
      "76/76 [==============================] - 0s 5ms/step - loss: -24155884690.2857 - accuracy: 0.6624\n",
      "Epoch 1625/2000\n",
      "76/76 [==============================] - 0s 5ms/step - loss: -23980619510.0260 - accuracy: 0.6657\n",
      "Epoch 1626/2000\n",
      "76/76 [==============================] - 0s 5ms/step - loss: -24732989440.0000 - accuracy: 0.6551\n",
      "Epoch 1627/2000\n",
      "76/76 [==============================] - 0s 6ms/step - loss: -23867843118.5455 - accuracy: 0.6679\n",
      "Epoch 1628/2000\n",
      "76/76 [==============================] - 0s 6ms/step - loss: -24027581692.6753 - accuracy: 0.6678\n",
      "Epoch 1629/2000\n",
      "76/76 [==============================] - 0s 5ms/step - loss: -24127805120.8312 - accuracy: 0.6650\n",
      "Epoch 1630/2000\n",
      "76/76 [==============================] - 0s 5ms/step - loss: -24561321558.4416 - accuracy: 0.6600\n",
      "Epoch 1631/2000\n",
      "76/76 [==============================] - 0s 5ms/step - loss: -24258796982.8571 - accuracy: 0.6656\n",
      "Epoch 1632/2000\n",
      "76/76 [==============================] - 0s 5ms/step - loss: -24214081123.7403 - accuracy: 0.6656\n",
      "Epoch 1633/2000\n",
      "76/76 [==============================] - 0s 5ms/step - loss: -23960635631.3766 - accuracy: 0.6712\n",
      "Epoch 1634/2000\n",
      "76/76 [==============================] - 0s 6ms/step - loss: -24615003707.8442 - accuracy: 0.6622\n",
      "Epoch 1635/2000\n",
      "76/76 [==============================] - 0s 6ms/step - loss: -25406902617.7662 - accuracy: 0.6524\n",
      "Epoch 1636/2000\n",
      "76/76 [==============================] - 0s 6ms/step - loss: -23794673690.5974 - accuracy: 0.6738\n",
      "Epoch 1637/2000\n",
      "76/76 [==============================] - 0s 5ms/step - loss: -24719479954.2857 - accuracy: 0.6617\n",
      "Epoch 1638/2000\n",
      "76/76 [==============================] - 0s 6ms/step - loss: -24233155863.2727 - accuracy: 0.6696\n",
      "Epoch 1639/2000\n",
      "76/76 [==============================] - 0s 6ms/step - loss: -24255711232.0000 - accuracy: 0.6679\n",
      "Epoch 1640/2000\n",
      "76/76 [==============================] - 0s 6ms/step - loss: -25340908264.7273 - accuracy: 0.6577\n",
      "Epoch 1641/2000\n",
      "76/76 [==============================] - 0s 5ms/step - loss: -24966086150.6493 - accuracy: 0.6611\n",
      "Epoch 1642/2000\n",
      "76/76 [==============================] - 0s 5ms/step - loss: -25444533979.4286 - accuracy: 0.6554\n",
      "Epoch 1643/2000\n",
      "76/76 [==============================] - 0s 5ms/step - loss: -25478039073.2468 - accuracy: 0.6560\n",
      "Epoch 1644/2000\n",
      "76/76 [==============================] - 0s 5ms/step - loss: -25000351850.3896 - accuracy: 0.6633\n",
      "Epoch 1645/2000\n",
      "76/76 [==============================] - 0s 6ms/step - loss: -24018611771.8442 - accuracy: 0.6750\n",
      "Epoch 1646/2000\n",
      "76/76 [==============================] - 0s 6ms/step - loss: -24496441769.5584 - accuracy: 0.6704\n",
      "Epoch 1647/2000\n",
      "76/76 [==============================] - 0s 6ms/step - loss: -24815315715.3247 - accuracy: 0.6673\n",
      "Epoch 1648/2000\n",
      "76/76 [==============================] - 0s 5ms/step - loss: -25125013397.6104 - accuracy: 0.6620\n",
      "Epoch 1649/2000\n",
      "76/76 [==============================] - 0s 6ms/step - loss: -24450518454.8571 - accuracy: 0.6726\n",
      "Epoch 1650/2000\n",
      "76/76 [==============================] - 0s 5ms/step - loss: -26292385845.1948 - accuracy: 0.6492\n",
      "Epoch 1651/2000\n",
      "76/76 [==============================] - 0s 5ms/step - loss: -25004590838.0260 - accuracy: 0.6659\n",
      "Epoch 1652/2000\n",
      "76/76 [==============================] - 0s 6ms/step - loss: -25823067229.0909 - accuracy: 0.6560\n",
      "Epoch 1653/2000\n",
      "76/76 [==============================] - 0s 6ms/step - loss: -25859894391.6883 - accuracy: 0.6561\n",
      "Epoch 1654/2000\n",
      "76/76 [==============================] - 0s 6ms/step - loss: -26168083176.7273 - accuracy: 0.6514\n",
      "Epoch 1655/2000\n",
      "76/76 [==============================] - 0s 6ms/step - loss: -25441050092.0519 - accuracy: 0.6611\n",
      "Epoch 1656/2000\n",
      "76/76 [==============================] - 0s 6ms/step - loss: -25364945215.1688 - accuracy: 0.6653\n",
      "Epoch 1657/2000\n",
      "76/76 [==============================] - 0s 6ms/step - loss: -25278497858.4935 - accuracy: 0.6642\n",
      "Epoch 1658/2000\n",
      "76/76 [==============================] - 0s 6ms/step - loss: -25397492057.7662 - accuracy: 0.6645\n",
      "Epoch 1659/2000\n",
      "76/76 [==============================] - 0s 6ms/step - loss: -26339513516.8831 - accuracy: 0.6530\n",
      "Epoch 1660/2000\n",
      "76/76 [==============================] - 0s 6ms/step - loss: -26428813152.4156 - accuracy: 0.6528\n",
      "Epoch 1661/2000\n",
      "76/76 [==============================] - 0s 6ms/step - loss: -25650126528.8312 - accuracy: 0.6630\n",
      "Epoch 1662/2000\n",
      "76/76 [==============================] - 0s 6ms/step - loss: -25522011894.0260 - accuracy: 0.6661\n",
      "Epoch 1663/2000\n",
      "76/76 [==============================] - 0s 5ms/step - loss: -26194970358.0260 - accuracy: 0.6591\n",
      "Epoch 1664/2000\n",
      "76/76 [==============================] - 0s 5ms/step - loss: -25078239724.0519 - accuracy: 0.6724\n",
      "Epoch 1665/2000\n",
      "76/76 [==============================] - 0s 5ms/step - loss: -25924647177.9740 - accuracy: 0.6631\n",
      "Epoch 1666/2000\n",
      "76/76 [==============================] - 0s 5ms/step - loss: -26254141413.4026 - accuracy: 0.6586\n",
      "Epoch 1667/2000\n",
      "76/76 [==============================] - 0s 5ms/step - loss: -26584235925.6104 - accuracy: 0.6557\n",
      "Epoch 1668/2000\n",
      "76/76 [==============================] - 0s 5ms/step - loss: -26008481472.8312 - accuracy: 0.6635\n",
      "Epoch 1669/2000\n",
      "76/76 [==============================] - 0s 5ms/step - loss: -26442326255.3766 - accuracy: 0.6569\n",
      "Epoch 1670/2000\n",
      "76/76 [==============================] - 0s 5ms/step - loss: -26188602993.0390 - accuracy: 0.6627\n",
      "Epoch 1671/2000\n",
      "76/76 [==============================] - 0s 6ms/step - loss: -26166501934.5455 - accuracy: 0.6621\n",
      "Epoch 1672/2000\n",
      "76/76 [==============================] - 0s 5ms/step - loss: -26710087759.7922 - accuracy: 0.6568\n",
      "Epoch 1673/2000\n",
      "76/76 [==============================] - 0s 5ms/step - loss: -26526095492.9870 - accuracy: 0.6582\n",
      "Epoch 1674/2000\n",
      "76/76 [==============================] - 0s 5ms/step - loss: -26585368443.0130 - accuracy: 0.6585\n",
      "Epoch 1675/2000\n",
      "76/76 [==============================] - 0s 6ms/step - loss: -26603429675.2208 - accuracy: 0.6602\n",
      "Epoch 1676/2000\n",
      "76/76 [==============================] - 0s 5ms/step - loss: -26762322850.9091 - accuracy: 0.6580\n",
      "Epoch 1677/2000\n",
      "76/76 [==============================] - 0s 5ms/step - loss: -25922323070.3377 - accuracy: 0.6694\n",
      "Epoch 1678/2000\n",
      "76/76 [==============================] - 0s 6ms/step - loss: -26512887648.4156 - accuracy: 0.6632\n",
      "Epoch 1679/2000\n",
      "76/76 [==============================] - 0s 5ms/step - loss: -26651692843.2208 - accuracy: 0.6622\n",
      "Epoch 1680/2000\n",
      "76/76 [==============================] - 0s 5ms/step - loss: -26674488014.1299 - accuracy: 0.6629\n",
      "Epoch 1681/2000\n",
      "76/76 [==============================] - 0s 6ms/step - loss: -26378661090.0779 - accuracy: 0.6668\n",
      "Epoch 1682/2000\n",
      "76/76 [==============================] - 0s 5ms/step - loss: -26767301379.3247 - accuracy: 0.6623\n",
      "Epoch 1683/2000\n",
      "76/76 [==============================] - 0s 5ms/step - loss: -26039165858.9091 - accuracy: 0.6715\n",
      "Epoch 1684/2000\n",
      "76/76 [==============================] - 0s 6ms/step - loss: -27291304654.1299 - accuracy: 0.6563\n",
      "Epoch 1685/2000\n",
      "76/76 [==============================] - 1s 7ms/step - loss: -26781069285.4026 - accuracy: 0.6627\n",
      "Epoch 1686/2000\n",
      "76/76 [==============================] - 1s 7ms/step - loss: -26136687709.0909 - accuracy: 0.6727\n",
      "Epoch 1687/2000\n",
      "76/76 [==============================] - 1s 7ms/step - loss: -26554603520.0000 - accuracy: 0.6676\n",
      "Epoch 1688/2000\n",
      "76/76 [==============================] - 0s 6ms/step - loss: -27149482861.7143 - accuracy: 0.6616\n",
      "Epoch 1689/2000\n",
      "76/76 [==============================] - 0s 6ms/step - loss: -27219786525.9221 - accuracy: 0.6595\n",
      "Epoch 1690/2000\n",
      "76/76 [==============================] - 0s 6ms/step - loss: -27135365040.2078 - accuracy: 0.6611\n",
      "Epoch 1691/2000\n",
      "76/76 [==============================] - 0s 7ms/step - loss: -27418602562.4935 - accuracy: 0.6561\n",
      "Epoch 1692/2000\n",
      "76/76 [==============================] - 0s 6ms/step - loss: -26768654070.0260 - accuracy: 0.6661\n",
      "Epoch 1693/2000\n",
      "76/76 [==============================] - 0s 6ms/step - loss: -27413433676.4675 - accuracy: 0.6602\n",
      "Epoch 1694/2000\n",
      "76/76 [==============================] - 0s 6ms/step - loss: -27424782123.2208 - accuracy: 0.6594\n",
      "Epoch 1695/2000\n",
      "76/76 [==============================] - 0s 6ms/step - loss: -26896417858.4935 - accuracy: 0.6662\n",
      "Epoch 1696/2000\n",
      "76/76 [==============================] - 0s 6ms/step - loss: -27477230818.0779 - accuracy: 0.6616\n",
      "Epoch 1697/2000\n",
      "76/76 [==============================] - 0s 6ms/step - loss: -27641790144.8312 - accuracy: 0.6575\n",
      "Epoch 1698/2000\n",
      "76/76 [==============================] - 0s 6ms/step - loss: -27406978832.6234 - accuracy: 0.6613\n",
      "Epoch 1699/2000\n",
      "76/76 [==============================] - 0s 6ms/step - loss: -27179017841.0390 - accuracy: 0.6654\n",
      "Epoch 1700/2000\n",
      "76/76 [==============================] - 0s 6ms/step - loss: -26992713807.7922 - accuracy: 0.6693\n",
      "Epoch 1701/2000\n",
      "76/76 [==============================] - 0s 6ms/step - loss: -26993159154.7013 - accuracy: 0.6683\n",
      "Epoch 1702/2000\n",
      "76/76 [==============================] - 0s 6ms/step - loss: -26884554220.0519 - accuracy: 0.6719\n",
      "Epoch 1703/2000\n",
      "76/76 [==============================] - 0s 6ms/step - loss: -27225629948.6753 - accuracy: 0.6659\n",
      "Epoch 1704/2000\n",
      "76/76 [==============================] - 0s 6ms/step - loss: -27038712206.9610 - accuracy: 0.6710\n",
      "Epoch 1705/2000\n",
      "76/76 [==============================] - 0s 5ms/step - loss: -27826764813.2987 - accuracy: 0.6611\n",
      "Epoch 1706/2000\n",
      "76/76 [==============================] - 0s 5ms/step - loss: -27851922711.2727 - accuracy: 0.6624\n",
      "Epoch 1707/2000\n",
      "76/76 [==============================] - 0s 5ms/step - loss: -27803877110.0260 - accuracy: 0.6631\n",
      "Epoch 1708/2000\n",
      "76/76 [==============================] - 0s 5ms/step - loss: -27886236632.1039 - accuracy: 0.6629\n",
      "Epoch 1709/2000\n",
      "76/76 [==============================] - 0s 6ms/step - loss: -27837063221.1948 - accuracy: 0.6632\n",
      "Epoch 1710/2000\n",
      "76/76 [==============================] - 0s 6ms/step - loss: -27815145046.4416 - accuracy: 0.6639\n",
      "Epoch 1711/2000\n",
      "76/76 [==============================] - 0s 5ms/step - loss: -28218903911.0649 - accuracy: 0.6593\n",
      "Epoch 1712/2000\n",
      "76/76 [==============================] - 0s 5ms/step - loss: -27199540822.4416 - accuracy: 0.6731\n",
      "Epoch 1713/2000\n",
      "76/76 [==============================] - 0s 5ms/step - loss: -27608581824.8312 - accuracy: 0.6660\n",
      "Epoch 1714/2000\n",
      "76/76 [==============================] - 0s 6ms/step - loss: -28018251563.2208 - accuracy: 0.6635\n",
      "Epoch 1715/2000\n",
      "76/76 [==============================] - 0s 5ms/step - loss: -28670322794.3896 - accuracy: 0.6565\n",
      "Epoch 1716/2000\n",
      "76/76 [==============================] - 0s 6ms/step - loss: -28576897502.7532 - accuracy: 0.6578\n",
      "Epoch 1717/2000\n",
      "76/76 [==============================] - 0s 5ms/step - loss: -28965314427.0130 - accuracy: 0.6538\n",
      "Epoch 1718/2000\n",
      "76/76 [==============================] - 0s 6ms/step - loss: -28628970855.0649 - accuracy: 0.6608\n",
      "Epoch 1719/2000\n",
      "76/76 [==============================] - 0s 5ms/step - loss: -28553525460.7792 - accuracy: 0.6610\n",
      "Epoch 1720/2000\n",
      "76/76 [==============================] - 0s 6ms/step - loss: -27547118445.7143 - accuracy: 0.6740\n",
      "Epoch 1721/2000\n",
      "76/76 [==============================] - 0s 5ms/step - loss: -28156240935.8961 - accuracy: 0.6686\n",
      "Epoch 1722/2000\n",
      "76/76 [==============================] - 0s 6ms/step - loss: -28829884336.2078 - accuracy: 0.6602\n",
      "Epoch 1723/2000\n",
      "76/76 [==============================] - 0s 6ms/step - loss: -28457179694.5455 - accuracy: 0.6650\n",
      "Epoch 1724/2000\n",
      "76/76 [==============================] - 0s 6ms/step - loss: -28234387668.7792 - accuracy: 0.6662\n",
      "Epoch 1725/2000\n",
      "76/76 [==============================] - 0s 6ms/step - loss: -29013831812.9870 - accuracy: 0.6585\n",
      "Epoch 1726/2000\n",
      "76/76 [==============================] - 0s 5ms/step - loss: -28317795820.0519 - accuracy: 0.6680\n",
      "Epoch 1727/2000\n",
      "76/76 [==============================] - 0s 6ms/step - loss: -28537579679.5844 - accuracy: 0.6662\n",
      "Epoch 1728/2000\n",
      "76/76 [==============================] - 0s 6ms/step - loss: -29127778144.4156 - accuracy: 0.6574\n",
      "Epoch 1729/2000\n",
      "76/76 [==============================] - 0s 6ms/step - loss: -28825376927.5844 - accuracy: 0.6623\n",
      "Epoch 1730/2000\n",
      "76/76 [==============================] - 0s 6ms/step - loss: -28756748101.8182 - accuracy: 0.6656\n",
      "Epoch 1731/2000\n",
      "76/76 [==============================] - 0s 5ms/step - loss: -30209914667.2208 - accuracy: 0.6478\n",
      "Epoch 1732/2000\n",
      "76/76 [==============================] - 0s 5ms/step - loss: -28972197010.2857 - accuracy: 0.6624\n",
      "Epoch 1733/2000\n",
      "76/76 [==============================] - 0s 6ms/step - loss: -28191626625.6623 - accuracy: 0.6702\n",
      "Epoch 1734/2000\n",
      "76/76 [==============================] - 0s 5ms/step - loss: -29674325936.2078 - accuracy: 0.6563\n",
      "Epoch 1735/2000\n",
      "76/76 [==============================] - 0s 5ms/step - loss: -28990100094.3377 - accuracy: 0.6647\n",
      "Epoch 1736/2000\n",
      "76/76 [==============================] - 0s 6ms/step - loss: -29351888816.2078 - accuracy: 0.6634\n",
      "Epoch 1737/2000\n",
      "76/76 [==============================] - 0s 5ms/step - loss: -29850969473.6623 - accuracy: 0.6555\n",
      "Epoch 1738/2000\n",
      "76/76 [==============================] - 0s 6ms/step - loss: -29530668125.0909 - accuracy: 0.6608\n",
      "Epoch 1739/2000\n",
      "76/76 [==============================] - 0s 5ms/step - loss: -29646564471.6883 - accuracy: 0.6611\n",
      "Epoch 1740/2000\n",
      "76/76 [==============================] - 0s 5ms/step - loss: -30302351014.2338 - accuracy: 0.6526\n",
      "Epoch 1741/2000\n",
      "76/76 [==============================] - 0s 6ms/step - loss: -29312887395.7403 - accuracy: 0.6636\n",
      "Epoch 1742/2000\n",
      "76/76 [==============================] - 0s 6ms/step - loss: -29519906310.6493 - accuracy: 0.6634\n",
      "Epoch 1743/2000\n",
      "76/76 [==============================] - 0s 5ms/step - loss: -29927588451.7403 - accuracy: 0.6591\n",
      "Epoch 1744/2000\n",
      "76/76 [==============================] - 0s 5ms/step - loss: -29908804621.2987 - accuracy: 0.6581\n",
      "Epoch 1745/2000\n",
      "76/76 [==============================] - 0s 5ms/step - loss: -28997494890.3896 - accuracy: 0.6693\n",
      "Epoch 1746/2000\n",
      "76/76 [==============================] - 0s 5ms/step - loss: -29760215625.1429 - accuracy: 0.6605\n",
      "Epoch 1747/2000\n",
      "76/76 [==============================] - 0s 6ms/step - loss: -29871169615.7922 - accuracy: 0.6610\n",
      "Epoch 1748/2000\n",
      "76/76 [==============================] - 0s 5ms/step - loss: -29814864377.3507 - accuracy: 0.6607\n",
      "Epoch 1749/2000\n",
      "76/76 [==============================] - 0s 6ms/step - loss: -29867794192.6234 - accuracy: 0.6622\n",
      "Epoch 1750/2000\n",
      "76/76 [==============================] - 0s 6ms/step - loss: -29691444450.0779 - accuracy: 0.6651\n",
      "Epoch 1751/2000\n",
      "76/76 [==============================] - 0s 6ms/step - loss: -29436289396.3636 - accuracy: 0.6676\n",
      "Epoch 1752/2000\n",
      "76/76 [==============================] - 0s 5ms/step - loss: -30763081621.6104 - accuracy: 0.6538\n",
      "Epoch 1753/2000\n",
      "76/76 [==============================] - 0s 5ms/step - loss: -30162430670.1299 - accuracy: 0.6621\n",
      "Epoch 1754/2000\n",
      "76/76 [==============================] - 0s 5ms/step - loss: -29998436724.3636 - accuracy: 0.6629\n",
      "Epoch 1755/2000\n",
      "76/76 [==============================] - 0s 5ms/step - loss: -29922194525.0909 - accuracy: 0.6651\n",
      "Epoch 1756/2000\n",
      "76/76 [==============================] - 0s 6ms/step - loss: -30665704408.1039 - accuracy: 0.6573\n",
      "Epoch 1757/2000\n",
      "76/76 [==============================] - 0s 5ms/step - loss: -29900832103.0649 - accuracy: 0.6655\n",
      "Epoch 1758/2000\n",
      "76/76 [==============================] - 0s 6ms/step - loss: -30007011221.6104 - accuracy: 0.6651\n",
      "Epoch 1759/2000\n",
      "76/76 [==============================] - 0s 6ms/step - loss: -29986302457.3507 - accuracy: 0.6665\n",
      "Epoch 1760/2000\n",
      "76/76 [==============================] - 1s 7ms/step - loss: -29305783468.8831 - accuracy: 0.6719\n",
      "Epoch 1761/2000\n",
      "76/76 [==============================] - 0s 6ms/step - loss: -30694066920.7273 - accuracy: 0.6596\n",
      "Epoch 1762/2000\n",
      "76/76 [==============================] - 0s 6ms/step - loss: -31003865433.7662 - accuracy: 0.6567\n",
      "Epoch 1763/2000\n",
      "76/76 [==============================] - 0s 6ms/step - loss: -31470841536.8312 - accuracy: 0.6516\n",
      "Epoch 1764/2000\n",
      "76/76 [==============================] - 0s 6ms/step - loss: -30166115527.4805 - accuracy: 0.6650\n",
      "Epoch 1765/2000\n",
      "76/76 [==============================] - 0s 6ms/step - loss: -31739864689.0390 - accuracy: 0.6499\n",
      "Epoch 1766/2000\n",
      "76/76 [==============================] - 0s 6ms/step - loss: -31344137867.6364 - accuracy: 0.6566\n",
      "Epoch 1767/2000\n",
      "76/76 [==============================] - 0s 6ms/step - loss: -31901653204.7792 - accuracy: 0.6488\n",
      "Epoch 1768/2000\n",
      "76/76 [==============================] - 0s 6ms/step - loss: -31603366499.7403 - accuracy: 0.6539\n",
      "Epoch 1769/2000\n",
      "76/76 [==============================] - 0s 6ms/step - loss: -32474867472.6234 - accuracy: 0.6445\n",
      "Epoch 1770/2000\n",
      "76/76 [==============================] - 0s 5ms/step - loss: -32303103521.2468 - accuracy: 0.6491\n",
      "Epoch 1771/2000\n",
      "76/76 [==============================] - 0s 6ms/step - loss: -30692961426.2857 - accuracy: 0.6657\n",
      "Epoch 1772/2000\n",
      "76/76 [==============================] - 0s 6ms/step - loss: -31819612638.7532 - accuracy: 0.6547\n",
      "Epoch 1773/2000\n",
      "76/76 [==============================] - 0s 6ms/step - loss: -30786078640.2078 - accuracy: 0.6669\n",
      "Epoch 1774/2000\n",
      "76/76 [==============================] - 0s 6ms/step - loss: -30483058235.8442 - accuracy: 0.6690\n",
      "Epoch 1775/2000\n",
      "76/76 [==============================] - 0s 6ms/step - loss: -31249649531.0130 - accuracy: 0.6616\n",
      "Epoch 1776/2000\n",
      "76/76 [==============================] - 0s 6ms/step - loss: -31177395000.5195 - accuracy: 0.6624\n",
      "Epoch 1777/2000\n",
      "76/76 [==============================] - 0s 5ms/step - loss: -32056180629.6104 - accuracy: 0.6552\n",
      "Epoch 1778/2000\n",
      "76/76 [==============================] - 0s 6ms/step - loss: -30949924252.2597 - accuracy: 0.6664\n",
      "Epoch 1779/2000\n",
      "76/76 [==============================] - 0s 6ms/step - loss: -31544095384.9351 - accuracy: 0.6603\n",
      "Epoch 1780/2000\n",
      "76/76 [==============================] - 0s 5ms/step - loss: -31114469801.5584 - accuracy: 0.6669\n",
      "Epoch 1781/2000\n",
      "76/76 [==============================] - 0s 6ms/step - loss: -31747557721.7662 - accuracy: 0.6597\n",
      "Epoch 1782/2000\n",
      "76/76 [==============================] - 0s 6ms/step - loss: -31784177477.8182 - accuracy: 0.6603\n",
      "Epoch 1783/2000\n",
      "76/76 [==============================] - 0s 6ms/step - loss: -32462732806.6493 - accuracy: 0.6530\n",
      "Epoch 1784/2000\n",
      "76/76 [==============================] - 0s 6ms/step - loss: -31876794979.7403 - accuracy: 0.6604\n",
      "Epoch 1785/2000\n",
      "76/76 [==============================] - 0s 6ms/step - loss: -32134871172.9870 - accuracy: 0.6583\n",
      "Epoch 1786/2000\n",
      "76/76 [==============================] - 0s 6ms/step - loss: -32071543209.5584 - accuracy: 0.6576\n",
      "Epoch 1787/2000\n",
      "76/76 [==============================] - 0s 6ms/step - loss: -31871261469.9221 - accuracy: 0.6625\n",
      "Epoch 1788/2000\n",
      "76/76 [==============================] - 0s 6ms/step - loss: -32709849673.1429 - accuracy: 0.6538\n",
      "Epoch 1789/2000\n",
      "76/76 [==============================] - 0s 5ms/step - loss: -32285622272.0000 - accuracy: 0.6582\n",
      "Epoch 1790/2000\n",
      "76/76 [==============================] - 0s 6ms/step - loss: -31563160429.7143 - accuracy: 0.6655\n",
      "Epoch 1791/2000\n",
      "76/76 [==============================] - 0s 5ms/step - loss: -32198037344.4156 - accuracy: 0.6603\n",
      "Epoch 1792/2000\n",
      "76/76 [==============================] - 0s 6ms/step - loss: -31488908859.8442 - accuracy: 0.6689\n",
      "Epoch 1793/2000\n",
      "76/76 [==============================] - 0s 6ms/step - loss: -33375509464.1039 - accuracy: 0.6499\n",
      "Epoch 1794/2000\n",
      "76/76 [==============================] - 0s 6ms/step - loss: -32909350725.8182 - accuracy: 0.6541\n",
      "Epoch 1795/2000\n",
      "76/76 [==============================] - 0s 6ms/step - loss: -32103897540.1558 - accuracy: 0.6621\n",
      "Epoch 1796/2000\n",
      "76/76 [==============================] - 0s 6ms/step - loss: -32214174866.2857 - accuracy: 0.6621\n",
      "Epoch 1797/2000\n",
      "76/76 [==============================] - 0s 6ms/step - loss: -31673630214.6493 - accuracy: 0.6679\n",
      "Epoch 1798/2000\n",
      "76/76 [==============================] - 0s 6ms/step - loss: -31257276655.3766 - accuracy: 0.6745\n",
      "Epoch 1799/2000\n",
      "76/76 [==============================] - 0s 5ms/step - loss: -31896063707.4286 - accuracy: 0.6692\n",
      "Epoch 1800/2000\n",
      "76/76 [==============================] - 0s 6ms/step - loss: -32766122755.3247 - accuracy: 0.6593\n",
      "Epoch 1801/2000\n",
      "76/76 [==============================] - 0s 5ms/step - loss: -32390377392.2078 - accuracy: 0.6616\n",
      "Epoch 1802/2000\n",
      "76/76 [==============================] - 0s 6ms/step - loss: -32007972917.1948 - accuracy: 0.6683\n",
      "Epoch 1803/2000\n",
      "76/76 [==============================] - 0s 6ms/step - loss: -32184947884.8831 - accuracy: 0.6667\n",
      "Epoch 1804/2000\n",
      "76/76 [==============================] - 0s 5ms/step - loss: -32469126503.0649 - accuracy: 0.6636\n",
      "Epoch 1805/2000\n",
      "76/76 [==============================] - 0s 5ms/step - loss: -33302692584.7273 - accuracy: 0.6563\n",
      "Epoch 1806/2000\n",
      "76/76 [==============================] - 0s 5ms/step - loss: -33402040905.1429 - accuracy: 0.6526\n",
      "Epoch 1807/2000\n",
      "76/76 [==============================] - 0s 5ms/step - loss: -32981665419.6364 - accuracy: 0.6600\n",
      "Epoch 1808/2000\n",
      "76/76 [==============================] - 0s 5ms/step - loss: -33177283118.5455 - accuracy: 0.6588\n",
      "Epoch 1809/2000\n",
      "76/76 [==============================] - 0s 5ms/step - loss: -32773382436.5714 - accuracy: 0.6644\n",
      "Epoch 1810/2000\n",
      "76/76 [==============================] - 0s 5ms/step - loss: -32139578088.7273 - accuracy: 0.6707\n",
      "Epoch 1811/2000\n",
      "76/76 [==============================] - 0s 6ms/step - loss: -32749208482.9091 - accuracy: 0.6658\n",
      "Epoch 1812/2000\n",
      "76/76 [==============================] - 0s 5ms/step - loss: -34059717432.5195 - accuracy: 0.6531\n",
      "Epoch 1813/2000\n",
      "76/76 [==============================] - 0s 6ms/step - loss: -34674949558.8571 - accuracy: 0.6477\n",
      "Epoch 1814/2000\n",
      "76/76 [==============================] - 0s 6ms/step - loss: -33687627935.5844 - accuracy: 0.6576\n",
      "Epoch 1815/2000\n",
      "76/76 [==============================] - 0s 6ms/step - loss: -33459818309.8182 - accuracy: 0.6593\n",
      "Epoch 1816/2000\n",
      "76/76 [==============================] - 0s 6ms/step - loss: -33547802863.3766 - accuracy: 0.6584\n",
      "Epoch 1817/2000\n",
      "76/76 [==============================] - 0s 5ms/step - loss: -33027607299.3247 - accuracy: 0.6655\n",
      "Epoch 1818/2000\n",
      "76/76 [==============================] - 0s 6ms/step - loss: -34241649517.7143 - accuracy: 0.6552\n",
      "Epoch 1819/2000\n",
      "76/76 [==============================] - 0s 6ms/step - loss: -33625763015.4805 - accuracy: 0.6606\n",
      "Epoch 1820/2000\n",
      "76/76 [==============================] - 0s 6ms/step - loss: -32766530493.5065 - accuracy: 0.6701\n",
      "Epoch 1821/2000\n",
      "76/76 [==============================] - 0s 6ms/step - loss: -32838142643.5325 - accuracy: 0.6692\n",
      "Epoch 1822/2000\n",
      "76/76 [==============================] - 0s 6ms/step - loss: -33130648216.9351 - accuracy: 0.6678\n",
      "Epoch 1823/2000\n",
      "76/76 [==============================] - 0s 6ms/step - loss: -33683943689.9740 - accuracy: 0.6613\n",
      "Epoch 1824/2000\n",
      "76/76 [==============================] - 0s 5ms/step - loss: -33402018749.5065 - accuracy: 0.6657\n",
      "Epoch 1825/2000\n",
      "76/76 [==============================] - 0s 5ms/step - loss: -34272639082.3896 - accuracy: 0.6570\n",
      "Epoch 1826/2000\n",
      "76/76 [==============================] - 0s 6ms/step - loss: -33630768327.4805 - accuracy: 0.6630\n",
      "Epoch 1827/2000\n",
      "76/76 [==============================] - 0s 6ms/step - loss: -33216291879.8961 - accuracy: 0.6694\n",
      "Epoch 1828/2000\n",
      "76/76 [==============================] - 0s 6ms/step - loss: -34278146792.7273 - accuracy: 0.6594\n",
      "Epoch 1829/2000\n",
      "76/76 [==============================] - 0s 5ms/step - loss: -33811360063.1688 - accuracy: 0.6631\n",
      "Epoch 1830/2000\n",
      "76/76 [==============================] - 0s 6ms/step - loss: -33639713353.1429 - accuracy: 0.6684\n",
      "Epoch 1831/2000\n",
      "76/76 [==============================] - 1s 9ms/step - loss: -33981680786.2857 - accuracy: 0.6624\n",
      "Epoch 1832/2000\n",
      "76/76 [==============================] - 0s 6ms/step - loss: -35294467617.2467 - accuracy: 0.6502\n",
      "Epoch 1833/2000\n",
      "76/76 [==============================] - 0s 6ms/step - loss: -33968790913.6623 - accuracy: 0.6645\n",
      "Epoch 1834/2000\n",
      "76/76 [==============================] - 0s 6ms/step - loss: -33546069377.6623 - accuracy: 0.6692\n",
      "Epoch 1835/2000\n",
      "76/76 [==============================] - 0s 6ms/step - loss: -34351676642.0779 - accuracy: 0.6596\n",
      "Epoch 1836/2000\n",
      "76/76 [==============================] - 1s 7ms/step - loss: -34157405170.7013 - accuracy: 0.6643\n",
      "Epoch 1837/2000\n",
      "76/76 [==============================] - 0s 6ms/step - loss: -34527441374.7533 - accuracy: 0.6614\n",
      "Epoch 1838/2000\n",
      "76/76 [==============================] - 0s 6ms/step - loss: -34714018403.7403 - accuracy: 0.6599\n",
      "Epoch 1839/2000\n",
      "76/76 [==============================] - 0s 6ms/step - loss: -34765451503.3766 - accuracy: 0.6600\n",
      "Epoch 1840/2000\n",
      "76/76 [==============================] - 0s 6ms/step - loss: -35112872840.3117 - accuracy: 0.6548\n",
      "Epoch 1841/2000\n",
      "76/76 [==============================] - 0s 6ms/step - loss: -34633784546.0779 - accuracy: 0.6605\n",
      "Epoch 1842/2000\n",
      "76/76 [==============================] - 0s 6ms/step - loss: -34658955822.5455 - accuracy: 0.6642\n",
      "Epoch 1843/2000\n",
      "76/76 [==============================] - 0s 6ms/step - loss: -34585187580.6753 - accuracy: 0.6632\n",
      "Epoch 1844/2000\n",
      "76/76 [==============================] - 0s 6ms/step - loss: -34216353605.8182 - accuracy: 0.6696\n",
      "Epoch 1845/2000\n",
      "76/76 [==============================] - 0s 6ms/step - loss: -34863020962.9091 - accuracy: 0.6625\n",
      "Epoch 1846/2000\n",
      "76/76 [==============================] - 0s 6ms/step - loss: -34478752355.7403 - accuracy: 0.6661\n",
      "Epoch 1847/2000\n",
      "76/76 [==============================] - 0s 6ms/step - loss: -34755556631.2727 - accuracy: 0.6640\n",
      "Epoch 1848/2000\n",
      "76/76 [==============================] - 0s 6ms/step - loss: -34430800270.9610 - accuracy: 0.6674\n",
      "Epoch 1849/2000\n",
      "76/76 [==============================] - 0s 6ms/step - loss: -34763740625.4545 - accuracy: 0.6641\n",
      "Epoch 1850/2000\n",
      "76/76 [==============================] - 0s 6ms/step - loss: -35868421292.8831 - accuracy: 0.6551\n",
      "Epoch 1851/2000\n",
      "76/76 [==============================] - 0s 6ms/step - loss: -34332318334.3377 - accuracy: 0.6683\n",
      "Epoch 1852/2000\n",
      "76/76 [==============================] - 0s 6ms/step - loss: -35449546299.8442 - accuracy: 0.6619\n",
      "Epoch 1853/2000\n",
      "76/76 [==============================] - 0s 6ms/step - loss: -36034353072.2078 - accuracy: 0.6564\n",
      "Epoch 1854/2000\n",
      "76/76 [==============================] - 0s 6ms/step - loss: -34012432995.7403 - accuracy: 0.6735\n",
      "Epoch 1855/2000\n",
      "76/76 [==============================] - 0s 6ms/step - loss: -35895370020.5714 - accuracy: 0.6565\n",
      "Epoch 1856/2000\n",
      "76/76 [==============================] - 0s 6ms/step - loss: -35958750380.8831 - accuracy: 0.6554\n",
      "Epoch 1857/2000\n",
      "76/76 [==============================] - 0s 6ms/step - loss: -35783556588.0519 - accuracy: 0.6595\n",
      "Epoch 1858/2000\n",
      "76/76 [==============================] - 0s 6ms/step - loss: -35911452698.5974 - accuracy: 0.6584\n",
      "Epoch 1859/2000\n",
      "76/76 [==============================] - 0s 6ms/step - loss: -36371955233.2467 - accuracy: 0.6543\n",
      "Epoch 1860/2000\n",
      "76/76 [==============================] - 0s 6ms/step - loss: -36039231461.4026 - accuracy: 0.6582\n",
      "Epoch 1861/2000\n",
      "76/76 [==============================] - 1s 7ms/step - loss: -36201308638.7533 - accuracy: 0.6576\n",
      "Epoch 1862/2000\n",
      "76/76 [==============================] - 0s 6ms/step - loss: -36671104678.2338 - accuracy: 0.6538\n",
      "Epoch 1863/2000\n",
      "76/76 [==============================] - 1s 7ms/step - loss: -36574448812.8831 - accuracy: 0.6555\n",
      "Epoch 1864/2000\n",
      "76/76 [==============================] - 0s 6ms/step - loss: -36284648035.7403 - accuracy: 0.6586\n",
      "Epoch 1865/2000\n",
      "76/76 [==============================] - 0s 6ms/step - loss: -35954428356.1558 - accuracy: 0.6622\n",
      "Epoch 1866/2000\n",
      "76/76 [==============================] - 0s 6ms/step - loss: -35744041332.3636 - accuracy: 0.6652\n",
      "Epoch 1867/2000\n",
      "76/76 [==============================] - 0s 6ms/step - loss: -37098908632.1039 - accuracy: 0.6520\n",
      "Epoch 1868/2000\n",
      "76/76 [==============================] - 0s 5ms/step - loss: -35502584180.3636 - accuracy: 0.6672\n",
      "Epoch 1869/2000\n",
      "76/76 [==============================] - 0s 5ms/step - loss: -37010754227.5325 - accuracy: 0.6543\n",
      "Epoch 1870/2000\n",
      "76/76 [==============================] - 0s 6ms/step - loss: -35302602592.4156 - accuracy: 0.6710\n",
      "Epoch 1871/2000\n",
      "76/76 [==============================] - 0s 6ms/step - loss: -36152798168.1039 - accuracy: 0.6632\n",
      "Epoch 1872/2000\n",
      "76/76 [==============================] - 0s 6ms/step - loss: -35912883585.6623 - accuracy: 0.6667\n",
      "Epoch 1873/2000\n",
      "76/76 [==============================] - 0s 5ms/step - loss: -37121136772.9870 - accuracy: 0.6555\n",
      "Epoch 1874/2000\n",
      "76/76 [==============================] - 0s 6ms/step - loss: -36412315913.9740 - accuracy: 0.6623\n",
      "Epoch 1875/2000\n",
      "76/76 [==============================] - 0s 5ms/step - loss: -36680858477.7143 - accuracy: 0.6603\n",
      "Epoch 1876/2000\n",
      "76/76 [==============================] - 0s 6ms/step - loss: -35900217317.4026 - accuracy: 0.6686\n",
      "Epoch 1877/2000\n",
      "76/76 [==============================] - 0s 5ms/step - loss: -36164030783.1688 - accuracy: 0.6640\n",
      "Epoch 1878/2000\n",
      "76/76 [==============================] - 0s 5ms/step - loss: -36676496530.2857 - accuracy: 0.6617\n",
      "Epoch 1879/2000\n",
      "76/76 [==============================] - 0s 5ms/step - loss: -37002171059.5325 - accuracy: 0.6603\n",
      "Epoch 1880/2000\n",
      "76/76 [==============================] - 0s 6ms/step - loss: -36365371604.7792 - accuracy: 0.6668\n",
      "Epoch 1881/2000\n",
      "76/76 [==============================] - 0s 5ms/step - loss: -36789742552.1039 - accuracy: 0.6625\n",
      "Epoch 1882/2000\n",
      "76/76 [==============================] - 0s 5ms/step - loss: -37728159504.6234 - accuracy: 0.6539\n",
      "Epoch 1883/2000\n",
      "76/76 [==============================] - 0s 5ms/step - loss: -36505981087.5844 - accuracy: 0.6639\n",
      "Epoch 1884/2000\n",
      "76/76 [==============================] - 0s 5ms/step - loss: -36546971780.9870 - accuracy: 0.6666\n",
      "Epoch 1885/2000\n",
      "76/76 [==============================] - 0s 6ms/step - loss: -36573623389.0909 - accuracy: 0.6664\n",
      "Epoch 1886/2000\n",
      "76/76 [==============================] - 0s 6ms/step - loss: -36309522910.7533 - accuracy: 0.6697\n",
      "Epoch 1887/2000\n",
      "76/76 [==============================] - 0s 6ms/step - loss: -36747091436.0519 - accuracy: 0.6658\n",
      "Epoch 1888/2000\n",
      "76/76 [==============================] - 0s 5ms/step - loss: -38052588025.3506 - accuracy: 0.6555\n",
      "Epoch 1889/2000\n",
      "76/76 [==============================] - 0s 5ms/step - loss: -36662679286.0260 - accuracy: 0.6679\n",
      "Epoch 1890/2000\n",
      "76/76 [==============================] - 0s 5ms/step - loss: -37312254670.1299 - accuracy: 0.6623\n",
      "Epoch 1891/2000\n",
      "76/76 [==============================] - 0s 5ms/step - loss: -37397280049.8701 - accuracy: 0.6613\n",
      "Epoch 1892/2000\n",
      "76/76 [==============================] - 0s 5ms/step - loss: -38310973546.3896 - accuracy: 0.6552\n",
      "Epoch 1893/2000\n",
      "76/76 [==============================] - 0s 5ms/step - loss: -36927370359.6883 - accuracy: 0.6657\n",
      "Epoch 1894/2000\n",
      "76/76 [==============================] - 0s 6ms/step - loss: -37409746678.0260 - accuracy: 0.6642\n",
      "Epoch 1895/2000\n",
      "76/76 [==============================] - 0s 6ms/step - loss: -36205320085.6104 - accuracy: 0.6752\n",
      "Epoch 1896/2000\n",
      "76/76 [==============================] - 0s 5ms/step - loss: -37970203475.1169 - accuracy: 0.6592\n",
      "Epoch 1897/2000\n",
      "76/76 [==============================] - 0s 5ms/step - loss: -37655037393.4545 - accuracy: 0.6631\n",
      "Epoch 1898/2000\n",
      "76/76 [==============================] - 0s 5ms/step - loss: -37486055237.8182 - accuracy: 0.6664\n",
      "Epoch 1899/2000\n",
      "76/76 [==============================] - 0s 5ms/step - loss: -37701186280.7273 - accuracy: 0.6645\n",
      "Epoch 1900/2000\n",
      "76/76 [==============================] - 0s 5ms/step - loss: -37174235189.1948 - accuracy: 0.6675\n",
      "Epoch 1901/2000\n",
      "76/76 [==============================] - 0s 5ms/step - loss: -38007251369.5584 - accuracy: 0.6628\n",
      "Epoch 1902/2000\n",
      "76/76 [==============================] - 0s 5ms/step - loss: -38847766315.2208 - accuracy: 0.6541\n",
      "Epoch 1903/2000\n",
      "76/76 [==============================] - 0s 6ms/step - loss: -38301182271.1688 - accuracy: 0.6596\n",
      "Epoch 1904/2000\n",
      "76/76 [==============================] - 0s 5ms/step - loss: -37350251081.1429 - accuracy: 0.6676\n",
      "Epoch 1905/2000\n",
      "76/76 [==============================] - 0s 5ms/step - loss: -38448222899.5325 - accuracy: 0.6614\n",
      "Epoch 1906/2000\n",
      "76/76 [==============================] - 0s 5ms/step - loss: -38107930996.3636 - accuracy: 0.6628\n",
      "Epoch 1907/2000\n",
      "76/76 [==============================] - 0s 5ms/step - loss: -38609279268.5714 - accuracy: 0.6588\n",
      "Epoch 1908/2000\n",
      "76/76 [==============================] - 0s 5ms/step - loss: -38672893446.6494 - accuracy: 0.6601\n",
      "Epoch 1909/2000\n",
      "76/76 [==============================] - 0s 5ms/step - loss: -39389060588.0519 - accuracy: 0.6535\n",
      "Epoch 1910/2000\n",
      "76/76 [==============================] - 0s 6ms/step - loss: -38138491784.3117 - accuracy: 0.6648\n",
      "Epoch 1911/2000\n",
      "76/76 [==============================] - 0s 6ms/step - loss: -38521158084.1558 - accuracy: 0.6624\n",
      "Epoch 1912/2000\n",
      "76/76 [==============================] - 0s 6ms/step - loss: -38783816584.3117 - accuracy: 0.6579\n",
      "Epoch 1913/2000\n",
      "76/76 [==============================] - 0s 6ms/step - loss: -38729582990.9610 - accuracy: 0.6606\n",
      "Epoch 1914/2000\n",
      "76/76 [==============================] - 0s 5ms/step - loss: -38936616268.4675 - accuracy: 0.6606\n",
      "Epoch 1915/2000\n",
      "76/76 [==============================] - 0s 6ms/step - loss: -38439174941.9221 - accuracy: 0.6672\n",
      "Epoch 1916/2000\n",
      "76/76 [==============================] - 0s 6ms/step - loss: -39771194407.8961 - accuracy: 0.6520\n",
      "Epoch 1917/2000\n",
      "76/76 [==============================] - 0s 5ms/step - loss: -38602715561.5584 - accuracy: 0.6636\n",
      "Epoch 1918/2000\n",
      "76/76 [==============================] - 0s 6ms/step - loss: -39463860197.4026 - accuracy: 0.6581\n",
      "Epoch 1919/2000\n",
      "76/76 [==============================] - 0s 5ms/step - loss: -39743662319.3766 - accuracy: 0.6558\n",
      "Epoch 1920/2000\n",
      "76/76 [==============================] - 0s 5ms/step - loss: -39047756813.2987 - accuracy: 0.6622\n",
      "Epoch 1921/2000\n",
      "76/76 [==============================] - 0s 6ms/step - loss: -39302146074.5974 - accuracy: 0.6613\n",
      "Epoch 1922/2000\n",
      "76/76 [==============================] - 0s 6ms/step - loss: -39513982417.4545 - accuracy: 0.6602\n",
      "Epoch 1923/2000\n",
      "76/76 [==============================] - 0s 6ms/step - loss: -39025445528.9351 - accuracy: 0.6621\n",
      "Epoch 1924/2000\n",
      "76/76 [==============================] - 0s 6ms/step - loss: -39249366162.2857 - accuracy: 0.6625\n",
      "Epoch 1925/2000\n",
      "76/76 [==============================] - 0s 6ms/step - loss: -39972521265.8701 - accuracy: 0.6562\n",
      "Epoch 1926/2000\n",
      "76/76 [==============================] - 0s 6ms/step - loss: -40332589242.1818 - accuracy: 0.6540\n",
      "Epoch 1927/2000\n",
      "76/76 [==============================] - 0s 6ms/step - loss: -39496673811.9481 - accuracy: 0.6639\n",
      "Epoch 1928/2000\n",
      "76/76 [==============================] - 0s 6ms/step - loss: -39248648803.7403 - accuracy: 0.6629\n",
      "Epoch 1929/2000\n",
      "76/76 [==============================] - 0s 6ms/step - loss: -39777754072.1039 - accuracy: 0.6619\n",
      "Epoch 1930/2000\n",
      "76/76 [==============================] - 0s 6ms/step - loss: -40929417934.1299 - accuracy: 0.6503\n",
      "Epoch 1931/2000\n",
      "76/76 [==============================] - 0s 6ms/step - loss: -40074567254.4416 - accuracy: 0.6599\n",
      "Epoch 1932/2000\n",
      "76/76 [==============================] - 0s 6ms/step - loss: -39972823571.9481 - accuracy: 0.6605\n",
      "Epoch 1933/2000\n",
      "76/76 [==============================] - 0s 6ms/step - loss: -39668154899.9481 - accuracy: 0.6630\n",
      "Epoch 1934/2000\n",
      "76/76 [==============================] - 0s 6ms/step - loss: -40099451199.1688 - accuracy: 0.6611\n",
      "Epoch 1935/2000\n",
      "76/76 [==============================] - 0s 6ms/step - loss: -39902769417.9740 - accuracy: 0.6635\n",
      "Epoch 1936/2000\n",
      "76/76 [==============================] - 0s 5ms/step - loss: -39542818097.8701 - accuracy: 0.6664\n",
      "Epoch 1937/2000\n",
      "76/76 [==============================] - 0s 5ms/step - loss: -39987910097.4545 - accuracy: 0.6612\n",
      "Epoch 1938/2000\n",
      "76/76 [==============================] - 0s 5ms/step - loss: -40740445782.4416 - accuracy: 0.6587\n",
      "Epoch 1939/2000\n",
      "76/76 [==============================] - 0s 6ms/step - loss: -40483515671.2727 - accuracy: 0.6602\n",
      "Epoch 1940/2000\n",
      "76/76 [==============================] - 0s 6ms/step - loss: -40103380114.2857 - accuracy: 0.6645\n",
      "Epoch 1941/2000\n",
      "76/76 [==============================] - 0s 5ms/step - loss: -39943624358.2338 - accuracy: 0.6642\n",
      "Epoch 1942/2000\n",
      "76/76 [==============================] - 0s 5ms/step - loss: -40524512322.4935 - accuracy: 0.6612\n",
      "Epoch 1943/2000\n",
      "76/76 [==============================] - 0s 5ms/step - loss: -40530048412.2597 - accuracy: 0.6614\n",
      "Epoch 1944/2000\n",
      "76/76 [==============================] - 0s 5ms/step - loss: -41429512617.5584 - accuracy: 0.6537\n",
      "Epoch 1945/2000\n",
      "76/76 [==============================] - 0s 5ms/step - loss: -40779783606.8571 - accuracy: 0.6608\n",
      "Epoch 1946/2000\n",
      "76/76 [==============================] - 0s 6ms/step - loss: -39557493853.0909 - accuracy: 0.6711\n",
      "Epoch 1947/2000\n",
      "76/76 [==============================] - 0s 5ms/step - loss: -39220738340.5714 - accuracy: 0.6730\n",
      "Epoch 1948/2000\n",
      "76/76 [==============================] - 0s 6ms/step - loss: -40476813710.9610 - accuracy: 0.6642\n",
      "Epoch 1949/2000\n",
      "76/76 [==============================] - 0s 5ms/step - loss: -41110972921.3506 - accuracy: 0.6614\n",
      "Epoch 1950/2000\n",
      "76/76 [==============================] - 0s 6ms/step - loss: -40682830276.1558 - accuracy: 0.6634\n",
      "Epoch 1951/2000\n",
      "76/76 [==============================] - 0s 5ms/step - loss: -40764040125.5065 - accuracy: 0.6646\n",
      "Epoch 1952/2000\n",
      "76/76 [==============================] - 0s 5ms/step - loss: -40637887527.8961 - accuracy: 0.6650\n",
      "Epoch 1953/2000\n",
      "76/76 [==============================] - 0s 5ms/step - loss: -39947246099.9481 - accuracy: 0.6698\n",
      "Epoch 1954/2000\n",
      "76/76 [==============================] - 0s 5ms/step - loss: -41878628963.7403 - accuracy: 0.6538\n",
      "Epoch 1955/2000\n",
      "76/76 [==============================] - 0s 5ms/step - loss: -41805035440.2078 - accuracy: 0.6569\n",
      "Epoch 1956/2000\n",
      "76/76 [==============================] - 0s 5ms/step - loss: -41307763938.0779 - accuracy: 0.6622\n",
      "Epoch 1957/2000\n",
      "76/76 [==============================] - 0s 5ms/step - loss: -42399888902.6494 - accuracy: 0.6539\n",
      "Epoch 1958/2000\n",
      "76/76 [==============================] - 0s 5ms/step - loss: -41198778873.3506 - accuracy: 0.6641\n",
      "Epoch 1959/2000\n",
      "76/76 [==============================] - 0s 6ms/step - loss: -41400112327.4805 - accuracy: 0.6632\n",
      "Epoch 1960/2000\n",
      "76/76 [==============================] - 0s 5ms/step - loss: -41004003806.7533 - accuracy: 0.6665\n",
      "Epoch 1961/2000\n",
      "76/76 [==============================] - 0s 5ms/step - loss: -41169977397.1948 - accuracy: 0.6643\n",
      "Epoch 1962/2000\n",
      "76/76 [==============================] - 0s 5ms/step - loss: -41471862039.2727 - accuracy: 0.6622\n",
      "Epoch 1963/2000\n",
      "76/76 [==============================] - 0s 5ms/step - loss: -42259817086.3377 - accuracy: 0.6575\n",
      "Epoch 1964/2000\n",
      "76/76 [==============================] - 0s 5ms/step - loss: -40727840635.0130 - accuracy: 0.6720\n",
      "Epoch 1965/2000\n",
      "76/76 [==============================] - 0s 6ms/step - loss: -42561666274.0779 - accuracy: 0.6569\n",
      "Epoch 1966/2000\n",
      "76/76 [==============================] - 0s 5ms/step - loss: -41789618521.7662 - accuracy: 0.6640\n",
      "Epoch 1967/2000\n",
      "76/76 [==============================] - 0s 6ms/step - loss: -42372518685.9221 - accuracy: 0.6576\n",
      "Epoch 1968/2000\n",
      "76/76 [==============================] - 0s 6ms/step - loss: -41836141528.1039 - accuracy: 0.6622\n",
      "Epoch 1969/2000\n",
      "76/76 [==============================] - 0s 5ms/step - loss: -41727054621.9221 - accuracy: 0.6630\n",
      "Epoch 1970/2000\n",
      "76/76 [==============================] - 0s 5ms/step - loss: -41079455531.2208 - accuracy: 0.6692\n",
      "Epoch 1971/2000\n",
      "76/76 [==============================] - 0s 5ms/step - loss: -41949997082.5974 - accuracy: 0.6631\n",
      "Epoch 1972/2000\n",
      "76/76 [==============================] - 0s 5ms/step - loss: -40957702303.5844 - accuracy: 0.6716\n",
      "Epoch 1973/2000\n",
      "76/76 [==============================] - 0s 5ms/step - loss: -42708826298.1818 - accuracy: 0.6570\n",
      "Epoch 1974/2000\n",
      "76/76 [==============================] - 0s 5ms/step - loss: -42226593845.1948 - accuracy: 0.6644\n",
      "Epoch 1975/2000\n",
      "76/76 [==============================] - 0s 5ms/step - loss: -42011422347.6364 - accuracy: 0.6640\n",
      "Epoch 1976/2000\n",
      "76/76 [==============================] - 0s 6ms/step - loss: -42424527778.9091 - accuracy: 0.6618\n",
      "Epoch 1977/2000\n",
      "76/76 [==============================] - 0s 5ms/step - loss: -42593520972.4675 - accuracy: 0.6613\n",
      "Epoch 1978/2000\n",
      "76/76 [==============================] - 0s 5ms/step - loss: -42529240529.4545 - accuracy: 0.6608\n",
      "Epoch 1979/2000\n",
      "76/76 [==============================] - 0s 6ms/step - loss: -42036318527.1688 - accuracy: 0.6681\n",
      "Epoch 1980/2000\n",
      "76/76 [==============================] - 0s 6ms/step - loss: -43250362128.6234 - accuracy: 0.6590\n",
      "Epoch 1981/2000\n",
      "76/76 [==============================] - 0s 6ms/step - loss: -43454883228.2597 - accuracy: 0.6573\n",
      "Epoch 1982/2000\n",
      "76/76 [==============================] - 0s 5ms/step - loss: -42918328346.5974 - accuracy: 0.6613\n",
      "Epoch 1983/2000\n",
      "76/76 [==============================] - 0s 5ms/step - loss: -43299873725.5065 - accuracy: 0.6577\n",
      "Epoch 1984/2000\n",
      "76/76 [==============================] - 0s 6ms/step - loss: -43310939947.2208 - accuracy: 0.6613\n",
      "Epoch 1985/2000\n",
      "76/76 [==============================] - 0s 5ms/step - loss: -43529650867.5325 - accuracy: 0.6584\n",
      "Epoch 1986/2000\n",
      "76/76 [==============================] - 0s 6ms/step - loss: -43470667456.8312 - accuracy: 0.6608\n",
      "Epoch 1987/2000\n",
      "76/76 [==============================] - 0s 7ms/step - loss: -44144549462.4416 - accuracy: 0.6542\n",
      "Epoch 1988/2000\n",
      "76/76 [==============================] - 0s 6ms/step - loss: -44703682506.8052 - accuracy: 0.6496\n",
      "Epoch 1989/2000\n",
      "76/76 [==============================] - 0s 6ms/step - loss: -43118163888.2078 - accuracy: 0.6626\n",
      "Epoch 1990/2000\n",
      "76/76 [==============================] - 0s 6ms/step - loss: -44184487377.4545 - accuracy: 0.6554\n",
      "Epoch 1991/2000\n",
      "76/76 [==============================] - 0s 5ms/step - loss: -42243828775.8961 - accuracy: 0.6712\n",
      "Epoch 1992/2000\n",
      "76/76 [==============================] - 0s 6ms/step - loss: -43045466112.0000 - accuracy: 0.6649\n",
      "Epoch 1993/2000\n",
      "76/76 [==============================] - 0s 5ms/step - loss: -43995345108.7792 - accuracy: 0.6580\n",
      "Epoch 1994/2000\n",
      "76/76 [==============================] - 0s 5ms/step - loss: -42563699672.1039 - accuracy: 0.6690\n",
      "Epoch 1995/2000\n",
      "76/76 [==============================] - 0s 5ms/step - loss: -43535530063.7922 - accuracy: 0.6616\n",
      "Epoch 1996/2000\n",
      "76/76 [==============================] - 0s 5ms/step - loss: -42429274564.1558 - accuracy: 0.6716\n",
      "Epoch 1997/2000\n",
      "76/76 [==============================] - 0s 6ms/step - loss: -44932618053.8182 - accuracy: 0.6537\n",
      "Epoch 1998/2000\n",
      "76/76 [==============================] - 0s 5ms/step - loss: -43523179347.1169 - accuracy: 0.6648\n",
      "Epoch 1999/2000\n",
      "76/76 [==============================] - 0s 5ms/step - loss: -43829089426.2857 - accuracy: 0.6643\n",
      "Epoch 2000/2000\n",
      "76/76 [==============================] - 0s 6ms/step - loss: -43834855211.2208 - accuracy: 0.6634\n"
     ]
    },
    {
     "data": {
      "text/plain": [
       "<tensorflow.python.keras.callbacks.History at 0x7fd71c689410>"
      ]
     },
     "execution_count": 91,
     "metadata": {},
     "output_type": "execute_result"
    }
   ],
   "source": [
    "#  neural network with keras \n",
    "from keras.models import Sequential\n",
    "from keras.layers import Dense\n",
    "# define the keras model\n",
    "model = Sequential()\n",
    "model.add(Dense(40, input_shape=(7560,), activation='sigmoid'))\n",
    "model.add(Dense(200, activation='relu'))\n",
    "model.add(Dense(40, activation='relu'))\n",
    "model.add(Dense(1, activation='sigmoid'))\n",
    "# compile the keras model\n",
    "model.compile(loss='binary_crossentropy', optimizer='adam', metrics=['accuracy'])\n",
    "# fit the keras model on the dataset\n",
    "model.fit(train_vectors, train_tags, epochs=2000, batch_size=100)\n",
    "# fit the keras model on the dattest_tagsodel.fit(train_vectors, train_tags, epochs=2000, batch_size=100)\n",
    "#The batch size defines the number of samples that will be propagated through the network.\n",
    "# One Epoch is when an ENTIRE dataset is passed forward and backward through the neural network only ONCE."
   ]
  },
  {
   "cell_type": "code",
   "execution_count": 92,
   "id": "chubby-acrobat",
   "metadata": {
    "execution": {
     "iopub.execute_input": "2021-06-25T18:21:49.128521Z",
     "iopub.status.busy": "2021-06-25T18:21:49.127502Z",
     "iopub.status.idle": "2021-06-25T18:21:49.437031Z",
     "shell.execute_reply": "2021-06-25T18:21:49.436423Z"
    },
    "papermill": {
     "duration": 6.309411,
     "end_time": "2021-06-25T18:21:49.437192",
     "exception": false,
     "start_time": "2021-06-25T18:21:43.127781",
     "status": "completed"
    },
    "tags": []
   },
   "outputs": [],
   "source": [
    "Y_pred=model.predict(test_vectors)"
   ]
  },
  {
   "cell_type": "code",
   "execution_count": 93,
   "id": "immediate-pollution",
   "metadata": {
    "execution": {
     "iopub.execute_input": "2021-06-25T18:22:01.661576Z",
     "iopub.status.busy": "2021-06-25T18:22:01.659956Z",
     "iopub.status.idle": "2021-06-25T18:22:01.986570Z",
     "shell.execute_reply": "2021-06-25T18:22:01.987129Z"
    },
    "papermill": {
     "duration": 6.417083,
     "end_time": "2021-06-25T18:22:01.987311",
     "exception": false,
     "start_time": "2021-06-25T18:21:55.570228",
     "status": "completed"
    },
    "tags": []
   },
   "outputs": [
    {
     "name": "stdout",
     "output_type": "stream",
     "text": [
      "              precision    recall  f1-score   support\n",
      "\n",
      "          -1       0.00      0.00      0.00       360\n",
      "           0       0.40      0.96      0.56       700\n",
      "           1       0.74      0.12      0.21       769\n",
      "\n",
      "    accuracy                           0.42      1829\n",
      "   macro avg       0.38      0.36      0.26      1829\n",
      "weighted avg       0.46      0.42      0.30      1829\n",
      "\n"
     ]
    },
    {
     "name": "stderr",
     "output_type": "stream",
     "text": [
      "/opt/conda/lib/python3.7/site-packages/sklearn/metrics/_classification.py:1245: UndefinedMetricWarning: Precision and F-score are ill-defined and being set to 0.0 in labels with no predicted samples. Use `zero_division` parameter to control this behavior.\n",
      "  _warn_prf(average, modifier, msg_start, len(result))\n",
      "/opt/conda/lib/python3.7/site-packages/sklearn/metrics/_classification.py:1245: UndefinedMetricWarning: Precision and F-score are ill-defined and being set to 0.0 in labels with no predicted samples. Use `zero_division` parameter to control this behavior.\n",
      "  _warn_prf(average, modifier, msg_start, len(result))\n",
      "/opt/conda/lib/python3.7/site-packages/sklearn/metrics/_classification.py:1245: UndefinedMetricWarning: Precision and F-score are ill-defined and being set to 0.0 in labels with no predicted samples. Use `zero_division` parameter to control this behavior.\n",
      "  _warn_prf(average, modifier, msg_start, len(result))\n"
     ]
    },
    {
     "data": {
      "text/plain": [
       "Text(61.5, 0.5, 'True Class')"
      ]
     },
     "execution_count": 93,
     "metadata": {},
     "output_type": "execute_result"
    },
    {
     "data": {
      "image/png": "[encoded data removed]",
      "text/plain": [
       "<Figure size 720x504 with 2 Axes>"
      ]
     },
     "metadata": {},
     "output_type": "display_data"
    }
   ],
   "source": [
    "## Plot confusion matrix\n",
    "import pandas as pd\n",
    "import matplotlib.pyplot as plt\n",
    "import seaborn as sns\n",
    "from sklearn.metrics import confusion_matrix,classification_report\n",
    "\n",
    "cf_matrix = confusion_matrix(test_tags,Y_pred )\n",
    "\n",
    "cf_matrix\n",
    "print(classification_report(test_tags,Y_pred))\n",
    "\n",
    "df_cm = pd.DataFrame(cf_matrix , index = [i for i in [-1,0,1]],columns = [i for i in [-1,0,1]])\n",
    "plt.figure(figsize = (10,7))\n",
    "sns.heatmap(df_cm/np.sum(df_cm), annot=True, \n",
    "            fmt='.2%')\n",
    "plt.xlabel('Predicted Class')\n",
    "plt.ylabel('True Class')"
   ]
  },
  {
   "cell_type": "code",
   "execution_count": 94,
   "id": "differential-cemetery",
   "metadata": {
    "execution": {
     "iopub.execute_input": "2021-06-25T18:22:14.151020Z",
     "iopub.status.busy": "2021-06-25T18:22:14.149679Z",
     "iopub.status.idle": "2021-06-25T18:22:15.166963Z",
     "shell.execute_reply": "2021-06-25T18:22:15.167486Z"
    },
    "papermill": {
     "duration": 7.102641,
     "end_time": "2021-06-25T18:22:15.167658",
     "exception": false,
     "start_time": "2021-06-25T18:22:08.065017",
     "status": "completed"
    },
    "tags": []
   },
   "outputs": [
    {
     "name": "stdout",
     "output_type": "stream",
     "text": [
      "237/237 [==============================] - 1s 2ms/step - loss: -44034338816.0000 - accuracy: 0.6636\n",
      "Train Accuracy: 66.36\n"
     ]
    }
   ],
   "source": [
    "# evaluate the keras model on the test \n",
    "_, accuracy = model.evaluate(train_vectors, train_tags)\n",
    "print('Train Accuracy: %.2f' % (accuracy*100))"
   ]
  },
  {
   "cell_type": "code",
   "execution_count": 95,
   "id": "consistent-advice",
   "metadata": {
    "execution": {
     "iopub.execute_input": "2021-06-25T18:22:27.440182Z",
     "iopub.status.busy": "2021-06-25T18:22:27.439505Z",
     "iopub.status.idle": "2021-06-25T18:22:27.700113Z",
     "shell.execute_reply": "2021-06-25T18:22:27.699117Z"
    },
    "papermill": {
     "duration": 6.269597,
     "end_time": "2021-06-25T18:22:27.700268",
     "exception": false,
     "start_time": "2021-06-25T18:22:21.430671",
     "status": "completed"
    },
    "tags": []
   },
   "outputs": [
    {
     "name": "stdout",
     "output_type": "stream",
     "text": [
      "58/58 [==============================] - 0s 2ms/step - loss: 8866027520.0000 - accuracy: 0.4188\n",
      "Test Accuracy: 41.88\n"
     ]
    }
   ],
   "source": [
    "# evaluate the keras model on the test \n",
    "_, accuracy = model.evaluate(test_vectors, test_tags)\n",
    "print('Test Accuracy: %.2f' % (accuracy*100))"
   ]
  }
 ],
 "metadata": {
  "kernelspec": {
   "display_name": "Python 3",
   "language": "python",
   "name": "python3"
  },
  "language_info": {
   "codemirror_mode": {
    "name": "ipython",
    "version": 3
   },
   "file_extension": ".py",
   "mimetype": "text/x-python",
   "name": "python",
   "nbconvert_exporter": "python",
   "pygments_lexer": "ipython3",
   "version": "3.7.10"
  },
  "papermill": {
   "default_parameters": {},
   "duration": 13107.433981,
   "end_time": "2021-06-25T18:22:36.159433",
   "environment_variables": {},
   "exception": null,
   "input_path": "__notebook__.ipynb",
   "output_path": "__notebook__.ipynb",
   "parameters": {},
   "start_time": "2021-06-25T14:44:08.725452",
   "version": "2.3.3"
  }
 },
 "nbformat": 4,
 "nbformat_minor": 5
}
